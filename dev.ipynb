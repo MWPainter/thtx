{
 "cells": [
  {
   "cell_type": "markdown",
   "id": "80270e45-e9e9-4c78-81f2-f7313d8a6187",
   "metadata": {},
   "source": [
    "# Development notebook\n",
    "\n",
    "Using this notebook to do the following:\n",
    "1. learn how to use mctx\n",
    "2. test my edits fror mctx -> thtx\n",
    "3. ramble/journal/vent?\n",
    "4. apologise if anyone ever reads this, because I am hacking this all together between thesis writing sessions.\n",
    "\n",
    "## Notes \n",
    "- 18/10/24 - decided to keep mctx in its own folder, and then implement thtx in a new folder. This way can make THTS a clean implementation rather than just hacked in. If this gets released, can delete this notebook and mctx folder in main branch, and keep it in a backup dev branch\n",
    "- 18/10/24 - actually, fuck it, three folders. folder1 = mctx, immutable; folder2 = mctx_play, where I hack things into mctx; folder3 = thtx, clean impl of thtx\n",
    "- 18/10/24 - ooops, just realised, might as well use mctx installed through pip as clean copy, mctx as the hacking folder, and thtx as clean"
   ]
  },
  {
   "cell_type": "markdown",
   "id": "d73d66b8-e8c3-4e4b-a9c5-2ebb07ba96c0",
   "metadata": {},
   "source": [
    "## Part 0: Setup being able to use thtx repo in this notebook\n",
    "\n",
    "https://medium.com/@pablosjv/importing-local-python-modules-into-jupyter-notebooks-87336b2d7746"
   ]
  },
  {
   "cell_type": "code",
   "execution_count": 9,
   "id": "7d8bb33f-3c4d-426b-bba2-ff96e9868579",
   "metadata": {},
   "outputs": [
    {
     "name": "stdout",
     "output_type": "stream",
     "text": [
      "The autoreload extension is already loaded. To reload it, use:\n",
      "  %reload_ext autoreload\n"
     ]
    }
   ],
   "source": [
    "%load_ext autoreload\n",
    "%autoreload 2\n",
    "import os\n",
    "import sys\n",
    "module_path = os.path.abspath('/home/michael/Desktop/thtx') # or the path to your source code\n",
    "sys.path.insert(0, module_path)"
   ]
  },
  {
   "cell_type": "code",
   "execution_count": 18,
   "id": "32e08ead-c41a-4d04-a85f-da92eac480ad",
   "metadata": {},
   "outputs": [],
   "source": [
    "# Test import\n",
    "from mctx._src.tree import Tree"
   ]
  },
  {
   "cell_type": "markdown",
   "id": "e18401eb-8bf6-4c50-9429-dd1c02393958",
   "metadata": {},
   "source": [
    "## Part 1: Working through connect 4 example"
   ]
  },
  {
   "cell_type": "markdown",
   "id": "1ebbed9a-50e2-4716-abc2-ca57a0ee2aa9",
   "metadata": {},
   "source": [
    "#### 1.1 copying out the game definitions\n",
    "\n",
    "Deleting all the comments to make it more concise. Go look at original if wan understand"
   ]
  },
  {
   "cell_type": "code",
   "execution_count": 25,
   "id": "1236fc2c-c8fb-4bb1-9d04-d291e1d14d4a",
   "metadata": {},
   "outputs": [],
   "source": [
    "import chex\n",
    "from rich import print\n",
    "import jax.numpy as jnp\n",
    "\n",
    "Board = chex.Array\n",
    "Action = chex.Array\n",
    "Player = chex.Array\n",
    "Reward = chex.Array\n",
    "Done = chex.Array\n",
    "\n",
    "@chex.dataclass\n",
    "class Env:\n",
    "    board: Board\n",
    "    player: Player\n",
    "    done: Done\n",
    "    reward: Reward\n",
    "\n",
    "BOARD_STRING = \"\"\"\n",
    " ? | ? | ? | ? | ? | ? | ?\n",
    "---|---|---|---|---|---|---\n",
    " ? | ? | ? | ? | ? | ? | ?\n",
    "---|---|---|---|---|---|---\n",
    " ? | ? | ? | ? | ? | ? | ?\n",
    "---|---|---|---|---|---|---\n",
    " ? | ? | ? | ? | ? | ? | ?\n",
    "---|---|---|---|---|---|---\n",
    " ? | ? | ? | ? | ? | ? | ?\n",
    "---|---|---|---|---|---|---\n",
    " ? | ? | ? | ? | ? | ? | ?\n",
    "---|---|---|---|---|---|---\n",
    " 1   2   3   4   5   6   7\n",
    "\"\"\"\n",
    "\n",
    "def print_board(board: Board):\n",
    "    board_str = BOARD_STRING\n",
    "    for i in reversed(range(board.shape[0])):\n",
    "        for j in range(board.shape[1]):\n",
    "            board_str = board_str.replace('?', '[green]X[/green]' if board[i, j] == 1 else '[red]O[/red]' if board[i, j] == -1 else ' ', 1)\n",
    "    print(board_str)\n",
    "\n",
    "def horizontals(board: Board) -> chex.Array:\n",
    "    return jnp.stack([\n",
    "        board[i, j:j+4]\n",
    "        for i in range(board.shape[0])\n",
    "        for j in range(board.shape[1] - 3)\n",
    "    ])\n",
    "\n",
    "def verticals(board: Board) -> chex.Array:\n",
    "    return jnp.stack([\n",
    "        board[i:i+4, j]\n",
    "        for i in range(board.shape[0] - 3)\n",
    "        for j in range(board.shape[1])\n",
    "    ])\n",
    "\n",
    "def diagonals(board: Board) -> chex.Array:\n",
    "    return jnp.stack([\n",
    "        jnp.diag(board[i:i+4, j:j+4])\n",
    "        for i in range(board.shape[0] - 3)\n",
    "        for j in range(board.shape[1] - 3)\n",
    "    ])\n",
    "\n",
    "def antidiagonals(board: Board) -> chex.Array:\n",
    "    return jnp.stack([\n",
    "        jnp.diag(board[i:i+4, j:j+4][::-1])\n",
    "        for i in range(board.shape[0] - 3)\n",
    "        for j in range(board.shape[1] - 3)\n",
    "    ])\n",
    "\n",
    "def get_winner(board: Board) -> Player:\n",
    "    all_lines = jnp.concatenate((\n",
    "        horizontals(board),\n",
    "        verticals(board),\n",
    "        diagonals(board),\n",
    "        antidiagonals(board),\n",
    "    ))\n",
    "    x_won = jnp.any(jnp.all(all_lines == 1, axis=1)).astype(jnp.int8)\n",
    "    o_won = jnp.any(jnp.all(all_lines == -1, axis=1)).astype(jnp.int8)\n",
    "    return x_won - o_won\n",
    "\n",
    "def env_reset(_):\n",
    "    return Env(\n",
    "        board=jnp.zeros((6, 7), dtype=jnp.int8),\n",
    "        player=jnp.int8(1),\n",
    "        done=jnp.bool_(False),\n",
    "        reward=jnp.int8(0),\n",
    "    )\n",
    "\n",
    "def env_step(env: Env, action: Action) -> tuple[Env, Reward, Done]:\n",
    "    col = action\n",
    "    row = jnp.argmax(env.board[:, col] == 0)\n",
    "    invalid_move = env.board[row, col] != 0\n",
    "    board = env.board.at[row, col].set(jnp.where(env.done | invalid_move, env.board[row, col], env.player))\n",
    "    reward = jnp.where(env.done, 0, jnp.where(invalid_move, -1, get_winner(board) * env.player)).astype(jnp.int8)\n",
    "    done = env.done | reward != 0 | invalid_move | jnp.all(board[-1] != 0)\n",
    "    env = Env(\n",
    "        board=board,\n",
    "        # switch player\n",
    "        player=jnp.where(done, env.player, -env.player),\n",
    "        done=done,\n",
    "        reward=reward,\n",
    "    )\n",
    "    return env, reward, done"
   ]
  },
  {
   "cell_type": "markdown",
   "id": "1a85c84a-87f0-4126-a61e-3bd7556c7d61",
   "metadata": {},
   "source": [
    "#### 1.2 Policy stuff"
   ]
  },
  {
   "cell_type": "code",
   "execution_count": 26,
   "id": "a0d74235-99ac-40e2-aaf5-d04571d7c70f",
   "metadata": {},
   "outputs": [],
   "source": [
    "def valid_action_mask(env: Env) -> chex.Array:\n",
    "    return jnp.where(env.done, jnp.array([False] * env.board.shape[1]), env.board[-1] == 0)\n",
    "    \n",
    "def winning_action_mask(env: Env, player: Player) -> chex.Array:\n",
    "    env = Env(board=env.board, player=player, done=env.done, reward=env.reward)\n",
    "    env, reward, done = jax.vmap(env_step, (None, 0))(env, jnp.arange(7, dtype=jnp.int8))\n",
    "    return reward == 1\n",
    "\n",
    "def policy_function(env: Env) -> chex.Array:\n",
    "    return sum((\n",
    "        valid_action_mask(env).astype(jnp.float32) * 100,\n",
    "        winning_action_mask(env, -env.player).astype(jnp.float32) * 200,\n",
    "        winning_action_mask(env, env.player).astype(jnp.float32) * 300,\n",
    "    ))"
   ]
  },
  {
   "cell_type": "markdown",
   "id": "b2033f26-f61c-486a-85d8-406d46db6a0d",
   "metadata": {},
   "source": [
    "#### 1.3 Classic MCTS stuff"
   ]
  },
  {
   "cell_type": "code",
   "execution_count": 27,
   "id": "c86d0bc3-e133-473a-98d8-9074d3b8c5a1",
   "metadata": {},
   "outputs": [],
   "source": [
    "import jax\n",
    "import mctx\n",
    "import functools\n",
    "\n",
    "def rollout(env: Env, rng_key: chex.PRNGKey) -> Reward:\n",
    "    def cond(a):\n",
    "        env, key = a\n",
    "        return ~env.done\n",
    "    def step(a):\n",
    "        env, key = a\n",
    "        key, subkey = jax.random.split(key)\n",
    "        action = jax.random.categorical(subkey, policy_function(env))\n",
    "        env, reward, done = env_step(env, action)\n",
    "        return env, key\n",
    "    leaf, key = jax.lax.while_loop(cond, step, (env, rng_key))\n",
    "    return leaf.reward * leaf.player * env.player\n",
    "\n",
    "def value_function(env: Env, rng_key: chex.PRNGKey) -> chex.Array:\n",
    "    return rollout(env, rng_key).astype(jnp.float32)\n",
    "\n",
    "def root_fn(env: Env, rng_key: chex.PRNGKey) -> mctx.RootFnOutput:\n",
    "    return mctx.RootFnOutput(\n",
    "        prior_logits=policy_function(env),\n",
    "        value=value_function(env, rng_key),\n",
    "        # We will use the `embedding` field to store the environment.\n",
    "        embedding=env,\n",
    "    )\n",
    "\n",
    "def recurrent_fn(params, rng_key, action, embedding):\n",
    "    env = embedding\n",
    "    env, reward, done = env_step(env, action)\n",
    "    recurrent_fn_output = mctx.RecurrentFnOutput(\n",
    "        reward=reward,\n",
    "        discount=jnp.where(done, 0, -1).astype(jnp.float32),\n",
    "        prior_logits=policy_function(env),\n",
    "        value=jnp.where(done, 0, value_function(env, rng_key)).astype(jnp.float32),\n",
    "    )\n",
    "    return recurrent_fn_output, env\n",
    "\n",
    "@functools.partial(jax.jit, static_argnums=(2,))\n",
    "def run_mcts(rng_key: chex.PRNGKey, env: Env, num_simulations: int) -> chex.Array:\n",
    "    batch_size = 1\n",
    "    key1, key2 = jax.random.split(rng_key)\n",
    "    policy_output = mctx.muzero_policy(\n",
    "        params=None,\n",
    "        rng_key=key1,\n",
    "        root=jax.vmap(root_fn, (None, 0))(env, jax.random.split(key2, batch_size)),\n",
    "        recurrent_fn=jax.vmap(recurrent_fn, (None, None, 0, 0)),\n",
    "        num_simulations=num_simulations,\n",
    "        max_depth=42,\n",
    "        qtransform=functools.partial(mctx.qtransform_by_min_max, min_value=-1, max_value=1),\n",
    "        dirichlet_fraction=0.0,\n",
    "    )\n",
    "    return policy_output"
   ]
  },
  {
   "cell_type": "markdown",
   "id": "adaeff34-9189-4c93-a16d-9b21c0500d38",
   "metadata": {},
   "source": [
    "#### 1.4 Running some stuff\n",
    "\n",
    "Copying the \"play twice in the middle collumn\" and see what mcts does bit"
   ]
  },
  {
   "cell_type": "code",
   "execution_count": 28,
   "id": "f2933384-9f3c-45e1-912e-544c2cea83a0",
   "metadata": {},
   "outputs": [],
   "source": [
    "import matplotlib.pyplot as plt"
   ]
  },
  {
   "cell_type": "code",
   "execution_count": 29,
   "id": "e359bde1-6215-47e9-ae8d-76220d767bbc",
   "metadata": {},
   "outputs": [
    {
     "data": {
      "image/png": "[encoded data removed]",
      "text/plain": [
       "<Figure size 640x480 with 1 Axes>"
      ]
     },
     "metadata": {},
     "output_type": "display_data"
    }
   ],
   "source": [
    "env = env_reset(0)\n",
    "env, reward, done = env_step(env, 3)\n",
    "env, reward, done = env_step(env, 3)\n",
    "policy_output = run_mcts(jax.random.PRNGKey(0), env, 1000)\n",
    "plt.bar(jnp.arange(7), policy_output.action_weights.mean(axis=0))\n",
    "plt.show()"
   ]
  },
  {
   "cell_type": "markdown",
   "id": "4f0d4738-6a28-4536-b4d1-b398bdba549c",
   "metadata": {},
   "source": [
    "#### My Turn :)\n",
    "\n",
    "First, why did we play two moves, why not see where it wants to go on first move? Middle is best no?"
   ]
  },
  {
   "cell_type": "code",
   "execution_count": 42,
   "id": "7b7ccd92-ca9e-4263-8c95-76c295599e29",
   "metadata": {},
   "outputs": [
    {
     "data": {
      "image/png": "[encoded data removed]",
      "text/plain": [
       "<Figure size 640x480 with 1 Axes>"
      ]
     },
     "metadata": {},
     "output_type": "display_data"
    },
    {
     "name": "stdout",
     "output_type": "stream",
     "text": [
      "CPU times: user 1.21 s, sys: 96.6 ms, total: 1.3 s\n",
      "Wall time: 1.19 s\n"
     ]
    }
   ],
   "source": [
    "%%time\n",
    "env = env_reset(0)\n",
    "policy_output = run_mcts(jax.random.PRNGKey(0), env, 1000)\n",
    "plt.bar(jnp.arange(7), policy_output.action_weights.mean(axis=0))\n",
    "plt.show()"
   ]
  },
  {
   "cell_type": "markdown",
   "id": "3ddc7fe5-7a0f-40c0-b42c-d3482aa19f93",
   "metadata": {},
   "source": [
    "Ok sure, just not as clean of a gaussian distr. Ok, lets look at what policy_output actually is"
   ]
  },
  {
   "cell_type": "code",
   "execution_count": 31,
   "id": "a7812a68-5d59-4530-b6b0-839b147e1164",
   "metadata": {},
   "outputs": [
    {
     "data": {
      "text/plain": [
       "PolicyOutput(action=Array([3], dtype=int32), action_weights=Array([[0.045     , 0.08400001, 0.18300001, 0.33100003, 0.18      ,\n",
       "        0.047     , 0.13000001]], dtype=float32), search_tree=Tree(node_visits=Array([[1001,  180,  183, ...,    1,    1,    1]], dtype=int32), raw_values=Array([[-1.,  1.,  1., ...,  1.,  1., -1.]], dtype=float32), node_values=Array([[ 0.0619383 , -0.07777785, -0.08196725, ...,  1.        ,\n",
       "         1.        , -1.        ]], dtype=float32), parents=Array([[ -1,   0,   0, ..., 988, 997, 287]], dtype=int32), action_from_parent=Array([[-1,  4,  2, ...,  6,  1,  1]], dtype=int32), children_index=Array([[[  3,   5,   2, ...,   1,  21,  23],\n",
       "        [391, 139, 411, ..., 413, 416, 414],\n",
       "        [ 62,  59,  64, ...,  60,  61,  63],\n",
       "        ...,\n",
       "        [ -1,  -1,  -1, ...,  -1,  -1,  -1],\n",
       "        [ -1,  -1,  -1, ...,  -1,  -1,  -1],\n",
       "        [ -1,  -1,  -1, ...,  -1,  -1,  -1]]], dtype=int32), children_prior_logits=Array([[[ -1.9459101,  -1.9459101,  -1.9459101, ...,  -1.9459101,\n",
       "          -1.9459101,  -1.9459101],\n",
       "        [100.       , 100.       , 100.       , ..., 100.       ,\n",
       "         100.       , 100.       ],\n",
       "        [100.       , 100.       , 100.       , ..., 100.       ,\n",
       "         100.       , 100.       ],\n",
       "        ...,\n",
       "        [100.       , 100.       , 100.       , ..., 100.       ,\n",
       "         100.       , 100.       ],\n",
       "        [100.       , 100.       , 100.       , ..., 100.       ,\n",
       "         100.       , 100.       ],\n",
       "        [100.       , 100.       , 100.       , ..., 100.       ,\n",
       "         100.       , 100.       ]]], dtype=float32), children_visits=Array([[[ 45,  84, 183, ..., 180,  47, 130],\n",
       "        [ 14,  15,  16, ...,   4,   6,   8],\n",
       "        [  4,  73,   8, ...,   4,   6,  16],\n",
       "        ...,\n",
       "        [  0,   0,   0, ...,   0,   0,   0],\n",
       "        [  0,   0,   0, ...,   0,   0,   0],\n",
       "        [  0,   0,   0, ...,   0,   0,   0]]], dtype=int32), children_rewards=Array([[[0., 0., 0., ..., 0., 0., 0.],\n",
       "        [0., 0., 0., ..., 0., 0., 0.],\n",
       "        [0., 0., 0., ..., 0., 0., 0.],\n",
       "        ...,\n",
       "        [0., 0., 0., ..., 0., 0., 0.],\n",
       "        [0., 0., 0., ..., 0., 0., 0.],\n",
       "        [0., 0., 0., ..., 0., 0., 0.]]], dtype=float32), children_discounts=Array([[[-1., -1., -1., ..., -1., -1., -1.],\n",
       "        [-1., -1., -1., ..., -1., -1., -1.],\n",
       "        [-1., -1., -1., ..., -1., -1., -1.],\n",
       "        ...,\n",
       "        [ 0.,  0.,  0., ...,  0.,  0.,  0.],\n",
       "        [ 0.,  0.,  0., ...,  0.,  0.,  0.],\n",
       "        [ 0.,  0.,  0., ...,  0.,  0.,  0.]]], dtype=float32), children_values=Array([[[ 8.8888898e-02, -8.6568654e-08, -8.1967250e-02, ...,\n",
       "         -7.7777848e-02,  1.0638299e-01, -5.3846162e-02],\n",
       "        [ 2.8571430e-01,  2.6666668e-01,  2.5000000e-01, ...,\n",
       "          1.0000000e+00,  6.6666669e-01,  5.0000000e-01],\n",
       "        [ 1.0000000e+00, -9.5890410e-02,  5.0000000e-01, ...,\n",
       "          1.0000000e+00,  6.6666669e-01,  2.5000003e-01],\n",
       "        ...,\n",
       "        [ 0.0000000e+00,  0.0000000e+00,  0.0000000e+00, ...,\n",
       "          0.0000000e+00,  0.0000000e+00,  0.0000000e+00],\n",
       "        [ 0.0000000e+00,  0.0000000e+00,  0.0000000e+00, ...,\n",
       "          0.0000000e+00,  0.0000000e+00,  0.0000000e+00],\n",
       "        [ 0.0000000e+00,  0.0000000e+00,  0.0000000e+00, ...,\n",
       "          0.0000000e+00,  0.0000000e+00,  0.0000000e+00]]], dtype=float32), embeddings=Env(board=Array([[[[ 0,  0,  0, ...,  0,  0,  0],\n",
       "         [ 0,  0,  0, ...,  0,  0,  0],\n",
       "         [ 0,  0,  0, ...,  0,  0,  0],\n",
       "         [ 0,  0,  0, ...,  0,  0,  0],\n",
       "         [ 0,  0,  0, ...,  0,  0,  0],\n",
       "         [ 0,  0,  0, ...,  0,  0,  0]],\n",
       "\n",
       "        [[ 0,  0,  0, ...,  1,  0,  0],\n",
       "         [ 0,  0,  0, ...,  0,  0,  0],\n",
       "         [ 0,  0,  0, ...,  0,  0,  0],\n",
       "         [ 0,  0,  0, ...,  0,  0,  0],\n",
       "         [ 0,  0,  0, ...,  0,  0,  0],\n",
       "         [ 0,  0,  0, ...,  0,  0,  0]],\n",
       "\n",
       "        [[ 0,  0,  1, ...,  0,  0,  0],\n",
       "         [ 0,  0,  0, ...,  0,  0,  0],\n",
       "         [ 0,  0,  0, ...,  0,  0,  0],\n",
       "         [ 0,  0,  0, ...,  0,  0,  0],\n",
       "         [ 0,  0,  0, ...,  0,  0,  0],\n",
       "         [ 0,  0,  0, ...,  0,  0,  0]],\n",
       "\n",
       "        ...,\n",
       "\n",
       "        [[ 0,  0,  0, ...,  1, -1,  1],\n",
       "         [ 0,  0,  0, ...,  0,  0,  0],\n",
       "         [ 0,  0,  0, ...,  0,  0,  0],\n",
       "         [ 0,  0,  0, ...,  0,  0,  0],\n",
       "         [ 0,  0,  0, ...,  0,  0,  0],\n",
       "         [ 0,  0,  0, ...,  0,  0,  0]],\n",
       "\n",
       "        [[ 0,  1, -1, ..., -1, -1,  1],\n",
       "         [ 0,  1,  0, ...,  0,  0,  1],\n",
       "         [ 0,  0,  0, ...,  0,  0,  0],\n",
       "         [ 0,  0,  0, ...,  0,  0,  0],\n",
       "         [ 0,  0,  0, ...,  0,  0,  0],\n",
       "         [ 0,  0,  0, ...,  0,  0,  0]],\n",
       "\n",
       "        [[ 1,  1, -1, ..., -1,  1,  0],\n",
       "         [ 0,  0,  0, ...,  0,  0,  0],\n",
       "         [ 0,  0,  0, ...,  0,  0,  0],\n",
       "         [ 0,  0,  0, ...,  0,  0,  0],\n",
       "         [ 0,  0,  0, ...,  0,  0,  0],\n",
       "         [ 0,  0,  0, ...,  0,  0,  0]]]], dtype=int8), player=Array([[ 1, -1, -1, ..., -1, -1, -1]], dtype=int8), done=Array([[False, False, False, ..., False, False, False]], dtype=bool), reward=Array([[0, 0, 0, ..., 0, 0, 0]], dtype=int8)), root_invalid_actions=Array([[0., 0., 0., 0., 0., 0., 0.]], dtype=float32), extra_data=None))"
      ]
     },
     "execution_count": 31,
     "metadata": {},
     "output_type": "execute_result"
    }
   ],
   "source": [
    "policy_output"
   ]
  },
  {
   "cell_type": "code",
   "execution_count": 32,
   "id": "e20b03bf-ee23-4695-a6db-619254367c80",
   "metadata": {},
   "outputs": [
    {
     "data": {
      "text/plain": [
       "Array([3], dtype=int32)"
      ]
     },
     "execution_count": 32,
     "metadata": {},
     "output_type": "execute_result"
    }
   ],
   "source": [
    "policy_output.action"
   ]
  },
  {
   "cell_type": "code",
   "execution_count": 33,
   "id": "49390e27-d33a-4c13-ba3e-2acb2d6b9746",
   "metadata": {},
   "outputs": [
    {
     "data": {
      "text/plain": [
       "Array([[0.045     , 0.08400001, 0.18300001, 0.33100003, 0.18      ,\n",
       "        0.047     , 0.13000001]], dtype=float32)"
      ]
     },
     "execution_count": 33,
     "metadata": {},
     "output_type": "execute_result"
    }
   ],
   "source": [
    "policy_output.action_weights"
   ]
  },
  {
   "cell_type": "code",
   "execution_count": 34,
   "id": "2a8b2947-fcc6-46e6-ac03-50392874dbe6",
   "metadata": {},
   "outputs": [
    {
     "data": {
      "text/plain": [
       "Array([[1001,  180,  183, ...,    1,    1,    1]], dtype=int32)"
      ]
     },
     "execution_count": 34,
     "metadata": {},
     "output_type": "execute_result"
    }
   ],
   "source": [
    "policy_output.search_tree.node_visits"
   ]
  },
  {
   "cell_type": "code",
   "execution_count": 35,
   "id": "b47cb8d6-3f60-4763-bb9f-24a95130b0bd",
   "metadata": {},
   "outputs": [
    {
     "data": {
      "text/plain": [
       "(1, 1001)"
      ]
     },
     "execution_count": 35,
     "metadata": {},
     "output_type": "execute_result"
    }
   ],
   "source": [
    "policy_output.search_tree.node_visits.shape"
   ]
  },
  {
   "cell_type": "markdown",
   "id": "79f9e827-c9d3-4140-bfee-c49add7c41da",
   "metadata": {},
   "source": [
    "Ok, so I also wanted to try write some sort of iterator over the tree. Or see that it is possible. \n",
    "\n",
    "Next up, what is that functools partial thing doing?"
   ]
  },
  {
   "cell_type": "code",
   "execution_count": 36,
   "id": "cca09537-aa55-4c60-9bfa-8f9aab0179fa",
   "metadata": {},
   "outputs": [],
   "source": [
    "def bad_mcts(rng_key: chex.PRNGKey, env: Env, num_simulations: int) -> chex.Array:\n",
    "    batch_size = 1\n",
    "    key1, key2 = jax.random.split(rng_key)\n",
    "    policy_output = mctx.muzero_policy(\n",
    "        params=None,\n",
    "        rng_key=key1,\n",
    "        root=jax.vmap(root_fn, (None, 0))(env, jax.random.split(key2, batch_size)),\n",
    "        recurrent_fn=jax.vmap(recurrent_fn, (None, None, 0, 0)),\n",
    "        num_simulations=num_simulations,\n",
    "        max_depth=42,\n",
    "        qtransform=functools.partial(mctx.qtransform_by_min_max, min_value=-1, max_value=1),\n",
    "        dirichlet_fraction=0.0,\n",
    "    )\n",
    "    return policy_output"
   ]
  },
  {
   "cell_type": "code",
   "execution_count": 41,
   "id": "bff7aa37-b929-4cb9-9378-1df20b4394b4",
   "metadata": {},
   "outputs": [
    {
     "data": {
      "image/png": "[encoded data removed]",
      "text/plain": [
       "<Figure size 640x480 with 1 Axes>"
      ]
     },
     "metadata": {},
     "output_type": "display_data"
    },
    {
     "name": "stdout",
     "output_type": "stream",
     "text": [
      "CPU times: user 8.31 s, sys: 209 ms, total: 8.52 s\n",
      "Wall time: 6.84 s\n"
     ]
    }
   ],
   "source": [
    "%%time\n",
    "env = env_reset(0)\n",
    "policy_output = bad_mcts(jax.random.PRNGKey(0), env, 1000)\n",
    "plt.bar(jnp.arange(7), policy_output.action_weights.mean(axis=0))\n",
    "plt.show()"
   ]
  },
  {
   "cell_type": "markdown",
   "id": "ae485845-5612-4c13-af6f-eeaa11ca33e8",
   "metadata": {},
   "source": [
    "After learning a bit of googling about functools partial (https://docs.python.org/3/library/functools.html) and somehow vaguely understanding what decorators actually do (from https://stackoverflow.com/questions/48098569/use-of-functools-partial-in-a-decorator-that-attaches-function-as-attribute-of-o) realised that it's just applying jax.jit to the function. As can be seen by it being 8x slower without the decorator"
   ]
  },
  {
   "cell_type": "markdown",
   "id": "07c24004-cd9d-478d-8ac4-03bfcbaf8f15",
   "metadata": {},
   "source": [
    "## Part 2: Foundations\n",
    "\n",
    "18/10/24 - Finishing for today, after writing this block with some thoughts on what to do next\n",
    "\n",
    "So, feel comfortable with this stuff now, as had MCTX code open while working through connect 4 example. \n",
    "\n",
    "Next thing to do is work out how to do growing arrays in jax\n",
    "\n",
    "MCTX can use the number of nodes $N$ in the tree as the number of trials (plus one), as only one node gets added each trial. We want mcts_mode=False to still work, which can add multiple nodes to the tree\n",
    "\n",
    "Currently thinking of the following:\n",
    "```\n",
    "# Have a python array of jax arrays (where [x] means an array with x items)\n",
    "[[k],[k],[k],...]\n",
    "[[k],[2k],[4k],...]\n",
    "\n",
    "# Indexing into them would be\n",
    "k_batching_idxs(jax_idx):\n",
    "    outer_idx = jax_idx // k\n",
    "    inner_idx = jax_idx % k\n",
    "    return outer_idx, inner_idx\n",
    "\n",
    "exp_batching_idxs(jax_idx):\n",
    "    outer_idx = floor(log_2((jax_idx/k) + 1))\n",
    "    inner_idx = jax_idx - k * (2^outer_idx - 1)\n",
    "    return outer_idx, inner_idx\n",
    "    \n",
    "```\n",
    "\n",
    "Although I think there's a problem with tyhe \"sharp bits\" of jax, as this array would be stateful, which seems like a big no no\n",
    "\n",
    "Going to have to read: https://jax.readthedocs.io/en/latest/notebooks/Common_Gotchas_in_JAX.html\n",
    "\n",
    "And also have a bit of a think about how this could be done? Or if it can be done at all? Do we just need to accept that if trial length is $L$, and number of trials is $T$, then we'll have to make an arrays for $N=LT$ many nodes?\n",
    "\n",
    "Also, didn't get how values are being updated in the Tree type in the search. See `tree.replace` calls in `mctx._src.search.py`, at lines 235 and 278. Also there's some `update` and `batch_update` calls in there. Maybe these will offer some insights. Because it's clearly doing something smarter than using the `at` syntax for jnp arrays (https://jax.readthedocs.io/en/latest/_autosummary/jax.numpy.ndarray.at.html), where I guess it would make a copy of the entire array? Maybe it does essentially do that, as if running at most 1000 trials, then it's not tooo costly to just copy 1000 numbers I guess.\n",
    "\n",
    "Regardless\n",
    "\n",
    "Next session game plan:\n",
    "- think about if can do resizable arrays + try implement + test\n",
    "- if not, progress onto just doing the incredibly large arrays\n",
    "\n",
    "Theres some thought at the precipice of my brain about indefinite horizon search needing resizable arrays, but unsure if could just make all algorithms work with a fixed horizon. I cant recall and I'm eepy. \n",
    "\n",
    "ALSO. ONE LAST THING. I googled \"jax with state\" and found this beaut of a doc thread: https://jax.readthedocs.io/en/latest/stateful-computations.html\n",
    "\n",
    "Guess it would have helped to actually read the jax man pages a little more :)\n",
    "\n",
    "Anyway, looks like we should be able to get it to work, maybe with a bit more finagling than desired >:("
   ]
  },
  {
   "cell_type": "code",
   "execution_count": null,
   "id": "4447fe47-2828-4cff-b006-afc26257a946",
   "metadata": {},
   "outputs": [],
   "source": []
  }
 ],
 "metadata": {
  "kernelspec": {
   "display_name": "Python 3 (ipykernel)",
   "language": "python",
   "name": "python3"
  },
  "language_info": {
   "codemirror_mode": {
    "name": "ipython",
    "version": 3
   },
   "file_extension": ".py",
   "mimetype": "text/x-python",
   "name": "python",
   "nbconvert_exporter": "python",
   "pygments_lexer": "ipython3",
   "version": "3.10.14"
  }
 },
 "nbformat": 4,
 "nbformat_minor": 5
}
