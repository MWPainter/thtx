{
 "cells": [
  {
   "cell_type": "markdown",
   "id": "80270e45-e9e9-4c78-81f2-f7313d8a6187",
   "metadata": {},
   "source": [
    "# Development notebook\n",
    "\n",
    "Using this notebook to do the following:\n",
    "1. learn how to use mctx\n",
    "2. test my edits fror mctx -> thtx\n",
    "3. ramble/journal/vent?\n",
    "4. apologise if anyone ever reads this, because I am hacking this all together between thesis writing sessions.\n",
    "\n",
    "## Notes \n",
    "- 18/10/24 - decided to keep mctx in its own folder, and then implement thtx in a new folder. This way can make THTS a clean implementation rather than just hacked in. If this gets released, can delete this notebook and mctx folder in main branch, and keep it in a backup dev branch\n",
    "- 18/10/24 - actually, fuck it, three folders. folder1 = mctx, immutable; folder2 = mctx_play, where I hack things into mctx; folder3 = thtx, clean impl of thtx\n",
    "- 18/10/24 - ooops, just realised, might as well use mctx installed through pip as clean copy, mctx as the hacking folder, and thtx as clean"
   ]
  },
  {
   "cell_type": "markdown",
   "id": "d73d66b8-e8c3-4e4b-a9c5-2ebb07ba96c0",
   "metadata": {},
   "source": [
    "## Part 0: Setup being able to use thtx repo in this notebook\n",
    "\n",
    "https://medium.com/@pablosjv/importing-local-python-modules-into-jupyter-notebooks-87336b2d7746"
   ]
  },
  {
   "cell_type": "code",
   "execution_count": 1,
   "id": "7d8bb33f-3c4d-426b-bba2-ff96e9868579",
   "metadata": {},
   "outputs": [],
   "source": [
    "%load_ext autoreload\n",
    "%autoreload 2\n",
    "import os\n",
    "import sys\n",
    "module_path = os.path.abspath('/home/michael/Desktop/thtx') # or the path to your source code\n",
    "sys.path.insert(0, module_path)"
   ]
  },
  {
   "cell_type": "code",
   "execution_count": 2,
   "id": "32e08ead-c41a-4d04-a85f-da92eac480ad",
   "metadata": {},
   "outputs": [],
   "source": [
    "# Test import\n",
    "from mctx._src.tree import Tree"
   ]
  },
  {
   "cell_type": "markdown",
   "id": "e18401eb-8bf6-4c50-9429-dd1c02393958",
   "metadata": {},
   "source": [
    "## Part 1: Working through connect 4 example"
   ]
  },
  {
   "cell_type": "markdown",
   "id": "1ebbed9a-50e2-4716-abc2-ca57a0ee2aa9",
   "metadata": {},
   "source": [
    "#### 1.1 copying out the game definitions\n",
    "\n",
    "Deleting all the comments to make it more concise. Go look at original if wan understand"
   ]
  },
  {
   "cell_type": "code",
   "execution_count": 3,
   "id": "1236fc2c-c8fb-4bb1-9d04-d291e1d14d4a",
   "metadata": {},
   "outputs": [],
   "source": [
    "import chex\n",
    "from rich import print\n",
    "import jax.numpy as jnp\n",
    "\n",
    "Board = chex.Array\n",
    "Action = chex.Array\n",
    "Player = chex.Array\n",
    "Reward = chex.Array\n",
    "Done = chex.Array\n",
    "\n",
    "@chex.dataclass\n",
    "class Env:\n",
    "    board: Board\n",
    "    player: Player\n",
    "    done: Done\n",
    "    reward: Reward\n",
    "\n",
    "BOARD_STRING = \"\"\"\n",
    " ? | ? | ? | ? | ? | ? | ?\n",
    "---|---|---|---|---|---|---\n",
    " ? | ? | ? | ? | ? | ? | ?\n",
    "---|---|---|---|---|---|---\n",
    " ? | ? | ? | ? | ? | ? | ?\n",
    "---|---|---|---|---|---|---\n",
    " ? | ? | ? | ? | ? | ? | ?\n",
    "---|---|---|---|---|---|---\n",
    " ? | ? | ? | ? | ? | ? | ?\n",
    "---|---|---|---|---|---|---\n",
    " ? | ? | ? | ? | ? | ? | ?\n",
    "---|---|---|---|---|---|---\n",
    " 1   2   3   4   5   6   7\n",
    "\"\"\"\n",
    "\n",
    "def print_board(board: Board):\n",
    "    board_str = BOARD_STRING\n",
    "    for i in reversed(range(board.shape[0])):\n",
    "        for j in range(board.shape[1]):\n",
    "            board_str = board_str.replace('?', '[green]X[/green]' if board[i, j] == 1 else '[red]O[/red]' if board[i, j] == -1 else ' ', 1)\n",
    "    print(board_str)\n",
    "\n",
    "def horizontals(board: Board) -> chex.Array:\n",
    "    return jnp.stack([\n",
    "        board[i, j:j+4]\n",
    "        for i in range(board.shape[0])\n",
    "        for j in range(board.shape[1] - 3)\n",
    "    ])\n",
    "\n",
    "def verticals(board: Board) -> chex.Array:\n",
    "    return jnp.stack([\n",
    "        board[i:i+4, j]\n",
    "        for i in range(board.shape[0] - 3)\n",
    "        for j in range(board.shape[1])\n",
    "    ])\n",
    "\n",
    "def diagonals(board: Board) -> chex.Array:\n",
    "    return jnp.stack([\n",
    "        jnp.diag(board[i:i+4, j:j+4])\n",
    "        for i in range(board.shape[0] - 3)\n",
    "        for j in range(board.shape[1] - 3)\n",
    "    ])\n",
    "\n",
    "def antidiagonals(board: Board) -> chex.Array:\n",
    "    return jnp.stack([\n",
    "        jnp.diag(board[i:i+4, j:j+4][::-1])\n",
    "        for i in range(board.shape[0] - 3)\n",
    "        for j in range(board.shape[1] - 3)\n",
    "    ])\n",
    "\n",
    "def get_winner(board: Board) -> Player:\n",
    "    all_lines = jnp.concatenate((\n",
    "        horizontals(board),\n",
    "        verticals(board),\n",
    "        diagonals(board),\n",
    "        antidiagonals(board),\n",
    "    ))\n",
    "    x_won = jnp.any(jnp.all(all_lines == 1, axis=1)).astype(jnp.int8)\n",
    "    o_won = jnp.any(jnp.all(all_lines == -1, axis=1)).astype(jnp.int8)\n",
    "    return x_won - o_won\n",
    "\n",
    "def env_reset(_):\n",
    "    return Env(\n",
    "        board=jnp.zeros((6, 7), dtype=jnp.int8),\n",
    "        player=jnp.int8(1),\n",
    "        done=jnp.bool_(False),\n",
    "        reward=jnp.int8(0),\n",
    "    )\n",
    "\n",
    "def env_step(env: Env, action: Action) -> tuple[Env, Reward, Done]:\n",
    "    col = action\n",
    "    row = jnp.argmax(env.board[:, col] == 0)\n",
    "    invalid_move = env.board[row, col] != 0\n",
    "    board = env.board.at[row, col].set(jnp.where(env.done | invalid_move, env.board[row, col], env.player))\n",
    "    reward = jnp.where(env.done, 0, jnp.where(invalid_move, -1, get_winner(board) * env.player)).astype(jnp.int8)\n",
    "    done = env.done | reward != 0 | invalid_move | jnp.all(board[-1] != 0)\n",
    "    env = Env(\n",
    "        board=board,\n",
    "        # switch player\n",
    "        player=jnp.where(done, env.player, -env.player),\n",
    "        done=done,\n",
    "        reward=reward,\n",
    "    )\n",
    "    return env, reward, done"
   ]
  },
  {
   "cell_type": "markdown",
   "id": "1a85c84a-87f0-4126-a61e-3bd7556c7d61",
   "metadata": {},
   "source": [
    "#### 1.2 Policy stuff"
   ]
  },
  {
   "cell_type": "code",
   "execution_count": 4,
   "id": "a0d74235-99ac-40e2-aaf5-d04571d7c70f",
   "metadata": {},
   "outputs": [],
   "source": [
    "def valid_action_mask(env: Env) -> chex.Array:\n",
    "    return jnp.where(env.done, jnp.array([False] * env.board.shape[1]), env.board[-1] == 0)\n",
    "    \n",
    "def winning_action_mask(env: Env, player: Player) -> chex.Array:\n",
    "    env = Env(board=env.board, player=player, done=env.done, reward=env.reward)\n",
    "    env, reward, done = jax.vmap(env_step, (None, 0))(env, jnp.arange(7, dtype=jnp.int8))\n",
    "    return reward == 1\n",
    "\n",
    "def policy_function(env: Env) -> chex.Array:\n",
    "    return sum((\n",
    "        valid_action_mask(env).astype(jnp.float32) * 100,\n",
    "        winning_action_mask(env, -env.player).astype(jnp.float32) * 200,\n",
    "        winning_action_mask(env, env.player).astype(jnp.float32) * 300,\n",
    "    ))"
   ]
  },
  {
   "cell_type": "markdown",
   "id": "b2033f26-f61c-486a-85d8-406d46db6a0d",
   "metadata": {},
   "source": [
    "#### 1.3 Classic MCTS stuff"
   ]
  },
  {
   "cell_type": "code",
   "execution_count": 5,
   "id": "c86d0bc3-e133-473a-98d8-9074d3b8c5a1",
   "metadata": {},
   "outputs": [],
   "source": [
    "import jax\n",
    "import mctx\n",
    "import functools\n",
    "\n",
    "def rollout(env: Env, rng_key: chex.PRNGKey) -> Reward:\n",
    "    def cond(a):\n",
    "        env, key = a\n",
    "        return ~env.done\n",
    "    def step(a):\n",
    "        env, key = a\n",
    "        key, subkey = jax.random.split(key)\n",
    "        action = jax.random.categorical(subkey, policy_function(env))\n",
    "        env, reward, done = env_step(env, action)\n",
    "        return env, key\n",
    "    leaf, key = jax.lax.while_loop(cond, step, (env, rng_key))\n",
    "    return leaf.reward * leaf.player * env.player\n",
    "\n",
    "def value_function(env: Env, rng_key: chex.PRNGKey) -> chex.Array:\n",
    "    return rollout(env, rng_key).astype(jnp.float32)\n",
    "\n",
    "def root_fn(env: Env, rng_key: chex.PRNGKey) -> mctx.RootFnOutput:\n",
    "    return mctx.RootFnOutput(\n",
    "        prior_logits=policy_function(env),\n",
    "        value=value_function(env, rng_key),\n",
    "        # We will use the `embedding` field to store the environment.\n",
    "        embedding=env,\n",
    "    )\n",
    "\n",
    "def recurrent_fn(params, rng_key, action, embedding):\n",
    "    env = embedding\n",
    "    env, reward, done = env_step(env, action)\n",
    "    recurrent_fn_output = mctx.RecurrentFnOutput(\n",
    "        reward=reward,\n",
    "        discount=jnp.where(done, 0, -1).astype(jnp.float32),\n",
    "        prior_logits=policy_function(env),\n",
    "        value=jnp.where(done, 0, value_function(env, rng_key)).astype(jnp.float32),\n",
    "    )\n",
    "    return recurrent_fn_output, env\n",
    "\n",
    "@functools.partial(jax.jit, static_argnums=(2,))\n",
    "def run_mcts(rng_key: chex.PRNGKey, env: Env, num_simulations: int) -> chex.Array:\n",
    "    batch_size = 1\n",
    "    key1, key2 = jax.random.split(rng_key)\n",
    "    policy_output = mctx.muzero_policy(\n",
    "        params=None,\n",
    "        rng_key=key1,\n",
    "        root=jax.vmap(root_fn, (None, 0))(env, jax.random.split(key2, batch_size)),\n",
    "        recurrent_fn=jax.vmap(recurrent_fn, (None, None, 0, 0)),\n",
    "        num_simulations=num_simulations,\n",
    "        max_depth=42,\n",
    "        qtransform=functools.partial(mctx.qtransform_by_min_max, min_value=-1, max_value=1),\n",
    "        dirichlet_fraction=0.0,\n",
    "    )\n",
    "    return policy_output"
   ]
  },
  {
   "cell_type": "markdown",
   "id": "adaeff34-9189-4c93-a16d-9b21c0500d38",
   "metadata": {},
   "source": [
    "#### 1.4 Running some stuff\n",
    "\n",
    "Copying the \"play twice in the middle collumn\" and see what mcts does bit"
   ]
  },
  {
   "cell_type": "code",
   "execution_count": 6,
   "id": "f2933384-9f3c-45e1-912e-544c2cea83a0",
   "metadata": {},
   "outputs": [],
   "source": [
    "import matplotlib.pyplot as plt"
   ]
  },
  {
   "cell_type": "code",
   "execution_count": 7,
   "id": "e359bde1-6215-47e9-ae8d-76220d767bbc",
   "metadata": {},
   "outputs": [
    {
     "data": {
      "image/png": "[encoded data removed]",
      "text/plain": [
       "<Figure size 640x480 with 1 Axes>"
      ]
     },
     "metadata": {},
     "output_type": "display_data"
    }
   ],
   "source": [
    "env = env_reset(0)\n",
    "env, reward, done = env_step(env, 3)\n",
    "env, reward, done = env_step(env, 3)\n",
    "policy_output = run_mcts(jax.random.PRNGKey(0), env, 1000)\n",
    "plt.bar(jnp.arange(7), policy_output.action_weights.mean(axis=0))\n",
    "plt.show()"
   ]
  },
  {
   "cell_type": "markdown",
   "id": "4f0d4738-6a28-4536-b4d1-b398bdba549c",
   "metadata": {},
   "source": [
    "#### My Turn :)\n",
    "\n",
    "First, why did we play two moves, why not see where it wants to go on first move? Middle is best no?"
   ]
  },
  {
   "cell_type": "code",
   "execution_count": 8,
   "id": "7b7ccd92-ca9e-4263-8c95-76c295599e29",
   "metadata": {},
   "outputs": [
    {
     "data": {
      "image/png": "[encoded data removed]",
      "text/plain": [
       "<Figure size 640x480 with 1 Axes>"
      ]
     },
     "metadata": {},
     "output_type": "display_data"
    },
    {
     "name": "stdout",
     "output_type": "stream",
     "text": [
      "CPU times: user 1.1 s, sys: 112 ms, total: 1.21 s\n",
      "Wall time: 1.07 s\n"
     ]
    }
   ],
   "source": [
    "%%time\n",
    "env = env_reset(0)\n",
    "policy_output = run_mcts(jax.random.PRNGKey(0), env, 1000)\n",
    "plt.bar(jnp.arange(7), policy_output.action_weights.mean(axis=0))\n",
    "plt.show()"
   ]
  },
  {
   "cell_type": "markdown",
   "id": "3ddc7fe5-7a0f-40c0-b42c-d3482aa19f93",
   "metadata": {},
   "source": [
    "Ok sure, just not as clean of a gaussian distr. Ok, lets look at what policy_output actually is"
   ]
  },
  {
   "cell_type": "code",
   "execution_count": 9,
   "id": "a7812a68-5d59-4530-b6b0-839b147e1164",
   "metadata": {},
   "outputs": [
    {
     "data": {
      "text/plain": [
       "PolicyOutput(action=Array([3], dtype=int32), action_weights=Array([[0.045     , 0.08400001, 0.18300001, 0.33100003, 0.18      ,\n",
       "        0.047     , 0.13000001]], dtype=float32), search_tree=Tree(node_visits=Array([[1001,  180,  183, ...,    1,    1,    1]], dtype=int32), raw_values=Array([[-1.,  1.,  1., ...,  1.,  1., -1.]], dtype=float32), node_values=Array([[ 0.0619383 , -0.07777785, -0.08196725, ...,  1.        ,\n",
       "         1.        , -1.        ]], dtype=float32), parents=Array([[ -1,   0,   0, ..., 988, 997, 287]], dtype=int32), action_from_parent=Array([[-1,  4,  2, ...,  6,  1,  1]], dtype=int32), children_index=Array([[[  3,   5,   2, ...,   1,  21,  23],\n",
       "        [391, 139, 411, ..., 413, 416, 414],\n",
       "        [ 62,  59,  64, ...,  60,  61,  63],\n",
       "        ...,\n",
       "        [ -1,  -1,  -1, ...,  -1,  -1,  -1],\n",
       "        [ -1,  -1,  -1, ...,  -1,  -1,  -1],\n",
       "        [ -1,  -1,  -1, ...,  -1,  -1,  -1]]], dtype=int32), children_prior_logits=Array([[[ -1.9459101,  -1.9459101,  -1.9459101, ...,  -1.9459101,\n",
       "          -1.9459101,  -1.9459101],\n",
       "        [100.       , 100.       , 100.       , ..., 100.       ,\n",
       "         100.       , 100.       ],\n",
       "        [100.       , 100.       , 100.       , ..., 100.       ,\n",
       "         100.       , 100.       ],\n",
       "        ...,\n",
       "        [100.       , 100.       , 100.       , ..., 100.       ,\n",
       "         100.       , 100.       ],\n",
       "        [100.       , 100.       , 100.       , ..., 100.       ,\n",
       "         100.       , 100.       ],\n",
       "        [100.       , 100.       , 100.       , ..., 100.       ,\n",
       "         100.       , 100.       ]]], dtype=float32), children_visits=Array([[[ 45,  84, 183, ..., 180,  47, 130],\n",
       "        [ 14,  15,  16, ...,   4,   6,   8],\n",
       "        [  4,  73,   8, ...,   4,   6,  16],\n",
       "        ...,\n",
       "        [  0,   0,   0, ...,   0,   0,   0],\n",
       "        [  0,   0,   0, ...,   0,   0,   0],\n",
       "        [  0,   0,   0, ...,   0,   0,   0]]], dtype=int32), children_rewards=Array([[[0., 0., 0., ..., 0., 0., 0.],\n",
       "        [0., 0., 0., ..., 0., 0., 0.],\n",
       "        [0., 0., 0., ..., 0., 0., 0.],\n",
       "        ...,\n",
       "        [0., 0., 0., ..., 0., 0., 0.],\n",
       "        [0., 0., 0., ..., 0., 0., 0.],\n",
       "        [0., 0., 0., ..., 0., 0., 0.]]], dtype=float32), children_discounts=Array([[[-1., -1., -1., ..., -1., -1., -1.],\n",
       "        [-1., -1., -1., ..., -1., -1., -1.],\n",
       "        [-1., -1., -1., ..., -1., -1., -1.],\n",
       "        ...,\n",
       "        [ 0.,  0.,  0., ...,  0.,  0.,  0.],\n",
       "        [ 0.,  0.,  0., ...,  0.,  0.,  0.],\n",
       "        [ 0.,  0.,  0., ...,  0.,  0.,  0.]]], dtype=float32), children_values=Array([[[ 8.8888898e-02, -8.6568654e-08, -8.1967250e-02, ...,\n",
       "         -7.7777848e-02,  1.0638299e-01, -5.3846162e-02],\n",
       "        [ 2.8571430e-01,  2.6666668e-01,  2.5000000e-01, ...,\n",
       "          1.0000000e+00,  6.6666669e-01,  5.0000000e-01],\n",
       "        [ 1.0000000e+00, -9.5890410e-02,  5.0000000e-01, ...,\n",
       "          1.0000000e+00,  6.6666669e-01,  2.5000003e-01],\n",
       "        ...,\n",
       "        [ 0.0000000e+00,  0.0000000e+00,  0.0000000e+00, ...,\n",
       "          0.0000000e+00,  0.0000000e+00,  0.0000000e+00],\n",
       "        [ 0.0000000e+00,  0.0000000e+00,  0.0000000e+00, ...,\n",
       "          0.0000000e+00,  0.0000000e+00,  0.0000000e+00],\n",
       "        [ 0.0000000e+00,  0.0000000e+00,  0.0000000e+00, ...,\n",
       "          0.0000000e+00,  0.0000000e+00,  0.0000000e+00]]], dtype=float32), embeddings=Env(board=Array([[[[ 0,  0,  0, ...,  0,  0,  0],\n",
       "         [ 0,  0,  0, ...,  0,  0,  0],\n",
       "         [ 0,  0,  0, ...,  0,  0,  0],\n",
       "         [ 0,  0,  0, ...,  0,  0,  0],\n",
       "         [ 0,  0,  0, ...,  0,  0,  0],\n",
       "         [ 0,  0,  0, ...,  0,  0,  0]],\n",
       "\n",
       "        [[ 0,  0,  0, ...,  1,  0,  0],\n",
       "         [ 0,  0,  0, ...,  0,  0,  0],\n",
       "         [ 0,  0,  0, ...,  0,  0,  0],\n",
       "         [ 0,  0,  0, ...,  0,  0,  0],\n",
       "         [ 0,  0,  0, ...,  0,  0,  0],\n",
       "         [ 0,  0,  0, ...,  0,  0,  0]],\n",
       "\n",
       "        [[ 0,  0,  1, ...,  0,  0,  0],\n",
       "         [ 0,  0,  0, ...,  0,  0,  0],\n",
       "         [ 0,  0,  0, ...,  0,  0,  0],\n",
       "         [ 0,  0,  0, ...,  0,  0,  0],\n",
       "         [ 0,  0,  0, ...,  0,  0,  0],\n",
       "         [ 0,  0,  0, ...,  0,  0,  0]],\n",
       "\n",
       "        ...,\n",
       "\n",
       "        [[ 0,  0,  0, ...,  1, -1,  1],\n",
       "         [ 0,  0,  0, ...,  0,  0,  0],\n",
       "         [ 0,  0,  0, ...,  0,  0,  0],\n",
       "         [ 0,  0,  0, ...,  0,  0,  0],\n",
       "         [ 0,  0,  0, ...,  0,  0,  0],\n",
       "         [ 0,  0,  0, ...,  0,  0,  0]],\n",
       "\n",
       "        [[ 0,  1, -1, ..., -1, -1,  1],\n",
       "         [ 0,  1,  0, ...,  0,  0,  1],\n",
       "         [ 0,  0,  0, ...,  0,  0,  0],\n",
       "         [ 0,  0,  0, ...,  0,  0,  0],\n",
       "         [ 0,  0,  0, ...,  0,  0,  0],\n",
       "         [ 0,  0,  0, ...,  0,  0,  0]],\n",
       "\n",
       "        [[ 1,  1, -1, ..., -1,  1,  0],\n",
       "         [ 0,  0,  0, ...,  0,  0,  0],\n",
       "         [ 0,  0,  0, ...,  0,  0,  0],\n",
       "         [ 0,  0,  0, ...,  0,  0,  0],\n",
       "         [ 0,  0,  0, ...,  0,  0,  0],\n",
       "         [ 0,  0,  0, ...,  0,  0,  0]]]], dtype=int8), player=Array([[ 1, -1, -1, ..., -1, -1, -1]], dtype=int8), done=Array([[False, False, False, ..., False, False, False]], dtype=bool), reward=Array([[0, 0, 0, ..., 0, 0, 0]], dtype=int8)), root_invalid_actions=Array([[0., 0., 0., 0., 0., 0., 0.]], dtype=float32), extra_data=None))"
      ]
     },
     "execution_count": 9,
     "metadata": {},
     "output_type": "execute_result"
    }
   ],
   "source": [
    "policy_output"
   ]
  },
  {
   "cell_type": "code",
   "execution_count": 10,
   "id": "e20b03bf-ee23-4695-a6db-619254367c80",
   "metadata": {},
   "outputs": [
    {
     "data": {
      "text/plain": [
       "Array([3], dtype=int32)"
      ]
     },
     "execution_count": 10,
     "metadata": {},
     "output_type": "execute_result"
    }
   ],
   "source": [
    "policy_output.action"
   ]
  },
  {
   "cell_type": "code",
   "execution_count": 11,
   "id": "49390e27-d33a-4c13-ba3e-2acb2d6b9746",
   "metadata": {},
   "outputs": [
    {
     "data": {
      "text/plain": [
       "Array([[0.045     , 0.08400001, 0.18300001, 0.33100003, 0.18      ,\n",
       "        0.047     , 0.13000001]], dtype=float32)"
      ]
     },
     "execution_count": 11,
     "metadata": {},
     "output_type": "execute_result"
    }
   ],
   "source": [
    "policy_output.action_weights"
   ]
  },
  {
   "cell_type": "code",
   "execution_count": 12,
   "id": "2a8b2947-fcc6-46e6-ac03-50392874dbe6",
   "metadata": {},
   "outputs": [
    {
     "data": {
      "text/plain": [
       "Array([[1001,  180,  183, ...,    1,    1,    1]], dtype=int32)"
      ]
     },
     "execution_count": 12,
     "metadata": {},
     "output_type": "execute_result"
    }
   ],
   "source": [
    "policy_output.search_tree.node_visits"
   ]
  },
  {
   "cell_type": "code",
   "execution_count": 13,
   "id": "b47cb8d6-3f60-4763-bb9f-24a95130b0bd",
   "metadata": {},
   "outputs": [
    {
     "data": {
      "text/plain": [
       "(1, 1001)"
      ]
     },
     "execution_count": 13,
     "metadata": {},
     "output_type": "execute_result"
    }
   ],
   "source": [
    "policy_output.search_tree.node_visits.shape"
   ]
  },
  {
   "cell_type": "markdown",
   "id": "79f9e827-c9d3-4140-bfee-c49add7c41da",
   "metadata": {},
   "source": [
    "Ok, so I also wanted to try write some sort of iterator over the tree. Or see that it is possible. \n",
    "\n",
    "Next up, what is that functools partial thing doing?"
   ]
  },
  {
   "cell_type": "code",
   "execution_count": 14,
   "id": "cca09537-aa55-4c60-9bfa-8f9aab0179fa",
   "metadata": {},
   "outputs": [],
   "source": [
    "def bad_mcts(rng_key: chex.PRNGKey, env: Env, num_simulations: int) -> chex.Array:\n",
    "    batch_size = 1\n",
    "    key1, key2 = jax.random.split(rng_key)\n",
    "    policy_output = mctx.muzero_policy(\n",
    "        params=None,\n",
    "        rng_key=key1,\n",
    "        root=jax.vmap(root_fn, (None, 0))(env, jax.random.split(key2, batch_size)),\n",
    "        recurrent_fn=jax.vmap(recurrent_fn, (None, None, 0, 0)),\n",
    "        num_simulations=num_simulations,\n",
    "        max_depth=42,\n",
    "        qtransform=functools.partial(mctx.qtransform_by_min_max, min_value=-1, max_value=1),\n",
    "        dirichlet_fraction=0.0,\n",
    "    )\n",
    "    return policy_output"
   ]
  },
  {
   "cell_type": "code",
   "execution_count": 15,
   "id": "bff7aa37-b929-4cb9-9378-1df20b4394b4",
   "metadata": {},
   "outputs": [
    {
     "data": {
      "image/png": "[encoded data removed]",
      "text/plain": [
       "<Figure size 640x480 with 1 Axes>"
      ]
     },
     "metadata": {},
     "output_type": "display_data"
    },
    {
     "name": "stdout",
     "output_type": "stream",
     "text": [
      "CPU times: user 10.6 s, sys: 282 ms, total: 10.9 s\n",
      "Wall time: 10.2 s\n"
     ]
    }
   ],
   "source": [
    "%%time\n",
    "env = env_reset(0)\n",
    "policy_output = bad_mcts(jax.random.PRNGKey(0), env, 1000)\n",
    "plt.bar(jnp.arange(7), policy_output.action_weights.mean(axis=0))\n",
    "plt.show()"
   ]
  },
  {
   "cell_type": "markdown",
   "id": "ae485845-5612-4c13-af6f-eeaa11ca33e8",
   "metadata": {},
   "source": [
    "After learning a bit of googling about functools partial (https://docs.python.org/3/library/functools.html) and somehow vaguely understanding what decorators actually do (from https://stackoverflow.com/questions/48098569/use-of-functools-partial-in-a-decorator-that-attaches-function-as-attribute-of-o) realised that it's just applying jax.jit to the function. As can be seen by it being 8x slower without the decorator"
   ]
  },
  {
   "cell_type": "markdown",
   "id": "07c24004-cd9d-478d-8ac4-03bfcbaf8f15",
   "metadata": {},
   "source": [
    "## Part 2: Foundations\n",
    "\n",
    "18/10/24 - Finishing for today, after writing this block with some thoughts on what to do next\n",
    "\n",
    "So, feel comfortable with this stuff now, as had MCTX code open while working through connect 4 example. \n",
    "\n",
    "Next thing to do is work out how to do growing arrays in jax\n",
    "\n",
    "MCTX can use the number of nodes $N$ in the tree as the number of trials (plus one), as only one node gets added each trial. We want mcts_mode=False to still work, which can add multiple nodes to the tree\n",
    "\n",
    "Currently thinking of the following:\n",
    "```\n",
    "# Have a python array of jax arrays (where [x] means an array with x items)\n",
    "[[k],[k],[k],...]\n",
    "[[k],[2k],[4k],...]\n",
    "\n",
    "# Indexing into them would be\n",
    "k_batching_idxs(jax_idx):\n",
    "    outer_idx = jax_idx // k\n",
    "    inner_idx = jax_idx % k\n",
    "    return outer_idx, inner_idx\n",
    "\n",
    "exp_batching_idxs(jax_idx):\n",
    "    outer_idx = floor(log_2((jax_idx/k) + 1))\n",
    "    inner_idx = jax_idx - k * (2^outer_idx - 1)\n",
    "    return outer_idx, inner_idx\n",
    "    \n",
    "```\n",
    "\n",
    "Although I think there's a problem with tyhe \"sharp bits\" of jax, as this array would be stateful, which seems like a big no no\n",
    "\n",
    "Going to have to read: https://jax.readthedocs.io/en/latest/notebooks/Common_Gotchas_in_JAX.html\n",
    "\n",
    "And also have a bit of a think about how this could be done? Or if it can be done at all? Do we just need to accept that if trial length is $L$, and number of trials is $T$, then we'll have to make an arrays for $N=LT$ many nodes?\n",
    "\n",
    "Also, didn't get how values are being updated in the Tree type in the search. See `tree.replace` calls in `mctx._src.search.py`, at lines 235 and 278. Also there's some `update` and `batch_update` calls in there. Maybe these will offer some insights. Because it's clearly doing something smarter than using the `at` syntax for jnp arrays (https://jax.readthedocs.io/en/latest/_autosummary/jax.numpy.ndarray.at.html), where I guess it would make a copy of the entire array? Maybe it does essentially do that, as if running at most 1000 trials, then it's not tooo costly to just copy 1000 numbers I guess.\n",
    "\n",
    "Regardless\n",
    "\n",
    "Next session game plan:\n",
    "- think about if can do resizable arrays + try implement + test\n",
    "- if not, progress onto just doing the incredibly large arrays\n",
    "\n",
    "Theres some thought at the precipice of my brain about indefinite horizon search needing resizable arrays, but unsure if could just make all algorithms work with a fixed horizon. I cant recall and I'm eepy. \n",
    "\n",
    "ALSO. ONE LAST THING. I googled \"jax with state\" and found this beaut of a doc thread: https://jax.readthedocs.io/en/latest/stateful-computations.html\n",
    "\n",
    "Guess it would have helped to actually read the jax man pages a little more :)\n",
    "\n",
    "Anyway, looks like we should be able to get it to work, maybe with a bit more finagling than desired >:("
   ]
  },
  {
   "cell_type": "markdown",
   "id": "b934b4ef-365e-4c9d-a469-b540f952a2cd",
   "metadata": {},
   "source": [
    "### @24/10/24"
   ]
  },
  {
   "cell_type": "code",
   "execution_count": 16,
   "id": "4447fe47-2828-4cff-b006-afc26257a946",
   "metadata": {},
   "outputs": [],
   "source": [
    "import chex\n",
    "\n",
    "@chex.dataclass(frozen=True,mappable_dataclass=False)\n",
    "class ExtArray:\n",
    "    arr: chex.Array\n",
    "\n",
    "    @jax.jit\n",
    "    def append(self, a):\n",
    "        ext_array = jnp.array([a])\n",
    "        concat_array = jnp.concatenate([self.arr,ext_array], axis=0)\n",
    "        return ExtArray(arr=concat_array)\n",
    "\n",
    "    @jax.jit\n",
    "    def __getitem__(self, item):\n",
    "        return self.arr[item]"
   ]
  },
  {
   "cell_type": "code",
   "execution_count": 17,
   "id": "23f55dc6-d27b-48a7-a104-e22ab01d7d4a",
   "metadata": {},
   "outputs": [
    {
     "data": {
      "text/html": [
       "<pre style=\"white-space:pre;overflow-x:auto;line-height:normal;font-family:Menlo,'DejaVu Sans Mono',consolas,'Courier New',monospace\"><span style=\"font-weight: bold\">[</span>  <span style=\"color: #008080; text-decoration-color: #008080; font-weight: bold\">0</span>   <span style=\"color: #008080; text-decoration-color: #008080; font-weight: bold\">1</span>   <span style=\"color: #008080; text-decoration-color: #008080; font-weight: bold\">2</span>   <span style=\"color: #008080; text-decoration-color: #008080; font-weight: bold\">3</span>   <span style=\"color: #008080; text-decoration-color: #008080; font-weight: bold\">4</span>   <span style=\"color: #008080; text-decoration-color: #008080; font-weight: bold\">5</span>   <span style=\"color: #008080; text-decoration-color: #008080; font-weight: bold\">6</span>   <span style=\"color: #008080; text-decoration-color: #008080; font-weight: bold\">7</span>   <span style=\"color: #008080; text-decoration-color: #008080; font-weight: bold\">8</span>   <span style=\"color: #008080; text-decoration-color: #008080; font-weight: bold\">9</span> <span style=\"color: #008080; text-decoration-color: #008080; font-weight: bold\">100</span><span style=\"font-weight: bold\">]</span>\n",
       "</pre>\n"
      ],
      "text/plain": [
       "\u001b[1m[\u001b[0m  \u001b[1;36m0\u001b[0m   \u001b[1;36m1\u001b[0m   \u001b[1;36m2\u001b[0m   \u001b[1;36m3\u001b[0m   \u001b[1;36m4\u001b[0m   \u001b[1;36m5\u001b[0m   \u001b[1;36m6\u001b[0m   \u001b[1;36m7\u001b[0m   \u001b[1;36m8\u001b[0m   \u001b[1;36m9\u001b[0m \u001b[1;36m100\u001b[0m\u001b[1m]\u001b[0m\n"
      ]
     },
     "metadata": {},
     "output_type": "display_data"
    },
    {
     "data": {
      "text/html": [
       "<pre style=\"white-space:pre;overflow-x:auto;line-height:normal;font-family:Menlo,'DejaVu Sans Mono',consolas,'Courier New',monospace\"><span style=\"color: #008080; text-decoration-color: #008080; font-weight: bold\">0</span>\n",
       "</pre>\n"
      ],
      "text/plain": [
       "\u001b[1;36m0\u001b[0m\n"
      ]
     },
     "metadata": {},
     "output_type": "display_data"
    }
   ],
   "source": [
    "jnp_arr = jnp.arange(10)\n",
    "arr1 = ExtArray(arr=jnp_arr)\n",
    "arr1 = arr1.append(100)\n",
    "print(arr1.arr)\n",
    "print(arr1[0])"
   ]
  },
  {
   "cell_type": "markdown",
   "id": "68ab2b9f-c5e4-4cae-b591-3bae5e1e5c40",
   "metadata": {},
   "source": [
    "Ok, so can make some sort of dataclass that represents an extendable array. Lets implement two versions of a dynamic array, one that extends with blocks and one that extends with concatenate as needed\n",
    "\n",
    "Going to write some things and then can make the classes have more sensible names and we can deal with slicing and stuff\n",
    "\n",
    "Also realised that need to set mappable_dataclass to false so that chex doesnt write those methods for the class automatically. Can give up being able to print it with tree util for now I guess (https://chex.readthedocs.io/en/latest/api.html#chex.dataclass)"
   ]
  },
  {
   "cell_type": "code",
   "execution_count": 18,
   "id": "39117917-5b47-4671-ad55-5dfd93b69e13",
   "metadata": {},
   "outputs": [],
   "source": [
    "from functools import partial\n",
    "from jax import jit\n",
    "\n",
    "@chex.dataclass(frozen=True,mappable_dataclass=False)\n",
    "class DArray_Concat:\n",
    "    arr: chex.Array\n",
    "\n",
    "    @partial(jit,static_argnums=(1,))\n",
    "    def set(self, idx, val):\n",
    "        new_arr = self.arr\n",
    "        if idx >= self.arr.shape[0]:\n",
    "            zero_pad = jnp.zeros([idx-self.arr.shape[0]+1])\n",
    "            new_arr = jnp.concatenate([self.arr,zero_pad], axis=0)\n",
    "        new_arr = new_arr.at[idx].set(val)\n",
    "        return DArray_Concat(arr=new_arr)\n",
    "\n",
    "    @jax.jit\n",
    "    def __getitem__(self, item):\n",
    "        return self.arr[item]"
   ]
  },
  {
   "cell_type": "code",
   "execution_count": 19,
   "id": "caa0c396-a880-4ae5-85ce-29bfe899914e",
   "metadata": {
    "scrolled": true
   },
   "outputs": [
    {
     "data": {
      "text/html": [
       "<pre style=\"white-space:pre;overflow-x:auto;line-height:normal;font-family:Menlo,'DejaVu Sans Mono',consolas,'Courier New',monospace\"><span style=\"font-weight: bold\">[</span><span style=\"color: #008080; text-decoration-color: #008080; font-weight: bold\">0</span>.<span style=\"font-weight: bold\">]</span>\n",
       "</pre>\n"
      ],
      "text/plain": [
       "\u001b[1m[\u001b[0m\u001b[1;36m0\u001b[0m.\u001b[1m]\u001b[0m\n"
      ]
     },
     "metadata": {},
     "output_type": "display_data"
    },
    {
     "data": {
      "text/html": [
       "<pre style=\"white-space:pre;overflow-x:auto;line-height:normal;font-family:Menlo,'DejaVu Sans Mono',consolas,'Courier New',monospace\"><span style=\"font-weight: bold\">[</span><span style=\"color: #008080; text-decoration-color: #008080; font-weight: bold\">0</span>. <span style=\"color: #008080; text-decoration-color: #008080; font-weight: bold\">0</span>. <span style=\"color: #008080; text-decoration-color: #008080; font-weight: bold\">0</span>. <span style=\"color: #008080; text-decoration-color: #008080; font-weight: bold\">0</span>. <span style=\"color: #008080; text-decoration-color: #008080; font-weight: bold\">0</span>. <span style=\"color: #008080; text-decoration-color: #008080; font-weight: bold\">0</span>. <span style=\"color: #008080; text-decoration-color: #008080; font-weight: bold\">0</span>. <span style=\"color: #008080; text-decoration-color: #008080; font-weight: bold\">0</span>. <span style=\"color: #008080; text-decoration-color: #008080; font-weight: bold\">0</span>. <span style=\"color: #008080; text-decoration-color: #008080; font-weight: bold\">0</span>. <span style=\"color: #008080; text-decoration-color: #008080; font-weight: bold\">9</span>.<span style=\"font-weight: bold\">]</span>\n",
       "</pre>\n"
      ],
      "text/plain": [
       "\u001b[1m[\u001b[0m\u001b[1;36m0\u001b[0m. \u001b[1;36m0\u001b[0m. \u001b[1;36m0\u001b[0m. \u001b[1;36m0\u001b[0m. \u001b[1;36m0\u001b[0m. \u001b[1;36m0\u001b[0m. \u001b[1;36m0\u001b[0m. \u001b[1;36m0\u001b[0m. \u001b[1;36m0\u001b[0m. \u001b[1;36m0\u001b[0m. \u001b[1;36m9\u001b[0m.\u001b[1m]\u001b[0m\n"
      ]
     },
     "metadata": {},
     "output_type": "display_data"
    }
   ],
   "source": [
    "my_arr = DArray_Concat(jnp.zeros([1]))\n",
    "print(my_arr.arr)\n",
    "my_arr = my_arr.set(10,9)\n",
    "print(my_arr.arr)"
   ]
  },
  {
   "cell_type": "code",
   "execution_count": 20,
   "id": "c648db81-8b38-4e74-be38-53d6f2342121",
   "metadata": {},
   "outputs": [],
   "source": [
    "\n",
    "\n",
    "@chex.dataclass(frozen=True,mappable_dataclass=False)\n",
    "class DArray_Chunk:\n",
    "    arr: list[chex.Array]\n",
    "    chunk_size: int\n",
    "\n",
    "    @partial(jit,static_argnums=(1,))\n",
    "    def set(self, idx, val):\n",
    "        outer_idx = idx // self.chunk_size\n",
    "        inner_idx = idx % self.chunk_size\n",
    "        new_arr = self.arr\n",
    "        if outer_idx >= len(self.arr):\n",
    "            zero_arr = jnp.zeros([self.chunk_size])\n",
    "            new_arr = self.arr + [zero_arr] * (outer_idx - len(self.arr) + 1)\n",
    "        new_arr[outer_idx] = new_arr[outer_idx].at[inner_idx].set(val)\n",
    "        return DArray_Concat(arr=new_arr, chunk_size=self.chunk_size)\n",
    "\n",
    "    @jax.jit\n",
    "    def __getitem__(self, item):\n",
    "        return self.arr[item]"
   ]
  },
  {
   "cell_type": "code",
   "execution_count": 21,
   "id": "a1cf4383-0ebd-4d0d-8ea8-1e042bcc6d48",
   "metadata": {},
   "outputs": [
    {
     "data": {
      "text/html": [
       "<pre style=\"white-space:pre;overflow-x:auto;line-height:normal;font-family:Menlo,'DejaVu Sans Mono',consolas,'Courier New',monospace\"><span style=\"font-weight: bold\">[</span><span style=\"color: #800080; text-decoration-color: #800080; font-weight: bold\">Array</span><span style=\"font-weight: bold\">([</span><span style=\"color: #008080; text-decoration-color: #008080; font-weight: bold\">0</span>., <span style=\"color: #008080; text-decoration-color: #008080; font-weight: bold\">0</span>., <span style=\"color: #008080; text-decoration-color: #008080; font-weight: bold\">0</span>., <span style=\"color: #008080; text-decoration-color: #008080; font-weight: bold\">0</span>., <span style=\"color: #008080; text-decoration-color: #008080; font-weight: bold\">0</span>.<span style=\"font-weight: bold\">]</span>, <span style=\"color: #808000; text-decoration-color: #808000\">dtype</span>=<span style=\"color: #800080; text-decoration-color: #800080\">float32</span><span style=\"font-weight: bold\">)]</span>\n",
       "</pre>\n"
      ],
      "text/plain": [
       "\u001b[1m[\u001b[0m\u001b[1;35mArray\u001b[0m\u001b[1m(\u001b[0m\u001b[1m[\u001b[0m\u001b[1;36m0\u001b[0m., \u001b[1;36m0\u001b[0m., \u001b[1;36m0\u001b[0m., \u001b[1;36m0\u001b[0m., \u001b[1;36m0\u001b[0m.\u001b[1m]\u001b[0m, \u001b[33mdtype\u001b[0m=\u001b[35mfloat32\u001b[0m\u001b[1m)\u001b[0m\u001b[1m]\u001b[0m\n"
      ]
     },
     "metadata": {},
     "output_type": "display_data"
    },
    {
     "data": {
      "text/html": [
       "<pre style=\"white-space:pre;overflow-x:auto;line-height:normal;font-family:Menlo,'DejaVu Sans Mono',consolas,'Courier New',monospace\">THIS DIDNT WORK\n",
       "</pre>\n"
      ],
      "text/plain": [
       "THIS DIDNT WORK\n"
      ]
     },
     "metadata": {},
     "output_type": "display_data"
    }
   ],
   "source": [
    "my_arr = DArray_Chunk([jnp.zeros([5])],chunk_size=5)\n",
    "print(my_arr.arr)\n",
    "# my_arr = my_arr.set(10,9)\n",
    "# print(my_arr.arr)\n",
    "print(\"THIS DIDNT WORK\")"
   ]
  },
  {
   "cell_type": "markdown",
   "id": "a4664b4b-0f69-40aa-9190-dbd80a7661af",
   "metadata": {},
   "source": [
    "Ok fuck it. Dont think this is worth wasting time on. We'll have to make a wrapper around jax numpy arrays using concat to make them dynamic. If it's really slow, then we can have a rethink"
   ]
  },
  {
   "cell_type": "markdown",
   "id": "2ed0fc9b-53b5-4036-8c07-3e6f42eb39f7",
   "metadata": {},
   "source": [
    "Quickly going to test if making lots of new jax numpy arrays are really slow"
   ]
  },
  {
   "cell_type": "code",
   "execution_count": 22,
   "id": "2d63be70-84d1-4f87-b5ec-0dc2569e83cb",
   "metadata": {},
   "outputs": [],
   "source": [
    "@jax.jit\n",
    "def test_updating_array(arr):\n",
    "    for i in range(10):\n",
    "        for j in range(1000):\n",
    "            arr = arr.at[j].set(i+j)"
   ]
  },
  {
   "cell_type": "code",
   "execution_count": 23,
   "id": "7f428f01-6ea9-4c51-b839-8a91a0886ee5",
   "metadata": {},
   "outputs": [
    {
     "name": "stdout",
     "output_type": "stream",
     "text": [
      "CPU times: user 8.28 s, sys: 131 ms, total: 8.42 s\n",
      "Wall time: 8.39 s\n"
     ]
    }
   ],
   "source": [
    "%%time\n",
    "arr1 = jnp.zeros([1000])\n",
    "test_updating_array(arr1)"
   ]
  },
  {
   "cell_type": "code",
   "execution_count": 24,
   "id": "17444caf-2750-46a4-923f-7ef67e9ffbf2",
   "metadata": {},
   "outputs": [],
   "source": [
    "@jax.jit\n",
    "def test_updating_my_arr(arr):\n",
    "    for i in range(10):\n",
    "        for j in range(1000):\n",
    "            arr = arr.set(j,i+j)"
   ]
  },
  {
   "cell_type": "code",
   "execution_count": 25,
   "id": "4a3d99b0-1db1-4a1f-bae9-f33d95a149a7",
   "metadata": {},
   "outputs": [
    {
     "name": "stdout",
     "output_type": "stream",
     "text": [
      "CPU times: user 4.91 s, sys: 29.8 ms, total: 4.93 s\n",
      "Wall time: 4.91 s\n"
     ]
    }
   ],
   "source": [
    "%%time\n",
    "arr2 = DArray_Concat(jnp.zeros([1]))\n",
    "test_updating_my_arr(arr2)"
   ]
  },
  {
   "cell_type": "markdown",
   "id": "30b862cf-9323-4cb2-984d-cb19b6b4a5cb",
   "metadata": {},
   "source": [
    "Not sure w"
   ]
  },
  {
   "cell_type": "markdown",
   "id": "ec6c4a74-c8a3-4428-add5-7a70335ae3b1",
   "metadata": {},
   "source": [
    "### @22/11/24\n",
    "\n",
    "Its been a minute. Not sure what \"not sure w\" block above is about, but its the dev notebook, so some chaos expected :)\n",
    "\n",
    "Going to try implement the tree search adaptations now, so hopefully a bunch of work in the library files"
   ]
  },
  {
   "cell_type": "markdown",
   "id": "98173bf6-8e79-415c-97a9-581b3c33c9fa",
   "metadata": {},
   "source": [
    "Double checking can index with arrays"
   ]
  },
  {
   "cell_type": "code",
   "execution_count": 26,
   "id": "04e27709-d089-4468-a1b4-28a3ab2dc6fc",
   "metadata": {},
   "outputs": [
    {
     "data": {
      "text/html": [
       "<pre style=\"white-space:pre;overflow-x:auto;line-height:normal;font-family:Menlo,'DejaVu Sans Mono',consolas,'Courier New',monospace\"><span style=\"font-weight: bold\">[</span><span style=\"color: #008080; text-decoration-color: #008080; font-weight: bold\">2</span> <span style=\"color: #008080; text-decoration-color: #008080; font-weight: bold\">0</span> <span style=\"color: #008080; text-decoration-color: #008080; font-weight: bold\">4</span><span style=\"font-weight: bold\">]</span>\n",
       "</pre>\n"
      ],
      "text/plain": [
       "\u001b[1m[\u001b[0m\u001b[1;36m2\u001b[0m \u001b[1;36m0\u001b[0m \u001b[1;36m4\u001b[0m\u001b[1m]\u001b[0m\n"
      ]
     },
     "metadata": {},
     "output_type": "display_data"
    }
   ],
   "source": [
    "jnp_arr = jnp.arange(10)\n",
    "indx = jnp.array([2,0,4])\n",
    "print(jnp_arr[indx])"
   ]
  },
  {
   "cell_type": "code",
   "execution_count": 27,
   "id": "82ffa5af-638f-4a09-b4bb-c55013842923",
   "metadata": {},
   "outputs": [
    {
     "data": {
      "text/html": [
       "<pre style=\"white-space:pre;overflow-x:auto;line-height:normal;font-family:Menlo,'DejaVu Sans Mono',consolas,'Courier New',monospace\"><span style=\"font-weight: bold\">[[</span><span style=\"color: #008080; text-decoration-color: #008080; font-weight: bold\">1</span> <span style=\"color: #008080; text-decoration-color: #008080; font-weight: bold\">2</span><span style=\"font-weight: bold\">]</span>\n",
       " <span style=\"font-weight: bold\">[</span><span style=\"color: #008080; text-decoration-color: #008080; font-weight: bold\">2</span> <span style=\"color: #008080; text-decoration-color: #008080; font-weight: bold\">0</span><span style=\"font-weight: bold\">]</span>\n",
       " <span style=\"font-weight: bold\">[</span><span style=\"color: #008080; text-decoration-color: #008080; font-weight: bold\">0</span> <span style=\"color: #008080; text-decoration-color: #008080; font-weight: bold\">1</span><span style=\"font-weight: bold\">]]</span>\n",
       "</pre>\n"
      ],
      "text/plain": [
       "\u001b[1m[\u001b[0m\u001b[1m[\u001b[0m\u001b[1;36m1\u001b[0m \u001b[1;36m2\u001b[0m\u001b[1m]\u001b[0m\n",
       " \u001b[1m[\u001b[0m\u001b[1;36m2\u001b[0m \u001b[1;36m0\u001b[0m\u001b[1m]\u001b[0m\n",
       " \u001b[1m[\u001b[0m\u001b[1;36m0\u001b[0m \u001b[1;36m1\u001b[0m\u001b[1m]\u001b[0m\u001b[1m]\u001b[0m\n"
      ]
     },
     "metadata": {},
     "output_type": "display_data"
    },
    {
     "data": {
      "text/html": [
       "<pre style=\"white-space:pre;overflow-x:auto;line-height:normal;font-family:Menlo,'DejaVu Sans Mono',consolas,'Courier New',monospace\"><span style=\"font-weight: bold\">[[[</span><span style=\"color: #008080; text-decoration-color: #008080; font-weight: bold\">10</span> <span style=\"color: #008080; text-decoration-color: #008080; font-weight: bold\">11</span> <span style=\"color: #008080; text-decoration-color: #008080; font-weight: bold\">12</span><span style=\"font-weight: bold\">]</span>\n",
       "  <span style=\"font-weight: bold\">[</span><span style=\"color: #008080; text-decoration-color: #008080; font-weight: bold\">20</span> <span style=\"color: #008080; text-decoration-color: #008080; font-weight: bold\">21</span> <span style=\"color: #008080; text-decoration-color: #008080; font-weight: bold\">22</span><span style=\"font-weight: bold\">]]</span>\n",
       "\n",
       " <span style=\"font-weight: bold\">[[</span><span style=\"color: #008080; text-decoration-color: #008080; font-weight: bold\">20</span> <span style=\"color: #008080; text-decoration-color: #008080; font-weight: bold\">21</span> <span style=\"color: #008080; text-decoration-color: #008080; font-weight: bold\">22</span><span style=\"font-weight: bold\">]</span>\n",
       "  <span style=\"font-weight: bold\">[</span> <span style=\"color: #008080; text-decoration-color: #008080; font-weight: bold\">0</span>  <span style=\"color: #008080; text-decoration-color: #008080; font-weight: bold\">1</span>  <span style=\"color: #008080; text-decoration-color: #008080; font-weight: bold\">2</span><span style=\"font-weight: bold\">]]</span>\n",
       "\n",
       " <span style=\"font-weight: bold\">[[</span> <span style=\"color: #008080; text-decoration-color: #008080; font-weight: bold\">0</span>  <span style=\"color: #008080; text-decoration-color: #008080; font-weight: bold\">1</span>  <span style=\"color: #008080; text-decoration-color: #008080; font-weight: bold\">2</span><span style=\"font-weight: bold\">]</span>\n",
       "  <span style=\"font-weight: bold\">[</span><span style=\"color: #008080; text-decoration-color: #008080; font-weight: bold\">10</span> <span style=\"color: #008080; text-decoration-color: #008080; font-weight: bold\">11</span> <span style=\"color: #008080; text-decoration-color: #008080; font-weight: bold\">12</span><span style=\"font-weight: bold\">]]]</span>\n",
       "</pre>\n"
      ],
      "text/plain": [
       "\u001b[1m[\u001b[0m\u001b[1m[\u001b[0m\u001b[1m[\u001b[0m\u001b[1;36m10\u001b[0m \u001b[1;36m11\u001b[0m \u001b[1;36m12\u001b[0m\u001b[1m]\u001b[0m\n",
       "  \u001b[1m[\u001b[0m\u001b[1;36m20\u001b[0m \u001b[1;36m21\u001b[0m \u001b[1;36m22\u001b[0m\u001b[1m]\u001b[0m\u001b[1m]\u001b[0m\n",
       "\n",
       " \u001b[1m[\u001b[0m\u001b[1m[\u001b[0m\u001b[1;36m20\u001b[0m \u001b[1;36m21\u001b[0m \u001b[1;36m22\u001b[0m\u001b[1m]\u001b[0m\n",
       "  \u001b[1m[\u001b[0m \u001b[1;36m0\u001b[0m  \u001b[1;36m1\u001b[0m  \u001b[1;36m2\u001b[0m\u001b[1m]\u001b[0m\u001b[1m]\u001b[0m\n",
       "\n",
       " \u001b[1m[\u001b[0m\u001b[1m[\u001b[0m \u001b[1;36m0\u001b[0m  \u001b[1;36m1\u001b[0m  \u001b[1;36m2\u001b[0m\u001b[1m]\u001b[0m\n",
       "  \u001b[1m[\u001b[0m\u001b[1;36m10\u001b[0m \u001b[1;36m11\u001b[0m \u001b[1;36m12\u001b[0m\u001b[1m]\u001b[0m\u001b[1m]\u001b[0m\u001b[1m]\u001b[0m\n"
      ]
     },
     "metadata": {},
     "output_type": "display_data"
    },
    {
     "data": {
      "text/html": [
       "<pre style=\"white-space:pre;overflow-x:auto;line-height:normal;font-family:Menlo,'DejaVu Sans Mono',consolas,'Courier New',monospace\"><span style=\"font-weight: bold\">[[</span><span style=\"color: #008080; text-decoration-color: #008080; font-weight: bold\">1</span> <span style=\"color: #008080; text-decoration-color: #008080; font-weight: bold\">2</span><span style=\"font-weight: bold\">]</span>\n",
       " <span style=\"font-weight: bold\">[</span><span style=\"color: #008080; text-decoration-color: #008080; font-weight: bold\">2</span> <span style=\"color: #008080; text-decoration-color: #008080; font-weight: bold\">0</span><span style=\"font-weight: bold\">]</span>\n",
       " <span style=\"font-weight: bold\">[</span><span style=\"color: #008080; text-decoration-color: #008080; font-weight: bold\">0</span> <span style=\"color: #008080; text-decoration-color: #008080; font-weight: bold\">1</span><span style=\"font-weight: bold\">]]</span>\n",
       "</pre>\n"
      ],
      "text/plain": [
       "\u001b[1m[\u001b[0m\u001b[1m[\u001b[0m\u001b[1;36m1\u001b[0m \u001b[1;36m2\u001b[0m\u001b[1m]\u001b[0m\n",
       " \u001b[1m[\u001b[0m\u001b[1;36m2\u001b[0m \u001b[1;36m0\u001b[0m\u001b[1m]\u001b[0m\n",
       " \u001b[1m[\u001b[0m\u001b[1;36m0\u001b[0m \u001b[1;36m1\u001b[0m\u001b[1m]\u001b[0m\u001b[1m]\u001b[0m\n"
      ]
     },
     "metadata": {},
     "output_type": "display_data"
    }
   ],
   "source": [
    "jnp_arr = jnp.array([[0,1,2],[10,11,12],[20,21,22]])\n",
    "indices = jnp.array([[0,1,2],[1,2,0],[2,0,1]])\n",
    "indices_sq = jnp.array([1,2])\n",
    "multi_dim_indices = indices[:,indices_sq]\n",
    "print(multi_dim_indices)\n",
    "print(jnp_arr[multi_dim_indices])\n",
    "print(jnp.take(jnp_arr,multi_dim_indices))"
   ]
  },
  {
   "cell_type": "code",
   "execution_count": 28,
   "id": "b83d3b35-7c0c-49b1-9ad5-f12535d556ae",
   "metadata": {},
   "outputs": [
    {
     "data": {
      "text/html": [
       "<pre style=\"white-space:pre;overflow-x:auto;line-height:normal;font-family:Menlo,'DejaVu Sans Mono',consolas,'Courier New',monospace\"><span style=\"font-weight: bold\">[[</span><span style=\"color: #008080; text-decoration-color: #008080; font-weight: bold\">1</span> <span style=\"color: #008080; text-decoration-color: #008080; font-weight: bold\">2</span><span style=\"font-weight: bold\">]</span>\n",
       " <span style=\"font-weight: bold\">[</span><span style=\"color: #008080; text-decoration-color: #008080; font-weight: bold\">2</span> <span style=\"color: #008080; text-decoration-color: #008080; font-weight: bold\">0</span><span style=\"font-weight: bold\">]</span>\n",
       " <span style=\"font-weight: bold\">[</span><span style=\"color: #008080; text-decoration-color: #008080; font-weight: bold\">0</span> <span style=\"color: #008080; text-decoration-color: #008080; font-weight: bold\">1</span><span style=\"font-weight: bold\">]]</span>\n",
       "</pre>\n"
      ],
      "text/plain": [
       "\u001b[1m[\u001b[0m\u001b[1m[\u001b[0m\u001b[1;36m1\u001b[0m \u001b[1;36m2\u001b[0m\u001b[1m]\u001b[0m\n",
       " \u001b[1m[\u001b[0m\u001b[1;36m2\u001b[0m \u001b[1;36m0\u001b[0m\u001b[1m]\u001b[0m\n",
       " \u001b[1m[\u001b[0m\u001b[1;36m0\u001b[0m \u001b[1;36m1\u001b[0m\u001b[1m]\u001b[0m\u001b[1m]\u001b[0m\n"
      ]
     },
     "metadata": {},
     "output_type": "display_data"
    },
    {
     "data": {
      "text/html": [
       "<pre style=\"white-space:pre;overflow-x:auto;line-height:normal;font-family:Menlo,'DejaVu Sans Mono',consolas,'Courier New',monospace\"><span style=\"font-weight: bold\">[[[</span><span style=\"color: #008080; text-decoration-color: #008080; font-weight: bold\">10</span> <span style=\"color: #008080; text-decoration-color: #008080; font-weight: bold\">11</span> <span style=\"color: #008080; text-decoration-color: #008080; font-weight: bold\">12</span><span style=\"font-weight: bold\">]</span>\n",
       "  <span style=\"font-weight: bold\">[</span><span style=\"color: #008080; text-decoration-color: #008080; font-weight: bold\">20</span> <span style=\"color: #008080; text-decoration-color: #008080; font-weight: bold\">21</span> <span style=\"color: #008080; text-decoration-color: #008080; font-weight: bold\">22</span><span style=\"font-weight: bold\">]]</span>\n",
       "\n",
       " <span style=\"font-weight: bold\">[[</span><span style=\"color: #008080; text-decoration-color: #008080; font-weight: bold\">20</span> <span style=\"color: #008080; text-decoration-color: #008080; font-weight: bold\">21</span> <span style=\"color: #008080; text-decoration-color: #008080; font-weight: bold\">22</span><span style=\"font-weight: bold\">]</span>\n",
       "  <span style=\"font-weight: bold\">[</span> <span style=\"color: #008080; text-decoration-color: #008080; font-weight: bold\">0</span>  <span style=\"color: #008080; text-decoration-color: #008080; font-weight: bold\">1</span>  <span style=\"color: #008080; text-decoration-color: #008080; font-weight: bold\">2</span><span style=\"font-weight: bold\">]]</span>\n",
       "\n",
       " <span style=\"font-weight: bold\">[[</span> <span style=\"color: #008080; text-decoration-color: #008080; font-weight: bold\">0</span>  <span style=\"color: #008080; text-decoration-color: #008080; font-weight: bold\">1</span>  <span style=\"color: #008080; text-decoration-color: #008080; font-weight: bold\">2</span><span style=\"font-weight: bold\">]</span>\n",
       "  <span style=\"font-weight: bold\">[</span><span style=\"color: #008080; text-decoration-color: #008080; font-weight: bold\">10</span> <span style=\"color: #008080; text-decoration-color: #008080; font-weight: bold\">11</span> <span style=\"color: #008080; text-decoration-color: #008080; font-weight: bold\">12</span><span style=\"font-weight: bold\">]]]</span>\n",
       "</pre>\n"
      ],
      "text/plain": [
       "\u001b[1m[\u001b[0m\u001b[1m[\u001b[0m\u001b[1m[\u001b[0m\u001b[1;36m10\u001b[0m \u001b[1;36m11\u001b[0m \u001b[1;36m12\u001b[0m\u001b[1m]\u001b[0m\n",
       "  \u001b[1m[\u001b[0m\u001b[1;36m20\u001b[0m \u001b[1;36m21\u001b[0m \u001b[1;36m22\u001b[0m\u001b[1m]\u001b[0m\u001b[1m]\u001b[0m\n",
       "\n",
       " \u001b[1m[\u001b[0m\u001b[1m[\u001b[0m\u001b[1;36m20\u001b[0m \u001b[1;36m21\u001b[0m \u001b[1;36m22\u001b[0m\u001b[1m]\u001b[0m\n",
       "  \u001b[1m[\u001b[0m \u001b[1;36m0\u001b[0m  \u001b[1;36m1\u001b[0m  \u001b[1;36m2\u001b[0m\u001b[1m]\u001b[0m\u001b[1m]\u001b[0m\n",
       "\n",
       " \u001b[1m[\u001b[0m\u001b[1m[\u001b[0m \u001b[1;36m0\u001b[0m  \u001b[1;36m1\u001b[0m  \u001b[1;36m2\u001b[0m\u001b[1m]\u001b[0m\n",
       "  \u001b[1m[\u001b[0m\u001b[1;36m10\u001b[0m \u001b[1;36m11\u001b[0m \u001b[1;36m12\u001b[0m\u001b[1m]\u001b[0m\u001b[1m]\u001b[0m\u001b[1m]\u001b[0m\n"
      ]
     },
     "metadata": {},
     "output_type": "display_data"
    },
    {
     "data": {
      "text/html": [
       "<pre style=\"white-space:pre;overflow-x:auto;line-height:normal;font-family:Menlo,'DejaVu Sans Mono',consolas,'Courier New',monospace\"><span style=\"font-weight: bold\">[[</span><span style=\"color: #008080; text-decoration-color: #008080; font-weight: bold\">1</span> <span style=\"color: #008080; text-decoration-color: #008080; font-weight: bold\">2</span><span style=\"font-weight: bold\">]</span>\n",
       " <span style=\"font-weight: bold\">[</span><span style=\"color: #008080; text-decoration-color: #008080; font-weight: bold\">2</span> <span style=\"color: #008080; text-decoration-color: #008080; font-weight: bold\">0</span><span style=\"font-weight: bold\">]</span>\n",
       " <span style=\"font-weight: bold\">[</span><span style=\"color: #008080; text-decoration-color: #008080; font-weight: bold\">0</span> <span style=\"color: #008080; text-decoration-color: #008080; font-weight: bold\">1</span><span style=\"font-weight: bold\">]]</span>\n",
       "</pre>\n"
      ],
      "text/plain": [
       "\u001b[1m[\u001b[0m\u001b[1m[\u001b[0m\u001b[1;36m1\u001b[0m \u001b[1;36m2\u001b[0m\u001b[1m]\u001b[0m\n",
       " \u001b[1m[\u001b[0m\u001b[1;36m2\u001b[0m \u001b[1;36m0\u001b[0m\u001b[1m]\u001b[0m\n",
       " \u001b[1m[\u001b[0m\u001b[1;36m0\u001b[0m \u001b[1;36m1\u001b[0m\u001b[1m]\u001b[0m\u001b[1m]\u001b[0m\n"
      ]
     },
     "metadata": {},
     "output_type": "display_data"
    }
   ],
   "source": [
    "import numpy as np\n",
    "np_arr = np.array([[0,1,2],[10,11,12],[20,21,22]])\n",
    "np_indices = np.array([[0,1,2],[1,2,0],[2,0,1]])\n",
    "np_indices_sq = np.array([1,2])\n",
    "np_multi_dim_indices = np_indices[:,np_indices_sq]\n",
    "print(np_multi_dim_indices)\n",
    "print(np_arr[np_multi_dim_indices])\n",
    "print(np.take(np_arr,np_multi_dim_indices))\n",
    "\n",
    "# what I want\n",
    "# [[ 0, 1, 2],\n",
    "#  [10,11,12],\n",
    "#  [20,21,22]]\n",
    "# index by\n",
    "#  [[0,1],\n",
    "#   [1,2],\n",
    "#   [0,2]]\n",
    "# giving \n",
    "# [[ 0, 1],\n",
    "#  [11,12],\n",
    "#  [20,21]]"
   ]
  },
  {
   "cell_type": "code",
   "execution_count": 29,
   "id": "ce3a5a04-b92d-4595-8c4a-0cf4f72975a4",
   "metadata": {},
   "outputs": [
    {
     "data": {
      "text/html": [
       "<pre style=\"white-space:pre;overflow-x:auto;line-height:normal;font-family:Menlo,'DejaVu Sans Mono',consolas,'Courier New',monospace\">Shape mismatch\n",
       "</pre>\n"
      ],
      "text/plain": [
       "Shape mismatch\n"
      ]
     },
     "metadata": {},
     "output_type": "display_data"
    }
   ],
   "source": [
    "# Ok, found this https://stackoverflow.com/questions/61677466/pytorch-batch-indexing\n",
    "#np_arr[np.arange(np_arr.shape[0]), np_multi_dim_indices]\n",
    "print(\"Shape mismatch\")"
   ]
  },
  {
   "cell_type": "code",
   "execution_count": 30,
   "id": "849d2c98-828d-4689-b184-0c26a29ee440",
   "metadata": {},
   "outputs": [
    {
     "data": {
      "text/html": [
       "<pre style=\"white-space:pre;overflow-x:auto;line-height:normal;font-family:Menlo,'DejaVu Sans Mono',consolas,'Courier New',monospace\"><span style=\"font-weight: bold\">[[</span><span style=\"color: #008080; text-decoration-color: #008080; font-weight: bold\">0</span> <span style=\"color: #008080; text-decoration-color: #008080; font-weight: bold\">1</span> <span style=\"color: #008080; text-decoration-color: #008080; font-weight: bold\">2</span><span style=\"font-weight: bold\">]</span>\n",
       " <span style=\"font-weight: bold\">[</span><span style=\"color: #008080; text-decoration-color: #008080; font-weight: bold\">0</span> <span style=\"color: #008080; text-decoration-color: #008080; font-weight: bold\">1</span> <span style=\"color: #008080; text-decoration-color: #008080; font-weight: bold\">2</span><span style=\"font-weight: bold\">]</span>\n",
       " <span style=\"font-weight: bold\">[</span><span style=\"color: #008080; text-decoration-color: #008080; font-weight: bold\">0</span> <span style=\"color: #008080; text-decoration-color: #008080; font-weight: bold\">1</span> <span style=\"color: #008080; text-decoration-color: #008080; font-weight: bold\">2</span><span style=\"font-weight: bold\">]]</span>\n",
       "</pre>\n"
      ],
      "text/plain": [
       "\u001b[1m[\u001b[0m\u001b[1m[\u001b[0m\u001b[1;36m0\u001b[0m \u001b[1;36m1\u001b[0m \u001b[1;36m2\u001b[0m\u001b[1m]\u001b[0m\n",
       " \u001b[1m[\u001b[0m\u001b[1;36m0\u001b[0m \u001b[1;36m1\u001b[0m \u001b[1;36m2\u001b[0m\u001b[1m]\u001b[0m\n",
       " \u001b[1m[\u001b[0m\u001b[1;36m0\u001b[0m \u001b[1;36m1\u001b[0m \u001b[1;36m2\u001b[0m\u001b[1m]\u001b[0m\u001b[1m]\u001b[0m\n"
      ]
     },
     "metadata": {},
     "output_type": "display_data"
    },
    {
     "data": {
      "text/html": [
       "<pre style=\"white-space:pre;overflow-x:auto;line-height:normal;font-family:Menlo,'DejaVu Sans Mono',consolas,'Courier New',monospace\"><span style=\"font-weight: bold\">[[</span><span style=\"color: #008080; text-decoration-color: #008080; font-weight: bold\">1</span> <span style=\"color: #008080; text-decoration-color: #008080; font-weight: bold\">1</span> <span style=\"color: #008080; text-decoration-color: #008080; font-weight: bold\">1</span><span style=\"font-weight: bold\">]</span>\n",
       " <span style=\"font-weight: bold\">[</span><span style=\"color: #008080; text-decoration-color: #008080; font-weight: bold\">2</span> <span style=\"color: #008080; text-decoration-color: #008080; font-weight: bold\">2</span> <span style=\"color: #008080; text-decoration-color: #008080; font-weight: bold\">2</span><span style=\"font-weight: bold\">]</span>\n",
       " <span style=\"font-weight: bold\">[</span><span style=\"color: #008080; text-decoration-color: #008080; font-weight: bold\">3</span> <span style=\"color: #008080; text-decoration-color: #008080; font-weight: bold\">3</span> <span style=\"color: #008080; text-decoration-color: #008080; font-weight: bold\">3</span><span style=\"font-weight: bold\">]]</span>\n",
       "</pre>\n"
      ],
      "text/plain": [
       "\u001b[1m[\u001b[0m\u001b[1m[\u001b[0m\u001b[1;36m1\u001b[0m \u001b[1;36m1\u001b[0m \u001b[1;36m1\u001b[0m\u001b[1m]\u001b[0m\n",
       " \u001b[1m[\u001b[0m\u001b[1;36m2\u001b[0m \u001b[1;36m2\u001b[0m \u001b[1;36m2\u001b[0m\u001b[1m]\u001b[0m\n",
       " \u001b[1m[\u001b[0m\u001b[1;36m3\u001b[0m \u001b[1;36m3\u001b[0m \u001b[1;36m3\u001b[0m\u001b[1m]\u001b[0m\u001b[1m]\u001b[0m\n"
      ]
     },
     "metadata": {},
     "output_type": "display_data"
    }
   ],
   "source": [
    "print(np.full(np_arr.shape, np.arange(3)))\n",
    "print(np.full(np_arr.shape, [[1],[2],[3]]))"
   ]
  },
  {
   "cell_type": "code",
   "execution_count": 31,
   "id": "ffbd7a93-f47b-4153-9b36-8859d72f1fb0",
   "metadata": {},
   "outputs": [
    {
     "data": {
      "text/html": [
       "<pre style=\"white-space:pre;overflow-x:auto;line-height:normal;font-family:Menlo,'DejaVu Sans Mono',consolas,'Courier New',monospace\">could not broadcast\n",
       "</pre>\n"
      ],
      "text/plain": [
       "could not broadcast\n"
      ]
     },
     "metadata": {},
     "output_type": "display_data"
    }
   ],
   "source": [
    "# np_arr[np.full(np_multi_dim_indices.shape, np.arange(3)), np_multi_dim_indices]\n",
    "print(\"could not broadcast\")"
   ]
  },
  {
   "cell_type": "code",
   "execution_count": 32,
   "id": "fbcf5793-d8a3-4cc0-9d5c-92f65cc3ce2c",
   "metadata": {},
   "outputs": [
    {
     "data": {
      "text/html": [
       "<pre style=\"white-space:pre;overflow-x:auto;line-height:normal;font-family:Menlo,'DejaVu Sans Mono',consolas,'Courier New',monospace\"><span style=\"font-weight: bold\">(</span><span style=\"color: #008080; text-decoration-color: #008080; font-weight: bold\">3</span>, <span style=\"color: #008080; text-decoration-color: #008080; font-weight: bold\">2</span><span style=\"font-weight: bold\">)</span>\n",
       "</pre>\n"
      ],
      "text/plain": [
       "\u001b[1m(\u001b[0m\u001b[1;36m3\u001b[0m, \u001b[1;36m2\u001b[0m\u001b[1m)\u001b[0m\n"
      ]
     },
     "metadata": {},
     "output_type": "display_data"
    },
    {
     "data": {
      "text/html": [
       "<pre style=\"white-space:pre;overflow-x:auto;line-height:normal;font-family:Menlo,'DejaVu Sans Mono',consolas,'Courier New',monospace\"><span style=\"font-weight: bold\">(</span><span style=\"color: #008080; text-decoration-color: #008080; font-weight: bold\">3</span>,<span style=\"font-weight: bold\">)</span>\n",
       "</pre>\n"
      ],
      "text/plain": [
       "\u001b[1m(\u001b[0m\u001b[1;36m3\u001b[0m,\u001b[1m)\u001b[0m\n"
      ]
     },
     "metadata": {},
     "output_type": "display_data"
    },
    {
     "data": {
      "text/html": [
       "<pre style=\"white-space:pre;overflow-x:auto;line-height:normal;font-family:Menlo,'DejaVu Sans Mono',consolas,'Courier New',monospace\"><span style=\"font-weight: bold\">(</span><span style=\"color: #008080; text-decoration-color: #008080; font-weight: bold\">3</span>, <span style=\"color: #008080; text-decoration-color: #008080; font-weight: bold\">1</span><span style=\"font-weight: bold\">)</span>\n",
       "</pre>\n"
      ],
      "text/plain": [
       "\u001b[1m(\u001b[0m\u001b[1;36m3\u001b[0m, \u001b[1;36m1\u001b[0m\u001b[1m)\u001b[0m\n"
      ]
     },
     "metadata": {},
     "output_type": "display_data"
    },
    {
     "data": {
      "text/html": [
       "<pre style=\"white-space:pre;overflow-x:auto;line-height:normal;font-family:Menlo,'DejaVu Sans Mono',consolas,'Courier New',monospace\"><span style=\"font-weight: bold\">[[</span><span style=\"color: #008080; text-decoration-color: #008080; font-weight: bold\">0</span> <span style=\"color: #008080; text-decoration-color: #008080; font-weight: bold\">0</span><span style=\"font-weight: bold\">]</span>\n",
       " <span style=\"font-weight: bold\">[</span><span style=\"color: #008080; text-decoration-color: #008080; font-weight: bold\">1</span> <span style=\"color: #008080; text-decoration-color: #008080; font-weight: bold\">1</span><span style=\"font-weight: bold\">]</span>\n",
       " <span style=\"font-weight: bold\">[</span><span style=\"color: #008080; text-decoration-color: #008080; font-weight: bold\">2</span> <span style=\"color: #008080; text-decoration-color: #008080; font-weight: bold\">2</span><span style=\"font-weight: bold\">]]</span>\n",
       "</pre>\n"
      ],
      "text/plain": [
       "\u001b[1m[\u001b[0m\u001b[1m[\u001b[0m\u001b[1;36m0\u001b[0m \u001b[1;36m0\u001b[0m\u001b[1m]\u001b[0m\n",
       " \u001b[1m[\u001b[0m\u001b[1;36m1\u001b[0m \u001b[1;36m1\u001b[0m\u001b[1m]\u001b[0m\n",
       " \u001b[1m[\u001b[0m\u001b[1;36m2\u001b[0m \u001b[1;36m2\u001b[0m\u001b[1m]\u001b[0m\u001b[1m]\u001b[0m\n"
      ]
     },
     "metadata": {},
     "output_type": "display_data"
    }
   ],
   "source": [
    "print(np_multi_dim_indices.shape)\n",
    "print(np.arange(3).shape)\n",
    "print(np.reshape(np.arange(3), (3,1)).shape)\n",
    "print(np.full(np_multi_dim_indices.shape, np.reshape(np.arange(3), (3,1))))"
   ]
  },
  {
   "cell_type": "code",
   "execution_count": 33,
   "id": "69c79ed3-aa46-40fe-a812-a255a9aabb65",
   "metadata": {},
   "outputs": [
    {
     "data": {
      "text/html": [
       "<pre style=\"white-space:pre;overflow-x:auto;line-height:normal;font-family:Menlo,'DejaVu Sans Mono',consolas,'Courier New',monospace\"><span style=\"font-weight: bold\">[[</span><span style=\"color: #008080; text-decoration-color: #008080; font-weight: bold\">0</span> <span style=\"color: #008080; text-decoration-color: #008080; font-weight: bold\">0</span><span style=\"font-weight: bold\">]</span>\n",
       " <span style=\"font-weight: bold\">[</span><span style=\"color: #008080; text-decoration-color: #008080; font-weight: bold\">1</span> <span style=\"color: #008080; text-decoration-color: #008080; font-weight: bold\">1</span><span style=\"font-weight: bold\">]</span>\n",
       " <span style=\"font-weight: bold\">[</span><span style=\"color: #008080; text-decoration-color: #008080; font-weight: bold\">2</span> <span style=\"color: #008080; text-decoration-color: #008080; font-weight: bold\">2</span><span style=\"font-weight: bold\">]]</span>\n",
       "</pre>\n"
      ],
      "text/plain": [
       "\u001b[1m[\u001b[0m\u001b[1m[\u001b[0m\u001b[1;36m0\u001b[0m \u001b[1;36m0\u001b[0m\u001b[1m]\u001b[0m\n",
       " \u001b[1m[\u001b[0m\u001b[1;36m1\u001b[0m \u001b[1;36m1\u001b[0m\u001b[1m]\u001b[0m\n",
       " \u001b[1m[\u001b[0m\u001b[1;36m2\u001b[0m \u001b[1;36m2\u001b[0m\u001b[1m]\u001b[0m\u001b[1m]\u001b[0m\n"
      ]
     },
     "metadata": {},
     "output_type": "display_data"
    },
    {
     "data": {
      "text/html": [
       "<pre style=\"white-space:pre;overflow-x:auto;line-height:normal;font-family:Menlo,'DejaVu Sans Mono',consolas,'Courier New',monospace\"><span style=\"font-weight: bold\">[[</span><span style=\"color: #008080; text-decoration-color: #008080; font-weight: bold\">1</span> <span style=\"color: #008080; text-decoration-color: #008080; font-weight: bold\">2</span><span style=\"font-weight: bold\">]</span>\n",
       " <span style=\"font-weight: bold\">[</span><span style=\"color: #008080; text-decoration-color: #008080; font-weight: bold\">2</span> <span style=\"color: #008080; text-decoration-color: #008080; font-weight: bold\">0</span><span style=\"font-weight: bold\">]</span>\n",
       " <span style=\"font-weight: bold\">[</span><span style=\"color: #008080; text-decoration-color: #008080; font-weight: bold\">0</span> <span style=\"color: #008080; text-decoration-color: #008080; font-weight: bold\">1</span><span style=\"font-weight: bold\">]]</span>\n",
       "</pre>\n"
      ],
      "text/plain": [
       "\u001b[1m[\u001b[0m\u001b[1m[\u001b[0m\u001b[1;36m1\u001b[0m \u001b[1;36m2\u001b[0m\u001b[1m]\u001b[0m\n",
       " \u001b[1m[\u001b[0m\u001b[1;36m2\u001b[0m \u001b[1;36m0\u001b[0m\u001b[1m]\u001b[0m\n",
       " \u001b[1m[\u001b[0m\u001b[1;36m0\u001b[0m \u001b[1;36m1\u001b[0m\u001b[1m]\u001b[0m\u001b[1m]\u001b[0m\n"
      ]
     },
     "metadata": {},
     "output_type": "display_data"
    },
    {
     "data": {
      "text/html": [
       "<pre style=\"white-space:pre;overflow-x:auto;line-height:normal;font-family:Menlo,'DejaVu Sans Mono',consolas,'Courier New',monospace\"><span style=\"font-weight: bold\">[[</span> <span style=\"color: #008080; text-decoration-color: #008080; font-weight: bold\">0</span>  <span style=\"color: #008080; text-decoration-color: #008080; font-weight: bold\">1</span>  <span style=\"color: #008080; text-decoration-color: #008080; font-weight: bold\">2</span><span style=\"font-weight: bold\">]</span>\n",
       " <span style=\"font-weight: bold\">[</span><span style=\"color: #008080; text-decoration-color: #008080; font-weight: bold\">10</span> <span style=\"color: #008080; text-decoration-color: #008080; font-weight: bold\">11</span> <span style=\"color: #008080; text-decoration-color: #008080; font-weight: bold\">12</span><span style=\"font-weight: bold\">]</span>\n",
       " <span style=\"font-weight: bold\">[</span><span style=\"color: #008080; text-decoration-color: #008080; font-weight: bold\">20</span> <span style=\"color: #008080; text-decoration-color: #008080; font-weight: bold\">21</span> <span style=\"color: #008080; text-decoration-color: #008080; font-weight: bold\">22</span><span style=\"font-weight: bold\">]]</span>\n",
       "</pre>\n"
      ],
      "text/plain": [
       "\u001b[1m[\u001b[0m\u001b[1m[\u001b[0m \u001b[1;36m0\u001b[0m  \u001b[1;36m1\u001b[0m  \u001b[1;36m2\u001b[0m\u001b[1m]\u001b[0m\n",
       " \u001b[1m[\u001b[0m\u001b[1;36m10\u001b[0m \u001b[1;36m11\u001b[0m \u001b[1;36m12\u001b[0m\u001b[1m]\u001b[0m\n",
       " \u001b[1m[\u001b[0m\u001b[1;36m20\u001b[0m \u001b[1;36m21\u001b[0m \u001b[1;36m22\u001b[0m\u001b[1m]\u001b[0m\u001b[1m]\u001b[0m\n"
      ]
     },
     "metadata": {},
     "output_type": "display_data"
    },
    {
     "data": {
      "text/html": [
       "<pre style=\"white-space:pre;overflow-x:auto;line-height:normal;font-family:Menlo,'DejaVu Sans Mono',consolas,'Courier New',monospace\"><span style=\"font-weight: bold\">[[</span> <span style=\"color: #008080; text-decoration-color: #008080; font-weight: bold\">1</span>  <span style=\"color: #008080; text-decoration-color: #008080; font-weight: bold\">2</span><span style=\"font-weight: bold\">]</span>\n",
       " <span style=\"font-weight: bold\">[</span><span style=\"color: #008080; text-decoration-color: #008080; font-weight: bold\">12</span> <span style=\"color: #008080; text-decoration-color: #008080; font-weight: bold\">10</span><span style=\"font-weight: bold\">]</span>\n",
       " <span style=\"font-weight: bold\">[</span><span style=\"color: #008080; text-decoration-color: #008080; font-weight: bold\">20</span> <span style=\"color: #008080; text-decoration-color: #008080; font-weight: bold\">21</span><span style=\"font-weight: bold\">]]</span>\n",
       "</pre>\n"
      ],
      "text/plain": [
       "\u001b[1m[\u001b[0m\u001b[1m[\u001b[0m \u001b[1;36m1\u001b[0m  \u001b[1;36m2\u001b[0m\u001b[1m]\u001b[0m\n",
       " \u001b[1m[\u001b[0m\u001b[1;36m12\u001b[0m \u001b[1;36m10\u001b[0m\u001b[1m]\u001b[0m\n",
       " \u001b[1m[\u001b[0m\u001b[1;36m20\u001b[0m \u001b[1;36m21\u001b[0m\u001b[1m]\u001b[0m\u001b[1m]\u001b[0m\n"
      ]
     },
     "metadata": {},
     "output_type": "display_data"
    }
   ],
   "source": [
    "batch_indices = np.full(np_multi_dim_indices.shape, np.reshape(np.arange(3), (3,1)))\n",
    "res = np_arr[batch_indices,multi_dim_indices]\n",
    "print(batch_indices)\n",
    "print(multi_dim_indices)\n",
    "print(np_arr)\n",
    "print(res)"
   ]
  },
  {
   "cell_type": "code",
   "execution_count": 34,
   "id": "a04fe4b9-416a-47b9-b7cb-d698604d25e5",
   "metadata": {},
   "outputs": [
    {
     "data": {
      "text/plain": [
       "array([[[ 1,  2],\n",
       "        [ 2,  0],\n",
       "        [ 0,  1]],\n",
       "\n",
       "       [[11, 12],\n",
       "        [12, 10],\n",
       "        [10, 11]],\n",
       "\n",
       "       [[21, 22],\n",
       "        [22, 20],\n",
       "        [20, 21]]])"
      ]
     },
     "execution_count": 34,
     "metadata": {},
     "output_type": "execute_result"
    }
   ],
   "source": [
    "np.take(np_arr,np_multi_dim_indices,axis=1)"
   ]
  },
  {
   "cell_type": "code",
   "execution_count": 35,
   "id": "0f40ebcf-d4aa-472b-bab1-fed10d1bf970",
   "metadata": {},
   "outputs": [
    {
     "data": {
      "text/plain": [
       "array([[[ 0,  1,  2],\n",
       "        [10, 11, 12],\n",
       "        [20, 21, 22]],\n",
       "\n",
       "       [[ 0,  1,  2],\n",
       "        [10, 11, 12],\n",
       "        [20, 21, 22]],\n",
       "\n",
       "       [[ 0,  1,  2],\n",
       "        [10, 11, 12],\n",
       "        [20, 21, 22]],\n",
       "\n",
       "       [[ 0,  1,  2],\n",
       "        [10, 11, 12],\n",
       "        [20, 21, 22]]])"
      ]
     },
     "execution_count": 35,
     "metadata": {},
     "output_type": "execute_result"
    }
   ],
   "source": [
    "np_arr_more_dim = np.full((4,3,3), np.expand_dims(np_arr,0))\n",
    "np_arr_more_dim"
   ]
  },
  {
   "cell_type": "code",
   "execution_count": 36,
   "id": "beb38b0c-a182-4547-bebc-1ff41ded9575",
   "metadata": {},
   "outputs": [
    {
     "data": {
      "text/plain": [
       "array([[[10, 11, 12],\n",
       "        [20, 21, 22]],\n",
       "\n",
       "       [[20, 21, 22],\n",
       "        [ 0,  1,  2]],\n",
       "\n",
       "       [[ 0,  1,  2],\n",
       "        [10, 11, 12]]])"
      ]
     },
     "execution_count": 36,
     "metadata": {},
     "output_type": "execute_result"
    }
   ],
   "source": [
    "np_arr_more_dim[batch_indices,multi_dim_indices,:]"
   ]
  },
  {
   "cell_type": "code",
   "execution_count": 37,
   "id": "5a8a86e8-37b1-4919-a359-5ba2d79c94f2",
   "metadata": {},
   "outputs": [
    {
     "data": {
      "text/plain": [
       "array([[[ 1, 11, 21],\n",
       "        [ 2, 12, 22]],\n",
       "\n",
       "       [[ 2, 12, 22],\n",
       "        [ 0, 10, 20]],\n",
       "\n",
       "       [[ 0, 10, 20],\n",
       "        [ 1, 11, 21]]])"
      ]
     },
     "execution_count": 37,
     "metadata": {},
     "output_type": "execute_result"
    }
   ],
   "source": [
    "np_arr_more_dim[batch_indices,:,multi_dim_indices]"
   ]
  },
  {
   "cell_type": "code",
   "execution_count": 38,
   "id": "8e28a272-eab5-4510-8ad7-f4e5504a261a",
   "metadata": {},
   "outputs": [
    {
     "data": {
      "text/plain": [
       "(4, 3, 2)"
      ]
     },
     "execution_count": 38,
     "metadata": {},
     "output_type": "execute_result"
    }
   ],
   "source": [
    "np_arr_more_dim[:,batch_indices,multi_dim_indices].shape"
   ]
  },
  {
   "cell_type": "code",
   "execution_count": 39,
   "id": "ba22482b-625c-4431-9910-491a50c54f88",
   "metadata": {},
   "outputs": [
    {
     "data": {
      "text/html": [
       "<pre style=\"white-space:pre;overflow-x:auto;line-height:normal;font-family:Menlo,'DejaVu Sans Mono',consolas,'Courier New',monospace\"><span style=\"font-weight: bold\">&lt;</span><span style=\"color: #ff00ff; text-decoration-color: #ff00ff; font-weight: bold\">class</span><span style=\"color: #000000; text-decoration-color: #000000\"> </span><span style=\"color: #008000; text-decoration-color: #008000\">'tuple'</span><span style=\"font-weight: bold\">&gt;</span>\n",
       "</pre>\n"
      ],
      "text/plain": [
       "\u001b[1m<\u001b[0m\u001b[1;95mclass\u001b[0m\u001b[39m \u001b[0m\u001b[32m'tuple'\u001b[0m\u001b[1m>\u001b[0m\n"
      ]
     },
     "metadata": {},
     "output_type": "display_data"
    }
   ],
   "source": [
    "print(type(jnp_arr.shape))"
   ]
  },
  {
   "cell_type": "code",
   "execution_count": 40,
   "id": "cbb1852f-ce10-4dcd-970d-72ce23f3228c",
   "metadata": {},
   "outputs": [
    {
     "data": {
      "text/plain": [
       "(1, 1, 1)"
      ]
     },
     "execution_count": 40,
     "metadata": {},
     "output_type": "execute_result"
    }
   ],
   "source": [
    "(1,)*3"
   ]
  },
  {
   "cell_type": "markdown",
   "id": "7732bef9-bca1-4cf5-9eda-2134e9443b99",
   "metadata": {},
   "source": [
    "Well that indexing stuff was a headache. But I guess this should work roughly. Should have updated everything in the Tree class for THTX now. Going to have to leave updating the search and other things for another day"
   ]
  },
  {
   "cell_type": "markdown",
   "id": "94bee51c-e9db-49fc-9ca8-a0e7e21d77a5",
   "metadata": {},
   "source": [
    "### @25/11/24 \n",
    "Back at it agen, much faster this time :)\n",
    "\n",
    "After last time, asked for help withjt eh indexing problem above, discovered `take_along_axis` is a thing, and what we wanted -.-"
   ]
  },
  {
   "cell_type": "code",
   "execution_count": 41,
   "id": "29138f5e-de3b-43d8-826f-cd889e0c97d4",
   "metadata": {},
   "outputs": [
    {
     "data": {
      "text/plain": [
       "array([[ 1,  2],\n",
       "       [12, 10],\n",
       "       [20, 21]])"
      ]
     },
     "execution_count": 41,
     "metadata": {},
     "output_type": "execute_result"
    }
   ],
   "source": [
    "# [B,D] x [B,K] -> [B,K]\n",
    "np.take_along_axis(np_arr, np_multi_dim_indices, axis=1)"
   ]
  },
  {
   "cell_type": "code",
   "execution_count": 42,
   "id": "27e9b62e-91ae-41a7-bb6e-bcea5228989a",
   "metadata": {},
   "outputs": [
    {
     "data": {
      "text/plain": [
       "Array([[ 1,  2],\n",
       "       [12, 10],\n",
       "       [20, 21]], dtype=int32)"
      ]
     },
     "execution_count": 42,
     "metadata": {},
     "output_type": "execute_result"
    }
   ],
   "source": [
    "jnp.take_along_axis(jnp_arr, multi_dim_indices, axis=1)"
   ]
  },
  {
   "cell_type": "markdown",
   "id": "95134faf-b644-40bd-a706-e7e196c3e706",
   "metadata": {},
   "source": [
    "Ok, updating that in thtx/tree.py and now moving onto thxt/search.py"
   ]
  },
  {
   "cell_type": "code",
   "execution_count": 43,
   "id": "59697a89-4301-4f3a-878e-2b88ca379f0f",
   "metadata": {},
   "outputs": [
    {
     "data": {
      "text/plain": [
       "[[5, 7, 9], [6, 1, 2]]"
      ]
     },
     "execution_count": 43,
     "metadata": {},
     "output_type": "execute_result"
    }
   ],
   "source": [
    "jax.tree.map(lambda x, y: [x] + y, [5, 6], [[7, 9], [1, 2]])"
   ]
  },
  {
   "cell_type": "code",
   "execution_count": 44,
   "id": "01d3685e-1c62-4be5-b09c-4dcda331262d",
   "metadata": {},
   "outputs": [],
   "source": [
    "# jax.tree.map(lambda x, y: [x] + y, [5, 6], [[7, 9]])"
   ]
  },
  {
   "cell_type": "markdown",
   "id": "611198d9-c257-4ab6-b058-5b706f385712",
   "metadata": {},
   "source": [
    "Ok, we wrote some things to make a new tree, lets see if it works"
   ]
  },
  {
   "cell_type": "code",
   "execution_count": 45,
   "id": "bf84a31e-92c7-4362-8852-042a6e6fa0d8",
   "metadata": {},
   "outputs": [
    {
     "data": {
      "text/plain": [
       "Tree(num_trials=Array([[100],\n",
       "       [100]], dtype=int32), num_d_nodes=Array([[1],\n",
       "       [1]], dtype=int32), num_c_nodes=Array([[0],\n",
       "       [0]], dtype=int32), d_node_state_embeddings=Array([[[0., 0., 0., 0., 0.],\n",
       "        [0., 0., 0., 0., 0.]],\n",
       "\n",
       "       [[0., 0., 0., 0., 0.],\n",
       "        [0., 0., 0., 0., 0.]]], dtype=float32), d_node_visits=Array([[1, 0],\n",
       "       [1, 0]], dtype=int32), d_node_raw_value=Array([[1., 0.],\n",
       "       [1., 0.]], dtype=float32), d_node_value=Array([[1., 0.],\n",
       "       [1., 0.]], dtype=float32), d_node_prior_policy_logits=Array([[[0.5, 0.5, 0.5],\n",
       "        [0. , 0. , 0. ]],\n",
       "\n",
       "       [[0.5, 0.5, 0.5],\n",
       "        [0. , 0. , 0. ]]], dtype=float32), d_node_parent_index=Array([[-1, -1],\n",
       "       [-1, -1]], dtype=int32), d_node_children_index=Array([[[-1, -1, -1],\n",
       "        [-1, -1, -1]],\n",
       "\n",
       "       [[-1, -1, -1],\n",
       "        [-1, -1, -1]]], dtype=int32), c_node_action=Array([[0, 0],\n",
       "       [0, 0]], dtype=int32), c_node_visits=Array([[0, 0],\n",
       "       [0, 0]], dtype=int32), c_node_reward=Array([[0., 0.],\n",
       "       [0., 0.]], dtype=float32), c_node_raw_value=Array([[0., 0.],\n",
       "       [0., 0.]], dtype=float32), c_node_value=Array([[0., 0.],\n",
       "       [0., 0.]], dtype=float32), c_node_discount=Array([[0., 0.],\n",
       "       [0., 0.]], dtype=float32), c_node_children_index=Array([[[-1],\n",
       "        [-1]],\n",
       "\n",
       "       [[-1],\n",
       "        [-1]]], dtype=int32), c_node_children_outcome_embeddings=Array([[[[0., 0., 0., 0., 0.]],\n",
       "\n",
       "        [[0., 0., 0., 0., 0.]]],\n",
       "\n",
       "\n",
       "       [[[0., 0., 0., 0., 0.]],\n",
       "\n",
       "        [[0., 0., 0., 0., 0.]]]], dtype=float32), root_invalid_actions=Array([[0., 0., 0.],\n",
       "       [0., 0., 0.]], dtype=float32, weak_type=True), extra_data=None)"
      ]
     },
     "execution_count": 45,
     "metadata": {},
     "output_type": "execute_result"
    }
   ],
   "source": [
    "from thtx._src.search import create_tree_from_root_init\n",
    "from thtx._src.base import RootInitFnOutput\n",
    "\n",
    "batch_size = 2\n",
    "num_actions = 3\n",
    "\n",
    "logits_shape = (batch_size, num_actions)\n",
    "batch_shape = (batch_size,)\n",
    "embeddings_shape = (batch_size, 5)\n",
    "\n",
    "logits = jnp.full(logits_shape, 0.5)\n",
    "values = jnp.ones(batch_shape)\n",
    "embeddings = jnp.zeros(embeddings_shape)\n",
    "\n",
    "root_init = RootInitFnOutput(prior_policy_logits=logits, value=values, state_embeddings=embeddings)\n",
    "tree = create_tree_from_root_init(root_init=root_init, num_trials=100, init_tree_size=2)\n",
    "tree"
   ]
  },
  {
   "cell_type": "markdown",
   "id": "9daf379b-3bac-45a3-ab54-8ec0d3f1ecf2",
   "metadata": {},
   "source": [
    "And wrote some things to extend the tree"
   ]
  },
  {
   "cell_type": "code",
   "execution_count": 46,
   "id": "f66b0979-325a-4ea0-bbed-b6de870af384",
   "metadata": {},
   "outputs": [
    {
     "data": {
      "text/plain": [
       "Tree(num_trials=Array([[100],\n",
       "       [100]], dtype=int32), num_d_nodes=Array([[1],\n",
       "       [1]], dtype=int32), num_c_nodes=Array([[0],\n",
       "       [0]], dtype=int32), d_node_state_embeddings=Array([[[0., 0., 0., 0., 0.],\n",
       "        [0., 0., 0., 0., 0.],\n",
       "        [0., 0., 0., 0., 0.],\n",
       "        [0., 0., 0., 0., 0.]],\n",
       "\n",
       "       [[0., 0., 0., 0., 0.],\n",
       "        [0., 0., 0., 0., 0.],\n",
       "        [0., 0., 0., 0., 0.],\n",
       "        [0., 0., 0., 0., 0.]]], dtype=float32), d_node_visits=Array([[1, 0, 0, 0],\n",
       "       [1, 0, 0, 0]], dtype=int32), d_node_raw_value=Array([[1., 0., 0., 0.],\n",
       "       [1., 0., 0., 0.]], dtype=float32), d_node_value=Array([[1., 0., 0., 0.],\n",
       "       [1., 0., 0., 0.]], dtype=float32), d_node_prior_policy_logits=Array([[[0.5, 0.5, 0.5],\n",
       "        [0. , 0. , 0. ],\n",
       "        [0. , 0. , 0. ],\n",
       "        [0. , 0. , 0. ]],\n",
       "\n",
       "       [[0.5, 0.5, 0.5],\n",
       "        [0. , 0. , 0. ],\n",
       "        [0. , 0. , 0. ],\n",
       "        [0. , 0. , 0. ]]], dtype=float32), d_node_parent_index=Array([[-1, -1, -1, -1],\n",
       "       [-1, -1, -1, -1]], dtype=int32), d_node_children_index=Array([[[-1, -1, -1],\n",
       "        [-1, -1, -1],\n",
       "        [-1, -1, -1],\n",
       "        [-1, -1, -1]],\n",
       "\n",
       "       [[-1, -1, -1],\n",
       "        [-1, -1, -1],\n",
       "        [-1, -1, -1],\n",
       "        [-1, -1, -1]]], dtype=int32), c_node_action=Array([[0, 0, 0, 0, 0, 0],\n",
       "       [0, 0, 0, 0, 0, 0]], dtype=int32), c_node_visits=Array([[0, 0, 0, 0, 0, 0],\n",
       "       [0, 0, 0, 0, 0, 0]], dtype=int32), c_node_reward=Array([[0., 0., 0., 0., 0., 0.],\n",
       "       [0., 0., 0., 0., 0., 0.]], dtype=float32), c_node_raw_value=Array([[0., 0., 0., 0., 0., 0.],\n",
       "       [0., 0., 0., 0., 0., 0.]], dtype=float32), c_node_value=Array([[0., 0., 0., 0., 0., 0.],\n",
       "       [0., 0., 0., 0., 0., 0.]], dtype=float32), c_node_discount=Array([[0., 0., 0., 0., 0., 0.],\n",
       "       [0., 0., 0., 0., 0., 0.]], dtype=float32), c_node_children_index=Array([[[-1],\n",
       "        [-1],\n",
       "        [-1],\n",
       "        [-1],\n",
       "        [-1],\n",
       "        [-1]],\n",
       "\n",
       "       [[-1],\n",
       "        [-1],\n",
       "        [-1],\n",
       "        [-1],\n",
       "        [-1],\n",
       "        [-1]]], dtype=int32), c_node_children_outcome_embeddings=Array([[[[0., 0., 0., 0., 0.]],\n",
       "\n",
       "        [[0., 0., 0., 0., 0.]],\n",
       "\n",
       "        [[0., 0., 0., 0., 0.]],\n",
       "\n",
       "        [[0., 0., 0., 0., 0.]],\n",
       "\n",
       "        [[0., 0., 0., 0., 0.]],\n",
       "\n",
       "        [[0., 0., 0., 0., 0.]]],\n",
       "\n",
       "\n",
       "       [[[0., 0., 0., 0., 0.]],\n",
       "\n",
       "        [[0., 0., 0., 0., 0.]],\n",
       "\n",
       "        [[0., 0., 0., 0., 0.]],\n",
       "\n",
       "        [[0., 0., 0., 0., 0.]],\n",
       "\n",
       "        [[0., 0., 0., 0., 0.]],\n",
       "\n",
       "        [[0., 0., 0., 0., 0.]]]], dtype=float32), root_invalid_actions=Array([[0., 0., 0.],\n",
       "       [0., 0., 0.]], dtype=float32, weak_type=True), extra_data=None)"
      ]
     },
     "execution_count": 46,
     "metadata": {},
     "output_type": "execute_result"
    }
   ],
   "source": [
    "from thtx._src.search import extend_tree\n",
    "\n",
    "extend_tree(tree=tree, num_extra_d_nodes=2, num_extra_c_nodes=4)"
   ]
  },
  {
   "cell_type": "markdown",
   "id": "c7a9460f-1ec2-473b-aae6-779e276c90df",
   "metadata": {},
   "source": [
    "ohhhhhh kayyyy \n",
    "\n",
    "Still dont really get why the embeddings need the tree mapping stuff, but I haven't really looked at how the embeddings were used. Either way, this tree mapping stuff does the correct stuff on just a regular old jax numpy array\n",
    "\n",
    "Some things I want to double check later, but I think:\n",
    "- a jax numpy array is a leaf, so the mapping stuff is \"pointless\" for the examples above\n",
    "- the point of the mapping is so that could have something like `{'image': <image_embeddings>, 'physics_data': <physics_embeddings>`\n",
    "- that is, I think that the output of state embeddings should be able to be an arbitrary pytree and it still will all work"
   ]
  },
  {
   "cell_type": "markdown",
   "id": "b42ea8c6-997c-4d24-8556-04806522c5f4",
   "metadata": {},
   "source": [
    "Have some ideas about how to do selection phase, which will be the last difficult thing to do I think, going to play around with some vmap tyhings to help work out how to do"
   ]
  },
  {
   "cell_type": "code",
   "execution_count": 47,
   "id": "48963d69-75bc-4d87-9a9a-1bb1a63914db",
   "metadata": {},
   "outputs": [],
   "source": [
    "from typing import NamedTuple, List\n",
    "\n",
    "class _VMapOut(NamedTuple):\n",
    "    out_one: int\n",
    "    out_two: List[int]\n",
    "\n",
    "@functools.partial(jax.vmap, in_axes=[0], out_axes=0)\n",
    "def my_vmap_out_test(just_one_d):\n",
    "    def body_fn(i,lst):\n",
    "        lst.append(just_one_d)\n",
    "        return lst\n",
    "    out_two_list = jax.lax.fori_loop(0, just_one_d, body_fn, [])\n",
    "    return _VMapOut(out_one=just_one_d, out_two=out_two_list)\n",
    "    "
   ]
  },
  {
   "cell_type": "code",
   "execution_count": 48,
   "id": "d65cf7ca-d0cb-44b6-98f6-f2a6174b71d6",
   "metadata": {},
   "outputs": [
    {
     "data": {
      "text/html": [
       "<pre style=\"white-space:pre;overflow-x:auto;line-height:normal;font-family:Menlo,'DejaVu Sans Mono',consolas,'Courier New',monospace\">get error here, loop state cant accumulate stuff\n",
       "</pre>\n"
      ],
      "text/plain": [
       "get error here, loop state cant accumulate stuff\n"
      ]
     },
     "metadata": {},
     "output_type": "display_data"
    }
   ],
   "source": [
    "test_inp = jnp.arange(3)\n",
    "# my_vmap_out_test(test_inp)\n",
    "\n",
    "print(\"get error here, loop state cant accumulate stuff\")"
   ]
  },
  {
   "cell_type": "markdown",
   "id": "25f06097-f95b-4d4a-a1ce-86c6745b1388",
   "metadata": {},
   "source": [
    "Ok, conclusion, going to have to suck it up and make a `max_depth` variable "
   ]
  },
  {
   "cell_type": "code",
   "execution_count": 49,
   "id": "6e038d56-bc11-41fc-ad01-2a35b740ed49",
   "metadata": {},
   "outputs": [
    {
     "data": {
      "text/plain": [
       "Array([], shape=(2, 0), dtype=float32)"
      ]
     },
     "execution_count": 49,
     "metadata": {},
     "output_type": "execute_result"
    }
   ],
   "source": [
    "jnp.ones((2,0))"
   ]
  },
  {
   "cell_type": "code",
   "execution_count": 50,
   "id": "80278772-3fe5-45ec-9d12-92595ba96ff7",
   "metadata": {},
   "outputs": [
    {
     "name": "stdout",
     "output_type": "stream",
     "text": [
      "CPU times: user 18 ms, sys: 997 μs, total: 19 ms\n",
      "Wall time: 18.2 ms\n"
     ]
    },
    {
     "data": {
      "text/plain": [
       "Array([[1., 1., 1., 1., 1., 1., 1., 1., 1., 1.],\n",
       "       [1., 1., 1., 1., 1., 1., 1., 1., 1., 1.]], dtype=float32)"
      ]
     },
     "execution_count": 50,
     "metadata": {},
     "output_type": "execute_result"
    }
   ],
   "source": [
    "%%time\n",
    "jnp.concatenate([jnp.ones((2,10)), jnp.ones((2,0))], axis=1)"
   ]
  },
  {
   "cell_type": "markdown",
   "id": "95201e1c-11aa-4af6-840e-87e987c937a7",
   "metadata": {},
   "source": [
    "Ok, think got a decent idea of how to go about finishing off the search code, glad to have a plan, getting a bit late and got other things to do, so will have to next week. Started writing out a `_TrialBuf` class to contain all of the data we get while running the selection phase, and then the expand phase will have to update values in the tree, and then backup can be same/similar I think. \n",
    "\n",
    "After that, probably want tostart running connext 4 with our code and implementing the thtx interface."
   ]
  },
  {
   "cell_type": "markdown",
   "id": "cfc93db0-cc4c-4dff-92a0-91af9b7a0d11",
   "metadata": {},
   "source": [
    "### @5/12/24 \n",
    "Ok, guess this notebook is becoming a bit of a unit testing thing now, so lets go back and test a bit more?"
   ]
  },
  {
   "cell_type": "markdown",
   "id": "5fecf8ae-172f-4cf3-a089-67445945b730",
   "metadata": {},
   "source": [
    "First, lets make a new tree, size one, and have a pytree of state embeddings. \n",
    "\n",
    "Also noted that the connect 4 example uses the 'Env' object as state embeddings, which is an example of doing the pytree thing did above, so can confirm this is what MCTX did. We should make sure that we can do this too though. \n",
    "\n",
    "N.B. my code did indeed not work for this case below initially, added the util.pytree_broadcast function to handle my mistakes :)"
   ]
  },
  {
   "cell_type": "code",
   "execution_count": 67,
   "id": "db0d4c30-964a-4291-9c8b-439a5a7de2f1",
   "metadata": {},
   "outputs": [
    {
     "data": {
      "text/plain": [
       "Tree(num_trials=Array([[100],\n",
       "       [100]], dtype=int32), num_d_nodes=Array([[1],\n",
       "       [1]], dtype=int32), num_c_nodes=Array([[0],\n",
       "       [0]], dtype=int32), d_node_state_embeddings={'img': Array([[[[0., 0.],\n",
       "         [0., 0.]],\n",
       "\n",
       "        [[0., 0.],\n",
       "         [0., 0.]]],\n",
       "\n",
       "\n",
       "       [[[0., 0.],\n",
       "         [0., 0.]],\n",
       "\n",
       "        [[0., 0.],\n",
       "         [0., 0.]]]], dtype=float32), 'othr': Array([[[0., 0., 0.],\n",
       "        [0., 0., 0.]],\n",
       "\n",
       "       [[0., 0., 0.],\n",
       "        [0., 0., 0.]]], dtype=float32)}, d_node_visits=Array([[1, 0],\n",
       "       [1, 0]], dtype=int32), d_node_raw_value=Array([[1., 0.],\n",
       "       [1., 0.]], dtype=float32), d_node_value=Array([[1., 0.],\n",
       "       [1., 0.]], dtype=float32), d_node_prior_policy_logits=Array([[[0.5, 0.5, 0.5],\n",
       "        [0. , 0. , 0. ]],\n",
       "\n",
       "       [[0.5, 0.5, 0.5],\n",
       "        [0. , 0. , 0. ]]], dtype=float32), d_node_parent_index=Array([[-1, -1],\n",
       "       [-1, -1]], dtype=int32), d_node_children_index=Array([[[-1, -1, -1],\n",
       "        [-1, -1, -1]],\n",
       "\n",
       "       [[-1, -1, -1],\n",
       "        [-1, -1, -1]]], dtype=int32), c_node_action=Array([[0, 0],\n",
       "       [0, 0]], dtype=int32), c_node_visits=Array([[0, 0],\n",
       "       [0, 0]], dtype=int32), c_node_reward=Array([[0., 0.],\n",
       "       [0., 0.]], dtype=float32), c_node_raw_value=Array([[0., 0.],\n",
       "       [0., 0.]], dtype=float32), c_node_value=Array([[0., 0.],\n",
       "       [0., 0.]], dtype=float32), c_node_discount=Array([[0., 0.],\n",
       "       [0., 0.]], dtype=float32), c_node_children_index=Array([[[-1],\n",
       "        [-1]],\n",
       "\n",
       "       [[-1],\n",
       "        [-1]]], dtype=int32), c_node_children_outcome_embeddings={'img': Array([[[[[0., 0.],\n",
       "          [0., 0.]]],\n",
       "\n",
       "\n",
       "        [[[0., 0.],\n",
       "          [0., 0.]]]],\n",
       "\n",
       "\n",
       "\n",
       "       [[[[0., 0.],\n",
       "          [0., 0.]]],\n",
       "\n",
       "\n",
       "        [[[0., 0.],\n",
       "          [0., 0.]]]]], dtype=float32), 'othr': Array([[[[0., 0., 0.]],\n",
       "\n",
       "        [[0., 0., 0.]]],\n",
       "\n",
       "\n",
       "       [[[0., 0., 0.]],\n",
       "\n",
       "        [[0., 0., 0.]]]], dtype=float32)}, root_invalid_actions=Array([[0., 0., 0.],\n",
       "       [0., 0., 0.]], dtype=float32, weak_type=True), extra_data=None)"
      ]
     },
     "execution_count": 67,
     "metadata": {},
     "output_type": "execute_result"
    }
   ],
   "source": [
    "batch_size = 2\n",
    "num_actions = 3\n",
    "\n",
    "logits_shape = (batch_size, num_actions)\n",
    "batch_shape = (batch_size,)\n",
    "img_embeddings_shape = (batch_size, 2,2)\n",
    "other_embeddings_shape = (batch_size, 3)\n",
    "\n",
    "logits = jnp.full(logits_shape, 0.5)\n",
    "values = jnp.ones(batch_shape)\n",
    "embeddings = {'img': jnp.zeros(img_embeddings_shape), 'othr': jnp.zeros(other_embeddings_shape)} \n",
    "\n",
    "root_init = RootInitFnOutput(prior_policy_logits=logits, value=values, state_embeddings=embeddings)\n",
    "tree = create_tree_from_root_init(root_init, num_trials=100, init_tree_size=2)\n",
    "tree"
   ]
  },
  {
   "cell_type": "markdown",
   "id": "3b1b2724-8918-472e-849c-f6beb031e121",
   "metadata": {},
   "source": [
    "Ok, happy with `create_tree_from_root_init` working as intended now! Lets check that `ensure_space_for_trial` works, with `mcts_mode` set to both `False` and `True`"
   ]
  },
  {
   "cell_type": "code",
   "execution_count": 68,
   "id": "4c8dd709-d65a-4465-8c3d-99f4a7d8b947",
   "metadata": {},
   "outputs": [
    {
     "data": {
      "text/plain": [
       "Tree(num_trials=Array([[100],\n",
       "       [100]], dtype=int32), num_d_nodes=Array([[1],\n",
       "       [1]], dtype=int32), num_c_nodes=Array([[0],\n",
       "       [0]], dtype=int32), d_node_state_embeddings={'img': Array([[[[0., 0.],\n",
       "         [0., 0.]],\n",
       "\n",
       "        [[0., 0.],\n",
       "         [0., 0.]]],\n",
       "\n",
       "\n",
       "       [[[0., 0.],\n",
       "         [0., 0.]],\n",
       "\n",
       "        [[0., 0.],\n",
       "         [0., 0.]]]], dtype=float32), 'othr': Array([[[0., 0., 0.],\n",
       "        [0., 0., 0.]],\n",
       "\n",
       "       [[0., 0., 0.],\n",
       "        [0., 0., 0.]]], dtype=float32)}, d_node_visits=Array([[1, 0],\n",
       "       [1, 0]], dtype=int32), d_node_raw_value=Array([[1., 0.],\n",
       "       [1., 0.]], dtype=float32), d_node_value=Array([[1., 0.],\n",
       "       [1., 0.]], dtype=float32), d_node_prior_policy_logits=Array([[[0.5, 0.5, 0.5],\n",
       "        [0. , 0. , 0. ]],\n",
       "\n",
       "       [[0.5, 0.5, 0.5],\n",
       "        [0. , 0. , 0. ]]], dtype=float32), d_node_parent_index=Array([[-1, -1],\n",
       "       [-1, -1]], dtype=int32), d_node_children_index=Array([[[-1, -1, -1],\n",
       "        [-1, -1, -1]],\n",
       "\n",
       "       [[-1, -1, -1],\n",
       "        [-1, -1, -1]]], dtype=int32), c_node_action=Array([[0, 0],\n",
       "       [0, 0]], dtype=int32), c_node_visits=Array([[0, 0],\n",
       "       [0, 0]], dtype=int32), c_node_reward=Array([[0., 0.],\n",
       "       [0., 0.]], dtype=float32), c_node_raw_value=Array([[0., 0.],\n",
       "       [0., 0.]], dtype=float32), c_node_value=Array([[0., 0.],\n",
       "       [0., 0.]], dtype=float32), c_node_discount=Array([[0., 0.],\n",
       "       [0., 0.]], dtype=float32), c_node_children_index=Array([[[-1],\n",
       "        [-1]],\n",
       "\n",
       "       [[-1],\n",
       "        [-1]]], dtype=int32), c_node_children_outcome_embeddings={'img': Array([[[[[0., 0.],\n",
       "          [0., 0.]]],\n",
       "\n",
       "\n",
       "        [[[0., 0.],\n",
       "          [0., 0.]]]],\n",
       "\n",
       "\n",
       "\n",
       "       [[[[0., 0.],\n",
       "          [0., 0.]]],\n",
       "\n",
       "\n",
       "        [[[0., 0.],\n",
       "          [0., 0.]]]]], dtype=float32), 'othr': Array([[[[0., 0., 0.]],\n",
       "\n",
       "        [[0., 0., 0.]]],\n",
       "\n",
       "\n",
       "       [[[0., 0., 0.]],\n",
       "\n",
       "        [[0., 0., 0.]]]], dtype=float32)}, root_invalid_actions=Array([[0., 0., 0.],\n",
       "       [0., 0., 0.]], dtype=float32, weak_type=True), extra_data=None)"
      ]
     },
     "execution_count": 68,
     "metadata": {},
     "output_type": "execute_result"
    }
   ],
   "source": [
    "from thtx._src.search import ensure_space_for_trial\n",
    "\n",
    "ensure_space_for_trial(tree, max_depth=10, mcts_mode=True)"
   ]
  },
  {
   "cell_type": "code",
   "execution_count": 69,
   "id": "f80ea218-dbf6-4e6d-9717-90c07eefb23a",
   "metadata": {},
   "outputs": [
    {
     "data": {
      "text/plain": [
       "Tree(num_trials=Array([[100],\n",
       "       [100]], dtype=int32), num_d_nodes=Array([[1],\n",
       "       [1]], dtype=int32), num_c_nodes=Array([[0],\n",
       "       [0]], dtype=int32), d_node_state_embeddings={'img': Array([[[[0., 0.],\n",
       "         [0., 0.]],\n",
       "\n",
       "        [[0., 0.],\n",
       "         [0., 0.]],\n",
       "\n",
       "        [[0., 0.],\n",
       "         [0., 0.]],\n",
       "\n",
       "        [[0., 0.],\n",
       "         [0., 0.]],\n",
       "\n",
       "        [[0., 0.],\n",
       "         [0., 0.]],\n",
       "\n",
       "        [[0., 0.],\n",
       "         [0., 0.]],\n",
       "\n",
       "        [[0., 0.],\n",
       "         [0., 0.]],\n",
       "\n",
       "        [[0., 0.],\n",
       "         [0., 0.]],\n",
       "\n",
       "        [[0., 0.],\n",
       "         [0., 0.]],\n",
       "\n",
       "        [[0., 0.],\n",
       "         [0., 0.]],\n",
       "\n",
       "        [[0., 0.],\n",
       "         [0., 0.]]],\n",
       "\n",
       "\n",
       "       [[[0., 0.],\n",
       "         [0., 0.]],\n",
       "\n",
       "        [[0., 0.],\n",
       "         [0., 0.]],\n",
       "\n",
       "        [[0., 0.],\n",
       "         [0., 0.]],\n",
       "\n",
       "        [[0., 0.],\n",
       "         [0., 0.]],\n",
       "\n",
       "        [[0., 0.],\n",
       "         [0., 0.]],\n",
       "\n",
       "        [[0., 0.],\n",
       "         [0., 0.]],\n",
       "\n",
       "        [[0., 0.],\n",
       "         [0., 0.]],\n",
       "\n",
       "        [[0., 0.],\n",
       "         [0., 0.]],\n",
       "\n",
       "        [[0., 0.],\n",
       "         [0., 0.]],\n",
       "\n",
       "        [[0., 0.],\n",
       "         [0., 0.]],\n",
       "\n",
       "        [[0., 0.],\n",
       "         [0., 0.]]]], dtype=float32), 'othr': Array([[[0., 0., 0.],\n",
       "        [0., 0., 0.],\n",
       "        [0., 0., 0.],\n",
       "        [0., 0., 0.],\n",
       "        [0., 0., 0.],\n",
       "        [0., 0., 0.],\n",
       "        [0., 0., 0.],\n",
       "        [0., 0., 0.],\n",
       "        [0., 0., 0.],\n",
       "        [0., 0., 0.],\n",
       "        [0., 0., 0.]],\n",
       "\n",
       "       [[0., 0., 0.],\n",
       "        [0., 0., 0.],\n",
       "        [0., 0., 0.],\n",
       "        [0., 0., 0.],\n",
       "        [0., 0., 0.],\n",
       "        [0., 0., 0.],\n",
       "        [0., 0., 0.],\n",
       "        [0., 0., 0.],\n",
       "        [0., 0., 0.],\n",
       "        [0., 0., 0.],\n",
       "        [0., 0., 0.]]], dtype=float32)}, d_node_visits=Array([[1, 0, 0, 0, 0, 0, 0, 0, 0, 0, 0],\n",
       "       [1, 0, 0, 0, 0, 0, 0, 0, 0, 0, 0]], dtype=int32), d_node_raw_value=Array([[1., 0., 0., 0., 0., 0., 0., 0., 0., 0., 0.],\n",
       "       [1., 0., 0., 0., 0., 0., 0., 0., 0., 0., 0.]], dtype=float32), d_node_value=Array([[1., 0., 0., 0., 0., 0., 0., 0., 0., 0., 0.],\n",
       "       [1., 0., 0., 0., 0., 0., 0., 0., 0., 0., 0.]], dtype=float32), d_node_prior_policy_logits=Array([[[0.5, 0.5, 0.5],\n",
       "        [0. , 0. , 0. ],\n",
       "        [0. , 0. , 0. ],\n",
       "        [0. , 0. , 0. ],\n",
       "        [0. , 0. , 0. ],\n",
       "        [0. , 0. , 0. ],\n",
       "        [0. , 0. , 0. ],\n",
       "        [0. , 0. , 0. ],\n",
       "        [0. , 0. , 0. ],\n",
       "        [0. , 0. , 0. ],\n",
       "        [0. , 0. , 0. ]],\n",
       "\n",
       "       [[0.5, 0.5, 0.5],\n",
       "        [0. , 0. , 0. ],\n",
       "        [0. , 0. , 0. ],\n",
       "        [0. , 0. , 0. ],\n",
       "        [0. , 0. , 0. ],\n",
       "        [0. , 0. , 0. ],\n",
       "        [0. , 0. , 0. ],\n",
       "        [0. , 0. , 0. ],\n",
       "        [0. , 0. , 0. ],\n",
       "        [0. , 0. , 0. ],\n",
       "        [0. , 0. , 0. ]]], dtype=float32), d_node_parent_index=Array([[-1, -1, -1, -1, -1, -1, -1, -1, -1, -1, -1],\n",
       "       [-1, -1, -1, -1, -1, -1, -1, -1, -1, -1, -1]], dtype=int32), d_node_children_index=Array([[[-1, -1, -1],\n",
       "        [-1, -1, -1],\n",
       "        [-1, -1, -1],\n",
       "        [-1, -1, -1],\n",
       "        [-1, -1, -1],\n",
       "        [-1, -1, -1],\n",
       "        [-1, -1, -1],\n",
       "        [-1, -1, -1],\n",
       "        [-1, -1, -1],\n",
       "        [-1, -1, -1],\n",
       "        [-1, -1, -1]],\n",
       "\n",
       "       [[-1, -1, -1],\n",
       "        [-1, -1, -1],\n",
       "        [-1, -1, -1],\n",
       "        [-1, -1, -1],\n",
       "        [-1, -1, -1],\n",
       "        [-1, -1, -1],\n",
       "        [-1, -1, -1],\n",
       "        [-1, -1, -1],\n",
       "        [-1, -1, -1],\n",
       "        [-1, -1, -1],\n",
       "        [-1, -1, -1]]], dtype=int32), c_node_action=Array([[0, 0, 0, 0, 0, 0, 0, 0, 0, 0],\n",
       "       [0, 0, 0, 0, 0, 0, 0, 0, 0, 0]], dtype=int32), c_node_visits=Array([[0, 0, 0, 0, 0, 0, 0, 0, 0, 0],\n",
       "       [0, 0, 0, 0, 0, 0, 0, 0, 0, 0]], dtype=int32), c_node_reward=Array([[0., 0., 0., 0., 0., 0., 0., 0., 0., 0.],\n",
       "       [0., 0., 0., 0., 0., 0., 0., 0., 0., 0.]], dtype=float32), c_node_raw_value=Array([[0., 0., 0., 0., 0., 0., 0., 0., 0., 0.],\n",
       "       [0., 0., 0., 0., 0., 0., 0., 0., 0., 0.]], dtype=float32), c_node_value=Array([[0., 0., 0., 0., 0., 0., 0., 0., 0., 0.],\n",
       "       [0., 0., 0., 0., 0., 0., 0., 0., 0., 0.]], dtype=float32), c_node_discount=Array([[0., 0., 0., 0., 0., 0., 0., 0., 0., 0.],\n",
       "       [0., 0., 0., 0., 0., 0., 0., 0., 0., 0.]], dtype=float32), c_node_children_index=Array([[[-1],\n",
       "        [-1],\n",
       "        [-1],\n",
       "        [-1],\n",
       "        [-1],\n",
       "        [-1],\n",
       "        [-1],\n",
       "        [-1],\n",
       "        [-1],\n",
       "        [-1]],\n",
       "\n",
       "       [[-1],\n",
       "        [-1],\n",
       "        [-1],\n",
       "        [-1],\n",
       "        [-1],\n",
       "        [-1],\n",
       "        [-1],\n",
       "        [-1],\n",
       "        [-1],\n",
       "        [-1]]], dtype=int32), c_node_children_outcome_embeddings={'img': Array([[[[[0., 0.],\n",
       "          [0., 0.]]],\n",
       "\n",
       "\n",
       "        [[[0., 0.],\n",
       "          [0., 0.]]],\n",
       "\n",
       "\n",
       "        [[[0., 0.],\n",
       "          [0., 0.]]],\n",
       "\n",
       "\n",
       "        [[[0., 0.],\n",
       "          [0., 0.]]],\n",
       "\n",
       "\n",
       "        [[[0., 0.],\n",
       "          [0., 0.]]],\n",
       "\n",
       "\n",
       "        [[[0., 0.],\n",
       "          [0., 0.]]],\n",
       "\n",
       "\n",
       "        [[[0., 0.],\n",
       "          [0., 0.]]],\n",
       "\n",
       "\n",
       "        [[[0., 0.],\n",
       "          [0., 0.]]],\n",
       "\n",
       "\n",
       "        [[[0., 0.],\n",
       "          [0., 0.]]],\n",
       "\n",
       "\n",
       "        [[[0., 0.],\n",
       "          [0., 0.]]]],\n",
       "\n",
       "\n",
       "\n",
       "       [[[[0., 0.],\n",
       "          [0., 0.]]],\n",
       "\n",
       "\n",
       "        [[[0., 0.],\n",
       "          [0., 0.]]],\n",
       "\n",
       "\n",
       "        [[[0., 0.],\n",
       "          [0., 0.]]],\n",
       "\n",
       "\n",
       "        [[[0., 0.],\n",
       "          [0., 0.]]],\n",
       "\n",
       "\n",
       "        [[[0., 0.],\n",
       "          [0., 0.]]],\n",
       "\n",
       "\n",
       "        [[[0., 0.],\n",
       "          [0., 0.]]],\n",
       "\n",
       "\n",
       "        [[[0., 0.],\n",
       "          [0., 0.]]],\n",
       "\n",
       "\n",
       "        [[[0., 0.],\n",
       "          [0., 0.]]],\n",
       "\n",
       "\n",
       "        [[[0., 0.],\n",
       "          [0., 0.]]],\n",
       "\n",
       "\n",
       "        [[[0., 0.],\n",
       "          [0., 0.]]]]], dtype=float32), 'othr': Array([[[[0., 0., 0.]],\n",
       "\n",
       "        [[0., 0., 0.]],\n",
       "\n",
       "        [[0., 0., 0.]],\n",
       "\n",
       "        [[0., 0., 0.]],\n",
       "\n",
       "        [[0., 0., 0.]],\n",
       "\n",
       "        [[0., 0., 0.]],\n",
       "\n",
       "        [[0., 0., 0.]],\n",
       "\n",
       "        [[0., 0., 0.]],\n",
       "\n",
       "        [[0., 0., 0.]],\n",
       "\n",
       "        [[0., 0., 0.]]],\n",
       "\n",
       "\n",
       "       [[[0., 0., 0.]],\n",
       "\n",
       "        [[0., 0., 0.]],\n",
       "\n",
       "        [[0., 0., 0.]],\n",
       "\n",
       "        [[0., 0., 0.]],\n",
       "\n",
       "        [[0., 0., 0.]],\n",
       "\n",
       "        [[0., 0., 0.]],\n",
       "\n",
       "        [[0., 0., 0.]],\n",
       "\n",
       "        [[0., 0., 0.]],\n",
       "\n",
       "        [[0., 0., 0.]],\n",
       "\n",
       "        [[0., 0., 0.]]]], dtype=float32)}, root_invalid_actions=Array([[0., 0., 0.],\n",
       "       [0., 0., 0.]], dtype=float32, weak_type=True), extra_data=None)"
      ]
     },
     "execution_count": 69,
     "metadata": {},
     "output_type": "execute_result"
    }
   ],
   "source": [
    "ensure_space_for_trial(tree, max_depth=10, mcts_mode=False)"
   ]
  },
  {
   "cell_type": "code",
   "execution_count": 70,
   "id": "84a40527-ddcb-47e0-bf56-5599ba5d91f8",
   "metadata": {},
   "outputs": [
    {
     "data": {
      "text/html": [
       "<pre style=\"white-space:pre;overflow-x:auto;line-height:normal;font-family:Menlo,'DejaVu Sans Mono',consolas,'Courier New',monospace\"><span style=\"color: #800080; text-decoration-color: #800080; font-weight: bold\">Tree</span><span style=\"font-weight: bold\">(</span>\n",
       "    <span style=\"color: #808000; text-decoration-color: #808000\">num_trials</span>=<span style=\"color: #800080; text-decoration-color: #800080\">Traced</span><span style=\"font-weight: bold\">&lt;</span><span style=\"color: #800080; text-decoration-color: #800080; font-weight: bold\">ShapedArray</span><span style=\"color: #000000; text-decoration-color: #000000; font-weight: bold\">(</span><span style=\"color: #000000; text-decoration-color: #000000\">int32</span><span style=\"color: #000000; text-decoration-color: #000000; font-weight: bold\">[</span><span style=\"color: #008080; text-decoration-color: #008080; font-weight: bold\">1</span><span style=\"color: #000000; text-decoration-color: #000000; font-weight: bold\">])</span><span style=\"color: #000000; text-decoration-color: #000000\">&gt;with&lt;</span><span style=\"color: #800080; text-decoration-color: #800080; font-weight: bold\">BatchTrace</span><span style=\"color: #000000; text-decoration-color: #000000; font-weight: bold\">(</span><span style=\"color: #808000; text-decoration-color: #808000\">level</span><span style=\"color: #000000; text-decoration-color: #000000\">=</span><span style=\"color: #008080; text-decoration-color: #008080; font-weight: bold\">1</span><span style=\"color: #000000; text-decoration-color: #000000\">/</span><span style=\"color: #008080; text-decoration-color: #008080; font-weight: bold\">0</span><span style=\"color: #000000; text-decoration-color: #000000; font-weight: bold\">)</span><span style=\"color: #000000; text-decoration-color: #000000\">&gt; with</span>\n",
       "<span style=\"color: #000000; text-decoration-color: #000000\">  val = </span><span style=\"color: #800080; text-decoration-color: #800080; font-weight: bold\">Array</span><span style=\"color: #000000; text-decoration-color: #000000; font-weight: bold\">([[</span><span style=\"color: #008080; text-decoration-color: #008080; font-weight: bold\">100</span><span style=\"color: #000000; text-decoration-color: #000000; font-weight: bold\">]</span><span style=\"color: #000000; text-decoration-color: #000000\">,</span>\n",
       "<span style=\"color: #000000; text-decoration-color: #000000\">       </span><span style=\"color: #000000; text-decoration-color: #000000; font-weight: bold\">[</span><span style=\"color: #008080; text-decoration-color: #008080; font-weight: bold\">100</span><span style=\"color: #000000; text-decoration-color: #000000; font-weight: bold\">]]</span><span style=\"color: #000000; text-decoration-color: #000000\">, </span><span style=\"color: #808000; text-decoration-color: #808000\">dtype</span><span style=\"color: #000000; text-decoration-color: #000000\">=</span><span style=\"color: #800080; text-decoration-color: #800080\">int32</span><span style=\"color: #000000; text-decoration-color: #000000; font-weight: bold\">)</span>\n",
       "<span style=\"color: #000000; text-decoration-color: #000000\">  batch_dim = </span><span style=\"color: #008080; text-decoration-color: #008080; font-weight: bold\">0</span><span style=\"color: #000000; text-decoration-color: #000000\">,</span>\n",
       "<span style=\"color: #000000; text-decoration-color: #000000\">    </span><span style=\"color: #808000; text-decoration-color: #808000\">num_d_nodes</span><span style=\"color: #000000; text-decoration-color: #000000\">=</span><span style=\"color: #800080; text-decoration-color: #800080\">Traced</span><span style=\"color: #000000; text-decoration-color: #000000\">&lt;</span><span style=\"color: #800080; text-decoration-color: #800080; font-weight: bold\">ShapedArray</span><span style=\"color: #000000; text-decoration-color: #000000; font-weight: bold\">(</span><span style=\"color: #000000; text-decoration-color: #000000\">int32</span><span style=\"color: #000000; text-decoration-color: #000000; font-weight: bold\">[</span><span style=\"color: #008080; text-decoration-color: #008080; font-weight: bold\">1</span><span style=\"color: #000000; text-decoration-color: #000000; font-weight: bold\">])</span><span style=\"color: #000000; text-decoration-color: #000000\">&gt;with&lt;</span><span style=\"color: #800080; text-decoration-color: #800080; font-weight: bold\">BatchTrace</span><span style=\"color: #000000; text-decoration-color: #000000; font-weight: bold\">(</span><span style=\"color: #808000; text-decoration-color: #808000\">level</span><span style=\"color: #000000; text-decoration-color: #000000\">=</span><span style=\"color: #008080; text-decoration-color: #008080; font-weight: bold\">1</span><span style=\"color: #000000; text-decoration-color: #000000\">/</span><span style=\"color: #008080; text-decoration-color: #008080; font-weight: bold\">0</span><span style=\"color: #000000; text-decoration-color: #000000; font-weight: bold\">)</span><span style=\"color: #000000; text-decoration-color: #000000\">&gt; with</span>\n",
       "<span style=\"color: #000000; text-decoration-color: #000000\">  val = </span><span style=\"color: #800080; text-decoration-color: #800080; font-weight: bold\">Array</span><span style=\"color: #000000; text-decoration-color: #000000; font-weight: bold\">([[</span><span style=\"color: #008080; text-decoration-color: #008080; font-weight: bold\">1</span><span style=\"color: #000000; text-decoration-color: #000000; font-weight: bold\">]</span><span style=\"color: #000000; text-decoration-color: #000000\">,</span>\n",
       "<span style=\"color: #000000; text-decoration-color: #000000\">       </span><span style=\"color: #000000; text-decoration-color: #000000; font-weight: bold\">[</span><span style=\"color: #008080; text-decoration-color: #008080; font-weight: bold\">1</span><span style=\"color: #000000; text-decoration-color: #000000; font-weight: bold\">]]</span><span style=\"color: #000000; text-decoration-color: #000000\">, </span><span style=\"color: #808000; text-decoration-color: #808000\">dtype</span><span style=\"color: #000000; text-decoration-color: #000000\">=</span><span style=\"color: #800080; text-decoration-color: #800080\">int32</span><span style=\"color: #000000; text-decoration-color: #000000; font-weight: bold\">)</span>\n",
       "<span style=\"color: #000000; text-decoration-color: #000000\">  batch_dim = </span><span style=\"color: #008080; text-decoration-color: #008080; font-weight: bold\">0</span><span style=\"color: #000000; text-decoration-color: #000000\">,</span>\n",
       "<span style=\"color: #000000; text-decoration-color: #000000\">    </span><span style=\"color: #808000; text-decoration-color: #808000\">num_c_nodes</span><span style=\"color: #000000; text-decoration-color: #000000\">=</span><span style=\"color: #800080; text-decoration-color: #800080\">Traced</span><span style=\"color: #000000; text-decoration-color: #000000\">&lt;</span><span style=\"color: #800080; text-decoration-color: #800080; font-weight: bold\">ShapedArray</span><span style=\"color: #000000; text-decoration-color: #000000; font-weight: bold\">(</span><span style=\"color: #000000; text-decoration-color: #000000\">int32</span><span style=\"color: #000000; text-decoration-color: #000000; font-weight: bold\">[</span><span style=\"color: #008080; text-decoration-color: #008080; font-weight: bold\">1</span><span style=\"color: #000000; text-decoration-color: #000000; font-weight: bold\">])</span><span style=\"color: #000000; text-decoration-color: #000000\">&gt;with&lt;</span><span style=\"color: #800080; text-decoration-color: #800080; font-weight: bold\">BatchTrace</span><span style=\"color: #000000; text-decoration-color: #000000; font-weight: bold\">(</span><span style=\"color: #808000; text-decoration-color: #808000\">level</span><span style=\"color: #000000; text-decoration-color: #000000\">=</span><span style=\"color: #008080; text-decoration-color: #008080; font-weight: bold\">1</span><span style=\"color: #000000; text-decoration-color: #000000\">/</span><span style=\"color: #008080; text-decoration-color: #008080; font-weight: bold\">0</span><span style=\"color: #000000; text-decoration-color: #000000; font-weight: bold\">)</span><span style=\"color: #000000; text-decoration-color: #000000\">&gt; with</span>\n",
       "<span style=\"color: #000000; text-decoration-color: #000000\">  val = </span><span style=\"color: #800080; text-decoration-color: #800080; font-weight: bold\">Array</span><span style=\"color: #000000; text-decoration-color: #000000; font-weight: bold\">([[</span><span style=\"color: #008080; text-decoration-color: #008080; font-weight: bold\">0</span><span style=\"color: #000000; text-decoration-color: #000000; font-weight: bold\">]</span><span style=\"color: #000000; text-decoration-color: #000000\">,</span>\n",
       "<span style=\"color: #000000; text-decoration-color: #000000\">       </span><span style=\"color: #000000; text-decoration-color: #000000; font-weight: bold\">[</span><span style=\"color: #008080; text-decoration-color: #008080; font-weight: bold\">0</span><span style=\"color: #000000; text-decoration-color: #000000; font-weight: bold\">]]</span><span style=\"color: #000000; text-decoration-color: #000000\">, </span><span style=\"color: #808000; text-decoration-color: #808000\">dtype</span><span style=\"color: #000000; text-decoration-color: #000000\">=</span><span style=\"color: #800080; text-decoration-color: #800080\">int32</span><span style=\"color: #000000; text-decoration-color: #000000; font-weight: bold\">)</span>\n",
       "<span style=\"color: #000000; text-decoration-color: #000000\">  batch_dim = </span><span style=\"color: #008080; text-decoration-color: #008080; font-weight: bold\">0</span><span style=\"color: #000000; text-decoration-color: #000000\">,</span>\n",
       "<span style=\"color: #000000; text-decoration-color: #000000\">    </span><span style=\"color: #808000; text-decoration-color: #808000\">d_node_state_embeddings</span><span style=\"color: #000000; text-decoration-color: #000000\">=</span><span style=\"color: #000000; text-decoration-color: #000000; font-weight: bold\">{</span>\n",
       "<span style=\"color: #000000; text-decoration-color: #000000\">        </span><span style=\"color: #008000; text-decoration-color: #008000\">'img'</span><span style=\"color: #000000; text-decoration-color: #000000\">: Traced&lt;</span><span style=\"color: #800080; text-decoration-color: #800080; font-weight: bold\">ShapedArray</span><span style=\"color: #000000; text-decoration-color: #000000; font-weight: bold\">(</span><span style=\"color: #000000; text-decoration-color: #000000\">float32</span><span style=\"color: #000000; text-decoration-color: #000000; font-weight: bold\">[</span><span style=\"color: #008080; text-decoration-color: #008080; font-weight: bold\">2</span><span style=\"color: #000000; text-decoration-color: #000000\">,</span><span style=\"color: #008080; text-decoration-color: #008080; font-weight: bold\">2</span><span style=\"color: #000000; text-decoration-color: #000000\">,</span><span style=\"color: #008080; text-decoration-color: #008080; font-weight: bold\">2</span><span style=\"color: #000000; text-decoration-color: #000000; font-weight: bold\">])</span><span style=\"color: #000000; text-decoration-color: #000000\">&gt;with&lt;</span><span style=\"color: #800080; text-decoration-color: #800080; font-weight: bold\">BatchTrace</span><span style=\"color: #000000; text-decoration-color: #000000; font-weight: bold\">(</span><span style=\"color: #808000; text-decoration-color: #808000\">level</span><span style=\"color: #000000; text-decoration-color: #000000\">=</span><span style=\"color: #008080; text-decoration-color: #008080; font-weight: bold\">1</span><span style=\"color: #000000; text-decoration-color: #000000\">/</span><span style=\"color: #008080; text-decoration-color: #008080; font-weight: bold\">0</span><span style=\"color: #000000; text-decoration-color: #000000; font-weight: bold\">)</span><span style=\"color: #000000; text-decoration-color: #000000\">&gt; with</span>\n",
       "<span style=\"color: #000000; text-decoration-color: #000000\">  val = </span><span style=\"color: #800080; text-decoration-color: #800080; font-weight: bold\">Array</span><span style=\"color: #000000; text-decoration-color: #000000; font-weight: bold\">([[[[</span><span style=\"color: #008080; text-decoration-color: #008080; font-weight: bold\">0</span><span style=\"color: #000000; text-decoration-color: #000000\">., </span><span style=\"color: #008080; text-decoration-color: #008080; font-weight: bold\">0</span><span style=\"color: #000000; text-decoration-color: #000000\">.</span><span style=\"color: #000000; text-decoration-color: #000000; font-weight: bold\">]</span><span style=\"color: #000000; text-decoration-color: #000000\">,</span>\n",
       "<span style=\"color: #000000; text-decoration-color: #000000\">         </span><span style=\"color: #000000; text-decoration-color: #000000; font-weight: bold\">[</span><span style=\"color: #008080; text-decoration-color: #008080; font-weight: bold\">0</span><span style=\"color: #000000; text-decoration-color: #000000\">., </span><span style=\"color: #008080; text-decoration-color: #008080; font-weight: bold\">0</span><span style=\"color: #000000; text-decoration-color: #000000\">.</span><span style=\"color: #000000; text-decoration-color: #000000; font-weight: bold\">]]</span><span style=\"color: #000000; text-decoration-color: #000000\">,</span>\n",
       "\n",
       "<span style=\"color: #000000; text-decoration-color: #000000\">        </span><span style=\"color: #000000; text-decoration-color: #000000; font-weight: bold\">[[</span><span style=\"color: #008080; text-decoration-color: #008080; font-weight: bold\">0</span><span style=\"color: #000000; text-decoration-color: #000000\">., </span><span style=\"color: #008080; text-decoration-color: #008080; font-weight: bold\">0</span><span style=\"color: #000000; text-decoration-color: #000000\">.</span><span style=\"color: #000000; text-decoration-color: #000000; font-weight: bold\">]</span><span style=\"color: #000000; text-decoration-color: #000000\">,</span>\n",
       "<span style=\"color: #000000; text-decoration-color: #000000\">         </span><span style=\"color: #000000; text-decoration-color: #000000; font-weight: bold\">[</span><span style=\"color: #008080; text-decoration-color: #008080; font-weight: bold\">0</span><span style=\"color: #000000; text-decoration-color: #000000\">., </span><span style=\"color: #008080; text-decoration-color: #008080; font-weight: bold\">0</span><span style=\"color: #000000; text-decoration-color: #000000\">.</span><span style=\"color: #000000; text-decoration-color: #000000; font-weight: bold\">]]]</span><span style=\"color: #000000; text-decoration-color: #000000\">,</span>\n",
       "\n",
       "\n",
       "<span style=\"color: #000000; text-decoration-color: #000000\">       </span><span style=\"color: #000000; text-decoration-color: #000000; font-weight: bold\">[[[</span><span style=\"color: #008080; text-decoration-color: #008080; font-weight: bold\">0</span><span style=\"color: #000000; text-decoration-color: #000000\">., </span><span style=\"color: #008080; text-decoration-color: #008080; font-weight: bold\">0</span><span style=\"color: #000000; text-decoration-color: #000000\">.</span><span style=\"color: #000000; text-decoration-color: #000000; font-weight: bold\">]</span><span style=\"color: #000000; text-decoration-color: #000000\">,</span>\n",
       "<span style=\"color: #000000; text-decoration-color: #000000\">         </span><span style=\"color: #000000; text-decoration-color: #000000; font-weight: bold\">[</span><span style=\"color: #008080; text-decoration-color: #008080; font-weight: bold\">0</span><span style=\"color: #000000; text-decoration-color: #000000\">., </span><span style=\"color: #008080; text-decoration-color: #008080; font-weight: bold\">0</span><span style=\"color: #000000; text-decoration-color: #000000\">.</span><span style=\"color: #000000; text-decoration-color: #000000; font-weight: bold\">]]</span><span style=\"color: #000000; text-decoration-color: #000000\">,</span>\n",
       "\n",
       "<span style=\"color: #000000; text-decoration-color: #000000\">        </span><span style=\"color: #000000; text-decoration-color: #000000; font-weight: bold\">[[</span><span style=\"color: #008080; text-decoration-color: #008080; font-weight: bold\">0</span><span style=\"color: #000000; text-decoration-color: #000000\">., </span><span style=\"color: #008080; text-decoration-color: #008080; font-weight: bold\">0</span><span style=\"color: #000000; text-decoration-color: #000000\">.</span><span style=\"color: #000000; text-decoration-color: #000000; font-weight: bold\">]</span><span style=\"color: #000000; text-decoration-color: #000000\">,</span>\n",
       "<span style=\"color: #000000; text-decoration-color: #000000\">         </span><span style=\"color: #000000; text-decoration-color: #000000; font-weight: bold\">[</span><span style=\"color: #008080; text-decoration-color: #008080; font-weight: bold\">0</span><span style=\"color: #000000; text-decoration-color: #000000\">., </span><span style=\"color: #008080; text-decoration-color: #008080; font-weight: bold\">0</span><span style=\"color: #000000; text-decoration-color: #000000\">.</span><span style=\"color: #000000; text-decoration-color: #000000; font-weight: bold\">]]]]</span><span style=\"color: #000000; text-decoration-color: #000000\">, </span><span style=\"color: #808000; text-decoration-color: #808000\">dtype</span><span style=\"color: #000000; text-decoration-color: #000000\">=</span><span style=\"color: #800080; text-decoration-color: #800080\">float32</span><span style=\"color: #000000; text-decoration-color: #000000; font-weight: bold\">)</span>\n",
       "<span style=\"color: #000000; text-decoration-color: #000000\">  batch_dim = </span><span style=\"color: #008080; text-decoration-color: #008080; font-weight: bold\">0</span><span style=\"color: #000000; text-decoration-color: #000000\">,</span>\n",
       "<span style=\"color: #000000; text-decoration-color: #000000\">        </span><span style=\"color: #008000; text-decoration-color: #008000\">'othr'</span><span style=\"color: #000000; text-decoration-color: #000000\">: Traced&lt;</span><span style=\"color: #800080; text-decoration-color: #800080; font-weight: bold\">ShapedArray</span><span style=\"color: #000000; text-decoration-color: #000000; font-weight: bold\">(</span><span style=\"color: #000000; text-decoration-color: #000000\">float32</span><span style=\"color: #000000; text-decoration-color: #000000; font-weight: bold\">[</span><span style=\"color: #008080; text-decoration-color: #008080; font-weight: bold\">2</span><span style=\"color: #000000; text-decoration-color: #000000\">,</span><span style=\"color: #008080; text-decoration-color: #008080; font-weight: bold\">3</span><span style=\"color: #000000; text-decoration-color: #000000; font-weight: bold\">])</span><span style=\"color: #000000; text-decoration-color: #000000\">&gt;with&lt;</span><span style=\"color: #800080; text-decoration-color: #800080; font-weight: bold\">BatchTrace</span><span style=\"color: #000000; text-decoration-color: #000000; font-weight: bold\">(</span><span style=\"color: #808000; text-decoration-color: #808000\">level</span><span style=\"color: #000000; text-decoration-color: #000000\">=</span><span style=\"color: #008080; text-decoration-color: #008080; font-weight: bold\">1</span><span style=\"color: #000000; text-decoration-color: #000000\">/</span><span style=\"color: #008080; text-decoration-color: #008080; font-weight: bold\">0</span><span style=\"color: #000000; text-decoration-color: #000000; font-weight: bold\">)</span><span style=\"color: #000000; text-decoration-color: #000000\">&gt; with</span>\n",
       "<span style=\"color: #000000; text-decoration-color: #000000\">  val = </span><span style=\"color: #800080; text-decoration-color: #800080; font-weight: bold\">Array</span><span style=\"color: #000000; text-decoration-color: #000000; font-weight: bold\">([[[</span><span style=\"color: #008080; text-decoration-color: #008080; font-weight: bold\">0</span><span style=\"color: #000000; text-decoration-color: #000000\">., </span><span style=\"color: #008080; text-decoration-color: #008080; font-weight: bold\">0</span><span style=\"color: #000000; text-decoration-color: #000000\">., </span><span style=\"color: #008080; text-decoration-color: #008080; font-weight: bold\">0</span><span style=\"color: #000000; text-decoration-color: #000000\">.</span><span style=\"color: #000000; text-decoration-color: #000000; font-weight: bold\">]</span><span style=\"color: #000000; text-decoration-color: #000000\">,</span>\n",
       "<span style=\"color: #000000; text-decoration-color: #000000\">        </span><span style=\"color: #000000; text-decoration-color: #000000; font-weight: bold\">[</span><span style=\"color: #008080; text-decoration-color: #008080; font-weight: bold\">0</span><span style=\"color: #000000; text-decoration-color: #000000\">., </span><span style=\"color: #008080; text-decoration-color: #008080; font-weight: bold\">0</span><span style=\"color: #000000; text-decoration-color: #000000\">., </span><span style=\"color: #008080; text-decoration-color: #008080; font-weight: bold\">0</span><span style=\"color: #000000; text-decoration-color: #000000\">.</span><span style=\"color: #000000; text-decoration-color: #000000; font-weight: bold\">]]</span><span style=\"color: #000000; text-decoration-color: #000000\">,</span>\n",
       "\n",
       "<span style=\"color: #000000; text-decoration-color: #000000\">       </span><span style=\"color: #000000; text-decoration-color: #000000; font-weight: bold\">[[</span><span style=\"color: #008080; text-decoration-color: #008080; font-weight: bold\">0</span><span style=\"color: #000000; text-decoration-color: #000000\">., </span><span style=\"color: #008080; text-decoration-color: #008080; font-weight: bold\">0</span><span style=\"color: #000000; text-decoration-color: #000000\">., </span><span style=\"color: #008080; text-decoration-color: #008080; font-weight: bold\">0</span><span style=\"color: #000000; text-decoration-color: #000000\">.</span><span style=\"color: #000000; text-decoration-color: #000000; font-weight: bold\">]</span><span style=\"color: #000000; text-decoration-color: #000000\">,</span>\n",
       "<span style=\"color: #000000; text-decoration-color: #000000\">        </span><span style=\"color: #000000; text-decoration-color: #000000; font-weight: bold\">[</span><span style=\"color: #008080; text-decoration-color: #008080; font-weight: bold\">0</span><span style=\"color: #000000; text-decoration-color: #000000\">., </span><span style=\"color: #008080; text-decoration-color: #008080; font-weight: bold\">0</span><span style=\"color: #000000; text-decoration-color: #000000\">., </span><span style=\"color: #008080; text-decoration-color: #008080; font-weight: bold\">0</span><span style=\"color: #000000; text-decoration-color: #000000\">.</span><span style=\"color: #000000; text-decoration-color: #000000; font-weight: bold\">]]]</span><span style=\"color: #000000; text-decoration-color: #000000\">, </span><span style=\"color: #808000; text-decoration-color: #808000\">dtype</span><span style=\"color: #000000; text-decoration-color: #000000\">=</span><span style=\"color: #800080; text-decoration-color: #800080\">float32</span><span style=\"color: #000000; text-decoration-color: #000000; font-weight: bold\">)</span>\n",
       "<span style=\"color: #000000; text-decoration-color: #000000\">  batch_dim = </span><span style=\"color: #008080; text-decoration-color: #008080; font-weight: bold\">0</span>\n",
       "<span style=\"color: #000000; text-decoration-color: #000000\">    </span><span style=\"color: #000000; text-decoration-color: #000000; font-weight: bold\">}</span><span style=\"color: #000000; text-decoration-color: #000000\">,</span>\n",
       "<span style=\"color: #000000; text-decoration-color: #000000\">    </span><span style=\"color: #808000; text-decoration-color: #808000\">d_node_visits</span><span style=\"color: #000000; text-decoration-color: #000000\">=</span><span style=\"color: #800080; text-decoration-color: #800080\">Traced</span><span style=\"color: #000000; text-decoration-color: #000000\">&lt;</span><span style=\"color: #800080; text-decoration-color: #800080; font-weight: bold\">ShapedArray</span><span style=\"color: #000000; text-decoration-color: #000000; font-weight: bold\">(</span><span style=\"color: #000000; text-decoration-color: #000000\">int32</span><span style=\"color: #000000; text-decoration-color: #000000; font-weight: bold\">[</span><span style=\"color: #008080; text-decoration-color: #008080; font-weight: bold\">2</span><span style=\"color: #000000; text-decoration-color: #000000; font-weight: bold\">])</span><span style=\"color: #000000; text-decoration-color: #000000\">&gt;with&lt;</span><span style=\"color: #800080; text-decoration-color: #800080; font-weight: bold\">BatchTrace</span><span style=\"color: #000000; text-decoration-color: #000000; font-weight: bold\">(</span><span style=\"color: #808000; text-decoration-color: #808000\">level</span><span style=\"color: #000000; text-decoration-color: #000000\">=</span><span style=\"color: #008080; text-decoration-color: #008080; font-weight: bold\">1</span><span style=\"color: #000000; text-decoration-color: #000000\">/</span><span style=\"color: #008080; text-decoration-color: #008080; font-weight: bold\">0</span><span style=\"color: #000000; text-decoration-color: #000000; font-weight: bold\">)</span><span style=\"color: #000000; text-decoration-color: #000000\">&gt; with</span>\n",
       "<span style=\"color: #000000; text-decoration-color: #000000\">  val = </span><span style=\"color: #800080; text-decoration-color: #800080; font-weight: bold\">Array</span><span style=\"color: #000000; text-decoration-color: #000000; font-weight: bold\">([[</span><span style=\"color: #008080; text-decoration-color: #008080; font-weight: bold\">1</span><span style=\"color: #000000; text-decoration-color: #000000\">, </span><span style=\"color: #008080; text-decoration-color: #008080; font-weight: bold\">0</span><span style=\"color: #000000; text-decoration-color: #000000; font-weight: bold\">]</span><span style=\"color: #000000; text-decoration-color: #000000\">,</span>\n",
       "<span style=\"color: #000000; text-decoration-color: #000000\">       </span><span style=\"color: #000000; text-decoration-color: #000000; font-weight: bold\">[</span><span style=\"color: #008080; text-decoration-color: #008080; font-weight: bold\">1</span><span style=\"color: #000000; text-decoration-color: #000000\">, </span><span style=\"color: #008080; text-decoration-color: #008080; font-weight: bold\">0</span><span style=\"color: #000000; text-decoration-color: #000000; font-weight: bold\">]]</span><span style=\"color: #000000; text-decoration-color: #000000\">, </span><span style=\"color: #808000; text-decoration-color: #808000\">dtype</span><span style=\"color: #000000; text-decoration-color: #000000\">=</span><span style=\"color: #800080; text-decoration-color: #800080\">int32</span><span style=\"color: #000000; text-decoration-color: #000000; font-weight: bold\">)</span>\n",
       "<span style=\"color: #000000; text-decoration-color: #000000\">  batch_dim = </span><span style=\"color: #008080; text-decoration-color: #008080; font-weight: bold\">0</span><span style=\"color: #000000; text-decoration-color: #000000\">,</span>\n",
       "<span style=\"color: #000000; text-decoration-color: #000000\">    </span><span style=\"color: #808000; text-decoration-color: #808000\">d_node_raw_value</span><span style=\"color: #000000; text-decoration-color: #000000\">=</span><span style=\"color: #800080; text-decoration-color: #800080\">Traced</span><span style=\"color: #000000; text-decoration-color: #000000\">&lt;</span><span style=\"color: #800080; text-decoration-color: #800080; font-weight: bold\">ShapedArray</span><span style=\"color: #000000; text-decoration-color: #000000; font-weight: bold\">(</span><span style=\"color: #000000; text-decoration-color: #000000\">float32</span><span style=\"color: #000000; text-decoration-color: #000000; font-weight: bold\">[</span><span style=\"color: #008080; text-decoration-color: #008080; font-weight: bold\">2</span><span style=\"color: #000000; text-decoration-color: #000000; font-weight: bold\">])</span><span style=\"color: #000000; text-decoration-color: #000000\">&gt;with&lt;</span><span style=\"color: #800080; text-decoration-color: #800080; font-weight: bold\">BatchTrace</span><span style=\"color: #000000; text-decoration-color: #000000; font-weight: bold\">(</span><span style=\"color: #808000; text-decoration-color: #808000\">level</span><span style=\"color: #000000; text-decoration-color: #000000\">=</span><span style=\"color: #008080; text-decoration-color: #008080; font-weight: bold\">1</span><span style=\"color: #000000; text-decoration-color: #000000\">/</span><span style=\"color: #008080; text-decoration-color: #008080; font-weight: bold\">0</span><span style=\"color: #000000; text-decoration-color: #000000; font-weight: bold\">)</span><span style=\"color: #000000; text-decoration-color: #000000\">&gt; with</span>\n",
       "<span style=\"color: #000000; text-decoration-color: #000000\">  val = </span><span style=\"color: #800080; text-decoration-color: #800080; font-weight: bold\">Array</span><span style=\"color: #000000; text-decoration-color: #000000; font-weight: bold\">([[</span><span style=\"color: #008080; text-decoration-color: #008080; font-weight: bold\">1</span><span style=\"color: #000000; text-decoration-color: #000000\">., </span><span style=\"color: #008080; text-decoration-color: #008080; font-weight: bold\">0</span><span style=\"color: #000000; text-decoration-color: #000000\">.</span><span style=\"color: #000000; text-decoration-color: #000000; font-weight: bold\">]</span><span style=\"color: #000000; text-decoration-color: #000000\">,</span>\n",
       "<span style=\"color: #000000; text-decoration-color: #000000\">       </span><span style=\"color: #000000; text-decoration-color: #000000; font-weight: bold\">[</span><span style=\"color: #008080; text-decoration-color: #008080; font-weight: bold\">1</span><span style=\"color: #000000; text-decoration-color: #000000\">., </span><span style=\"color: #008080; text-decoration-color: #008080; font-weight: bold\">0</span><span style=\"color: #000000; text-decoration-color: #000000\">.</span><span style=\"color: #000000; text-decoration-color: #000000; font-weight: bold\">]]</span><span style=\"color: #000000; text-decoration-color: #000000\">, </span><span style=\"color: #808000; text-decoration-color: #808000\">dtype</span><span style=\"color: #000000; text-decoration-color: #000000\">=</span><span style=\"color: #800080; text-decoration-color: #800080\">float32</span><span style=\"color: #000000; text-decoration-color: #000000; font-weight: bold\">)</span>\n",
       "<span style=\"color: #000000; text-decoration-color: #000000\">  batch_dim = </span><span style=\"color: #008080; text-decoration-color: #008080; font-weight: bold\">0</span><span style=\"color: #000000; text-decoration-color: #000000\">,</span>\n",
       "<span style=\"color: #000000; text-decoration-color: #000000\">    </span><span style=\"color: #808000; text-decoration-color: #808000\">d_node_value</span><span style=\"color: #000000; text-decoration-color: #000000\">=</span><span style=\"color: #800080; text-decoration-color: #800080\">Traced</span><span style=\"color: #000000; text-decoration-color: #000000\">&lt;</span><span style=\"color: #800080; text-decoration-color: #800080; font-weight: bold\">ShapedArray</span><span style=\"color: #000000; text-decoration-color: #000000; font-weight: bold\">(</span><span style=\"color: #000000; text-decoration-color: #000000\">float32</span><span style=\"color: #000000; text-decoration-color: #000000; font-weight: bold\">[</span><span style=\"color: #008080; text-decoration-color: #008080; font-weight: bold\">2</span><span style=\"color: #000000; text-decoration-color: #000000; font-weight: bold\">])</span><span style=\"color: #000000; text-decoration-color: #000000\">&gt;with&lt;</span><span style=\"color: #800080; text-decoration-color: #800080; font-weight: bold\">BatchTrace</span><span style=\"color: #000000; text-decoration-color: #000000; font-weight: bold\">(</span><span style=\"color: #808000; text-decoration-color: #808000\">level</span><span style=\"color: #000000; text-decoration-color: #000000\">=</span><span style=\"color: #008080; text-decoration-color: #008080; font-weight: bold\">1</span><span style=\"color: #000000; text-decoration-color: #000000\">/</span><span style=\"color: #008080; text-decoration-color: #008080; font-weight: bold\">0</span><span style=\"color: #000000; text-decoration-color: #000000; font-weight: bold\">)</span><span style=\"color: #000000; text-decoration-color: #000000\">&gt; with</span>\n",
       "<span style=\"color: #000000; text-decoration-color: #000000\">  val = </span><span style=\"color: #800080; text-decoration-color: #800080; font-weight: bold\">Array</span><span style=\"color: #000000; text-decoration-color: #000000; font-weight: bold\">([[</span><span style=\"color: #008080; text-decoration-color: #008080; font-weight: bold\">1</span><span style=\"color: #000000; text-decoration-color: #000000\">., </span><span style=\"color: #008080; text-decoration-color: #008080; font-weight: bold\">0</span><span style=\"color: #000000; text-decoration-color: #000000\">.</span><span style=\"color: #000000; text-decoration-color: #000000; font-weight: bold\">]</span><span style=\"color: #000000; text-decoration-color: #000000\">,</span>\n",
       "<span style=\"color: #000000; text-decoration-color: #000000\">       </span><span style=\"color: #000000; text-decoration-color: #000000; font-weight: bold\">[</span><span style=\"color: #008080; text-decoration-color: #008080; font-weight: bold\">1</span><span style=\"color: #000000; text-decoration-color: #000000\">., </span><span style=\"color: #008080; text-decoration-color: #008080; font-weight: bold\">0</span><span style=\"color: #000000; text-decoration-color: #000000\">.</span><span style=\"color: #000000; text-decoration-color: #000000; font-weight: bold\">]]</span><span style=\"color: #000000; text-decoration-color: #000000\">, </span><span style=\"color: #808000; text-decoration-color: #808000\">dtype</span><span style=\"color: #000000; text-decoration-color: #000000\">=</span><span style=\"color: #800080; text-decoration-color: #800080\">float32</span><span style=\"color: #000000; text-decoration-color: #000000; font-weight: bold\">)</span>\n",
       "<span style=\"color: #000000; text-decoration-color: #000000\">  batch_dim = </span><span style=\"color: #008080; text-decoration-color: #008080; font-weight: bold\">0</span><span style=\"color: #000000; text-decoration-color: #000000\">,</span>\n",
       "<span style=\"color: #000000; text-decoration-color: #000000\">    </span><span style=\"color: #808000; text-decoration-color: #808000\">d_node_prior_policy_logits</span><span style=\"color: #000000; text-decoration-color: #000000\">=</span><span style=\"color: #800080; text-decoration-color: #800080\">Traced</span><span style=\"color: #000000; text-decoration-color: #000000\">&lt;</span><span style=\"color: #800080; text-decoration-color: #800080; font-weight: bold\">ShapedArray</span><span style=\"color: #000000; text-decoration-color: #000000; font-weight: bold\">(</span><span style=\"color: #000000; text-decoration-color: #000000\">float32</span><span style=\"color: #000000; text-decoration-color: #000000; font-weight: bold\">[</span><span style=\"color: #008080; text-decoration-color: #008080; font-weight: bold\">2</span><span style=\"color: #000000; text-decoration-color: #000000\">,</span><span style=\"color: #008080; text-decoration-color: #008080; font-weight: bold\">3</span><span style=\"color: #000000; text-decoration-color: #000000; font-weight: bold\">])</span><span style=\"color: #000000; text-decoration-color: #000000\">&gt;with&lt;</span><span style=\"color: #800080; text-decoration-color: #800080; font-weight: bold\">BatchTrace</span><span style=\"color: #000000; text-decoration-color: #000000; font-weight: bold\">(</span><span style=\"color: #808000; text-decoration-color: #808000\">level</span><span style=\"color: #000000; text-decoration-color: #000000\">=</span><span style=\"color: #008080; text-decoration-color: #008080; font-weight: bold\">1</span><span style=\"color: #000000; text-decoration-color: #000000\">/</span><span style=\"color: #008080; text-decoration-color: #008080; font-weight: bold\">0</span><span style=\"color: #000000; text-decoration-color: #000000; font-weight: bold\">)</span><span style=\"color: #000000; text-decoration-color: #000000\">&gt; with</span>\n",
       "<span style=\"color: #000000; text-decoration-color: #000000\">  val = </span><span style=\"color: #800080; text-decoration-color: #800080; font-weight: bold\">Array</span><span style=\"color: #000000; text-decoration-color: #000000; font-weight: bold\">([[[</span><span style=\"color: #008080; text-decoration-color: #008080; font-weight: bold\">0.5</span><span style=\"color: #000000; text-decoration-color: #000000\">, </span><span style=\"color: #008080; text-decoration-color: #008080; font-weight: bold\">0.5</span><span style=\"color: #000000; text-decoration-color: #000000\">, </span><span style=\"color: #008080; text-decoration-color: #008080; font-weight: bold\">0.5</span><span style=\"color: #000000; text-decoration-color: #000000; font-weight: bold\">]</span><span style=\"color: #000000; text-decoration-color: #000000\">,</span>\n",
       "<span style=\"color: #000000; text-decoration-color: #000000\">        </span><span style=\"color: #000000; text-decoration-color: #000000; font-weight: bold\">[</span><span style=\"color: #008080; text-decoration-color: #008080; font-weight: bold\">0</span><span style=\"color: #000000; text-decoration-color: #000000\">. , </span><span style=\"color: #008080; text-decoration-color: #008080; font-weight: bold\">0</span><span style=\"color: #000000; text-decoration-color: #000000\">. , </span><span style=\"color: #008080; text-decoration-color: #008080; font-weight: bold\">0</span><span style=\"color: #000000; text-decoration-color: #000000\">. </span><span style=\"color: #000000; text-decoration-color: #000000; font-weight: bold\">]]</span><span style=\"color: #000000; text-decoration-color: #000000\">,</span>\n",
       "\n",
       "<span style=\"color: #000000; text-decoration-color: #000000\">       </span><span style=\"color: #000000; text-decoration-color: #000000; font-weight: bold\">[[</span><span style=\"color: #008080; text-decoration-color: #008080; font-weight: bold\">0.5</span><span style=\"color: #000000; text-decoration-color: #000000\">, </span><span style=\"color: #008080; text-decoration-color: #008080; font-weight: bold\">0.5</span><span style=\"color: #000000; text-decoration-color: #000000\">, </span><span style=\"color: #008080; text-decoration-color: #008080; font-weight: bold\">0.5</span><span style=\"color: #000000; text-decoration-color: #000000; font-weight: bold\">]</span><span style=\"color: #000000; text-decoration-color: #000000\">,</span>\n",
       "<span style=\"color: #000000; text-decoration-color: #000000\">        </span><span style=\"color: #000000; text-decoration-color: #000000; font-weight: bold\">[</span><span style=\"color: #008080; text-decoration-color: #008080; font-weight: bold\">0</span><span style=\"color: #000000; text-decoration-color: #000000\">. , </span><span style=\"color: #008080; text-decoration-color: #008080; font-weight: bold\">0</span><span style=\"color: #000000; text-decoration-color: #000000\">. , </span><span style=\"color: #008080; text-decoration-color: #008080; font-weight: bold\">0</span><span style=\"color: #000000; text-decoration-color: #000000\">. </span><span style=\"color: #000000; text-decoration-color: #000000; font-weight: bold\">]]]</span><span style=\"color: #000000; text-decoration-color: #000000\">, </span><span style=\"color: #808000; text-decoration-color: #808000\">dtype</span><span style=\"color: #000000; text-decoration-color: #000000\">=</span><span style=\"color: #800080; text-decoration-color: #800080\">float32</span><span style=\"color: #000000; text-decoration-color: #000000; font-weight: bold\">)</span>\n",
       "<span style=\"color: #000000; text-decoration-color: #000000\">  batch_dim = </span><span style=\"color: #008080; text-decoration-color: #008080; font-weight: bold\">0</span><span style=\"color: #000000; text-decoration-color: #000000\">,</span>\n",
       "<span style=\"color: #000000; text-decoration-color: #000000\">    </span><span style=\"color: #808000; text-decoration-color: #808000\">d_node_parent_index</span><span style=\"color: #000000; text-decoration-color: #000000\">=</span><span style=\"color: #800080; text-decoration-color: #800080\">Traced</span><span style=\"color: #000000; text-decoration-color: #000000\">&lt;</span><span style=\"color: #800080; text-decoration-color: #800080; font-weight: bold\">ShapedArray</span><span style=\"color: #000000; text-decoration-color: #000000; font-weight: bold\">(</span><span style=\"color: #000000; text-decoration-color: #000000\">int32</span><span style=\"color: #000000; text-decoration-color: #000000; font-weight: bold\">[</span><span style=\"color: #008080; text-decoration-color: #008080; font-weight: bold\">2</span><span style=\"color: #000000; text-decoration-color: #000000; font-weight: bold\">])</span><span style=\"color: #000000; text-decoration-color: #000000\">&gt;with&lt;</span><span style=\"color: #800080; text-decoration-color: #800080; font-weight: bold\">BatchTrace</span><span style=\"color: #000000; text-decoration-color: #000000; font-weight: bold\">(</span><span style=\"color: #808000; text-decoration-color: #808000\">level</span><span style=\"color: #000000; text-decoration-color: #000000\">=</span><span style=\"color: #008080; text-decoration-color: #008080; font-weight: bold\">1</span><span style=\"color: #000000; text-decoration-color: #000000\">/</span><span style=\"color: #008080; text-decoration-color: #008080; font-weight: bold\">0</span><span style=\"color: #000000; text-decoration-color: #000000; font-weight: bold\">)</span><span style=\"color: #000000; text-decoration-color: #000000\">&gt; with</span>\n",
       "<span style=\"color: #000000; text-decoration-color: #000000\">  val = </span><span style=\"color: #800080; text-decoration-color: #800080; font-weight: bold\">Array</span><span style=\"color: #000000; text-decoration-color: #000000; font-weight: bold\">([[</span><span style=\"color: #008080; text-decoration-color: #008080; font-weight: bold\">-1</span><span style=\"color: #000000; text-decoration-color: #000000\">, </span><span style=\"color: #008080; text-decoration-color: #008080; font-weight: bold\">-1</span><span style=\"color: #000000; text-decoration-color: #000000; font-weight: bold\">]</span><span style=\"color: #000000; text-decoration-color: #000000\">,</span>\n",
       "<span style=\"color: #000000; text-decoration-color: #000000\">       </span><span style=\"color: #000000; text-decoration-color: #000000; font-weight: bold\">[</span><span style=\"color: #008080; text-decoration-color: #008080; font-weight: bold\">-1</span><span style=\"color: #000000; text-decoration-color: #000000\">, </span><span style=\"color: #008080; text-decoration-color: #008080; font-weight: bold\">-1</span><span style=\"color: #000000; text-decoration-color: #000000; font-weight: bold\">]]</span><span style=\"color: #000000; text-decoration-color: #000000\">, </span><span style=\"color: #808000; text-decoration-color: #808000\">dtype</span><span style=\"color: #000000; text-decoration-color: #000000\">=</span><span style=\"color: #800080; text-decoration-color: #800080\">int32</span><span style=\"color: #000000; text-decoration-color: #000000; font-weight: bold\">)</span>\n",
       "<span style=\"color: #000000; text-decoration-color: #000000\">  batch_dim = </span><span style=\"color: #008080; text-decoration-color: #008080; font-weight: bold\">0</span><span style=\"color: #000000; text-decoration-color: #000000\">,</span>\n",
       "<span style=\"color: #000000; text-decoration-color: #000000\">    </span><span style=\"color: #808000; text-decoration-color: #808000\">d_node_children_index</span><span style=\"color: #000000; text-decoration-color: #000000\">=</span><span style=\"color: #800080; text-decoration-color: #800080\">Traced</span><span style=\"color: #000000; text-decoration-color: #000000\">&lt;</span><span style=\"color: #800080; text-decoration-color: #800080; font-weight: bold\">ShapedArray</span><span style=\"color: #000000; text-decoration-color: #000000; font-weight: bold\">(</span><span style=\"color: #000000; text-decoration-color: #000000\">int32</span><span style=\"color: #000000; text-decoration-color: #000000; font-weight: bold\">[</span><span style=\"color: #008080; text-decoration-color: #008080; font-weight: bold\">2</span><span style=\"color: #000000; text-decoration-color: #000000\">,</span><span style=\"color: #008080; text-decoration-color: #008080; font-weight: bold\">3</span><span style=\"color: #000000; text-decoration-color: #000000; font-weight: bold\">])</span><span style=\"color: #000000; text-decoration-color: #000000\">&gt;with&lt;</span><span style=\"color: #800080; text-decoration-color: #800080; font-weight: bold\">BatchTrace</span><span style=\"color: #000000; text-decoration-color: #000000; font-weight: bold\">(</span><span style=\"color: #808000; text-decoration-color: #808000\">level</span><span style=\"color: #000000; text-decoration-color: #000000\">=</span><span style=\"color: #008080; text-decoration-color: #008080; font-weight: bold\">1</span><span style=\"color: #000000; text-decoration-color: #000000\">/</span><span style=\"color: #008080; text-decoration-color: #008080; font-weight: bold\">0</span><span style=\"color: #000000; text-decoration-color: #000000; font-weight: bold\">)</span><span style=\"color: #000000; text-decoration-color: #000000\">&gt; with</span>\n",
       "<span style=\"color: #000000; text-decoration-color: #000000\">  val = </span><span style=\"color: #800080; text-decoration-color: #800080; font-weight: bold\">Array</span><span style=\"color: #000000; text-decoration-color: #000000; font-weight: bold\">([[[</span><span style=\"color: #008080; text-decoration-color: #008080; font-weight: bold\">-1</span><span style=\"color: #000000; text-decoration-color: #000000\">, </span><span style=\"color: #008080; text-decoration-color: #008080; font-weight: bold\">-1</span><span style=\"color: #000000; text-decoration-color: #000000\">, </span><span style=\"color: #008080; text-decoration-color: #008080; font-weight: bold\">-1</span><span style=\"color: #000000; text-decoration-color: #000000; font-weight: bold\">]</span><span style=\"color: #000000; text-decoration-color: #000000\">,</span>\n",
       "<span style=\"color: #000000; text-decoration-color: #000000\">        </span><span style=\"color: #000000; text-decoration-color: #000000; font-weight: bold\">[</span><span style=\"color: #008080; text-decoration-color: #008080; font-weight: bold\">-1</span><span style=\"color: #000000; text-decoration-color: #000000\">, </span><span style=\"color: #008080; text-decoration-color: #008080; font-weight: bold\">-1</span><span style=\"color: #000000; text-decoration-color: #000000\">, </span><span style=\"color: #008080; text-decoration-color: #008080; font-weight: bold\">-1</span><span style=\"color: #000000; text-decoration-color: #000000; font-weight: bold\">]]</span><span style=\"color: #000000; text-decoration-color: #000000\">,</span>\n",
       "\n",
       "<span style=\"color: #000000; text-decoration-color: #000000\">       </span><span style=\"color: #000000; text-decoration-color: #000000; font-weight: bold\">[[</span><span style=\"color: #008080; text-decoration-color: #008080; font-weight: bold\">-1</span><span style=\"color: #000000; text-decoration-color: #000000\">, </span><span style=\"color: #008080; text-decoration-color: #008080; font-weight: bold\">-1</span><span style=\"color: #000000; text-decoration-color: #000000\">, </span><span style=\"color: #008080; text-decoration-color: #008080; font-weight: bold\">-1</span><span style=\"color: #000000; text-decoration-color: #000000; font-weight: bold\">]</span><span style=\"color: #000000; text-decoration-color: #000000\">,</span>\n",
       "<span style=\"color: #000000; text-decoration-color: #000000\">        </span><span style=\"color: #000000; text-decoration-color: #000000; font-weight: bold\">[</span><span style=\"color: #008080; text-decoration-color: #008080; font-weight: bold\">-1</span><span style=\"color: #000000; text-decoration-color: #000000\">, </span><span style=\"color: #008080; text-decoration-color: #008080; font-weight: bold\">-1</span><span style=\"color: #000000; text-decoration-color: #000000\">, </span><span style=\"color: #008080; text-decoration-color: #008080; font-weight: bold\">-1</span><span style=\"color: #000000; text-decoration-color: #000000; font-weight: bold\">]]]</span><span style=\"color: #000000; text-decoration-color: #000000\">, </span><span style=\"color: #808000; text-decoration-color: #808000\">dtype</span><span style=\"color: #000000; text-decoration-color: #000000\">=</span><span style=\"color: #800080; text-decoration-color: #800080\">int32</span><span style=\"color: #000000; text-decoration-color: #000000; font-weight: bold\">)</span>\n",
       "<span style=\"color: #000000; text-decoration-color: #000000\">  batch_dim = </span><span style=\"color: #008080; text-decoration-color: #008080; font-weight: bold\">0</span><span style=\"color: #000000; text-decoration-color: #000000\">,</span>\n",
       "<span style=\"color: #000000; text-decoration-color: #000000\">    </span><span style=\"color: #808000; text-decoration-color: #808000\">c_node_action</span><span style=\"color: #000000; text-decoration-color: #000000\">=</span><span style=\"color: #800080; text-decoration-color: #800080\">Traced</span><span style=\"color: #000000; text-decoration-color: #000000\">&lt;</span><span style=\"color: #800080; text-decoration-color: #800080; font-weight: bold\">ShapedArray</span><span style=\"color: #000000; text-decoration-color: #000000; font-weight: bold\">(</span><span style=\"color: #000000; text-decoration-color: #000000\">int32</span><span style=\"color: #000000; text-decoration-color: #000000; font-weight: bold\">[</span><span style=\"color: #008080; text-decoration-color: #008080; font-weight: bold\">2</span><span style=\"color: #000000; text-decoration-color: #000000; font-weight: bold\">])</span><span style=\"color: #000000; text-decoration-color: #000000\">&gt;with&lt;</span><span style=\"color: #800080; text-decoration-color: #800080; font-weight: bold\">BatchTrace</span><span style=\"color: #000000; text-decoration-color: #000000; font-weight: bold\">(</span><span style=\"color: #808000; text-decoration-color: #808000\">level</span><span style=\"color: #000000; text-decoration-color: #000000\">=</span><span style=\"color: #008080; text-decoration-color: #008080; font-weight: bold\">1</span><span style=\"color: #000000; text-decoration-color: #000000\">/</span><span style=\"color: #008080; text-decoration-color: #008080; font-weight: bold\">0</span><span style=\"color: #000000; text-decoration-color: #000000; font-weight: bold\">)</span><span style=\"color: #000000; text-decoration-color: #000000\">&gt; with</span>\n",
       "<span style=\"color: #000000; text-decoration-color: #000000\">  val = </span><span style=\"color: #800080; text-decoration-color: #800080; font-weight: bold\">Array</span><span style=\"color: #000000; text-decoration-color: #000000; font-weight: bold\">([[</span><span style=\"color: #008080; text-decoration-color: #008080; font-weight: bold\">0</span><span style=\"color: #000000; text-decoration-color: #000000\">, </span><span style=\"color: #008080; text-decoration-color: #008080; font-weight: bold\">0</span><span style=\"color: #000000; text-decoration-color: #000000; font-weight: bold\">]</span><span style=\"color: #000000; text-decoration-color: #000000\">,</span>\n",
       "<span style=\"color: #000000; text-decoration-color: #000000\">       </span><span style=\"color: #000000; text-decoration-color: #000000; font-weight: bold\">[</span><span style=\"color: #008080; text-decoration-color: #008080; font-weight: bold\">0</span><span style=\"color: #000000; text-decoration-color: #000000\">, </span><span style=\"color: #008080; text-decoration-color: #008080; font-weight: bold\">0</span><span style=\"color: #000000; text-decoration-color: #000000; font-weight: bold\">]]</span><span style=\"color: #000000; text-decoration-color: #000000\">, </span><span style=\"color: #808000; text-decoration-color: #808000\">dtype</span><span style=\"color: #000000; text-decoration-color: #000000\">=</span><span style=\"color: #800080; text-decoration-color: #800080\">int32</span><span style=\"color: #000000; text-decoration-color: #000000; font-weight: bold\">)</span>\n",
       "<span style=\"color: #000000; text-decoration-color: #000000\">  batch_dim = </span><span style=\"color: #008080; text-decoration-color: #008080; font-weight: bold\">0</span><span style=\"color: #000000; text-decoration-color: #000000\">,</span>\n",
       "<span style=\"color: #000000; text-decoration-color: #000000\">    </span><span style=\"color: #808000; text-decoration-color: #808000\">c_node_visits</span><span style=\"color: #000000; text-decoration-color: #000000\">=</span><span style=\"color: #800080; text-decoration-color: #800080\">Traced</span><span style=\"color: #000000; text-decoration-color: #000000\">&lt;</span><span style=\"color: #800080; text-decoration-color: #800080; font-weight: bold\">ShapedArray</span><span style=\"color: #000000; text-decoration-color: #000000; font-weight: bold\">(</span><span style=\"color: #000000; text-decoration-color: #000000\">int32</span><span style=\"color: #000000; text-decoration-color: #000000; font-weight: bold\">[</span><span style=\"color: #008080; text-decoration-color: #008080; font-weight: bold\">2</span><span style=\"color: #000000; text-decoration-color: #000000; font-weight: bold\">])</span><span style=\"color: #000000; text-decoration-color: #000000\">&gt;with&lt;</span><span style=\"color: #800080; text-decoration-color: #800080; font-weight: bold\">BatchTrace</span><span style=\"color: #000000; text-decoration-color: #000000; font-weight: bold\">(</span><span style=\"color: #808000; text-decoration-color: #808000\">level</span><span style=\"color: #000000; text-decoration-color: #000000\">=</span><span style=\"color: #008080; text-decoration-color: #008080; font-weight: bold\">1</span><span style=\"color: #000000; text-decoration-color: #000000\">/</span><span style=\"color: #008080; text-decoration-color: #008080; font-weight: bold\">0</span><span style=\"color: #000000; text-decoration-color: #000000; font-weight: bold\">)</span><span style=\"color: #000000; text-decoration-color: #000000\">&gt; with</span>\n",
       "<span style=\"color: #000000; text-decoration-color: #000000\">  val = </span><span style=\"color: #800080; text-decoration-color: #800080; font-weight: bold\">Array</span><span style=\"color: #000000; text-decoration-color: #000000; font-weight: bold\">([[</span><span style=\"color: #008080; text-decoration-color: #008080; font-weight: bold\">0</span><span style=\"color: #000000; text-decoration-color: #000000\">, </span><span style=\"color: #008080; text-decoration-color: #008080; font-weight: bold\">0</span><span style=\"color: #000000; text-decoration-color: #000000; font-weight: bold\">]</span><span style=\"color: #000000; text-decoration-color: #000000\">,</span>\n",
       "<span style=\"color: #000000; text-decoration-color: #000000\">       </span><span style=\"color: #000000; text-decoration-color: #000000; font-weight: bold\">[</span><span style=\"color: #008080; text-decoration-color: #008080; font-weight: bold\">0</span><span style=\"color: #000000; text-decoration-color: #000000\">, </span><span style=\"color: #008080; text-decoration-color: #008080; font-weight: bold\">0</span><span style=\"color: #000000; text-decoration-color: #000000; font-weight: bold\">]]</span><span style=\"color: #000000; text-decoration-color: #000000\">, </span><span style=\"color: #808000; text-decoration-color: #808000\">dtype</span><span style=\"color: #000000; text-decoration-color: #000000\">=</span><span style=\"color: #800080; text-decoration-color: #800080\">int32</span><span style=\"color: #000000; text-decoration-color: #000000; font-weight: bold\">)</span>\n",
       "<span style=\"color: #000000; text-decoration-color: #000000\">  batch_dim = </span><span style=\"color: #008080; text-decoration-color: #008080; font-weight: bold\">0</span><span style=\"color: #000000; text-decoration-color: #000000\">,</span>\n",
       "<span style=\"color: #000000; text-decoration-color: #000000\">    </span><span style=\"color: #808000; text-decoration-color: #808000\">c_node_reward</span><span style=\"color: #000000; text-decoration-color: #000000\">=</span><span style=\"color: #800080; text-decoration-color: #800080\">Traced</span><span style=\"color: #000000; text-decoration-color: #000000\">&lt;</span><span style=\"color: #800080; text-decoration-color: #800080; font-weight: bold\">ShapedArray</span><span style=\"color: #000000; text-decoration-color: #000000; font-weight: bold\">(</span><span style=\"color: #000000; text-decoration-color: #000000\">float32</span><span style=\"color: #000000; text-decoration-color: #000000; font-weight: bold\">[</span><span style=\"color: #008080; text-decoration-color: #008080; font-weight: bold\">2</span><span style=\"color: #000000; text-decoration-color: #000000; font-weight: bold\">])</span><span style=\"color: #000000; text-decoration-color: #000000\">&gt;with&lt;</span><span style=\"color: #800080; text-decoration-color: #800080; font-weight: bold\">BatchTrace</span><span style=\"color: #000000; text-decoration-color: #000000; font-weight: bold\">(</span><span style=\"color: #808000; text-decoration-color: #808000\">level</span><span style=\"color: #000000; text-decoration-color: #000000\">=</span><span style=\"color: #008080; text-decoration-color: #008080; font-weight: bold\">1</span><span style=\"color: #000000; text-decoration-color: #000000\">/</span><span style=\"color: #008080; text-decoration-color: #008080; font-weight: bold\">0</span><span style=\"color: #000000; text-decoration-color: #000000; font-weight: bold\">)</span><span style=\"color: #000000; text-decoration-color: #000000\">&gt; with</span>\n",
       "<span style=\"color: #000000; text-decoration-color: #000000\">  val = </span><span style=\"color: #800080; text-decoration-color: #800080; font-weight: bold\">Array</span><span style=\"color: #000000; text-decoration-color: #000000; font-weight: bold\">([[</span><span style=\"color: #008080; text-decoration-color: #008080; font-weight: bold\">0</span><span style=\"color: #000000; text-decoration-color: #000000\">., </span><span style=\"color: #008080; text-decoration-color: #008080; font-weight: bold\">0</span><span style=\"color: #000000; text-decoration-color: #000000\">.</span><span style=\"color: #000000; text-decoration-color: #000000; font-weight: bold\">]</span><span style=\"color: #000000; text-decoration-color: #000000\">,</span>\n",
       "<span style=\"color: #000000; text-decoration-color: #000000\">       </span><span style=\"color: #000000; text-decoration-color: #000000; font-weight: bold\">[</span><span style=\"color: #008080; text-decoration-color: #008080; font-weight: bold\">0</span><span style=\"color: #000000; text-decoration-color: #000000\">., </span><span style=\"color: #008080; text-decoration-color: #008080; font-weight: bold\">0</span><span style=\"color: #000000; text-decoration-color: #000000\">.</span><span style=\"color: #000000; text-decoration-color: #000000; font-weight: bold\">]]</span><span style=\"color: #000000; text-decoration-color: #000000\">, </span><span style=\"color: #808000; text-decoration-color: #808000\">dtype</span><span style=\"color: #000000; text-decoration-color: #000000\">=</span><span style=\"color: #800080; text-decoration-color: #800080\">float32</span><span style=\"color: #000000; text-decoration-color: #000000; font-weight: bold\">)</span>\n",
       "<span style=\"color: #000000; text-decoration-color: #000000\">  batch_dim = </span><span style=\"color: #008080; text-decoration-color: #008080; font-weight: bold\">0</span><span style=\"color: #000000; text-decoration-color: #000000\">,</span>\n",
       "<span style=\"color: #000000; text-decoration-color: #000000\">    </span><span style=\"color: #808000; text-decoration-color: #808000\">c_node_raw_value</span><span style=\"color: #000000; text-decoration-color: #000000\">=</span><span style=\"color: #800080; text-decoration-color: #800080\">Traced</span><span style=\"color: #000000; text-decoration-color: #000000\">&lt;</span><span style=\"color: #800080; text-decoration-color: #800080; font-weight: bold\">ShapedArray</span><span style=\"color: #000000; text-decoration-color: #000000; font-weight: bold\">(</span><span style=\"color: #000000; text-decoration-color: #000000\">float32</span><span style=\"color: #000000; text-decoration-color: #000000; font-weight: bold\">[</span><span style=\"color: #008080; text-decoration-color: #008080; font-weight: bold\">2</span><span style=\"color: #000000; text-decoration-color: #000000; font-weight: bold\">])</span><span style=\"color: #000000; text-decoration-color: #000000\">&gt;with&lt;</span><span style=\"color: #800080; text-decoration-color: #800080; font-weight: bold\">BatchTrace</span><span style=\"color: #000000; text-decoration-color: #000000; font-weight: bold\">(</span><span style=\"color: #808000; text-decoration-color: #808000\">level</span><span style=\"color: #000000; text-decoration-color: #000000\">=</span><span style=\"color: #008080; text-decoration-color: #008080; font-weight: bold\">1</span><span style=\"color: #000000; text-decoration-color: #000000\">/</span><span style=\"color: #008080; text-decoration-color: #008080; font-weight: bold\">0</span><span style=\"color: #000000; text-decoration-color: #000000; font-weight: bold\">)</span><span style=\"color: #000000; text-decoration-color: #000000\">&gt; with</span>\n",
       "<span style=\"color: #000000; text-decoration-color: #000000\">  val = </span><span style=\"color: #800080; text-decoration-color: #800080; font-weight: bold\">Array</span><span style=\"color: #000000; text-decoration-color: #000000; font-weight: bold\">([[</span><span style=\"color: #008080; text-decoration-color: #008080; font-weight: bold\">0</span><span style=\"color: #000000; text-decoration-color: #000000\">., </span><span style=\"color: #008080; text-decoration-color: #008080; font-weight: bold\">0</span><span style=\"color: #000000; text-decoration-color: #000000\">.</span><span style=\"color: #000000; text-decoration-color: #000000; font-weight: bold\">]</span><span style=\"color: #000000; text-decoration-color: #000000\">,</span>\n",
       "<span style=\"color: #000000; text-decoration-color: #000000\">       </span><span style=\"color: #000000; text-decoration-color: #000000; font-weight: bold\">[</span><span style=\"color: #008080; text-decoration-color: #008080; font-weight: bold\">0</span><span style=\"color: #000000; text-decoration-color: #000000\">., </span><span style=\"color: #008080; text-decoration-color: #008080; font-weight: bold\">0</span><span style=\"color: #000000; text-decoration-color: #000000\">.</span><span style=\"color: #000000; text-decoration-color: #000000; font-weight: bold\">]]</span><span style=\"color: #000000; text-decoration-color: #000000\">, </span><span style=\"color: #808000; text-decoration-color: #808000\">dtype</span><span style=\"color: #000000; text-decoration-color: #000000\">=</span><span style=\"color: #800080; text-decoration-color: #800080\">float32</span><span style=\"color: #000000; text-decoration-color: #000000; font-weight: bold\">)</span>\n",
       "<span style=\"color: #000000; text-decoration-color: #000000\">  batch_dim = </span><span style=\"color: #008080; text-decoration-color: #008080; font-weight: bold\">0</span><span style=\"color: #000000; text-decoration-color: #000000\">,</span>\n",
       "<span style=\"color: #000000; text-decoration-color: #000000\">    </span><span style=\"color: #808000; text-decoration-color: #808000\">c_node_value</span><span style=\"color: #000000; text-decoration-color: #000000\">=</span><span style=\"color: #800080; text-decoration-color: #800080\">Traced</span><span style=\"color: #000000; text-decoration-color: #000000\">&lt;</span><span style=\"color: #800080; text-decoration-color: #800080; font-weight: bold\">ShapedArray</span><span style=\"color: #000000; text-decoration-color: #000000; font-weight: bold\">(</span><span style=\"color: #000000; text-decoration-color: #000000\">float32</span><span style=\"color: #000000; text-decoration-color: #000000; font-weight: bold\">[</span><span style=\"color: #008080; text-decoration-color: #008080; font-weight: bold\">2</span><span style=\"color: #000000; text-decoration-color: #000000; font-weight: bold\">])</span><span style=\"color: #000000; text-decoration-color: #000000\">&gt;with&lt;</span><span style=\"color: #800080; text-decoration-color: #800080; font-weight: bold\">BatchTrace</span><span style=\"color: #000000; text-decoration-color: #000000; font-weight: bold\">(</span><span style=\"color: #808000; text-decoration-color: #808000\">level</span><span style=\"color: #000000; text-decoration-color: #000000\">=</span><span style=\"color: #008080; text-decoration-color: #008080; font-weight: bold\">1</span><span style=\"color: #000000; text-decoration-color: #000000\">/</span><span style=\"color: #008080; text-decoration-color: #008080; font-weight: bold\">0</span><span style=\"color: #000000; text-decoration-color: #000000; font-weight: bold\">)</span><span style=\"color: #000000; text-decoration-color: #000000\">&gt; with</span>\n",
       "<span style=\"color: #000000; text-decoration-color: #000000\">  val = </span><span style=\"color: #800080; text-decoration-color: #800080; font-weight: bold\">Array</span><span style=\"color: #000000; text-decoration-color: #000000; font-weight: bold\">([[</span><span style=\"color: #008080; text-decoration-color: #008080; font-weight: bold\">0</span><span style=\"color: #000000; text-decoration-color: #000000\">., </span><span style=\"color: #008080; text-decoration-color: #008080; font-weight: bold\">0</span><span style=\"color: #000000; text-decoration-color: #000000\">.</span><span style=\"color: #000000; text-decoration-color: #000000; font-weight: bold\">]</span><span style=\"color: #000000; text-decoration-color: #000000\">,</span>\n",
       "<span style=\"color: #000000; text-decoration-color: #000000\">       </span><span style=\"color: #000000; text-decoration-color: #000000; font-weight: bold\">[</span><span style=\"color: #008080; text-decoration-color: #008080; font-weight: bold\">0</span><span style=\"color: #000000; text-decoration-color: #000000\">., </span><span style=\"color: #008080; text-decoration-color: #008080; font-weight: bold\">0</span><span style=\"color: #000000; text-decoration-color: #000000\">.</span><span style=\"color: #000000; text-decoration-color: #000000; font-weight: bold\">]]</span><span style=\"color: #000000; text-decoration-color: #000000\">, </span><span style=\"color: #808000; text-decoration-color: #808000\">dtype</span><span style=\"color: #000000; text-decoration-color: #000000\">=</span><span style=\"color: #800080; text-decoration-color: #800080\">float32</span><span style=\"color: #000000; text-decoration-color: #000000; font-weight: bold\">)</span>\n",
       "<span style=\"color: #000000; text-decoration-color: #000000\">  batch_dim = </span><span style=\"color: #008080; text-decoration-color: #008080; font-weight: bold\">0</span><span style=\"color: #000000; text-decoration-color: #000000\">,</span>\n",
       "<span style=\"color: #000000; text-decoration-color: #000000\">    </span><span style=\"color: #808000; text-decoration-color: #808000\">c_node_discount</span><span style=\"color: #000000; text-decoration-color: #000000\">=</span><span style=\"color: #800080; text-decoration-color: #800080\">Traced</span><span style=\"color: #000000; text-decoration-color: #000000\">&lt;</span><span style=\"color: #800080; text-decoration-color: #800080; font-weight: bold\">ShapedArray</span><span style=\"color: #000000; text-decoration-color: #000000; font-weight: bold\">(</span><span style=\"color: #000000; text-decoration-color: #000000\">float32</span><span style=\"color: #000000; text-decoration-color: #000000; font-weight: bold\">[</span><span style=\"color: #008080; text-decoration-color: #008080; font-weight: bold\">2</span><span style=\"color: #000000; text-decoration-color: #000000; font-weight: bold\">])</span><span style=\"color: #000000; text-decoration-color: #000000\">&gt;with&lt;</span><span style=\"color: #800080; text-decoration-color: #800080; font-weight: bold\">BatchTrace</span><span style=\"color: #000000; text-decoration-color: #000000; font-weight: bold\">(</span><span style=\"color: #808000; text-decoration-color: #808000\">level</span><span style=\"color: #000000; text-decoration-color: #000000\">=</span><span style=\"color: #008080; text-decoration-color: #008080; font-weight: bold\">1</span><span style=\"color: #000000; text-decoration-color: #000000\">/</span><span style=\"color: #008080; text-decoration-color: #008080; font-weight: bold\">0</span><span style=\"color: #000000; text-decoration-color: #000000; font-weight: bold\">)</span><span style=\"color: #000000; text-decoration-color: #000000\">&gt; with</span>\n",
       "<span style=\"color: #000000; text-decoration-color: #000000\">  val = </span><span style=\"color: #800080; text-decoration-color: #800080; font-weight: bold\">Array</span><span style=\"color: #000000; text-decoration-color: #000000; font-weight: bold\">([[</span><span style=\"color: #008080; text-decoration-color: #008080; font-weight: bold\">0</span><span style=\"color: #000000; text-decoration-color: #000000\">., </span><span style=\"color: #008080; text-decoration-color: #008080; font-weight: bold\">0</span><span style=\"color: #000000; text-decoration-color: #000000\">.</span><span style=\"color: #000000; text-decoration-color: #000000; font-weight: bold\">]</span><span style=\"color: #000000; text-decoration-color: #000000\">,</span>\n",
       "<span style=\"color: #000000; text-decoration-color: #000000\">       </span><span style=\"color: #000000; text-decoration-color: #000000; font-weight: bold\">[</span><span style=\"color: #008080; text-decoration-color: #008080; font-weight: bold\">0</span><span style=\"color: #000000; text-decoration-color: #000000\">., </span><span style=\"color: #008080; text-decoration-color: #008080; font-weight: bold\">0</span><span style=\"color: #000000; text-decoration-color: #000000\">.</span><span style=\"color: #000000; text-decoration-color: #000000; font-weight: bold\">]]</span><span style=\"color: #000000; text-decoration-color: #000000\">, </span><span style=\"color: #808000; text-decoration-color: #808000\">dtype</span><span style=\"color: #000000; text-decoration-color: #000000\">=</span><span style=\"color: #800080; text-decoration-color: #800080\">float32</span><span style=\"color: #000000; text-decoration-color: #000000; font-weight: bold\">)</span>\n",
       "<span style=\"color: #000000; text-decoration-color: #000000\">  batch_dim = </span><span style=\"color: #008080; text-decoration-color: #008080; font-weight: bold\">0</span><span style=\"color: #000000; text-decoration-color: #000000\">,</span>\n",
       "<span style=\"color: #000000; text-decoration-color: #000000\">    </span><span style=\"color: #808000; text-decoration-color: #808000\">c_node_children_index</span><span style=\"color: #000000; text-decoration-color: #000000\">=</span><span style=\"color: #800080; text-decoration-color: #800080\">Traced</span><span style=\"color: #000000; text-decoration-color: #000000\">&lt;</span><span style=\"color: #800080; text-decoration-color: #800080; font-weight: bold\">ShapedArray</span><span style=\"color: #000000; text-decoration-color: #000000; font-weight: bold\">(</span><span style=\"color: #000000; text-decoration-color: #000000\">int32</span><span style=\"color: #000000; text-decoration-color: #000000; font-weight: bold\">[</span><span style=\"color: #008080; text-decoration-color: #008080; font-weight: bold\">2</span><span style=\"color: #000000; text-decoration-color: #000000\">,</span><span style=\"color: #008080; text-decoration-color: #008080; font-weight: bold\">1</span><span style=\"color: #000000; text-decoration-color: #000000; font-weight: bold\">])</span><span style=\"color: #000000; text-decoration-color: #000000\">&gt;with&lt;</span><span style=\"color: #800080; text-decoration-color: #800080; font-weight: bold\">BatchTrace</span><span style=\"color: #000000; text-decoration-color: #000000; font-weight: bold\">(</span><span style=\"color: #808000; text-decoration-color: #808000\">level</span><span style=\"color: #000000; text-decoration-color: #000000\">=</span><span style=\"color: #008080; text-decoration-color: #008080; font-weight: bold\">1</span><span style=\"color: #000000; text-decoration-color: #000000\">/</span><span style=\"color: #008080; text-decoration-color: #008080; font-weight: bold\">0</span><span style=\"color: #000000; text-decoration-color: #000000; font-weight: bold\">)</span><span style=\"color: #000000; text-decoration-color: #000000\">&gt; with</span>\n",
       "<span style=\"color: #000000; text-decoration-color: #000000\">  val = </span><span style=\"color: #800080; text-decoration-color: #800080; font-weight: bold\">Array</span><span style=\"color: #000000; text-decoration-color: #000000; font-weight: bold\">([[[</span><span style=\"color: #008080; text-decoration-color: #008080; font-weight: bold\">-1</span><span style=\"color: #000000; text-decoration-color: #000000; font-weight: bold\">]</span><span style=\"color: #000000; text-decoration-color: #000000\">,</span>\n",
       "<span style=\"color: #000000; text-decoration-color: #000000\">        </span><span style=\"color: #000000; text-decoration-color: #000000; font-weight: bold\">[</span><span style=\"color: #008080; text-decoration-color: #008080; font-weight: bold\">-1</span><span style=\"color: #000000; text-decoration-color: #000000; font-weight: bold\">]]</span><span style=\"color: #000000; text-decoration-color: #000000\">,</span>\n",
       "\n",
       "<span style=\"color: #000000; text-decoration-color: #000000\">       </span><span style=\"color: #000000; text-decoration-color: #000000; font-weight: bold\">[[</span><span style=\"color: #008080; text-decoration-color: #008080; font-weight: bold\">-1</span><span style=\"color: #000000; text-decoration-color: #000000; font-weight: bold\">]</span><span style=\"color: #000000; text-decoration-color: #000000\">,</span>\n",
       "<span style=\"color: #000000; text-decoration-color: #000000\">        </span><span style=\"color: #000000; text-decoration-color: #000000; font-weight: bold\">[</span><span style=\"color: #008080; text-decoration-color: #008080; font-weight: bold\">-1</span><span style=\"color: #000000; text-decoration-color: #000000; font-weight: bold\">]]]</span><span style=\"color: #000000; text-decoration-color: #000000\">, </span><span style=\"color: #808000; text-decoration-color: #808000\">dtype</span><span style=\"color: #000000; text-decoration-color: #000000\">=</span><span style=\"color: #800080; text-decoration-color: #800080\">int32</span><span style=\"color: #000000; text-decoration-color: #000000; font-weight: bold\">)</span>\n",
       "<span style=\"color: #000000; text-decoration-color: #000000\">  batch_dim = </span><span style=\"color: #008080; text-decoration-color: #008080; font-weight: bold\">0</span><span style=\"color: #000000; text-decoration-color: #000000\">,</span>\n",
       "<span style=\"color: #000000; text-decoration-color: #000000\">    </span><span style=\"color: #808000; text-decoration-color: #808000\">c_node_children_outcome_embeddings</span><span style=\"color: #000000; text-decoration-color: #000000\">=</span><span style=\"color: #000000; text-decoration-color: #000000; font-weight: bold\">{</span>\n",
       "<span style=\"color: #000000; text-decoration-color: #000000\">        </span><span style=\"color: #008000; text-decoration-color: #008000\">'img'</span><span style=\"color: #000000; text-decoration-color: #000000\">: Traced&lt;</span><span style=\"color: #800080; text-decoration-color: #800080; font-weight: bold\">ShapedArray</span><span style=\"color: #000000; text-decoration-color: #000000; font-weight: bold\">(</span><span style=\"color: #000000; text-decoration-color: #000000\">float32</span><span style=\"color: #000000; text-decoration-color: #000000; font-weight: bold\">[</span><span style=\"color: #008080; text-decoration-color: #008080; font-weight: bold\">2</span><span style=\"color: #000000; text-decoration-color: #000000\">,</span><span style=\"color: #008080; text-decoration-color: #008080; font-weight: bold\">1</span><span style=\"color: #000000; text-decoration-color: #000000\">,</span><span style=\"color: #008080; text-decoration-color: #008080; font-weight: bold\">2</span><span style=\"color: #000000; text-decoration-color: #000000\">,</span><span style=\"color: #008080; text-decoration-color: #008080; font-weight: bold\">2</span><span style=\"color: #000000; text-decoration-color: #000000; font-weight: bold\">])</span><span style=\"color: #000000; text-decoration-color: #000000\">&gt;with&lt;</span><span style=\"color: #800080; text-decoration-color: #800080; font-weight: bold\">BatchTrace</span><span style=\"color: #000000; text-decoration-color: #000000; font-weight: bold\">(</span><span style=\"color: #808000; text-decoration-color: #808000\">level</span><span style=\"color: #000000; text-decoration-color: #000000\">=</span><span style=\"color: #008080; text-decoration-color: #008080; font-weight: bold\">1</span><span style=\"color: #000000; text-decoration-color: #000000\">/</span><span style=\"color: #008080; text-decoration-color: #008080; font-weight: bold\">0</span><span style=\"color: #000000; text-decoration-color: #000000; font-weight: bold\">)</span><span style=\"color: #000000; text-decoration-color: #000000\">&gt; with</span>\n",
       "<span style=\"color: #000000; text-decoration-color: #000000\">  val = </span><span style=\"color: #800080; text-decoration-color: #800080; font-weight: bold\">Array</span><span style=\"color: #000000; text-decoration-color: #000000; font-weight: bold\">([[[[[</span><span style=\"color: #008080; text-decoration-color: #008080; font-weight: bold\">0</span><span style=\"color: #000000; text-decoration-color: #000000\">., </span><span style=\"color: #008080; text-decoration-color: #008080; font-weight: bold\">0</span><span style=\"color: #000000; text-decoration-color: #000000\">.</span><span style=\"color: #000000; text-decoration-color: #000000; font-weight: bold\">]</span><span style=\"color: #000000; text-decoration-color: #000000\">,</span>\n",
       "<span style=\"color: #000000; text-decoration-color: #000000\">          </span><span style=\"color: #000000; text-decoration-color: #000000; font-weight: bold\">[</span><span style=\"color: #008080; text-decoration-color: #008080; font-weight: bold\">0</span><span style=\"color: #000000; text-decoration-color: #000000\">., </span><span style=\"color: #008080; text-decoration-color: #008080; font-weight: bold\">0</span><span style=\"color: #000000; text-decoration-color: #000000\">.</span><span style=\"color: #000000; text-decoration-color: #000000; font-weight: bold\">]]]</span><span style=\"color: #000000; text-decoration-color: #000000\">,</span>\n",
       "\n",
       "\n",
       "<span style=\"color: #000000; text-decoration-color: #000000\">        </span><span style=\"color: #000000; text-decoration-color: #000000; font-weight: bold\">[[[</span><span style=\"color: #008080; text-decoration-color: #008080; font-weight: bold\">0</span><span style=\"color: #000000; text-decoration-color: #000000\">., </span><span style=\"color: #008080; text-decoration-color: #008080; font-weight: bold\">0</span><span style=\"color: #000000; text-decoration-color: #000000\">.</span><span style=\"color: #000000; text-decoration-color: #000000; font-weight: bold\">]</span><span style=\"color: #000000; text-decoration-color: #000000\">,</span>\n",
       "<span style=\"color: #000000; text-decoration-color: #000000\">          </span><span style=\"color: #000000; text-decoration-color: #000000; font-weight: bold\">[</span><span style=\"color: #008080; text-decoration-color: #008080; font-weight: bold\">0</span><span style=\"color: #000000; text-decoration-color: #000000\">., </span><span style=\"color: #008080; text-decoration-color: #008080; font-weight: bold\">0</span><span style=\"color: #000000; text-decoration-color: #000000\">.</span><span style=\"color: #000000; text-decoration-color: #000000; font-weight: bold\">]]]]</span><span style=\"color: #000000; text-decoration-color: #000000\">,</span>\n",
       "\n",
       "\n",
       "\n",
       "<span style=\"color: #000000; text-decoration-color: #000000\">       </span><span style=\"color: #000000; text-decoration-color: #000000; font-weight: bold\">[[[[</span><span style=\"color: #008080; text-decoration-color: #008080; font-weight: bold\">0</span><span style=\"color: #000000; text-decoration-color: #000000\">., </span><span style=\"color: #008080; text-decoration-color: #008080; font-weight: bold\">0</span><span style=\"color: #000000; text-decoration-color: #000000\">.</span><span style=\"color: #000000; text-decoration-color: #000000; font-weight: bold\">]</span><span style=\"color: #000000; text-decoration-color: #000000\">,</span>\n",
       "<span style=\"color: #000000; text-decoration-color: #000000\">          </span><span style=\"color: #000000; text-decoration-color: #000000; font-weight: bold\">[</span><span style=\"color: #008080; text-decoration-color: #008080; font-weight: bold\">0</span><span style=\"color: #000000; text-decoration-color: #000000\">., </span><span style=\"color: #008080; text-decoration-color: #008080; font-weight: bold\">0</span><span style=\"color: #000000; text-decoration-color: #000000\">.</span><span style=\"color: #000000; text-decoration-color: #000000; font-weight: bold\">]]]</span><span style=\"color: #000000; text-decoration-color: #000000\">,</span>\n",
       "\n",
       "\n",
       "<span style=\"color: #000000; text-decoration-color: #000000\">        </span><span style=\"color: #000000; text-decoration-color: #000000; font-weight: bold\">[[[</span><span style=\"color: #008080; text-decoration-color: #008080; font-weight: bold\">0</span><span style=\"color: #000000; text-decoration-color: #000000\">., </span><span style=\"color: #008080; text-decoration-color: #008080; font-weight: bold\">0</span><span style=\"color: #000000; text-decoration-color: #000000\">.</span><span style=\"color: #000000; text-decoration-color: #000000; font-weight: bold\">]</span><span style=\"color: #000000; text-decoration-color: #000000\">,</span>\n",
       "<span style=\"color: #000000; text-decoration-color: #000000\">          </span><span style=\"color: #000000; text-decoration-color: #000000; font-weight: bold\">[</span><span style=\"color: #008080; text-decoration-color: #008080; font-weight: bold\">0</span><span style=\"color: #000000; text-decoration-color: #000000\">., </span><span style=\"color: #008080; text-decoration-color: #008080; font-weight: bold\">0</span><span style=\"color: #000000; text-decoration-color: #000000\">.</span><span style=\"color: #000000; text-decoration-color: #000000; font-weight: bold\">]]]]]</span><span style=\"color: #000000; text-decoration-color: #000000\">, </span><span style=\"color: #808000; text-decoration-color: #808000\">dtype</span><span style=\"color: #000000; text-decoration-color: #000000\">=</span><span style=\"color: #800080; text-decoration-color: #800080\">float32</span><span style=\"color: #000000; text-decoration-color: #000000; font-weight: bold\">)</span>\n",
       "<span style=\"color: #000000; text-decoration-color: #000000\">  batch_dim = </span><span style=\"color: #008080; text-decoration-color: #008080; font-weight: bold\">0</span><span style=\"color: #000000; text-decoration-color: #000000\">,</span>\n",
       "<span style=\"color: #000000; text-decoration-color: #000000\">        </span><span style=\"color: #008000; text-decoration-color: #008000\">'othr'</span><span style=\"color: #000000; text-decoration-color: #000000\">: Traced&lt;</span><span style=\"color: #800080; text-decoration-color: #800080; font-weight: bold\">ShapedArray</span><span style=\"color: #000000; text-decoration-color: #000000; font-weight: bold\">(</span><span style=\"color: #000000; text-decoration-color: #000000\">float32</span><span style=\"color: #000000; text-decoration-color: #000000; font-weight: bold\">[</span><span style=\"color: #008080; text-decoration-color: #008080; font-weight: bold\">2</span><span style=\"color: #000000; text-decoration-color: #000000\">,</span><span style=\"color: #008080; text-decoration-color: #008080; font-weight: bold\">1</span><span style=\"color: #000000; text-decoration-color: #000000\">,</span><span style=\"color: #008080; text-decoration-color: #008080; font-weight: bold\">3</span><span style=\"color: #000000; text-decoration-color: #000000; font-weight: bold\">])</span><span style=\"color: #000000; text-decoration-color: #000000\">&gt;with&lt;</span><span style=\"color: #800080; text-decoration-color: #800080; font-weight: bold\">BatchTrace</span><span style=\"color: #000000; text-decoration-color: #000000; font-weight: bold\">(</span><span style=\"color: #808000; text-decoration-color: #808000\">level</span><span style=\"color: #000000; text-decoration-color: #000000\">=</span><span style=\"color: #008080; text-decoration-color: #008080; font-weight: bold\">1</span><span style=\"color: #000000; text-decoration-color: #000000\">/</span><span style=\"color: #008080; text-decoration-color: #008080; font-weight: bold\">0</span><span style=\"color: #000000; text-decoration-color: #000000; font-weight: bold\">)</span><span style=\"color: #000000; text-decoration-color: #000000\">&gt; with</span>\n",
       "<span style=\"color: #000000; text-decoration-color: #000000\">  val = </span><span style=\"color: #800080; text-decoration-color: #800080; font-weight: bold\">Array</span><span style=\"color: #000000; text-decoration-color: #000000; font-weight: bold\">([[[[</span><span style=\"color: #008080; text-decoration-color: #008080; font-weight: bold\">0</span><span style=\"color: #000000; text-decoration-color: #000000\">., </span><span style=\"color: #008080; text-decoration-color: #008080; font-weight: bold\">0</span><span style=\"color: #000000; text-decoration-color: #000000\">., </span><span style=\"color: #008080; text-decoration-color: #008080; font-weight: bold\">0</span><span style=\"color: #000000; text-decoration-color: #000000\">.</span><span style=\"color: #000000; text-decoration-color: #000000; font-weight: bold\">]]</span><span style=\"color: #000000; text-decoration-color: #000000\">,</span>\n",
       "\n",
       "<span style=\"color: #000000; text-decoration-color: #000000\">        </span><span style=\"color: #000000; text-decoration-color: #000000; font-weight: bold\">[[</span><span style=\"color: #008080; text-decoration-color: #008080; font-weight: bold\">0</span><span style=\"color: #000000; text-decoration-color: #000000\">., </span><span style=\"color: #008080; text-decoration-color: #008080; font-weight: bold\">0</span><span style=\"color: #000000; text-decoration-color: #000000\">., </span><span style=\"color: #008080; text-decoration-color: #008080; font-weight: bold\">0</span><span style=\"color: #000000; text-decoration-color: #000000\">.</span><span style=\"color: #000000; text-decoration-color: #000000; font-weight: bold\">]]]</span><span style=\"color: #000000; text-decoration-color: #000000\">,</span>\n",
       "\n",
       "\n",
       "<span style=\"color: #000000; text-decoration-color: #000000\">       </span><span style=\"color: #000000; text-decoration-color: #000000; font-weight: bold\">[[[</span><span style=\"color: #008080; text-decoration-color: #008080; font-weight: bold\">0</span><span style=\"color: #000000; text-decoration-color: #000000\">., </span><span style=\"color: #008080; text-decoration-color: #008080; font-weight: bold\">0</span><span style=\"color: #000000; text-decoration-color: #000000\">., </span><span style=\"color: #008080; text-decoration-color: #008080; font-weight: bold\">0</span><span style=\"color: #000000; text-decoration-color: #000000\">.</span><span style=\"color: #000000; text-decoration-color: #000000; font-weight: bold\">]]</span><span style=\"color: #000000; text-decoration-color: #000000\">,</span>\n",
       "\n",
       "<span style=\"color: #000000; text-decoration-color: #000000\">        </span><span style=\"color: #000000; text-decoration-color: #000000; font-weight: bold\">[[</span><span style=\"color: #008080; text-decoration-color: #008080; font-weight: bold\">0</span><span style=\"color: #000000; text-decoration-color: #000000\">., </span><span style=\"color: #008080; text-decoration-color: #008080; font-weight: bold\">0</span><span style=\"color: #000000; text-decoration-color: #000000\">., </span><span style=\"color: #008080; text-decoration-color: #008080; font-weight: bold\">0</span><span style=\"color: #000000; text-decoration-color: #000000\">.</span><span style=\"color: #000000; text-decoration-color: #000000; font-weight: bold\">]]]]</span><span style=\"color: #000000; text-decoration-color: #000000\">, </span><span style=\"color: #808000; text-decoration-color: #808000\">dtype</span><span style=\"color: #000000; text-decoration-color: #000000\">=</span><span style=\"color: #800080; text-decoration-color: #800080\">float32</span><span style=\"color: #000000; text-decoration-color: #000000; font-weight: bold\">)</span>\n",
       "<span style=\"color: #000000; text-decoration-color: #000000\">  batch_dim = </span><span style=\"color: #008080; text-decoration-color: #008080; font-weight: bold\">0</span>\n",
       "<span style=\"color: #000000; text-decoration-color: #000000\">    </span><span style=\"color: #000000; text-decoration-color: #000000; font-weight: bold\">}</span><span style=\"color: #000000; text-decoration-color: #000000\">,</span>\n",
       "<span style=\"color: #000000; text-decoration-color: #000000\">    </span><span style=\"color: #808000; text-decoration-color: #808000\">root_invalid_actions</span><span style=\"color: #000000; text-decoration-color: #000000\">=</span><span style=\"color: #800080; text-decoration-color: #800080\">Traced</span><span style=\"color: #000000; text-decoration-color: #000000\">&lt;</span><span style=\"color: #800080; text-decoration-color: #800080; font-weight: bold\">ShapedArray</span><span style=\"color: #000000; text-decoration-color: #000000; font-weight: bold\">(</span><span style=\"color: #000000; text-decoration-color: #000000\">float32</span><span style=\"color: #000000; text-decoration-color: #000000; font-weight: bold\">[</span><span style=\"color: #008080; text-decoration-color: #008080; font-weight: bold\">3</span><span style=\"color: #000000; text-decoration-color: #000000; font-weight: bold\">]</span><span style=\"color: #000000; text-decoration-color: #000000\">, </span><span style=\"color: #808000; text-decoration-color: #808000\">weak_type</span><span style=\"color: #000000; text-decoration-color: #000000\">=</span><span style=\"color: #00ff00; text-decoration-color: #00ff00; font-style: italic\">True</span><span style=\"color: #000000; text-decoration-color: #000000; font-weight: bold\">)</span><span style=\"color: #000000; text-decoration-color: #000000\">&gt;with&lt;</span><span style=\"color: #800080; text-decoration-color: #800080; font-weight: bold\">BatchTrace</span><span style=\"color: #000000; text-decoration-color: #000000; font-weight: bold\">(</span><span style=\"color: #808000; text-decoration-color: #808000\">level</span><span style=\"color: #000000; text-decoration-color: #000000\">=</span><span style=\"color: #008080; text-decoration-color: #008080; font-weight: bold\">1</span><span style=\"color: #000000; text-decoration-color: #000000\">/</span><span style=\"color: #008080; text-decoration-color: #008080; font-weight: bold\">0</span><span style=\"color: #000000; text-decoration-color: #000000; font-weight: bold\">)</span><span style=\"font-weight: bold\">&gt;</span> with\n",
       "  val = <span style=\"color: #800080; text-decoration-color: #800080; font-weight: bold\">Array</span><span style=\"font-weight: bold\">([[</span><span style=\"color: #008080; text-decoration-color: #008080; font-weight: bold\">0</span>., <span style=\"color: #008080; text-decoration-color: #008080; font-weight: bold\">0</span>., <span style=\"color: #008080; text-decoration-color: #008080; font-weight: bold\">0</span>.<span style=\"font-weight: bold\">]</span>,\n",
       "       <span style=\"font-weight: bold\">[</span><span style=\"color: #008080; text-decoration-color: #008080; font-weight: bold\">0</span>., <span style=\"color: #008080; text-decoration-color: #008080; font-weight: bold\">0</span>., <span style=\"color: #008080; text-decoration-color: #008080; font-weight: bold\">0</span>.<span style=\"font-weight: bold\">]]</span>, <span style=\"color: #808000; text-decoration-color: #808000\">dtype</span>=<span style=\"color: #800080; text-decoration-color: #800080\">float32</span>, <span style=\"color: #808000; text-decoration-color: #808000\">weak_type</span>=<span style=\"color: #00ff00; text-decoration-color: #00ff00; font-style: italic\">True</span><span style=\"font-weight: bold\">)</span>\n",
       "  batch_dim = <span style=\"color: #008080; text-decoration-color: #008080; font-weight: bold\">0</span>,\n",
       "    <span style=\"color: #808000; text-decoration-color: #808000\">extra_data</span>=<span style=\"color: #800080; text-decoration-color: #800080; font-style: italic\">None</span>\n",
       "<span style=\"font-weight: bold\">)</span>\n",
       "</pre>\n"
      ],
      "text/plain": [
       "\u001b[1;35mTree\u001b[0m\u001b[1m(\u001b[0m\n",
       "    \u001b[33mnum_trials\u001b[0m=\u001b[35mTraced\u001b[0m\u001b[1m<\u001b[0m\u001b[1;35mShapedArray\u001b[0m\u001b[1;39m(\u001b[0m\u001b[39mint32\u001b[0m\u001b[1;39m[\u001b[0m\u001b[1;36m1\u001b[0m\u001b[1;39m]\u001b[0m\u001b[1;39m)\u001b[0m\u001b[39m>with<\u001b[0m\u001b[1;35mBatchTrace\u001b[0m\u001b[1;39m(\u001b[0m\u001b[33mlevel\u001b[0m\u001b[39m=\u001b[0m\u001b[1;36m1\u001b[0m\u001b[39m/\u001b[0m\u001b[1;36m0\u001b[0m\u001b[1;39m)\u001b[0m\u001b[39m> with\u001b[0m\n",
       "\u001b[39m  val = \u001b[0m\u001b[1;35mArray\u001b[0m\u001b[1;39m(\u001b[0m\u001b[1;39m[\u001b[0m\u001b[1;39m[\u001b[0m\u001b[1;36m100\u001b[0m\u001b[1;39m]\u001b[0m\u001b[39m,\u001b[0m\n",
       "\u001b[39m       \u001b[0m\u001b[1;39m[\u001b[0m\u001b[1;36m100\u001b[0m\u001b[1;39m]\u001b[0m\u001b[1;39m]\u001b[0m\u001b[39m, \u001b[0m\u001b[33mdtype\u001b[0m\u001b[39m=\u001b[0m\u001b[35mint32\u001b[0m\u001b[1;39m)\u001b[0m\n",
       "\u001b[39m  batch_dim = \u001b[0m\u001b[1;36m0\u001b[0m\u001b[39m,\u001b[0m\n",
       "\u001b[39m    \u001b[0m\u001b[33mnum_d_nodes\u001b[0m\u001b[39m=\u001b[0m\u001b[35mTraced\u001b[0m\u001b[39m<\u001b[0m\u001b[1;35mShapedArray\u001b[0m\u001b[1;39m(\u001b[0m\u001b[39mint32\u001b[0m\u001b[1;39m[\u001b[0m\u001b[1;36m1\u001b[0m\u001b[1;39m]\u001b[0m\u001b[1;39m)\u001b[0m\u001b[39m>with<\u001b[0m\u001b[1;35mBatchTrace\u001b[0m\u001b[1;39m(\u001b[0m\u001b[33mlevel\u001b[0m\u001b[39m=\u001b[0m\u001b[1;36m1\u001b[0m\u001b[39m/\u001b[0m\u001b[1;36m0\u001b[0m\u001b[1;39m)\u001b[0m\u001b[39m> with\u001b[0m\n",
       "\u001b[39m  val = \u001b[0m\u001b[1;35mArray\u001b[0m\u001b[1;39m(\u001b[0m\u001b[1;39m[\u001b[0m\u001b[1;39m[\u001b[0m\u001b[1;36m1\u001b[0m\u001b[1;39m]\u001b[0m\u001b[39m,\u001b[0m\n",
       "\u001b[39m       \u001b[0m\u001b[1;39m[\u001b[0m\u001b[1;36m1\u001b[0m\u001b[1;39m]\u001b[0m\u001b[1;39m]\u001b[0m\u001b[39m, \u001b[0m\u001b[33mdtype\u001b[0m\u001b[39m=\u001b[0m\u001b[35mint32\u001b[0m\u001b[1;39m)\u001b[0m\n",
       "\u001b[39m  batch_dim = \u001b[0m\u001b[1;36m0\u001b[0m\u001b[39m,\u001b[0m\n",
       "\u001b[39m    \u001b[0m\u001b[33mnum_c_nodes\u001b[0m\u001b[39m=\u001b[0m\u001b[35mTraced\u001b[0m\u001b[39m<\u001b[0m\u001b[1;35mShapedArray\u001b[0m\u001b[1;39m(\u001b[0m\u001b[39mint32\u001b[0m\u001b[1;39m[\u001b[0m\u001b[1;36m1\u001b[0m\u001b[1;39m]\u001b[0m\u001b[1;39m)\u001b[0m\u001b[39m>with<\u001b[0m\u001b[1;35mBatchTrace\u001b[0m\u001b[1;39m(\u001b[0m\u001b[33mlevel\u001b[0m\u001b[39m=\u001b[0m\u001b[1;36m1\u001b[0m\u001b[39m/\u001b[0m\u001b[1;36m0\u001b[0m\u001b[1;39m)\u001b[0m\u001b[39m> with\u001b[0m\n",
       "\u001b[39m  val = \u001b[0m\u001b[1;35mArray\u001b[0m\u001b[1;39m(\u001b[0m\u001b[1;39m[\u001b[0m\u001b[1;39m[\u001b[0m\u001b[1;36m0\u001b[0m\u001b[1;39m]\u001b[0m\u001b[39m,\u001b[0m\n",
       "\u001b[39m       \u001b[0m\u001b[1;39m[\u001b[0m\u001b[1;36m0\u001b[0m\u001b[1;39m]\u001b[0m\u001b[1;39m]\u001b[0m\u001b[39m, \u001b[0m\u001b[33mdtype\u001b[0m\u001b[39m=\u001b[0m\u001b[35mint32\u001b[0m\u001b[1;39m)\u001b[0m\n",
       "\u001b[39m  batch_dim = \u001b[0m\u001b[1;36m0\u001b[0m\u001b[39m,\u001b[0m\n",
       "\u001b[39m    \u001b[0m\u001b[33md_node_state_embeddings\u001b[0m\u001b[39m=\u001b[0m\u001b[1;39m{\u001b[0m\n",
       "\u001b[39m        \u001b[0m\u001b[32m'img'\u001b[0m\u001b[39m: Traced<\u001b[0m\u001b[1;35mShapedArray\u001b[0m\u001b[1;39m(\u001b[0m\u001b[39mfloat32\u001b[0m\u001b[1;39m[\u001b[0m\u001b[1;36m2\u001b[0m\u001b[39m,\u001b[0m\u001b[1;36m2\u001b[0m\u001b[39m,\u001b[0m\u001b[1;36m2\u001b[0m\u001b[1;39m]\u001b[0m\u001b[1;39m)\u001b[0m\u001b[39m>with<\u001b[0m\u001b[1;35mBatchTrace\u001b[0m\u001b[1;39m(\u001b[0m\u001b[33mlevel\u001b[0m\u001b[39m=\u001b[0m\u001b[1;36m1\u001b[0m\u001b[39m/\u001b[0m\u001b[1;36m0\u001b[0m\u001b[1;39m)\u001b[0m\u001b[39m> with\u001b[0m\n",
       "\u001b[39m  val = \u001b[0m\u001b[1;35mArray\u001b[0m\u001b[1;39m(\u001b[0m\u001b[1;39m[\u001b[0m\u001b[1;39m[\u001b[0m\u001b[1;39m[\u001b[0m\u001b[1;39m[\u001b[0m\u001b[1;36m0\u001b[0m\u001b[39m., \u001b[0m\u001b[1;36m0\u001b[0m\u001b[39m.\u001b[0m\u001b[1;39m]\u001b[0m\u001b[39m,\u001b[0m\n",
       "\u001b[39m         \u001b[0m\u001b[1;39m[\u001b[0m\u001b[1;36m0\u001b[0m\u001b[39m., \u001b[0m\u001b[1;36m0\u001b[0m\u001b[39m.\u001b[0m\u001b[1;39m]\u001b[0m\u001b[1;39m]\u001b[0m\u001b[39m,\u001b[0m\n",
       "\n",
       "\u001b[39m        \u001b[0m\u001b[1;39m[\u001b[0m\u001b[1;39m[\u001b[0m\u001b[1;36m0\u001b[0m\u001b[39m., \u001b[0m\u001b[1;36m0\u001b[0m\u001b[39m.\u001b[0m\u001b[1;39m]\u001b[0m\u001b[39m,\u001b[0m\n",
       "\u001b[39m         \u001b[0m\u001b[1;39m[\u001b[0m\u001b[1;36m0\u001b[0m\u001b[39m., \u001b[0m\u001b[1;36m0\u001b[0m\u001b[39m.\u001b[0m\u001b[1;39m]\u001b[0m\u001b[1;39m]\u001b[0m\u001b[1;39m]\u001b[0m\u001b[39m,\u001b[0m\n",
       "\n",
       "\n",
       "\u001b[39m       \u001b[0m\u001b[1;39m[\u001b[0m\u001b[1;39m[\u001b[0m\u001b[1;39m[\u001b[0m\u001b[1;36m0\u001b[0m\u001b[39m., \u001b[0m\u001b[1;36m0\u001b[0m\u001b[39m.\u001b[0m\u001b[1;39m]\u001b[0m\u001b[39m,\u001b[0m\n",
       "\u001b[39m         \u001b[0m\u001b[1;39m[\u001b[0m\u001b[1;36m0\u001b[0m\u001b[39m., \u001b[0m\u001b[1;36m0\u001b[0m\u001b[39m.\u001b[0m\u001b[1;39m]\u001b[0m\u001b[1;39m]\u001b[0m\u001b[39m,\u001b[0m\n",
       "\n",
       "\u001b[39m        \u001b[0m\u001b[1;39m[\u001b[0m\u001b[1;39m[\u001b[0m\u001b[1;36m0\u001b[0m\u001b[39m., \u001b[0m\u001b[1;36m0\u001b[0m\u001b[39m.\u001b[0m\u001b[1;39m]\u001b[0m\u001b[39m,\u001b[0m\n",
       "\u001b[39m         \u001b[0m\u001b[1;39m[\u001b[0m\u001b[1;36m0\u001b[0m\u001b[39m., \u001b[0m\u001b[1;36m0\u001b[0m\u001b[39m.\u001b[0m\u001b[1;39m]\u001b[0m\u001b[1;39m]\u001b[0m\u001b[1;39m]\u001b[0m\u001b[1;39m]\u001b[0m\u001b[39m, \u001b[0m\u001b[33mdtype\u001b[0m\u001b[39m=\u001b[0m\u001b[35mfloat32\u001b[0m\u001b[1;39m)\u001b[0m\n",
       "\u001b[39m  batch_dim = \u001b[0m\u001b[1;36m0\u001b[0m\u001b[39m,\u001b[0m\n",
       "\u001b[39m        \u001b[0m\u001b[32m'othr'\u001b[0m\u001b[39m: Traced<\u001b[0m\u001b[1;35mShapedArray\u001b[0m\u001b[1;39m(\u001b[0m\u001b[39mfloat32\u001b[0m\u001b[1;39m[\u001b[0m\u001b[1;36m2\u001b[0m\u001b[39m,\u001b[0m\u001b[1;36m3\u001b[0m\u001b[1;39m]\u001b[0m\u001b[1;39m)\u001b[0m\u001b[39m>with<\u001b[0m\u001b[1;35mBatchTrace\u001b[0m\u001b[1;39m(\u001b[0m\u001b[33mlevel\u001b[0m\u001b[39m=\u001b[0m\u001b[1;36m1\u001b[0m\u001b[39m/\u001b[0m\u001b[1;36m0\u001b[0m\u001b[1;39m)\u001b[0m\u001b[39m> with\u001b[0m\n",
       "\u001b[39m  val = \u001b[0m\u001b[1;35mArray\u001b[0m\u001b[1;39m(\u001b[0m\u001b[1;39m[\u001b[0m\u001b[1;39m[\u001b[0m\u001b[1;39m[\u001b[0m\u001b[1;36m0\u001b[0m\u001b[39m., \u001b[0m\u001b[1;36m0\u001b[0m\u001b[39m., \u001b[0m\u001b[1;36m0\u001b[0m\u001b[39m.\u001b[0m\u001b[1;39m]\u001b[0m\u001b[39m,\u001b[0m\n",
       "\u001b[39m        \u001b[0m\u001b[1;39m[\u001b[0m\u001b[1;36m0\u001b[0m\u001b[39m., \u001b[0m\u001b[1;36m0\u001b[0m\u001b[39m., \u001b[0m\u001b[1;36m0\u001b[0m\u001b[39m.\u001b[0m\u001b[1;39m]\u001b[0m\u001b[1;39m]\u001b[0m\u001b[39m,\u001b[0m\n",
       "\n",
       "\u001b[39m       \u001b[0m\u001b[1;39m[\u001b[0m\u001b[1;39m[\u001b[0m\u001b[1;36m0\u001b[0m\u001b[39m., \u001b[0m\u001b[1;36m0\u001b[0m\u001b[39m., \u001b[0m\u001b[1;36m0\u001b[0m\u001b[39m.\u001b[0m\u001b[1;39m]\u001b[0m\u001b[39m,\u001b[0m\n",
       "\u001b[39m        \u001b[0m\u001b[1;39m[\u001b[0m\u001b[1;36m0\u001b[0m\u001b[39m., \u001b[0m\u001b[1;36m0\u001b[0m\u001b[39m., \u001b[0m\u001b[1;36m0\u001b[0m\u001b[39m.\u001b[0m\u001b[1;39m]\u001b[0m\u001b[1;39m]\u001b[0m\u001b[1;39m]\u001b[0m\u001b[39m, \u001b[0m\u001b[33mdtype\u001b[0m\u001b[39m=\u001b[0m\u001b[35mfloat32\u001b[0m\u001b[1;39m)\u001b[0m\n",
       "\u001b[39m  batch_dim = \u001b[0m\u001b[1;36m0\u001b[0m\n",
       "\u001b[39m    \u001b[0m\u001b[1;39m}\u001b[0m\u001b[39m,\u001b[0m\n",
       "\u001b[39m    \u001b[0m\u001b[33md_node_visits\u001b[0m\u001b[39m=\u001b[0m\u001b[35mTraced\u001b[0m\u001b[39m<\u001b[0m\u001b[1;35mShapedArray\u001b[0m\u001b[1;39m(\u001b[0m\u001b[39mint32\u001b[0m\u001b[1;39m[\u001b[0m\u001b[1;36m2\u001b[0m\u001b[1;39m]\u001b[0m\u001b[1;39m)\u001b[0m\u001b[39m>with<\u001b[0m\u001b[1;35mBatchTrace\u001b[0m\u001b[1;39m(\u001b[0m\u001b[33mlevel\u001b[0m\u001b[39m=\u001b[0m\u001b[1;36m1\u001b[0m\u001b[39m/\u001b[0m\u001b[1;36m0\u001b[0m\u001b[1;39m)\u001b[0m\u001b[39m> with\u001b[0m\n",
       "\u001b[39m  val = \u001b[0m\u001b[1;35mArray\u001b[0m\u001b[1;39m(\u001b[0m\u001b[1;39m[\u001b[0m\u001b[1;39m[\u001b[0m\u001b[1;36m1\u001b[0m\u001b[39m, \u001b[0m\u001b[1;36m0\u001b[0m\u001b[1;39m]\u001b[0m\u001b[39m,\u001b[0m\n",
       "\u001b[39m       \u001b[0m\u001b[1;39m[\u001b[0m\u001b[1;36m1\u001b[0m\u001b[39m, \u001b[0m\u001b[1;36m0\u001b[0m\u001b[1;39m]\u001b[0m\u001b[1;39m]\u001b[0m\u001b[39m, \u001b[0m\u001b[33mdtype\u001b[0m\u001b[39m=\u001b[0m\u001b[35mint32\u001b[0m\u001b[1;39m)\u001b[0m\n",
       "\u001b[39m  batch_dim = \u001b[0m\u001b[1;36m0\u001b[0m\u001b[39m,\u001b[0m\n",
       "\u001b[39m    \u001b[0m\u001b[33md_node_raw_value\u001b[0m\u001b[39m=\u001b[0m\u001b[35mTraced\u001b[0m\u001b[39m<\u001b[0m\u001b[1;35mShapedArray\u001b[0m\u001b[1;39m(\u001b[0m\u001b[39mfloat32\u001b[0m\u001b[1;39m[\u001b[0m\u001b[1;36m2\u001b[0m\u001b[1;39m]\u001b[0m\u001b[1;39m)\u001b[0m\u001b[39m>with<\u001b[0m\u001b[1;35mBatchTrace\u001b[0m\u001b[1;39m(\u001b[0m\u001b[33mlevel\u001b[0m\u001b[39m=\u001b[0m\u001b[1;36m1\u001b[0m\u001b[39m/\u001b[0m\u001b[1;36m0\u001b[0m\u001b[1;39m)\u001b[0m\u001b[39m> with\u001b[0m\n",
       "\u001b[39m  val = \u001b[0m\u001b[1;35mArray\u001b[0m\u001b[1;39m(\u001b[0m\u001b[1;39m[\u001b[0m\u001b[1;39m[\u001b[0m\u001b[1;36m1\u001b[0m\u001b[39m., \u001b[0m\u001b[1;36m0\u001b[0m\u001b[39m.\u001b[0m\u001b[1;39m]\u001b[0m\u001b[39m,\u001b[0m\n",
       "\u001b[39m       \u001b[0m\u001b[1;39m[\u001b[0m\u001b[1;36m1\u001b[0m\u001b[39m., \u001b[0m\u001b[1;36m0\u001b[0m\u001b[39m.\u001b[0m\u001b[1;39m]\u001b[0m\u001b[1;39m]\u001b[0m\u001b[39m, \u001b[0m\u001b[33mdtype\u001b[0m\u001b[39m=\u001b[0m\u001b[35mfloat32\u001b[0m\u001b[1;39m)\u001b[0m\n",
       "\u001b[39m  batch_dim = \u001b[0m\u001b[1;36m0\u001b[0m\u001b[39m,\u001b[0m\n",
       "\u001b[39m    \u001b[0m\u001b[33md_node_value\u001b[0m\u001b[39m=\u001b[0m\u001b[35mTraced\u001b[0m\u001b[39m<\u001b[0m\u001b[1;35mShapedArray\u001b[0m\u001b[1;39m(\u001b[0m\u001b[39mfloat32\u001b[0m\u001b[1;39m[\u001b[0m\u001b[1;36m2\u001b[0m\u001b[1;39m]\u001b[0m\u001b[1;39m)\u001b[0m\u001b[39m>with<\u001b[0m\u001b[1;35mBatchTrace\u001b[0m\u001b[1;39m(\u001b[0m\u001b[33mlevel\u001b[0m\u001b[39m=\u001b[0m\u001b[1;36m1\u001b[0m\u001b[39m/\u001b[0m\u001b[1;36m0\u001b[0m\u001b[1;39m)\u001b[0m\u001b[39m> with\u001b[0m\n",
       "\u001b[39m  val = \u001b[0m\u001b[1;35mArray\u001b[0m\u001b[1;39m(\u001b[0m\u001b[1;39m[\u001b[0m\u001b[1;39m[\u001b[0m\u001b[1;36m1\u001b[0m\u001b[39m., \u001b[0m\u001b[1;36m0\u001b[0m\u001b[39m.\u001b[0m\u001b[1;39m]\u001b[0m\u001b[39m,\u001b[0m\n",
       "\u001b[39m       \u001b[0m\u001b[1;39m[\u001b[0m\u001b[1;36m1\u001b[0m\u001b[39m., \u001b[0m\u001b[1;36m0\u001b[0m\u001b[39m.\u001b[0m\u001b[1;39m]\u001b[0m\u001b[1;39m]\u001b[0m\u001b[39m, \u001b[0m\u001b[33mdtype\u001b[0m\u001b[39m=\u001b[0m\u001b[35mfloat32\u001b[0m\u001b[1;39m)\u001b[0m\n",
       "\u001b[39m  batch_dim = \u001b[0m\u001b[1;36m0\u001b[0m\u001b[39m,\u001b[0m\n",
       "\u001b[39m    \u001b[0m\u001b[33md_node_prior_policy_logits\u001b[0m\u001b[39m=\u001b[0m\u001b[35mTraced\u001b[0m\u001b[39m<\u001b[0m\u001b[1;35mShapedArray\u001b[0m\u001b[1;39m(\u001b[0m\u001b[39mfloat32\u001b[0m\u001b[1;39m[\u001b[0m\u001b[1;36m2\u001b[0m\u001b[39m,\u001b[0m\u001b[1;36m3\u001b[0m\u001b[1;39m]\u001b[0m\u001b[1;39m)\u001b[0m\u001b[39m>with<\u001b[0m\u001b[1;35mBatchTrace\u001b[0m\u001b[1;39m(\u001b[0m\u001b[33mlevel\u001b[0m\u001b[39m=\u001b[0m\u001b[1;36m1\u001b[0m\u001b[39m/\u001b[0m\u001b[1;36m0\u001b[0m\u001b[1;39m)\u001b[0m\u001b[39m> with\u001b[0m\n",
       "\u001b[39m  val = \u001b[0m\u001b[1;35mArray\u001b[0m\u001b[1;39m(\u001b[0m\u001b[1;39m[\u001b[0m\u001b[1;39m[\u001b[0m\u001b[1;39m[\u001b[0m\u001b[1;36m0.5\u001b[0m\u001b[39m, \u001b[0m\u001b[1;36m0.5\u001b[0m\u001b[39m, \u001b[0m\u001b[1;36m0.5\u001b[0m\u001b[1;39m]\u001b[0m\u001b[39m,\u001b[0m\n",
       "\u001b[39m        \u001b[0m\u001b[1;39m[\u001b[0m\u001b[1;36m0\u001b[0m\u001b[39m. , \u001b[0m\u001b[1;36m0\u001b[0m\u001b[39m. , \u001b[0m\u001b[1;36m0\u001b[0m\u001b[39m. \u001b[0m\u001b[1;39m]\u001b[0m\u001b[1;39m]\u001b[0m\u001b[39m,\u001b[0m\n",
       "\n",
       "\u001b[39m       \u001b[0m\u001b[1;39m[\u001b[0m\u001b[1;39m[\u001b[0m\u001b[1;36m0.5\u001b[0m\u001b[39m, \u001b[0m\u001b[1;36m0.5\u001b[0m\u001b[39m, \u001b[0m\u001b[1;36m0.5\u001b[0m\u001b[1;39m]\u001b[0m\u001b[39m,\u001b[0m\n",
       "\u001b[39m        \u001b[0m\u001b[1;39m[\u001b[0m\u001b[1;36m0\u001b[0m\u001b[39m. , \u001b[0m\u001b[1;36m0\u001b[0m\u001b[39m. , \u001b[0m\u001b[1;36m0\u001b[0m\u001b[39m. \u001b[0m\u001b[1;39m]\u001b[0m\u001b[1;39m]\u001b[0m\u001b[1;39m]\u001b[0m\u001b[39m, \u001b[0m\u001b[33mdtype\u001b[0m\u001b[39m=\u001b[0m\u001b[35mfloat32\u001b[0m\u001b[1;39m)\u001b[0m\n",
       "\u001b[39m  batch_dim = \u001b[0m\u001b[1;36m0\u001b[0m\u001b[39m,\u001b[0m\n",
       "\u001b[39m    \u001b[0m\u001b[33md_node_parent_index\u001b[0m\u001b[39m=\u001b[0m\u001b[35mTraced\u001b[0m\u001b[39m<\u001b[0m\u001b[1;35mShapedArray\u001b[0m\u001b[1;39m(\u001b[0m\u001b[39mint32\u001b[0m\u001b[1;39m[\u001b[0m\u001b[1;36m2\u001b[0m\u001b[1;39m]\u001b[0m\u001b[1;39m)\u001b[0m\u001b[39m>with<\u001b[0m\u001b[1;35mBatchTrace\u001b[0m\u001b[1;39m(\u001b[0m\u001b[33mlevel\u001b[0m\u001b[39m=\u001b[0m\u001b[1;36m1\u001b[0m\u001b[39m/\u001b[0m\u001b[1;36m0\u001b[0m\u001b[1;39m)\u001b[0m\u001b[39m> with\u001b[0m\n",
       "\u001b[39m  val = \u001b[0m\u001b[1;35mArray\u001b[0m\u001b[1;39m(\u001b[0m\u001b[1;39m[\u001b[0m\u001b[1;39m[\u001b[0m\u001b[1;36m-1\u001b[0m\u001b[39m, \u001b[0m\u001b[1;36m-1\u001b[0m\u001b[1;39m]\u001b[0m\u001b[39m,\u001b[0m\n",
       "\u001b[39m       \u001b[0m\u001b[1;39m[\u001b[0m\u001b[1;36m-1\u001b[0m\u001b[39m, \u001b[0m\u001b[1;36m-1\u001b[0m\u001b[1;39m]\u001b[0m\u001b[1;39m]\u001b[0m\u001b[39m, \u001b[0m\u001b[33mdtype\u001b[0m\u001b[39m=\u001b[0m\u001b[35mint32\u001b[0m\u001b[1;39m)\u001b[0m\n",
       "\u001b[39m  batch_dim = \u001b[0m\u001b[1;36m0\u001b[0m\u001b[39m,\u001b[0m\n",
       "\u001b[39m    \u001b[0m\u001b[33md_node_children_index\u001b[0m\u001b[39m=\u001b[0m\u001b[35mTraced\u001b[0m\u001b[39m<\u001b[0m\u001b[1;35mShapedArray\u001b[0m\u001b[1;39m(\u001b[0m\u001b[39mint32\u001b[0m\u001b[1;39m[\u001b[0m\u001b[1;36m2\u001b[0m\u001b[39m,\u001b[0m\u001b[1;36m3\u001b[0m\u001b[1;39m]\u001b[0m\u001b[1;39m)\u001b[0m\u001b[39m>with<\u001b[0m\u001b[1;35mBatchTrace\u001b[0m\u001b[1;39m(\u001b[0m\u001b[33mlevel\u001b[0m\u001b[39m=\u001b[0m\u001b[1;36m1\u001b[0m\u001b[39m/\u001b[0m\u001b[1;36m0\u001b[0m\u001b[1;39m)\u001b[0m\u001b[39m> with\u001b[0m\n",
       "\u001b[39m  val = \u001b[0m\u001b[1;35mArray\u001b[0m\u001b[1;39m(\u001b[0m\u001b[1;39m[\u001b[0m\u001b[1;39m[\u001b[0m\u001b[1;39m[\u001b[0m\u001b[1;36m-1\u001b[0m\u001b[39m, \u001b[0m\u001b[1;36m-1\u001b[0m\u001b[39m, \u001b[0m\u001b[1;36m-1\u001b[0m\u001b[1;39m]\u001b[0m\u001b[39m,\u001b[0m\n",
       "\u001b[39m        \u001b[0m\u001b[1;39m[\u001b[0m\u001b[1;36m-1\u001b[0m\u001b[39m, \u001b[0m\u001b[1;36m-1\u001b[0m\u001b[39m, \u001b[0m\u001b[1;36m-1\u001b[0m\u001b[1;39m]\u001b[0m\u001b[1;39m]\u001b[0m\u001b[39m,\u001b[0m\n",
       "\n",
       "\u001b[39m       \u001b[0m\u001b[1;39m[\u001b[0m\u001b[1;39m[\u001b[0m\u001b[1;36m-1\u001b[0m\u001b[39m, \u001b[0m\u001b[1;36m-1\u001b[0m\u001b[39m, \u001b[0m\u001b[1;36m-1\u001b[0m\u001b[1;39m]\u001b[0m\u001b[39m,\u001b[0m\n",
       "\u001b[39m        \u001b[0m\u001b[1;39m[\u001b[0m\u001b[1;36m-1\u001b[0m\u001b[39m, \u001b[0m\u001b[1;36m-1\u001b[0m\u001b[39m, \u001b[0m\u001b[1;36m-1\u001b[0m\u001b[1;39m]\u001b[0m\u001b[1;39m]\u001b[0m\u001b[1;39m]\u001b[0m\u001b[39m, \u001b[0m\u001b[33mdtype\u001b[0m\u001b[39m=\u001b[0m\u001b[35mint32\u001b[0m\u001b[1;39m)\u001b[0m\n",
       "\u001b[39m  batch_dim = \u001b[0m\u001b[1;36m0\u001b[0m\u001b[39m,\u001b[0m\n",
       "\u001b[39m    \u001b[0m\u001b[33mc_node_action\u001b[0m\u001b[39m=\u001b[0m\u001b[35mTraced\u001b[0m\u001b[39m<\u001b[0m\u001b[1;35mShapedArray\u001b[0m\u001b[1;39m(\u001b[0m\u001b[39mint32\u001b[0m\u001b[1;39m[\u001b[0m\u001b[1;36m2\u001b[0m\u001b[1;39m]\u001b[0m\u001b[1;39m)\u001b[0m\u001b[39m>with<\u001b[0m\u001b[1;35mBatchTrace\u001b[0m\u001b[1;39m(\u001b[0m\u001b[33mlevel\u001b[0m\u001b[39m=\u001b[0m\u001b[1;36m1\u001b[0m\u001b[39m/\u001b[0m\u001b[1;36m0\u001b[0m\u001b[1;39m)\u001b[0m\u001b[39m> with\u001b[0m\n",
       "\u001b[39m  val = \u001b[0m\u001b[1;35mArray\u001b[0m\u001b[1;39m(\u001b[0m\u001b[1;39m[\u001b[0m\u001b[1;39m[\u001b[0m\u001b[1;36m0\u001b[0m\u001b[39m, \u001b[0m\u001b[1;36m0\u001b[0m\u001b[1;39m]\u001b[0m\u001b[39m,\u001b[0m\n",
       "\u001b[39m       \u001b[0m\u001b[1;39m[\u001b[0m\u001b[1;36m0\u001b[0m\u001b[39m, \u001b[0m\u001b[1;36m0\u001b[0m\u001b[1;39m]\u001b[0m\u001b[1;39m]\u001b[0m\u001b[39m, \u001b[0m\u001b[33mdtype\u001b[0m\u001b[39m=\u001b[0m\u001b[35mint32\u001b[0m\u001b[1;39m)\u001b[0m\n",
       "\u001b[39m  batch_dim = \u001b[0m\u001b[1;36m0\u001b[0m\u001b[39m,\u001b[0m\n",
       "\u001b[39m    \u001b[0m\u001b[33mc_node_visits\u001b[0m\u001b[39m=\u001b[0m\u001b[35mTraced\u001b[0m\u001b[39m<\u001b[0m\u001b[1;35mShapedArray\u001b[0m\u001b[1;39m(\u001b[0m\u001b[39mint32\u001b[0m\u001b[1;39m[\u001b[0m\u001b[1;36m2\u001b[0m\u001b[1;39m]\u001b[0m\u001b[1;39m)\u001b[0m\u001b[39m>with<\u001b[0m\u001b[1;35mBatchTrace\u001b[0m\u001b[1;39m(\u001b[0m\u001b[33mlevel\u001b[0m\u001b[39m=\u001b[0m\u001b[1;36m1\u001b[0m\u001b[39m/\u001b[0m\u001b[1;36m0\u001b[0m\u001b[1;39m)\u001b[0m\u001b[39m> with\u001b[0m\n",
       "\u001b[39m  val = \u001b[0m\u001b[1;35mArray\u001b[0m\u001b[1;39m(\u001b[0m\u001b[1;39m[\u001b[0m\u001b[1;39m[\u001b[0m\u001b[1;36m0\u001b[0m\u001b[39m, \u001b[0m\u001b[1;36m0\u001b[0m\u001b[1;39m]\u001b[0m\u001b[39m,\u001b[0m\n",
       "\u001b[39m       \u001b[0m\u001b[1;39m[\u001b[0m\u001b[1;36m0\u001b[0m\u001b[39m, \u001b[0m\u001b[1;36m0\u001b[0m\u001b[1;39m]\u001b[0m\u001b[1;39m]\u001b[0m\u001b[39m, \u001b[0m\u001b[33mdtype\u001b[0m\u001b[39m=\u001b[0m\u001b[35mint32\u001b[0m\u001b[1;39m)\u001b[0m\n",
       "\u001b[39m  batch_dim = \u001b[0m\u001b[1;36m0\u001b[0m\u001b[39m,\u001b[0m\n",
       "\u001b[39m    \u001b[0m\u001b[33mc_node_reward\u001b[0m\u001b[39m=\u001b[0m\u001b[35mTraced\u001b[0m\u001b[39m<\u001b[0m\u001b[1;35mShapedArray\u001b[0m\u001b[1;39m(\u001b[0m\u001b[39mfloat32\u001b[0m\u001b[1;39m[\u001b[0m\u001b[1;36m2\u001b[0m\u001b[1;39m]\u001b[0m\u001b[1;39m)\u001b[0m\u001b[39m>with<\u001b[0m\u001b[1;35mBatchTrace\u001b[0m\u001b[1;39m(\u001b[0m\u001b[33mlevel\u001b[0m\u001b[39m=\u001b[0m\u001b[1;36m1\u001b[0m\u001b[39m/\u001b[0m\u001b[1;36m0\u001b[0m\u001b[1;39m)\u001b[0m\u001b[39m> with\u001b[0m\n",
       "\u001b[39m  val = \u001b[0m\u001b[1;35mArray\u001b[0m\u001b[1;39m(\u001b[0m\u001b[1;39m[\u001b[0m\u001b[1;39m[\u001b[0m\u001b[1;36m0\u001b[0m\u001b[39m., \u001b[0m\u001b[1;36m0\u001b[0m\u001b[39m.\u001b[0m\u001b[1;39m]\u001b[0m\u001b[39m,\u001b[0m\n",
       "\u001b[39m       \u001b[0m\u001b[1;39m[\u001b[0m\u001b[1;36m0\u001b[0m\u001b[39m., \u001b[0m\u001b[1;36m0\u001b[0m\u001b[39m.\u001b[0m\u001b[1;39m]\u001b[0m\u001b[1;39m]\u001b[0m\u001b[39m, \u001b[0m\u001b[33mdtype\u001b[0m\u001b[39m=\u001b[0m\u001b[35mfloat32\u001b[0m\u001b[1;39m)\u001b[0m\n",
       "\u001b[39m  batch_dim = \u001b[0m\u001b[1;36m0\u001b[0m\u001b[39m,\u001b[0m\n",
       "\u001b[39m    \u001b[0m\u001b[33mc_node_raw_value\u001b[0m\u001b[39m=\u001b[0m\u001b[35mTraced\u001b[0m\u001b[39m<\u001b[0m\u001b[1;35mShapedArray\u001b[0m\u001b[1;39m(\u001b[0m\u001b[39mfloat32\u001b[0m\u001b[1;39m[\u001b[0m\u001b[1;36m2\u001b[0m\u001b[1;39m]\u001b[0m\u001b[1;39m)\u001b[0m\u001b[39m>with<\u001b[0m\u001b[1;35mBatchTrace\u001b[0m\u001b[1;39m(\u001b[0m\u001b[33mlevel\u001b[0m\u001b[39m=\u001b[0m\u001b[1;36m1\u001b[0m\u001b[39m/\u001b[0m\u001b[1;36m0\u001b[0m\u001b[1;39m)\u001b[0m\u001b[39m> with\u001b[0m\n",
       "\u001b[39m  val = \u001b[0m\u001b[1;35mArray\u001b[0m\u001b[1;39m(\u001b[0m\u001b[1;39m[\u001b[0m\u001b[1;39m[\u001b[0m\u001b[1;36m0\u001b[0m\u001b[39m., \u001b[0m\u001b[1;36m0\u001b[0m\u001b[39m.\u001b[0m\u001b[1;39m]\u001b[0m\u001b[39m,\u001b[0m\n",
       "\u001b[39m       \u001b[0m\u001b[1;39m[\u001b[0m\u001b[1;36m0\u001b[0m\u001b[39m., \u001b[0m\u001b[1;36m0\u001b[0m\u001b[39m.\u001b[0m\u001b[1;39m]\u001b[0m\u001b[1;39m]\u001b[0m\u001b[39m, \u001b[0m\u001b[33mdtype\u001b[0m\u001b[39m=\u001b[0m\u001b[35mfloat32\u001b[0m\u001b[1;39m)\u001b[0m\n",
       "\u001b[39m  batch_dim = \u001b[0m\u001b[1;36m0\u001b[0m\u001b[39m,\u001b[0m\n",
       "\u001b[39m    \u001b[0m\u001b[33mc_node_value\u001b[0m\u001b[39m=\u001b[0m\u001b[35mTraced\u001b[0m\u001b[39m<\u001b[0m\u001b[1;35mShapedArray\u001b[0m\u001b[1;39m(\u001b[0m\u001b[39mfloat32\u001b[0m\u001b[1;39m[\u001b[0m\u001b[1;36m2\u001b[0m\u001b[1;39m]\u001b[0m\u001b[1;39m)\u001b[0m\u001b[39m>with<\u001b[0m\u001b[1;35mBatchTrace\u001b[0m\u001b[1;39m(\u001b[0m\u001b[33mlevel\u001b[0m\u001b[39m=\u001b[0m\u001b[1;36m1\u001b[0m\u001b[39m/\u001b[0m\u001b[1;36m0\u001b[0m\u001b[1;39m)\u001b[0m\u001b[39m> with\u001b[0m\n",
       "\u001b[39m  val = \u001b[0m\u001b[1;35mArray\u001b[0m\u001b[1;39m(\u001b[0m\u001b[1;39m[\u001b[0m\u001b[1;39m[\u001b[0m\u001b[1;36m0\u001b[0m\u001b[39m., \u001b[0m\u001b[1;36m0\u001b[0m\u001b[39m.\u001b[0m\u001b[1;39m]\u001b[0m\u001b[39m,\u001b[0m\n",
       "\u001b[39m       \u001b[0m\u001b[1;39m[\u001b[0m\u001b[1;36m0\u001b[0m\u001b[39m., \u001b[0m\u001b[1;36m0\u001b[0m\u001b[39m.\u001b[0m\u001b[1;39m]\u001b[0m\u001b[1;39m]\u001b[0m\u001b[39m, \u001b[0m\u001b[33mdtype\u001b[0m\u001b[39m=\u001b[0m\u001b[35mfloat32\u001b[0m\u001b[1;39m)\u001b[0m\n",
       "\u001b[39m  batch_dim = \u001b[0m\u001b[1;36m0\u001b[0m\u001b[39m,\u001b[0m\n",
       "\u001b[39m    \u001b[0m\u001b[33mc_node_discount\u001b[0m\u001b[39m=\u001b[0m\u001b[35mTraced\u001b[0m\u001b[39m<\u001b[0m\u001b[1;35mShapedArray\u001b[0m\u001b[1;39m(\u001b[0m\u001b[39mfloat32\u001b[0m\u001b[1;39m[\u001b[0m\u001b[1;36m2\u001b[0m\u001b[1;39m]\u001b[0m\u001b[1;39m)\u001b[0m\u001b[39m>with<\u001b[0m\u001b[1;35mBatchTrace\u001b[0m\u001b[1;39m(\u001b[0m\u001b[33mlevel\u001b[0m\u001b[39m=\u001b[0m\u001b[1;36m1\u001b[0m\u001b[39m/\u001b[0m\u001b[1;36m0\u001b[0m\u001b[1;39m)\u001b[0m\u001b[39m> with\u001b[0m\n",
       "\u001b[39m  val = \u001b[0m\u001b[1;35mArray\u001b[0m\u001b[1;39m(\u001b[0m\u001b[1;39m[\u001b[0m\u001b[1;39m[\u001b[0m\u001b[1;36m0\u001b[0m\u001b[39m., \u001b[0m\u001b[1;36m0\u001b[0m\u001b[39m.\u001b[0m\u001b[1;39m]\u001b[0m\u001b[39m,\u001b[0m\n",
       "\u001b[39m       \u001b[0m\u001b[1;39m[\u001b[0m\u001b[1;36m0\u001b[0m\u001b[39m., \u001b[0m\u001b[1;36m0\u001b[0m\u001b[39m.\u001b[0m\u001b[1;39m]\u001b[0m\u001b[1;39m]\u001b[0m\u001b[39m, \u001b[0m\u001b[33mdtype\u001b[0m\u001b[39m=\u001b[0m\u001b[35mfloat32\u001b[0m\u001b[1;39m)\u001b[0m\n",
       "\u001b[39m  batch_dim = \u001b[0m\u001b[1;36m0\u001b[0m\u001b[39m,\u001b[0m\n",
       "\u001b[39m    \u001b[0m\u001b[33mc_node_children_index\u001b[0m\u001b[39m=\u001b[0m\u001b[35mTraced\u001b[0m\u001b[39m<\u001b[0m\u001b[1;35mShapedArray\u001b[0m\u001b[1;39m(\u001b[0m\u001b[39mint32\u001b[0m\u001b[1;39m[\u001b[0m\u001b[1;36m2\u001b[0m\u001b[39m,\u001b[0m\u001b[1;36m1\u001b[0m\u001b[1;39m]\u001b[0m\u001b[1;39m)\u001b[0m\u001b[39m>with<\u001b[0m\u001b[1;35mBatchTrace\u001b[0m\u001b[1;39m(\u001b[0m\u001b[33mlevel\u001b[0m\u001b[39m=\u001b[0m\u001b[1;36m1\u001b[0m\u001b[39m/\u001b[0m\u001b[1;36m0\u001b[0m\u001b[1;39m)\u001b[0m\u001b[39m> with\u001b[0m\n",
       "\u001b[39m  val = \u001b[0m\u001b[1;35mArray\u001b[0m\u001b[1;39m(\u001b[0m\u001b[1;39m[\u001b[0m\u001b[1;39m[\u001b[0m\u001b[1;39m[\u001b[0m\u001b[1;36m-1\u001b[0m\u001b[1;39m]\u001b[0m\u001b[39m,\u001b[0m\n",
       "\u001b[39m        \u001b[0m\u001b[1;39m[\u001b[0m\u001b[1;36m-1\u001b[0m\u001b[1;39m]\u001b[0m\u001b[1;39m]\u001b[0m\u001b[39m,\u001b[0m\n",
       "\n",
       "\u001b[39m       \u001b[0m\u001b[1;39m[\u001b[0m\u001b[1;39m[\u001b[0m\u001b[1;36m-1\u001b[0m\u001b[1;39m]\u001b[0m\u001b[39m,\u001b[0m\n",
       "\u001b[39m        \u001b[0m\u001b[1;39m[\u001b[0m\u001b[1;36m-1\u001b[0m\u001b[1;39m]\u001b[0m\u001b[1;39m]\u001b[0m\u001b[1;39m]\u001b[0m\u001b[39m, \u001b[0m\u001b[33mdtype\u001b[0m\u001b[39m=\u001b[0m\u001b[35mint32\u001b[0m\u001b[1;39m)\u001b[0m\n",
       "\u001b[39m  batch_dim = \u001b[0m\u001b[1;36m0\u001b[0m\u001b[39m,\u001b[0m\n",
       "\u001b[39m    \u001b[0m\u001b[33mc_node_children_outcome_embeddings\u001b[0m\u001b[39m=\u001b[0m\u001b[1;39m{\u001b[0m\n",
       "\u001b[39m        \u001b[0m\u001b[32m'img'\u001b[0m\u001b[39m: Traced<\u001b[0m\u001b[1;35mShapedArray\u001b[0m\u001b[1;39m(\u001b[0m\u001b[39mfloat32\u001b[0m\u001b[1;39m[\u001b[0m\u001b[1;36m2\u001b[0m\u001b[39m,\u001b[0m\u001b[1;36m1\u001b[0m\u001b[39m,\u001b[0m\u001b[1;36m2\u001b[0m\u001b[39m,\u001b[0m\u001b[1;36m2\u001b[0m\u001b[1;39m]\u001b[0m\u001b[1;39m)\u001b[0m\u001b[39m>with<\u001b[0m\u001b[1;35mBatchTrace\u001b[0m\u001b[1;39m(\u001b[0m\u001b[33mlevel\u001b[0m\u001b[39m=\u001b[0m\u001b[1;36m1\u001b[0m\u001b[39m/\u001b[0m\u001b[1;36m0\u001b[0m\u001b[1;39m)\u001b[0m\u001b[39m> with\u001b[0m\n",
       "\u001b[39m  val = \u001b[0m\u001b[1;35mArray\u001b[0m\u001b[1;39m(\u001b[0m\u001b[1;39m[\u001b[0m\u001b[1;39m[\u001b[0m\u001b[1;39m[\u001b[0m\u001b[1;39m[\u001b[0m\u001b[1;39m[\u001b[0m\u001b[1;36m0\u001b[0m\u001b[39m., \u001b[0m\u001b[1;36m0\u001b[0m\u001b[39m.\u001b[0m\u001b[1;39m]\u001b[0m\u001b[39m,\u001b[0m\n",
       "\u001b[39m          \u001b[0m\u001b[1;39m[\u001b[0m\u001b[1;36m0\u001b[0m\u001b[39m., \u001b[0m\u001b[1;36m0\u001b[0m\u001b[39m.\u001b[0m\u001b[1;39m]\u001b[0m\u001b[1;39m]\u001b[0m\u001b[1;39m]\u001b[0m\u001b[39m,\u001b[0m\n",
       "\n",
       "\n",
       "\u001b[39m        \u001b[0m\u001b[1;39m[\u001b[0m\u001b[1;39m[\u001b[0m\u001b[1;39m[\u001b[0m\u001b[1;36m0\u001b[0m\u001b[39m., \u001b[0m\u001b[1;36m0\u001b[0m\u001b[39m.\u001b[0m\u001b[1;39m]\u001b[0m\u001b[39m,\u001b[0m\n",
       "\u001b[39m          \u001b[0m\u001b[1;39m[\u001b[0m\u001b[1;36m0\u001b[0m\u001b[39m., \u001b[0m\u001b[1;36m0\u001b[0m\u001b[39m.\u001b[0m\u001b[1;39m]\u001b[0m\u001b[1;39m]\u001b[0m\u001b[1;39m]\u001b[0m\u001b[1;39m]\u001b[0m\u001b[39m,\u001b[0m\n",
       "\n",
       "\n",
       "\n",
       "\u001b[39m       \u001b[0m\u001b[1;39m[\u001b[0m\u001b[1;39m[\u001b[0m\u001b[1;39m[\u001b[0m\u001b[1;39m[\u001b[0m\u001b[1;36m0\u001b[0m\u001b[39m., \u001b[0m\u001b[1;36m0\u001b[0m\u001b[39m.\u001b[0m\u001b[1;39m]\u001b[0m\u001b[39m,\u001b[0m\n",
       "\u001b[39m          \u001b[0m\u001b[1;39m[\u001b[0m\u001b[1;36m0\u001b[0m\u001b[39m., \u001b[0m\u001b[1;36m0\u001b[0m\u001b[39m.\u001b[0m\u001b[1;39m]\u001b[0m\u001b[1;39m]\u001b[0m\u001b[1;39m]\u001b[0m\u001b[39m,\u001b[0m\n",
       "\n",
       "\n",
       "\u001b[39m        \u001b[0m\u001b[1;39m[\u001b[0m\u001b[1;39m[\u001b[0m\u001b[1;39m[\u001b[0m\u001b[1;36m0\u001b[0m\u001b[39m., \u001b[0m\u001b[1;36m0\u001b[0m\u001b[39m.\u001b[0m\u001b[1;39m]\u001b[0m\u001b[39m,\u001b[0m\n",
       "\u001b[39m          \u001b[0m\u001b[1;39m[\u001b[0m\u001b[1;36m0\u001b[0m\u001b[39m., \u001b[0m\u001b[1;36m0\u001b[0m\u001b[39m.\u001b[0m\u001b[1;39m]\u001b[0m\u001b[1;39m]\u001b[0m\u001b[1;39m]\u001b[0m\u001b[1;39m]\u001b[0m\u001b[1;39m]\u001b[0m\u001b[39m, \u001b[0m\u001b[33mdtype\u001b[0m\u001b[39m=\u001b[0m\u001b[35mfloat32\u001b[0m\u001b[1;39m)\u001b[0m\n",
       "\u001b[39m  batch_dim = \u001b[0m\u001b[1;36m0\u001b[0m\u001b[39m,\u001b[0m\n",
       "\u001b[39m        \u001b[0m\u001b[32m'othr'\u001b[0m\u001b[39m: Traced<\u001b[0m\u001b[1;35mShapedArray\u001b[0m\u001b[1;39m(\u001b[0m\u001b[39mfloat32\u001b[0m\u001b[1;39m[\u001b[0m\u001b[1;36m2\u001b[0m\u001b[39m,\u001b[0m\u001b[1;36m1\u001b[0m\u001b[39m,\u001b[0m\u001b[1;36m3\u001b[0m\u001b[1;39m]\u001b[0m\u001b[1;39m)\u001b[0m\u001b[39m>with<\u001b[0m\u001b[1;35mBatchTrace\u001b[0m\u001b[1;39m(\u001b[0m\u001b[33mlevel\u001b[0m\u001b[39m=\u001b[0m\u001b[1;36m1\u001b[0m\u001b[39m/\u001b[0m\u001b[1;36m0\u001b[0m\u001b[1;39m)\u001b[0m\u001b[39m> with\u001b[0m\n",
       "\u001b[39m  val = \u001b[0m\u001b[1;35mArray\u001b[0m\u001b[1;39m(\u001b[0m\u001b[1;39m[\u001b[0m\u001b[1;39m[\u001b[0m\u001b[1;39m[\u001b[0m\u001b[1;39m[\u001b[0m\u001b[1;36m0\u001b[0m\u001b[39m., \u001b[0m\u001b[1;36m0\u001b[0m\u001b[39m., \u001b[0m\u001b[1;36m0\u001b[0m\u001b[39m.\u001b[0m\u001b[1;39m]\u001b[0m\u001b[1;39m]\u001b[0m\u001b[39m,\u001b[0m\n",
       "\n",
       "\u001b[39m        \u001b[0m\u001b[1;39m[\u001b[0m\u001b[1;39m[\u001b[0m\u001b[1;36m0\u001b[0m\u001b[39m., \u001b[0m\u001b[1;36m0\u001b[0m\u001b[39m., \u001b[0m\u001b[1;36m0\u001b[0m\u001b[39m.\u001b[0m\u001b[1;39m]\u001b[0m\u001b[1;39m]\u001b[0m\u001b[1;39m]\u001b[0m\u001b[39m,\u001b[0m\n",
       "\n",
       "\n",
       "\u001b[39m       \u001b[0m\u001b[1;39m[\u001b[0m\u001b[1;39m[\u001b[0m\u001b[1;39m[\u001b[0m\u001b[1;36m0\u001b[0m\u001b[39m., \u001b[0m\u001b[1;36m0\u001b[0m\u001b[39m., \u001b[0m\u001b[1;36m0\u001b[0m\u001b[39m.\u001b[0m\u001b[1;39m]\u001b[0m\u001b[1;39m]\u001b[0m\u001b[39m,\u001b[0m\n",
       "\n",
       "\u001b[39m        \u001b[0m\u001b[1;39m[\u001b[0m\u001b[1;39m[\u001b[0m\u001b[1;36m0\u001b[0m\u001b[39m., \u001b[0m\u001b[1;36m0\u001b[0m\u001b[39m., \u001b[0m\u001b[1;36m0\u001b[0m\u001b[39m.\u001b[0m\u001b[1;39m]\u001b[0m\u001b[1;39m]\u001b[0m\u001b[1;39m]\u001b[0m\u001b[1;39m]\u001b[0m\u001b[39m, \u001b[0m\u001b[33mdtype\u001b[0m\u001b[39m=\u001b[0m\u001b[35mfloat32\u001b[0m\u001b[1;39m)\u001b[0m\n",
       "\u001b[39m  batch_dim = \u001b[0m\u001b[1;36m0\u001b[0m\n",
       "\u001b[39m    \u001b[0m\u001b[1;39m}\u001b[0m\u001b[39m,\u001b[0m\n",
       "\u001b[39m    \u001b[0m\u001b[33mroot_invalid_actions\u001b[0m\u001b[39m=\u001b[0m\u001b[35mTraced\u001b[0m\u001b[39m<\u001b[0m\u001b[1;35mShapedArray\u001b[0m\u001b[1;39m(\u001b[0m\u001b[39mfloat32\u001b[0m\u001b[1;39m[\u001b[0m\u001b[1;36m3\u001b[0m\u001b[1;39m]\u001b[0m\u001b[39m, \u001b[0m\u001b[33mweak_type\u001b[0m\u001b[39m=\u001b[0m\u001b[3;92mTrue\u001b[0m\u001b[1;39m)\u001b[0m\u001b[39m>with<\u001b[0m\u001b[1;35mBatchTrace\u001b[0m\u001b[1;39m(\u001b[0m\u001b[33mlevel\u001b[0m\u001b[39m=\u001b[0m\u001b[1;36m1\u001b[0m\u001b[39m/\u001b[0m\u001b[1;36m0\u001b[0m\u001b[1;39m)\u001b[0m\u001b[1m>\u001b[0m with\n",
       "  val = \u001b[1;35mArray\u001b[0m\u001b[1m(\u001b[0m\u001b[1m[\u001b[0m\u001b[1m[\u001b[0m\u001b[1;36m0\u001b[0m., \u001b[1;36m0\u001b[0m., \u001b[1;36m0\u001b[0m.\u001b[1m]\u001b[0m,\n",
       "       \u001b[1m[\u001b[0m\u001b[1;36m0\u001b[0m., \u001b[1;36m0\u001b[0m., \u001b[1;36m0\u001b[0m.\u001b[1m]\u001b[0m\u001b[1m]\u001b[0m, \u001b[33mdtype\u001b[0m=\u001b[35mfloat32\u001b[0m, \u001b[33mweak_type\u001b[0m=\u001b[3;92mTrue\u001b[0m\u001b[1m)\u001b[0m\n",
       "  batch_dim = \u001b[1;36m0\u001b[0m,\n",
       "    \u001b[33mextra_data\u001b[0m=\u001b[3;35mNone\u001b[0m\n",
       "\u001b[1m)\u001b[0m\n"
      ]
     },
     "metadata": {},
     "output_type": "display_data"
    }
   ],
   "source": [
    "jax.vmap(lambda x: print(x))(tree)"
   ]
  },
  {
   "cell_type": "code",
   "execution_count": 71,
   "id": "dd041852-f7ce-4d80-a647-43fec0a15193",
   "metadata": {},
   "outputs": [
    {
     "data": {
      "text/plain": [
       "_TrialBuf(d_node_indices=Array([[ 0, -1, -1, -1, -1, -1],\n",
       "       [ 0, -1, -1, -1, -1, -1]], dtype=int32), d_node_state_embeddings={'img': Array([[[[0., 0.],\n",
       "         [0., 0.]],\n",
       "\n",
       "        [[0., 0.],\n",
       "         [0., 0.]],\n",
       "\n",
       "        [[0., 0.],\n",
       "         [0., 0.]],\n",
       "\n",
       "        [[0., 0.],\n",
       "         [0., 0.]],\n",
       "\n",
       "        [[0., 0.],\n",
       "         [0., 0.]],\n",
       "\n",
       "        [[0., 0.],\n",
       "         [0., 0.]]],\n",
       "\n",
       "\n",
       "       [[[0., 0.],\n",
       "         [0., 0.]],\n",
       "\n",
       "        [[0., 0.],\n",
       "         [0., 0.]],\n",
       "\n",
       "        [[0., 0.],\n",
       "         [0., 0.]],\n",
       "\n",
       "        [[0., 0.],\n",
       "         [0., 0.]],\n",
       "\n",
       "        [[0., 0.],\n",
       "         [0., 0.]],\n",
       "\n",
       "        [[0., 0.],\n",
       "         [0., 0.]]]], dtype=float32), 'othr': Array([[[0., 0., 0.],\n",
       "        [0., 0., 0.],\n",
       "        [0., 0., 0.],\n",
       "        [0., 0., 0.],\n",
       "        [0., 0., 0.],\n",
       "        [0., 0., 0.]],\n",
       "\n",
       "       [[0., 0., 0.],\n",
       "        [0., 0., 0.],\n",
       "        [0., 0., 0.],\n",
       "        [0., 0., 0.],\n",
       "        [0., 0., 0.],\n",
       "        [0., 0., 0.]]], dtype=float32)}, d_node_visits=Array([[1, 0, 0, 0, 0, 0],\n",
       "       [1, 0, 0, 0, 0, 0]], dtype=int32), d_node_raw_values=Array([[1., 0., 0., 0., 0., 0.],\n",
       "       [1., 0., 0., 0., 0., 0.]], dtype=float32), d_node_values=Array([[1., 0., 0., 0., 0., 0.],\n",
       "       [1., 0., 0., 0., 0., 0.]], dtype=float32), d_node_prior_policy_logits=Array([[[0.5, 0.5, 0.5],\n",
       "        [0. , 0. , 0. ],\n",
       "        [0. , 0. , 0. ],\n",
       "        [0. , 0. , 0. ],\n",
       "        [0. , 0. , 0. ],\n",
       "        [0. , 0. , 0. ]],\n",
       "\n",
       "       [[0.5, 0.5, 0.5],\n",
       "        [0. , 0. , 0. ],\n",
       "        [0. , 0. , 0. ],\n",
       "        [0. , 0. , 0. ],\n",
       "        [0. , 0. , 0. ],\n",
       "        [0. , 0. , 0. ]]], dtype=float32), d_node_parent_indices=Array([[0, 0, 0, 0, 0, 0],\n",
       "       [0, 0, 0, 0, 0, 0]], dtype=int32), d_node_action_selected=Array([[0, 0, 0, 0, 0, 0],\n",
       "       [0, 0, 0, 0, 0, 0]], dtype=int32), c_node_indices=Array([[-1, -1, -1, -1, -1],\n",
       "       [-1, -1, -1, -1, -1]], dtype=int32), c_node_visits=Array([[0, 0, 0, 0, 0],\n",
       "       [0, 0, 0, 0, 0]], dtype=int32), c_node_rewards=Array([[0., 0., 0., 0., 0.],\n",
       "       [0., 0., 0., 0., 0.]], dtype=float32), c_node_raw_values=Array([[0., 0., 0., 0., 0.],\n",
       "       [0., 0., 0., 0., 0.]], dtype=float32), c_node_values=Array([[0., 0., 0., 0., 0.],\n",
       "       [0., 0., 0., 0., 0.]], dtype=float32), c_node_discounts=Array([[0., 0., 0., 0., 0.],\n",
       "       [0., 0., 0., 0., 0.]], dtype=float32), c_node_outcome_selected=Array([[0, 0, 0, 0, 0],\n",
       "       [0, 0, 0, 0, 0]], dtype=int32), c_node_outcome_embeddings={'img': Array([[[[[0., 0.],\n",
       "          [0., 0.]]],\n",
       "\n",
       "\n",
       "        [[[0., 0.],\n",
       "          [0., 0.]]],\n",
       "\n",
       "\n",
       "        [[[0., 0.],\n",
       "          [0., 0.]]],\n",
       "\n",
       "\n",
       "        [[[0., 0.],\n",
       "          [0., 0.]]],\n",
       "\n",
       "\n",
       "        [[[0., 0.],\n",
       "          [0., 0.]]]],\n",
       "\n",
       "\n",
       "\n",
       "       [[[[0., 0.],\n",
       "          [0., 0.]]],\n",
       "\n",
       "\n",
       "        [[[0., 0.],\n",
       "          [0., 0.]]],\n",
       "\n",
       "\n",
       "        [[[0., 0.],\n",
       "          [0., 0.]]],\n",
       "\n",
       "\n",
       "        [[[0., 0.],\n",
       "          [0., 0.]]],\n",
       "\n",
       "\n",
       "        [[[0., 0.],\n",
       "          [0., 0.]]]]], dtype=float32), 'othr': Array([[[[0., 0., 0.]],\n",
       "\n",
       "        [[0., 0., 0.]],\n",
       "\n",
       "        [[0., 0., 0.]],\n",
       "\n",
       "        [[0., 0., 0.]],\n",
       "\n",
       "        [[0., 0., 0.]]],\n",
       "\n",
       "\n",
       "       [[[0., 0., 0.]],\n",
       "\n",
       "        [[0., 0., 0.]],\n",
       "\n",
       "        [[0., 0., 0.]],\n",
       "\n",
       "        [[0., 0., 0.]],\n",
       "\n",
       "        [[0., 0., 0.]]]], dtype=float32)})"
      ]
     },
     "execution_count": 71,
     "metadata": {},
     "output_type": "execute_result"
    }
   ],
   "source": [
    "from thtx._src.search import make_new_trialbuf\n",
    "\n",
    "jax.vmap(make_new_trialbuf,in_axes=[0,None],out_axes=0)(tree,5)"
   ]
  },
  {
   "cell_type": "markdown",
   "id": "03e6d174-fb71-4225-8d9f-eb44b97a3677",
   "metadata": {},
   "source": [
    "Ok, that's everything we've written so far. Note that `make_new_trialbuf` is written as an unbatched function, so to apply it to the batched `tree` object we had to `vmap` it\n",
    "\n",
    "We also tried jit'ing everything we can. I think if you jit everything and overuse static_argnums then it can be slower, but we can toggle things on and off by just commenting out the jit part, so it'll make jit'ing easier later, I guess? "
   ]
  },
  {
   "cell_type": "markdown",
   "id": "8db08733-b605-49ec-99d5-99e0f7004e29",
   "metadata": {},
   "source": [
    "Lets quickly test the jiting thing, and then try to quickly write simulate, and then I'll have to sign off for the day"
   ]
  },
  {
   "cell_type": "code",
   "execution_count": 72,
   "id": "14580867-7248-4f3d-8b05-a1a2b703f378",
   "metadata": {},
   "outputs": [],
   "source": [
    "def add_one(x):\n",
    "    return x+1\n",
    "\n",
    "jit_add_one = jax.jit(add_one, static_argnums=(0,))"
   ]
  },
  {
   "cell_type": "code",
   "execution_count": 73,
   "id": "179a6aa3-30ad-4278-9daa-f003d843ac96",
   "metadata": {},
   "outputs": [
    {
     "name": "stdout",
     "output_type": "stream",
     "text": [
      "CPU times: user 12 μs, sys: 1e+03 ns, total: 13 μs\n",
      "Wall time: 16.2 μs\n"
     ]
    }
   ],
   "source": [
    "%%time \n",
    "for i in range(100):\n",
    "    add_one(i)"
   ]
  },
  {
   "cell_type": "code",
   "execution_count": 74,
   "id": "554cf9fa-5cae-49fb-8bb1-ff5f0b1f7c2a",
   "metadata": {},
   "outputs": [
    {
     "name": "stdout",
     "output_type": "stream",
     "text": [
      "CPU times: user 843 ms, sys: 8.66 ms, total: 851 ms\n",
      "Wall time: 843 ms\n"
     ]
    }
   ],
   "source": [
    "%%time\n",
    "for i in range(100):\n",
    "    jit_add_one(i)"
   ]
  },
  {
   "cell_type": "markdown",
   "id": "e38a15bf-0836-481b-9c47-66c294eccedd",
   "metadata": {},
   "source": [
    "I tried that with 10000 first, and that hung forever. Ok, so it's only worth jit'ing things that dont have to be recompiled all of the time (so not like java for example). I'll test what can be jit'ed and then can just toggle on/off where it'll gain time I guess"
   ]
  },
  {
   "cell_type": "code",
   "execution_count": 75,
   "id": "b54ee61c-533d-4289-9d6a-df242e2f1a10",
   "metadata": {},
   "outputs": [],
   "source": [
    "def act_select(rng_key, tree, d_node_index, depth):\n",
    "    return (depth+1) % tree.num_actions\n",
    "\n",
    "def out_sample(rng_key, tree, c_node_index, depth):\n",
    "    # num_outcomes = tree.c_node_children_index.shape[-1]\n",
    "    # return depth % num_outcomes\n",
    "    return 0"
   ]
  },
  {
   "cell_type": "code",
   "execution_count": 76,
   "id": "4e50e694-551c-43a1-b16d-aed394516a16",
   "metadata": {},
   "outputs": [
    {
     "data": {
      "text/plain": [
       "_TrialBuf(d_node_indices=Array([[ 0, -1, -1, -1, -1, -1],\n",
       "       [ 0, -1, -1, -1, -1, -1]], dtype=int32), d_node_state_embeddings={'img': Array([[[[0., 0.],\n",
       "         [0., 0.]],\n",
       "\n",
       "        [[0., 0.],\n",
       "         [0., 0.]],\n",
       "\n",
       "        [[0., 0.],\n",
       "         [0., 0.]],\n",
       "\n",
       "        [[0., 0.],\n",
       "         [0., 0.]],\n",
       "\n",
       "        [[0., 0.],\n",
       "         [0., 0.]],\n",
       "\n",
       "        [[0., 0.],\n",
       "         [0., 0.]]],\n",
       "\n",
       "\n",
       "       [[[0., 0.],\n",
       "         [0., 0.]],\n",
       "\n",
       "        [[0., 0.],\n",
       "         [0., 0.]],\n",
       "\n",
       "        [[0., 0.],\n",
       "         [0., 0.]],\n",
       "\n",
       "        [[0., 0.],\n",
       "         [0., 0.]],\n",
       "\n",
       "        [[0., 0.],\n",
       "         [0., 0.]],\n",
       "\n",
       "        [[0., 0.],\n",
       "         [0., 0.]]]], dtype=float32), 'othr': Array([[[0., 0., 0.],\n",
       "        [0., 0., 0.],\n",
       "        [0., 0., 0.],\n",
       "        [0., 0., 0.],\n",
       "        [0., 0., 0.],\n",
       "        [0., 0., 0.]],\n",
       "\n",
       "       [[0., 0., 0.],\n",
       "        [0., 0., 0.],\n",
       "        [0., 0., 0.],\n",
       "        [0., 0., 0.],\n",
       "        [0., 0., 0.],\n",
       "        [0., 0., 0.]]], dtype=float32)}, d_node_visits=Array([[1, 0, 0, 0, 0, 0],\n",
       "       [1, 0, 0, 0, 0, 0]], dtype=int32), d_node_raw_values=Array([[1., 0., 0., 0., 0., 0.],\n",
       "       [1., 0., 0., 0., 0., 0.]], dtype=float32), d_node_values=Array([[1., 0., 0., 0., 0., 0.],\n",
       "       [1., 0., 0., 0., 0., 0.]], dtype=float32), d_node_prior_policy_logits=Array([[[0.5, 0.5, 0.5],\n",
       "        [0. , 0. , 0. ],\n",
       "        [0. , 0. , 0. ],\n",
       "        [0. , 0. , 0. ],\n",
       "        [0. , 0. , 0. ],\n",
       "        [0. , 0. , 0. ]],\n",
       "\n",
       "       [[0.5, 0.5, 0.5],\n",
       "        [0. , 0. , 0. ],\n",
       "        [0. , 0. , 0. ],\n",
       "        [0. , 0. , 0. ],\n",
       "        [0. , 0. , 0. ],\n",
       "        [0. , 0. , 0. ]]], dtype=float32), d_node_parent_indices=Array([[0, 0, 0, 0, 0, 0],\n",
       "       [0, 0, 0, 0, 0, 0]], dtype=int32), d_node_action_selected=Array([[1, 2, 0, 1, 2, 0],\n",
       "       [1, 2, 0, 1, 2, 0]], dtype=int32), c_node_indices=Array([[-1, -1, -1, -1, -1],\n",
       "       [-1, -1, -1, -1, -1]], dtype=int32), c_node_visits=Array([[0, 0, 0, 0, 0],\n",
       "       [0, 0, 0, 0, 0]], dtype=int32), c_node_rewards=Array([[0., 0., 0., 0., 0.],\n",
       "       [0., 0., 0., 0., 0.]], dtype=float32), c_node_raw_values=Array([[0., 0., 0., 0., 0.],\n",
       "       [0., 0., 0., 0., 0.]], dtype=float32), c_node_values=Array([[0., 0., 0., 0., 0.],\n",
       "       [0., 0., 0., 0., 0.]], dtype=float32), c_node_discounts=Array([[0., 0., 0., 0., 0.],\n",
       "       [0., 0., 0., 0., 0.]], dtype=float32), c_node_outcome_selected=Array([[0, 0, 0, 0, 0],\n",
       "       [0, 0, 0, 0, 0]], dtype=int32), c_node_outcome_embeddings={'img': Array([[[[[0., 0.],\n",
       "          [0., 0.]]],\n",
       "\n",
       "\n",
       "        [[[0., 0.],\n",
       "          [0., 0.]]],\n",
       "\n",
       "\n",
       "        [[[0., 0.],\n",
       "          [0., 0.]]],\n",
       "\n",
       "\n",
       "        [[[0., 0.],\n",
       "          [0., 0.]]],\n",
       "\n",
       "\n",
       "        [[[0., 0.],\n",
       "          [0., 0.]]]],\n",
       "\n",
       "\n",
       "\n",
       "       [[[[0., 0.],\n",
       "          [0., 0.]]],\n",
       "\n",
       "\n",
       "        [[[0., 0.],\n",
       "          [0., 0.]]],\n",
       "\n",
       "\n",
       "        [[[0., 0.],\n",
       "          [0., 0.]]],\n",
       "\n",
       "\n",
       "        [[[0., 0.],\n",
       "          [0., 0.]]],\n",
       "\n",
       "\n",
       "        [[[0., 0.],\n",
       "          [0., 0.]]]]], dtype=float32), 'othr': Array([[[[0., 0., 0.]],\n",
       "\n",
       "        [[0., 0., 0.]],\n",
       "\n",
       "        [[0., 0., 0.]],\n",
       "\n",
       "        [[0., 0., 0.]],\n",
       "\n",
       "        [[0., 0., 0.]]],\n",
       "\n",
       "\n",
       "       [[[0., 0., 0.]],\n",
       "\n",
       "        [[0., 0., 0.]],\n",
       "\n",
       "        [[0., 0., 0.]],\n",
       "\n",
       "        [[0., 0., 0.]],\n",
       "\n",
       "        [[0., 0., 0.]]]], dtype=float32)})"
      ]
     },
     "execution_count": 76,
     "metadata": {},
     "output_type": "execute_result"
    }
   ],
   "source": [
    "from thtx._src.search import selection\n",
    "\n",
    "rng_key = jax.random.key(60415)\n",
    "batch_rng_keys = jax.random.split(rng_key, num=batch_size)\n",
    "selection(batch_rng_keys, tree, act_select, out_sample, 5, False) #max_depth=5, mcts_mode=False)"
   ]
  },
  {
   "cell_type": "code",
   "execution_count": 77,
   "id": "bba4ab90-ad35-4be3-936a-3b3342a5a383",
   "metadata": {},
   "outputs": [
    {
     "data": {
      "text/plain": [
       "_TrialBuf(d_node_indices=Array([[ 0, -1, -1, -1, -1, -1],\n",
       "       [ 0, -1, -1, -1, -1, -1]], dtype=int32), d_node_state_embeddings={'img': Array([[[[0., 0.],\n",
       "         [0., 0.]],\n",
       "\n",
       "        [[0., 0.],\n",
       "         [0., 0.]],\n",
       "\n",
       "        [[0., 0.],\n",
       "         [0., 0.]],\n",
       "\n",
       "        [[0., 0.],\n",
       "         [0., 0.]],\n",
       "\n",
       "        [[0., 0.],\n",
       "         [0., 0.]],\n",
       "\n",
       "        [[0., 0.],\n",
       "         [0., 0.]]],\n",
       "\n",
       "\n",
       "       [[[0., 0.],\n",
       "         [0., 0.]],\n",
       "\n",
       "        [[0., 0.],\n",
       "         [0., 0.]],\n",
       "\n",
       "        [[0., 0.],\n",
       "         [0., 0.]],\n",
       "\n",
       "        [[0., 0.],\n",
       "         [0., 0.]],\n",
       "\n",
       "        [[0., 0.],\n",
       "         [0., 0.]],\n",
       "\n",
       "        [[0., 0.],\n",
       "         [0., 0.]]]], dtype=float32), 'othr': Array([[[0., 0., 0.],\n",
       "        [0., 0., 0.],\n",
       "        [0., 0., 0.],\n",
       "        [0., 0., 0.],\n",
       "        [0., 0., 0.],\n",
       "        [0., 0., 0.]],\n",
       "\n",
       "       [[0., 0., 0.],\n",
       "        [0., 0., 0.],\n",
       "        [0., 0., 0.],\n",
       "        [0., 0., 0.],\n",
       "        [0., 0., 0.],\n",
       "        [0., 0., 0.]]], dtype=float32)}, d_node_visits=Array([[1, 0, 0, 0, 0, 0],\n",
       "       [1, 0, 0, 0, 0, 0]], dtype=int32), d_node_raw_values=Array([[1., 0., 0., 0., 0., 0.],\n",
       "       [1., 0., 0., 0., 0., 0.]], dtype=float32), d_node_values=Array([[1., 0., 0., 0., 0., 0.],\n",
       "       [1., 0., 0., 0., 0., 0.]], dtype=float32), d_node_prior_policy_logits=Array([[[0.5, 0.5, 0.5],\n",
       "        [0. , 0. , 0. ],\n",
       "        [0. , 0. , 0. ],\n",
       "        [0. , 0. , 0. ],\n",
       "        [0. , 0. , 0. ],\n",
       "        [0. , 0. , 0. ]],\n",
       "\n",
       "       [[0.5, 0.5, 0.5],\n",
       "        [0. , 0. , 0. ],\n",
       "        [0. , 0. , 0. ],\n",
       "        [0. , 0. , 0. ],\n",
       "        [0. , 0. , 0. ],\n",
       "        [0. , 0. , 0. ]]], dtype=float32), d_node_parent_indices=Array([[0, 0, 0, 0, 0, 0],\n",
       "       [0, 0, 0, 0, 0, 0]], dtype=int32), d_node_action_selected=Array([[1, 0, 0, 0, 0, 0],\n",
       "       [1, 0, 0, 0, 0, 0]], dtype=int32), c_node_indices=Array([[-1, -1, -1, -1, -1],\n",
       "       [-1, -1, -1, -1, -1]], dtype=int32), c_node_visits=Array([[0, 0, 0, 0, 0],\n",
       "       [0, 0, 0, 0, 0]], dtype=int32), c_node_rewards=Array([[0., 0., 0., 0., 0.],\n",
       "       [0., 0., 0., 0., 0.]], dtype=float32), c_node_raw_values=Array([[0., 0., 0., 0., 0.],\n",
       "       [0., 0., 0., 0., 0.]], dtype=float32), c_node_values=Array([[0., 0., 0., 0., 0.],\n",
       "       [0., 0., 0., 0., 0.]], dtype=float32), c_node_discounts=Array([[0., 0., 0., 0., 0.],\n",
       "       [0., 0., 0., 0., 0.]], dtype=float32), c_node_outcome_selected=Array([[0, 0, 0, 0, 0],\n",
       "       [0, 0, 0, 0, 0]], dtype=int32), c_node_outcome_embeddings={'img': Array([[[[[0., 0.],\n",
       "          [0., 0.]]],\n",
       "\n",
       "\n",
       "        [[[0., 0.],\n",
       "          [0., 0.]]],\n",
       "\n",
       "\n",
       "        [[[0., 0.],\n",
       "          [0., 0.]]],\n",
       "\n",
       "\n",
       "        [[[0., 0.],\n",
       "          [0., 0.]]],\n",
       "\n",
       "\n",
       "        [[[0., 0.],\n",
       "          [0., 0.]]]],\n",
       "\n",
       "\n",
       "\n",
       "       [[[[0., 0.],\n",
       "          [0., 0.]]],\n",
       "\n",
       "\n",
       "        [[[0., 0.],\n",
       "          [0., 0.]]],\n",
       "\n",
       "\n",
       "        [[[0., 0.],\n",
       "          [0., 0.]]],\n",
       "\n",
       "\n",
       "        [[[0., 0.],\n",
       "          [0., 0.]]],\n",
       "\n",
       "\n",
       "        [[[0., 0.],\n",
       "          [0., 0.]]]]], dtype=float32), 'othr': Array([[[[0., 0., 0.]],\n",
       "\n",
       "        [[0., 0., 0.]],\n",
       "\n",
       "        [[0., 0., 0.]],\n",
       "\n",
       "        [[0., 0., 0.]],\n",
       "\n",
       "        [[0., 0., 0.]]],\n",
       "\n",
       "\n",
       "       [[[0., 0., 0.]],\n",
       "\n",
       "        [[0., 0., 0.]],\n",
       "\n",
       "        [[0., 0., 0.]],\n",
       "\n",
       "        [[0., 0., 0.]],\n",
       "\n",
       "        [[0., 0., 0.]]]], dtype=float32)})"
      ]
     },
     "execution_count": 77,
     "metadata": {},
     "output_type": "execute_result"
    }
   ],
   "source": [
    "selection(batch_rng_keys, tree, act_select, out_sample, 5, True) #max_depth=5, mcts_mode=True)"
   ]
  },
  {
   "cell_type": "markdown",
   "id": "f44add4b-e723-444f-96a7-c344a8f87159",
   "metadata": {},
   "source": [
    "Ok, got a rudimentary selection function running, and got it successfully jit'ed. \n",
    "\n",
    "N.B. we couldn't give the argnames because `jax.vmap` needs all arguments to be positional (so it knows which arguments to vmap)\n",
    "\n",
    "Need to update the selection function to completely fill out the trial buffer, but that's a next time job. \n",
    "\n",
    "At the time of writing this, the `d_node_action_selected` feild of the returned trial buffer is being filled out correctly for the different `mcts_mode` options.\n",
    "\n",
    "First thing to do next time is fill out the trial buffer fully in the selection function, and then code up the backup function. Then I think we try to implement MCTS in THTX!"
   ]
  },
  {
   "cell_type": "code",
   "execution_count": null,
   "id": "e4e1abcb-97b9-44e1-ae88-85aa7fe68304",
   "metadata": {},
   "outputs": [],
   "source": []
  }
 ],
 "metadata": {
  "kernelspec": {
   "display_name": "Python 3 (ipykernel)",
   "language": "python",
   "name": "python3"
  },
  "language_info": {
   "codemirror_mode": {
    "name": "ipython",
    "version": 3
   },
   "file_extension": ".py",
   "mimetype": "text/x-python",
   "name": "python",
   "nbconvert_exporter": "python",
   "pygments_lexer": "ipython3",
   "version": "3.10.14"
  }
 },
 "nbformat": 4,
 "nbformat_minor": 5
}
