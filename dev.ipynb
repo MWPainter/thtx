{
 "cells": [
  {
   "cell_type": "markdown",
   "id": "80270e45-e9e9-4c78-81f2-f7313d8a6187",
   "metadata": {},
   "source": [
    "# Development notebook\n",
    "\n",
    "Using this notebook to do the following:\n",
    "1. learn how to use mctx\n",
    "2. test my edits fror mctx -> thtx\n",
    "3. ramble/journal/vent?\n",
    "4. apologise if anyone ever reads this, because I am hacking this all together between thesis writing sessions.\n",
    "\n",
    "## Notes \n",
    "- 18/10/24 - decided to keep mctx in its own folder, and then implement thtx in a new folder. This way can make THTS a clean implementation rather than just hacked in. If this gets released, can delete this notebook and mctx folder in main branch, and keep it in a backup dev branch\n",
    "- 18/10/24 - actually, fuck it, three folders. folder1 = mctx, immutable; folder2 = mctx_play, where I hack things into mctx; folder3 = thtx, clean impl of thtx\n",
    "- 18/10/24 - ooops, just realised, might as well use mctx installed through pip as clean copy, mctx as the hacking folder, and thtx as clean"
   ]
  },
  {
   "cell_type": "markdown",
   "id": "d73d66b8-e8c3-4e4b-a9c5-2ebb07ba96c0",
   "metadata": {},
   "source": [
    "## Part 0: Setup being able to use thtx repo in this notebook\n",
    "\n",
    "https://medium.com/@pablosjv/importing-local-python-modules-into-jupyter-notebooks-87336b2d7746"
   ]
  },
  {
   "cell_type": "code",
   "execution_count": 1,
   "id": "7d8bb33f-3c4d-426b-bba2-ff96e9868579",
   "metadata": {},
   "outputs": [],
   "source": [
    "%load_ext autoreload\n",
    "%autoreload 2\n",
    "import os\n",
    "import sys\n",
    "module_path = os.path.abspath('/home/michael/Desktop/thtx') # or the path to your source code\n",
    "sys.path.insert(0, module_path)"
   ]
  },
  {
   "cell_type": "code",
   "execution_count": 2,
   "id": "32e08ead-c41a-4d04-a85f-da92eac480ad",
   "metadata": {},
   "outputs": [],
   "source": [
    "# Test import\n",
    "from mctx._src.tree import Tree"
   ]
  },
  {
   "cell_type": "markdown",
   "id": "e18401eb-8bf6-4c50-9429-dd1c02393958",
   "metadata": {},
   "source": [
    "## Part 1: Working through connect 4 example"
   ]
  },
  {
   "cell_type": "markdown",
   "id": "1ebbed9a-50e2-4716-abc2-ca57a0ee2aa9",
   "metadata": {},
   "source": [
    "#### 1.1 copying out the game definitions\n",
    "\n",
    "Deleting all the comments to make it more concise. Go look at original if wan understand"
   ]
  },
  {
   "cell_type": "code",
   "execution_count": 3,
   "id": "1236fc2c-c8fb-4bb1-9d04-d291e1d14d4a",
   "metadata": {},
   "outputs": [],
   "source": [
    "import chex\n",
    "from rich import print\n",
    "import jax.numpy as jnp\n",
    "\n",
    "Board = chex.Array\n",
    "Action = chex.Array\n",
    "Player = chex.Array\n",
    "Reward = chex.Array\n",
    "Done = chex.Array\n",
    "\n",
    "@chex.dataclass\n",
    "class Env:\n",
    "    board: Board\n",
    "    player: Player\n",
    "    done: Done\n",
    "    reward: Reward\n",
    "\n",
    "BOARD_STRING = \"\"\"\n",
    " ? | ? | ? | ? | ? | ? | ?\n",
    "---|---|---|---|---|---|---\n",
    " ? | ? | ? | ? | ? | ? | ?\n",
    "---|---|---|---|---|---|---\n",
    " ? | ? | ? | ? | ? | ? | ?\n",
    "---|---|---|---|---|---|---\n",
    " ? | ? | ? | ? | ? | ? | ?\n",
    "---|---|---|---|---|---|---\n",
    " ? | ? | ? | ? | ? | ? | ?\n",
    "---|---|---|---|---|---|---\n",
    " ? | ? | ? | ? | ? | ? | ?\n",
    "---|---|---|---|---|---|---\n",
    " 1   2   3   4   5   6   7\n",
    "\"\"\"\n",
    "\n",
    "def print_board(board: Board):\n",
    "    board_str = BOARD_STRING\n",
    "    for i in reversed(range(board.shape[0])):\n",
    "        for j in range(board.shape[1]):\n",
    "            board_str = board_str.replace('?', '[green]X[/green]' if board[i, j] == 1 else '[red]O[/red]' if board[i, j] == -1 else ' ', 1)\n",
    "    print(board_str)\n",
    "\n",
    "def horizontals(board: Board) -> chex.Array:\n",
    "    return jnp.stack([\n",
    "        board[i, j:j+4]\n",
    "        for i in range(board.shape[0])\n",
    "        for j in range(board.shape[1] - 3)\n",
    "    ])\n",
    "\n",
    "def verticals(board: Board) -> chex.Array:\n",
    "    return jnp.stack([\n",
    "        board[i:i+4, j]\n",
    "        for i in range(board.shape[0] - 3)\n",
    "        for j in range(board.shape[1])\n",
    "    ])\n",
    "\n",
    "def diagonals(board: Board) -> chex.Array:\n",
    "    return jnp.stack([\n",
    "        jnp.diag(board[i:i+4, j:j+4])\n",
    "        for i in range(board.shape[0] - 3)\n",
    "        for j in range(board.shape[1] - 3)\n",
    "    ])\n",
    "\n",
    "def antidiagonals(board: Board) -> chex.Array:\n",
    "    return jnp.stack([\n",
    "        jnp.diag(board[i:i+4, j:j+4][::-1])\n",
    "        for i in range(board.shape[0] - 3)\n",
    "        for j in range(board.shape[1] - 3)\n",
    "    ])\n",
    "\n",
    "def get_winner(board: Board) -> Player:\n",
    "    all_lines = jnp.concatenate((\n",
    "        horizontals(board),\n",
    "        verticals(board),\n",
    "        diagonals(board),\n",
    "        antidiagonals(board),\n",
    "    ))\n",
    "    x_won = jnp.any(jnp.all(all_lines == 1, axis=1)).astype(jnp.int8)\n",
    "    o_won = jnp.any(jnp.all(all_lines == -1, axis=1)).astype(jnp.int8)\n",
    "    return x_won - o_won\n",
    "\n",
    "def env_reset(_):\n",
    "    return Env(\n",
    "        board=jnp.zeros((6, 7), dtype=jnp.int8),\n",
    "        player=jnp.int8(1),\n",
    "        done=jnp.bool_(False),\n",
    "        reward=jnp.int8(0),\n",
    "    )\n",
    "\n",
    "def env_step(env: Env, action: Action) -> tuple[Env, Reward, Done]:\n",
    "    col = action\n",
    "    row = jnp.argmax(env.board[:, col] == 0)\n",
    "    invalid_move = env.board[row, col] != 0\n",
    "    board = env.board.at[row, col].set(jnp.where(env.done | invalid_move, env.board[row, col], env.player))\n",
    "    reward = jnp.where(env.done, 0, jnp.where(invalid_move, -1, get_winner(board) * env.player)).astype(jnp.int8)\n",
    "    done = env.done | reward != 0 | invalid_move | jnp.all(board[-1] != 0)\n",
    "    env = Env(\n",
    "        board=board,\n",
    "        # switch player\n",
    "        player=jnp.where(done, env.player, -env.player),\n",
    "        done=done,\n",
    "        reward=reward,\n",
    "    )\n",
    "    return env, reward, done"
   ]
  },
  {
   "cell_type": "markdown",
   "id": "1a85c84a-87f0-4126-a61e-3bd7556c7d61",
   "metadata": {},
   "source": [
    "#### 1.2 Policy stuff"
   ]
  },
  {
   "cell_type": "code",
   "execution_count": 4,
   "id": "a0d74235-99ac-40e2-aaf5-d04571d7c70f",
   "metadata": {},
   "outputs": [],
   "source": [
    "def valid_action_mask(env: Env) -> chex.Array:\n",
    "    return jnp.where(env.done, jnp.array([False] * env.board.shape[1]), env.board[-1] == 0)\n",
    "    \n",
    "def winning_action_mask(env: Env, player: Player) -> chex.Array:\n",
    "    env = Env(board=env.board, player=player, done=env.done, reward=env.reward)\n",
    "    env, reward, done = jax.vmap(env_step, (None, 0))(env, jnp.arange(7, dtype=jnp.int8))\n",
    "    return reward == 1\n",
    "\n",
    "def policy_function(env: Env) -> chex.Array:\n",
    "    return sum((\n",
    "        valid_action_mask(env).astype(jnp.float32) * 100,\n",
    "        winning_action_mask(env, -env.player).astype(jnp.float32) * 200,\n",
    "        winning_action_mask(env, env.player).astype(jnp.float32) * 300,\n",
    "    ))"
   ]
  },
  {
   "cell_type": "markdown",
   "id": "b2033f26-f61c-486a-85d8-406d46db6a0d",
   "metadata": {},
   "source": [
    "#### 1.3 Classic MCTS stuff"
   ]
  },
  {
   "cell_type": "code",
   "execution_count": 5,
   "id": "c86d0bc3-e133-473a-98d8-9074d3b8c5a1",
   "metadata": {},
   "outputs": [],
   "source": [
    "import jax\n",
    "import mctx\n",
    "import functools\n",
    "\n",
    "def rollout(env: Env, rng_key: chex.PRNGKey) -> Reward:\n",
    "    def cond(a):\n",
    "        env, key = a\n",
    "        return ~env.done\n",
    "    def step(a):\n",
    "        env, key = a\n",
    "        key, subkey = jax.random.split(key)\n",
    "        action = jax.random.categorical(subkey, policy_function(env))\n",
    "        env, reward, done = env_step(env, action)\n",
    "        return env, key\n",
    "    leaf, key = jax.lax.while_loop(cond, step, (env, rng_key))\n",
    "    return leaf.reward * leaf.player * env.player\n",
    "\n",
    "def value_function(env: Env, rng_key: chex.PRNGKey) -> chex.Array:\n",
    "    return rollout(env, rng_key).astype(jnp.float32)\n",
    "\n",
    "def root_fn(env: Env, rng_key: chex.PRNGKey) -> mctx.RootFnOutput:\n",
    "    return mctx.RootFnOutput(\n",
    "        prior_logits=policy_function(env),\n",
    "        value=value_function(env, rng_key),\n",
    "        # We will use the `embedding` field to store the environment.\n",
    "        embedding=env,\n",
    "    )\n",
    "\n",
    "def recurrent_fn(params, rng_key, action, embedding):\n",
    "    env = embedding\n",
    "    env, reward, done = env_step(env, action)\n",
    "    recurrent_fn_output = mctx.RecurrentFnOutput(\n",
    "        reward=reward,\n",
    "        discount=jnp.where(done, 0, -1).astype(jnp.float32),\n",
    "        prior_logits=policy_function(env),\n",
    "        value=jnp.where(done, 0, value_function(env, rng_key)).astype(jnp.float32),\n",
    "    )\n",
    "    return recurrent_fn_output, env\n",
    "\n",
    "@functools.partial(jax.jit, static_argnums=(2,))\n",
    "def run_mcts(rng_key: chex.PRNGKey, env: Env, num_simulations: int) -> chex.Array:\n",
    "    batch_size = 1\n",
    "    key1, key2 = jax.random.split(rng_key)\n",
    "    policy_output = mctx.muzero_policy(\n",
    "        params=None,\n",
    "        rng_key=key1,\n",
    "        root=jax.vmap(root_fn, (None, 0))(env, jax.random.split(key2, batch_size)),\n",
    "        recurrent_fn=jax.vmap(recurrent_fn, (None, None, 0, 0)),\n",
    "        num_simulations=num_simulations,\n",
    "        max_depth=42,\n",
    "        qtransform=functools.partial(mctx.qtransform_by_min_max, min_value=-1, max_value=1),\n",
    "        dirichlet_fraction=0.0,\n",
    "    )\n",
    "    return policy_output"
   ]
  },
  {
   "cell_type": "markdown",
   "id": "adaeff34-9189-4c93-a16d-9b21c0500d38",
   "metadata": {},
   "source": [
    "#### 1.4 Running some stuff\n",
    "\n",
    "Copying the \"play twice in the middle collumn\" and see what mcts does bit"
   ]
  },
  {
   "cell_type": "code",
   "execution_count": 6,
   "id": "f2933384-9f3c-45e1-912e-544c2cea83a0",
   "metadata": {},
   "outputs": [],
   "source": [
    "import matplotlib.pyplot as plt"
   ]
  },
  {
   "cell_type": "code",
   "execution_count": 7,
   "id": "e359bde1-6215-47e9-ae8d-76220d767bbc",
   "metadata": {},
   "outputs": [
    {
     "data": {
      "image/png": "[encoded data removed]",
      "text/plain": [
       "<Figure size 640x480 with 1 Axes>"
      ]
     },
     "metadata": {},
     "output_type": "display_data"
    }
   ],
   "source": [
    "env = env_reset(0)\n",
    "env, reward, done = env_step(env, 3)\n",
    "env, reward, done = env_step(env, 3)\n",
    "policy_output = run_mcts(jax.random.PRNGKey(0), env, 1000)\n",
    "plt.bar(jnp.arange(7), policy_output.action_weights.mean(axis=0))\n",
    "plt.show()"
   ]
  },
  {
   "cell_type": "markdown",
   "id": "4f0d4738-6a28-4536-b4d1-b398bdba549c",
   "metadata": {},
   "source": [
    "#### My Turn :)\n",
    "\n",
    "First, why did we play two moves, why not see where it wants to go on first move? Middle is best no?"
   ]
  },
  {
   "cell_type": "code",
   "execution_count": 8,
   "id": "7b7ccd92-ca9e-4263-8c95-76c295599e29",
   "metadata": {},
   "outputs": [
    {
     "data": {
      "image/png": "[encoded data removed]",
      "text/plain": [
       "<Figure size 640x480 with 1 Axes>"
      ]
     },
     "metadata": {},
     "output_type": "display_data"
    },
    {
     "name": "stdout",
     "output_type": "stream",
     "text": [
      "CPU times: user 1.15 s, sys: 114 ms, total: 1.26 s\n",
      "Wall time: 1.13 s\n"
     ]
    }
   ],
   "source": [
    "%%time\n",
    "env = env_reset(0)\n",
    "policy_output = run_mcts(jax.random.PRNGKey(0), env, 1000)\n",
    "plt.bar(jnp.arange(7), policy_output.action_weights.mean(axis=0))\n",
    "plt.show()"
   ]
  },
  {
   "cell_type": "markdown",
   "id": "3ddc7fe5-7a0f-40c0-b42c-d3482aa19f93",
   "metadata": {},
   "source": [
    "Ok sure, just not as clean of a gaussian distr. Ok, lets look at what policy_output actually is"
   ]
  },
  {
   "cell_type": "code",
   "execution_count": 9,
   "id": "a7812a68-5d59-4530-b6b0-839b147e1164",
   "metadata": {},
   "outputs": [
    {
     "data": {
      "text/plain": [
       "PolicyOutput(action=Array([3], dtype=int32), action_weights=Array([[0.045     , 0.08400001, 0.18300001, 0.33100003, 0.18      ,\n",
       "        0.047     , 0.13000001]], dtype=float32), search_tree=Tree(node_visits=Array([[1001,  180,  183, ...,    1,    1,    1]], dtype=int32), raw_values=Array([[-1.,  1.,  1., ...,  1.,  1., -1.]], dtype=float32), node_values=Array([[ 0.0619383 , -0.07777785, -0.08196725, ...,  1.        ,\n",
       "         1.        , -1.        ]], dtype=float32), parents=Array([[ -1,   0,   0, ..., 988, 997, 287]], dtype=int32), action_from_parent=Array([[-1,  4,  2, ...,  6,  1,  1]], dtype=int32), children_index=Array([[[  3,   5,   2, ...,   1,  21,  23],\n",
       "        [391, 139, 411, ..., 413, 416, 414],\n",
       "        [ 62,  59,  64, ...,  60,  61,  63],\n",
       "        ...,\n",
       "        [ -1,  -1,  -1, ...,  -1,  -1,  -1],\n",
       "        [ -1,  -1,  -1, ...,  -1,  -1,  -1],\n",
       "        [ -1,  -1,  -1, ...,  -1,  -1,  -1]]], dtype=int32), children_prior_logits=Array([[[ -1.9459101,  -1.9459101,  -1.9459101, ...,  -1.9459101,\n",
       "          -1.9459101,  -1.9459101],\n",
       "        [100.       , 100.       , 100.       , ..., 100.       ,\n",
       "         100.       , 100.       ],\n",
       "        [100.       , 100.       , 100.       , ..., 100.       ,\n",
       "         100.       , 100.       ],\n",
       "        ...,\n",
       "        [100.       , 100.       , 100.       , ..., 100.       ,\n",
       "         100.       , 100.       ],\n",
       "        [100.       , 100.       , 100.       , ..., 100.       ,\n",
       "         100.       , 100.       ],\n",
       "        [100.       , 100.       , 100.       , ..., 100.       ,\n",
       "         100.       , 100.       ]]], dtype=float32), children_visits=Array([[[ 45,  84, 183, ..., 180,  47, 130],\n",
       "        [ 14,  15,  16, ...,   4,   6,   8],\n",
       "        [  4,  73,   8, ...,   4,   6,  16],\n",
       "        ...,\n",
       "        [  0,   0,   0, ...,   0,   0,   0],\n",
       "        [  0,   0,   0, ...,   0,   0,   0],\n",
       "        [  0,   0,   0, ...,   0,   0,   0]]], dtype=int32), children_rewards=Array([[[0., 0., 0., ..., 0., 0., 0.],\n",
       "        [0., 0., 0., ..., 0., 0., 0.],\n",
       "        [0., 0., 0., ..., 0., 0., 0.],\n",
       "        ...,\n",
       "        [0., 0., 0., ..., 0., 0., 0.],\n",
       "        [0., 0., 0., ..., 0., 0., 0.],\n",
       "        [0., 0., 0., ..., 0., 0., 0.]]], dtype=float32), children_discounts=Array([[[-1., -1., -1., ..., -1., -1., -1.],\n",
       "        [-1., -1., -1., ..., -1., -1., -1.],\n",
       "        [-1., -1., -1., ..., -1., -1., -1.],\n",
       "        ...,\n",
       "        [ 0.,  0.,  0., ...,  0.,  0.,  0.],\n",
       "        [ 0.,  0.,  0., ...,  0.,  0.,  0.],\n",
       "        [ 0.,  0.,  0., ...,  0.,  0.,  0.]]], dtype=float32), children_values=Array([[[ 8.8888898e-02, -8.6568654e-08, -8.1967250e-02, ...,\n",
       "         -7.7777848e-02,  1.0638299e-01, -5.3846162e-02],\n",
       "        [ 2.8571430e-01,  2.6666668e-01,  2.5000000e-01, ...,\n",
       "          1.0000000e+00,  6.6666669e-01,  5.0000000e-01],\n",
       "        [ 1.0000000e+00, -9.5890410e-02,  5.0000000e-01, ...,\n",
       "          1.0000000e+00,  6.6666669e-01,  2.5000003e-01],\n",
       "        ...,\n",
       "        [ 0.0000000e+00,  0.0000000e+00,  0.0000000e+00, ...,\n",
       "          0.0000000e+00,  0.0000000e+00,  0.0000000e+00],\n",
       "        [ 0.0000000e+00,  0.0000000e+00,  0.0000000e+00, ...,\n",
       "          0.0000000e+00,  0.0000000e+00,  0.0000000e+00],\n",
       "        [ 0.0000000e+00,  0.0000000e+00,  0.0000000e+00, ...,\n",
       "          0.0000000e+00,  0.0000000e+00,  0.0000000e+00]]], dtype=float32), embeddings=Env(board=Array([[[[ 0,  0,  0, ...,  0,  0,  0],\n",
       "         [ 0,  0,  0, ...,  0,  0,  0],\n",
       "         [ 0,  0,  0, ...,  0,  0,  0],\n",
       "         [ 0,  0,  0, ...,  0,  0,  0],\n",
       "         [ 0,  0,  0, ...,  0,  0,  0],\n",
       "         [ 0,  0,  0, ...,  0,  0,  0]],\n",
       "\n",
       "        [[ 0,  0,  0, ...,  1,  0,  0],\n",
       "         [ 0,  0,  0, ...,  0,  0,  0],\n",
       "         [ 0,  0,  0, ...,  0,  0,  0],\n",
       "         [ 0,  0,  0, ...,  0,  0,  0],\n",
       "         [ 0,  0,  0, ...,  0,  0,  0],\n",
       "         [ 0,  0,  0, ...,  0,  0,  0]],\n",
       "\n",
       "        [[ 0,  0,  1, ...,  0,  0,  0],\n",
       "         [ 0,  0,  0, ...,  0,  0,  0],\n",
       "         [ 0,  0,  0, ...,  0,  0,  0],\n",
       "         [ 0,  0,  0, ...,  0,  0,  0],\n",
       "         [ 0,  0,  0, ...,  0,  0,  0],\n",
       "         [ 0,  0,  0, ...,  0,  0,  0]],\n",
       "\n",
       "        ...,\n",
       "\n",
       "        [[ 0,  0,  0, ...,  1, -1,  1],\n",
       "         [ 0,  0,  0, ...,  0,  0,  0],\n",
       "         [ 0,  0,  0, ...,  0,  0,  0],\n",
       "         [ 0,  0,  0, ...,  0,  0,  0],\n",
       "         [ 0,  0,  0, ...,  0,  0,  0],\n",
       "         [ 0,  0,  0, ...,  0,  0,  0]],\n",
       "\n",
       "        [[ 0,  1, -1, ..., -1, -1,  1],\n",
       "         [ 0,  1,  0, ...,  0,  0,  1],\n",
       "         [ 0,  0,  0, ...,  0,  0,  0],\n",
       "         [ 0,  0,  0, ...,  0,  0,  0],\n",
       "         [ 0,  0,  0, ...,  0,  0,  0],\n",
       "         [ 0,  0,  0, ...,  0,  0,  0]],\n",
       "\n",
       "        [[ 1,  1, -1, ..., -1,  1,  0],\n",
       "         [ 0,  0,  0, ...,  0,  0,  0],\n",
       "         [ 0,  0,  0, ...,  0,  0,  0],\n",
       "         [ 0,  0,  0, ...,  0,  0,  0],\n",
       "         [ 0,  0,  0, ...,  0,  0,  0],\n",
       "         [ 0,  0,  0, ...,  0,  0,  0]]]], dtype=int8), player=Array([[ 1, -1, -1, ..., -1, -1, -1]], dtype=int8), done=Array([[False, False, False, ..., False, False, False]], dtype=bool), reward=Array([[0, 0, 0, ..., 0, 0, 0]], dtype=int8)), root_invalid_actions=Array([[0., 0., 0., 0., 0., 0., 0.]], dtype=float32), extra_data=None))"
      ]
     },
     "execution_count": 9,
     "metadata": {},
     "output_type": "execute_result"
    }
   ],
   "source": [
    "policy_output"
   ]
  },
  {
   "cell_type": "code",
   "execution_count": 10,
   "id": "e20b03bf-ee23-4695-a6db-619254367c80",
   "metadata": {},
   "outputs": [
    {
     "data": {
      "text/plain": [
       "Array([3], dtype=int32)"
      ]
     },
     "execution_count": 10,
     "metadata": {},
     "output_type": "execute_result"
    }
   ],
   "source": [
    "policy_output.action"
   ]
  },
  {
   "cell_type": "code",
   "execution_count": 11,
   "id": "49390e27-d33a-4c13-ba3e-2acb2d6b9746",
   "metadata": {},
   "outputs": [
    {
     "data": {
      "text/plain": [
       "Array([[0.045     , 0.08400001, 0.18300001, 0.33100003, 0.18      ,\n",
       "        0.047     , 0.13000001]], dtype=float32)"
      ]
     },
     "execution_count": 11,
     "metadata": {},
     "output_type": "execute_result"
    }
   ],
   "source": [
    "policy_output.action_weights"
   ]
  },
  {
   "cell_type": "code",
   "execution_count": 12,
   "id": "2a8b2947-fcc6-46e6-ac03-50392874dbe6",
   "metadata": {},
   "outputs": [
    {
     "data": {
      "text/plain": [
       "Array([[1001,  180,  183, ...,    1,    1,    1]], dtype=int32)"
      ]
     },
     "execution_count": 12,
     "metadata": {},
     "output_type": "execute_result"
    }
   ],
   "source": [
    "policy_output.search_tree.node_visits"
   ]
  },
  {
   "cell_type": "code",
   "execution_count": 13,
   "id": "b47cb8d6-3f60-4763-bb9f-24a95130b0bd",
   "metadata": {},
   "outputs": [
    {
     "data": {
      "text/plain": [
       "(1, 1001)"
      ]
     },
     "execution_count": 13,
     "metadata": {},
     "output_type": "execute_result"
    }
   ],
   "source": [
    "policy_output.search_tree.node_visits.shape"
   ]
  },
  {
   "cell_type": "markdown",
   "id": "79f9e827-c9d3-4140-bfee-c49add7c41da",
   "metadata": {},
   "source": [
    "Ok, so I also wanted to try write some sort of iterator over the tree. Or see that it is possible. \n",
    "\n",
    "Next up, what is that functools partial thing doing?"
   ]
  },
  {
   "cell_type": "code",
   "execution_count": 14,
   "id": "cca09537-aa55-4c60-9bfa-8f9aab0179fa",
   "metadata": {},
   "outputs": [],
   "source": [
    "def bad_mcts(rng_key: chex.PRNGKey, env: Env, num_simulations: int) -> chex.Array:\n",
    "    batch_size = 1\n",
    "    key1, key2 = jax.random.split(rng_key)\n",
    "    policy_output = mctx.muzero_policy(\n",
    "        params=None,\n",
    "        rng_key=key1,\n",
    "        root=jax.vmap(root_fn, (None, 0))(env, jax.random.split(key2, batch_size)),\n",
    "        recurrent_fn=jax.vmap(recurrent_fn, (None, None, 0, 0)),\n",
    "        num_simulations=num_simulations,\n",
    "        max_depth=42,\n",
    "        qtransform=functools.partial(mctx.qtransform_by_min_max, min_value=-1, max_value=1),\n",
    "        dirichlet_fraction=0.0,\n",
    "    )\n",
    "    return policy_output"
   ]
  },
  {
   "cell_type": "code",
   "execution_count": 15,
   "id": "bff7aa37-b929-4cb9-9378-1df20b4394b4",
   "metadata": {},
   "outputs": [
    {
     "data": {
      "image/png": "[encoded data removed]",
      "text/plain": [
       "<Figure size 640x480 with 1 Axes>"
      ]
     },
     "metadata": {},
     "output_type": "display_data"
    },
    {
     "name": "stdout",
     "output_type": "stream",
     "text": [
      "CPU times: user 10.7 s, sys: 286 ms, total: 11 s\n",
      "Wall time: 10.2 s\n"
     ]
    }
   ],
   "source": [
    "%%time\n",
    "env = env_reset(0)\n",
    "policy_output = bad_mcts(jax.random.PRNGKey(0), env, 1000)\n",
    "plt.bar(jnp.arange(7), policy_output.action_weights.mean(axis=0))\n",
    "plt.show()"
   ]
  },
  {
   "cell_type": "markdown",
   "id": "ae485845-5612-4c13-af6f-eeaa11ca33e8",
   "metadata": {},
   "source": [
    "After learning a bit of googling about functools partial (https://docs.python.org/3/library/functools.html) and somehow vaguely understanding what decorators actually do (from https://stackoverflow.com/questions/48098569/use-of-functools-partial-in-a-decorator-that-attaches-function-as-attribute-of-o) realised that it's just applying jax.jit to the function. As can be seen by it being 8x slower without the decorator"
   ]
  },
  {
   "cell_type": "markdown",
   "id": "07c24004-cd9d-478d-8ac4-03bfcbaf8f15",
   "metadata": {},
   "source": [
    "## Part 2: Foundations\n",
    "\n",
    "18/10/24 - Finishing for today, after writing this block with some thoughts on what to do next\n",
    "\n",
    "So, feel comfortable with this stuff now, as had MCTX code open while working through connect 4 example. \n",
    "\n",
    "Next thing to do is work out how to do growing arrays in jax\n",
    "\n",
    "MCTX can use the number of nodes $N$ in the tree as the number of trials (plus one), as only one node gets added each trial. We want mcts_mode=False to still work, which can add multiple nodes to the tree\n",
    "\n",
    "Currently thinking of the following:\n",
    "```\n",
    "# Have a python array of jax arrays (where [x] means an array with x items)\n",
    "[[k],[k],[k],...]\n",
    "[[k],[2k],[4k],...]\n",
    "\n",
    "# Indexing into them would be\n",
    "k_batching_idxs(jax_idx):\n",
    "    outer_idx = jax_idx // k\n",
    "    inner_idx = jax_idx % k\n",
    "    return outer_idx, inner_idx\n",
    "\n",
    "exp_batching_idxs(jax_idx):\n",
    "    outer_idx = floor(log_2((jax_idx/k) + 1))\n",
    "    inner_idx = jax_idx - k * (2^outer_idx - 1)\n",
    "    return outer_idx, inner_idx\n",
    "    \n",
    "```\n",
    "\n",
    "Although I think there's a problem with tyhe \"sharp bits\" of jax, as this array would be stateful, which seems like a big no no\n",
    "\n",
    "Going to have to read: https://jax.readthedocs.io/en/latest/notebooks/Common_Gotchas_in_JAX.html\n",
    "\n",
    "And also have a bit of a think about how this could be done? Or if it can be done at all? Do we just need to accept that if trial length is $L$, and number of trials is $T$, then we'll have to make an arrays for $N=LT$ many nodes?\n",
    "\n",
    "Also, didn't get how values are being updated in the Tree type in the search. See `tree.replace` calls in `mctx._src.search.py`, at lines 235 and 278. Also there's some `update` and `batch_update` calls in there. Maybe these will offer some insights. Because it's clearly doing something smarter than using the `at` syntax for jnp arrays (https://jax.readthedocs.io/en/latest/_autosummary/jax.numpy.ndarray.at.html), where I guess it would make a copy of the entire array? Maybe it does essentially do that, as if running at most 1000 trials, then it's not tooo costly to just copy 1000 numbers I guess.\n",
    "\n",
    "Regardless\n",
    "\n",
    "Next session game plan:\n",
    "- think about if can do resizable arrays + try implement + test\n",
    "- if not, progress onto just doing the incredibly large arrays\n",
    "\n",
    "Theres some thought at the precipice of my brain about indefinite horizon search needing resizable arrays, but unsure if could just make all algorithms work with a fixed horizon. I cant recall and I'm eepy. \n",
    "\n",
    "ALSO. ONE LAST THING. I googled \"jax with state\" and found this beaut of a doc thread: https://jax.readthedocs.io/en/latest/stateful-computations.html\n",
    "\n",
    "Guess it would have helped to actually read the jax man pages a little more :)\n",
    "\n",
    "Anyway, looks like we should be able to get it to work, maybe with a bit more finagling than desired >:("
   ]
  },
  {
   "cell_type": "markdown",
   "id": "b934b4ef-365e-4c9d-a469-b540f952a2cd",
   "metadata": {},
   "source": [
    "### @24/10/24"
   ]
  },
  {
   "cell_type": "code",
   "execution_count": 16,
   "id": "4447fe47-2828-4cff-b006-afc26257a946",
   "metadata": {},
   "outputs": [],
   "source": [
    "import chex\n",
    "\n",
    "@chex.dataclass(frozen=True,mappable_dataclass=False)\n",
    "class ExtArray:\n",
    "    arr: chex.Array\n",
    "\n",
    "    @jax.jit\n",
    "    def append(self, a):\n",
    "        ext_array = jnp.array([a])\n",
    "        concat_array = jnp.concatenate([self.arr,ext_array], axis=0)\n",
    "        return ExtArray(arr=concat_array)\n",
    "\n",
    "    @jax.jit\n",
    "    def __getitem__(self, item):\n",
    "        return self.arr[item]"
   ]
  },
  {
   "cell_type": "code",
   "execution_count": 17,
   "id": "23f55dc6-d27b-48a7-a104-e22ab01d7d4a",
   "metadata": {},
   "outputs": [
    {
     "data": {
      "text/html": [
       "<pre style=\"white-space:pre;overflow-x:auto;line-height:normal;font-family:Menlo,'DejaVu Sans Mono',consolas,'Courier New',monospace\"><span style=\"font-weight: bold\">[</span>  <span style=\"color: #008080; text-decoration-color: #008080; font-weight: bold\">0</span>   <span style=\"color: #008080; text-decoration-color: #008080; font-weight: bold\">1</span>   <span style=\"color: #008080; text-decoration-color: #008080; font-weight: bold\">2</span>   <span style=\"color: #008080; text-decoration-color: #008080; font-weight: bold\">3</span>   <span style=\"color: #008080; text-decoration-color: #008080; font-weight: bold\">4</span>   <span style=\"color: #008080; text-decoration-color: #008080; font-weight: bold\">5</span>   <span style=\"color: #008080; text-decoration-color: #008080; font-weight: bold\">6</span>   <span style=\"color: #008080; text-decoration-color: #008080; font-weight: bold\">7</span>   <span style=\"color: #008080; text-decoration-color: #008080; font-weight: bold\">8</span>   <span style=\"color: #008080; text-decoration-color: #008080; font-weight: bold\">9</span> <span style=\"color: #008080; text-decoration-color: #008080; font-weight: bold\">100</span><span style=\"font-weight: bold\">]</span>\n",
       "</pre>\n"
      ],
      "text/plain": [
       "\u001b[1m[\u001b[0m  \u001b[1;36m0\u001b[0m   \u001b[1;36m1\u001b[0m   \u001b[1;36m2\u001b[0m   \u001b[1;36m3\u001b[0m   \u001b[1;36m4\u001b[0m   \u001b[1;36m5\u001b[0m   \u001b[1;36m6\u001b[0m   \u001b[1;36m7\u001b[0m   \u001b[1;36m8\u001b[0m   \u001b[1;36m9\u001b[0m \u001b[1;36m100\u001b[0m\u001b[1m]\u001b[0m\n"
      ]
     },
     "metadata": {},
     "output_type": "display_data"
    },
    {
     "data": {
      "text/html": [
       "<pre style=\"white-space:pre;overflow-x:auto;line-height:normal;font-family:Menlo,'DejaVu Sans Mono',consolas,'Courier New',monospace\"><span style=\"color: #008080; text-decoration-color: #008080; font-weight: bold\">0</span>\n",
       "</pre>\n"
      ],
      "text/plain": [
       "\u001b[1;36m0\u001b[0m\n"
      ]
     },
     "metadata": {},
     "output_type": "display_data"
    }
   ],
   "source": [
    "jnp_arr = jnp.arange(10)\n",
    "arr1 = ExtArray(arr=jnp_arr)\n",
    "arr1 = arr1.append(100)\n",
    "print(arr1.arr)\n",
    "print(arr1[0])"
   ]
  },
  {
   "cell_type": "markdown",
   "id": "68ab2b9f-c5e4-4cae-b591-3bae5e1e5c40",
   "metadata": {},
   "source": [
    "Ok, so can make some sort of dataclass that represents an extendable array. Lets implement two versions of a dynamic array, one that extends with blocks and one that extends with concatenate as needed\n",
    "\n",
    "Going to write some things and then can make the classes have more sensible names and we can deal with slicing and stuff\n",
    "\n",
    "Also realised that need to set mappable_dataclass to false so that chex doesnt write those methods for the class automatically. Can give up being able to print it with tree util for now I guess (https://chex.readthedocs.io/en/latest/api.html#chex.dataclass)"
   ]
  },
  {
   "cell_type": "code",
   "execution_count": 18,
   "id": "39117917-5b47-4671-ad55-5dfd93b69e13",
   "metadata": {},
   "outputs": [],
   "source": [
    "from functools import partial\n",
    "from jax import jit\n",
    "\n",
    "@chex.dataclass(frozen=True,mappable_dataclass=False)\n",
    "class DArray_Concat:\n",
    "    arr: chex.Array\n",
    "\n",
    "    @partial(jit,static_argnums=(1,))\n",
    "    def set(self, idx, val):\n",
    "        new_arr = self.arr\n",
    "        if idx >= self.arr.shape[0]:\n",
    "            zero_pad = jnp.zeros([idx-self.arr.shape[0]+1])\n",
    "            new_arr = jnp.concatenate([self.arr,zero_pad], axis=0)\n",
    "        new_arr = new_arr.at[idx].set(val)\n",
    "        return DArray_Concat(arr=new_arr)\n",
    "\n",
    "    @jax.jit\n",
    "    def __getitem__(self, item):\n",
    "        return self.arr[item]"
   ]
  },
  {
   "cell_type": "code",
   "execution_count": 19,
   "id": "caa0c396-a880-4ae5-85ce-29bfe899914e",
   "metadata": {
    "scrolled": true
   },
   "outputs": [
    {
     "data": {
      "text/html": [
       "<pre style=\"white-space:pre;overflow-x:auto;line-height:normal;font-family:Menlo,'DejaVu Sans Mono',consolas,'Courier New',monospace\"><span style=\"font-weight: bold\">[</span><span style=\"color: #008080; text-decoration-color: #008080; font-weight: bold\">0</span>.<span style=\"font-weight: bold\">]</span>\n",
       "</pre>\n"
      ],
      "text/plain": [
       "\u001b[1m[\u001b[0m\u001b[1;36m0\u001b[0m.\u001b[1m]\u001b[0m\n"
      ]
     },
     "metadata": {},
     "output_type": "display_data"
    },
    {
     "data": {
      "text/html": [
       "<pre style=\"white-space:pre;overflow-x:auto;line-height:normal;font-family:Menlo,'DejaVu Sans Mono',consolas,'Courier New',monospace\"><span style=\"font-weight: bold\">[</span><span style=\"color: #008080; text-decoration-color: #008080; font-weight: bold\">0</span>. <span style=\"color: #008080; text-decoration-color: #008080; font-weight: bold\">0</span>. <span style=\"color: #008080; text-decoration-color: #008080; font-weight: bold\">0</span>. <span style=\"color: #008080; text-decoration-color: #008080; font-weight: bold\">0</span>. <span style=\"color: #008080; text-decoration-color: #008080; font-weight: bold\">0</span>. <span style=\"color: #008080; text-decoration-color: #008080; font-weight: bold\">0</span>. <span style=\"color: #008080; text-decoration-color: #008080; font-weight: bold\">0</span>. <span style=\"color: #008080; text-decoration-color: #008080; font-weight: bold\">0</span>. <span style=\"color: #008080; text-decoration-color: #008080; font-weight: bold\">0</span>. <span style=\"color: #008080; text-decoration-color: #008080; font-weight: bold\">0</span>. <span style=\"color: #008080; text-decoration-color: #008080; font-weight: bold\">9</span>.<span style=\"font-weight: bold\">]</span>\n",
       "</pre>\n"
      ],
      "text/plain": [
       "\u001b[1m[\u001b[0m\u001b[1;36m0\u001b[0m. \u001b[1;36m0\u001b[0m. \u001b[1;36m0\u001b[0m. \u001b[1;36m0\u001b[0m. \u001b[1;36m0\u001b[0m. \u001b[1;36m0\u001b[0m. \u001b[1;36m0\u001b[0m. \u001b[1;36m0\u001b[0m. \u001b[1;36m0\u001b[0m. \u001b[1;36m0\u001b[0m. \u001b[1;36m9\u001b[0m.\u001b[1m]\u001b[0m\n"
      ]
     },
     "metadata": {},
     "output_type": "display_data"
    }
   ],
   "source": [
    "my_arr = DArray_Concat(jnp.zeros([1]))\n",
    "print(my_arr.arr)\n",
    "my_arr = my_arr.set(10,9)\n",
    "print(my_arr.arr)"
   ]
  },
  {
   "cell_type": "code",
   "execution_count": 20,
   "id": "c648db81-8b38-4e74-be38-53d6f2342121",
   "metadata": {},
   "outputs": [],
   "source": [
    "\n",
    "\n",
    "@chex.dataclass(frozen=True,mappable_dataclass=False)\n",
    "class DArray_Chunk:\n",
    "    arr: list[chex.Array]\n",
    "    chunk_size: int\n",
    "\n",
    "    @partial(jit,static_argnums=(1,))\n",
    "    def set(self, idx, val):\n",
    "        outer_idx = idx // self.chunk_size\n",
    "        inner_idx = idx % self.chunk_size\n",
    "        new_arr = self.arr\n",
    "        if outer_idx >= len(self.arr):\n",
    "            zero_arr = jnp.zeros([self.chunk_size])\n",
    "            new_arr = self.arr + [zero_arr] * (outer_idx - len(self.arr) + 1)\n",
    "        new_arr[outer_idx] = new_arr[outer_idx].at[inner_idx].set(val)\n",
    "        return DArray_Concat(arr=new_arr, chunk_size=self.chunk_size)\n",
    "\n",
    "    @jax.jit\n",
    "    def __getitem__(self, item):\n",
    "        return self.arr[item]"
   ]
  },
  {
   "cell_type": "code",
   "execution_count": 21,
   "id": "a1cf4383-0ebd-4d0d-8ea8-1e042bcc6d48",
   "metadata": {},
   "outputs": [
    {
     "data": {
      "text/html": [
       "<pre style=\"white-space:pre;overflow-x:auto;line-height:normal;font-family:Menlo,'DejaVu Sans Mono',consolas,'Courier New',monospace\"><span style=\"font-weight: bold\">[</span><span style=\"color: #800080; text-decoration-color: #800080; font-weight: bold\">Array</span><span style=\"font-weight: bold\">([</span><span style=\"color: #008080; text-decoration-color: #008080; font-weight: bold\">0</span>., <span style=\"color: #008080; text-decoration-color: #008080; font-weight: bold\">0</span>., <span style=\"color: #008080; text-decoration-color: #008080; font-weight: bold\">0</span>., <span style=\"color: #008080; text-decoration-color: #008080; font-weight: bold\">0</span>., <span style=\"color: #008080; text-decoration-color: #008080; font-weight: bold\">0</span>.<span style=\"font-weight: bold\">]</span>, <span style=\"color: #808000; text-decoration-color: #808000\">dtype</span>=<span style=\"color: #800080; text-decoration-color: #800080\">float32</span><span style=\"font-weight: bold\">)]</span>\n",
       "</pre>\n"
      ],
      "text/plain": [
       "\u001b[1m[\u001b[0m\u001b[1;35mArray\u001b[0m\u001b[1m(\u001b[0m\u001b[1m[\u001b[0m\u001b[1;36m0\u001b[0m., \u001b[1;36m0\u001b[0m., \u001b[1;36m0\u001b[0m., \u001b[1;36m0\u001b[0m., \u001b[1;36m0\u001b[0m.\u001b[1m]\u001b[0m, \u001b[33mdtype\u001b[0m=\u001b[35mfloat32\u001b[0m\u001b[1m)\u001b[0m\u001b[1m]\u001b[0m\n"
      ]
     },
     "metadata": {},
     "output_type": "display_data"
    },
    {
     "ename": "TracerBoolConversionError",
     "evalue": "Attempted boolean conversion of traced array with shape bool[]..\nThe error occurred while tracing the function set at /tmp/ipykernel_52214/2928129728.py:6 for jit. This value became a tracer due to JAX operations on these lines:\n\n  operation a:i32[] = pjit[\n  name=floor_divide\n  jaxpr={ lambda ; b:i32[] c:i32[]. let\n      d:i32[] = div b c\n      e:i32[] = sign b\n      f:i32[] = sign c\n      g:bool[] = ne e f\n      h:i32[] = rem b c\n      i:bool[] = ne h 0\n      j:bool[] = convert_element_type[new_dtype=bool weak_type=False] g\n      k:bool[] = convert_element_type[new_dtype=bool weak_type=False] i\n      l:bool[] = and j k\n      m:i32[] = sub d 1\n      n:i32[] = pjit[\n        name=_where\n        jaxpr={ lambda ; o:bool[] p:i32[] q:i32[]. let\n            r:i32[] = select_n o q p\n          in (r,) }\n      ] l m d\n    in (n,) }\n] s t\n    from line /tmp/ipykernel_52214/2928129728.py:8 (set)\n\n  operation a:i32[] = pjit[\n  name=remainder\n  jaxpr={ lambda ; b:i32[] c:i32[]. let\n      d:bool[] = eq c 0\n      e:i32[] = pjit[\n        name=_where\n        jaxpr={ lambda ; f:bool[] g:i32[] h:i32[]. let\n            i:i32[] = select_n f h g\n          in (i,) }\n      ] d 1 c\n      j:i32[] = rem b e\n      k:bool[] = ne j 0\n      l:bool[] = lt j 0\n      m:bool[] = lt e 0\n      n:bool[] = ne l m\n      o:bool[] = and n k\n      p:i32[] = add j e\n      q:i32[] = select_n o j p\n    in (q,) }\n] r s\n    from line /tmp/ipykernel_52214/2928129728.py:9 (set)\n\n  operation a:bool[] = ge b c\n    from line /tmp/ipykernel_52214/2928129728.py:11 (set)\nSee https://jax.readthedocs.io/en/latest/errors.html#jax.errors.TracerBoolConversionError",
     "output_type": "error",
     "traceback": [
      "\u001b[0;31m---------------------------------------------------------------------------\u001b[0m",
      "\u001b[0;31mTracerBoolConversionError\u001b[0m                 Traceback (most recent call last)",
      "Cell \u001b[0;32mIn[21], line 3\u001b[0m\n\u001b[1;32m      1\u001b[0m my_arr \u001b[38;5;241m=\u001b[39m DArray_Chunk([jnp\u001b[38;5;241m.\u001b[39mzeros([\u001b[38;5;241m5\u001b[39m])],chunk_size\u001b[38;5;241m=\u001b[39m\u001b[38;5;241m5\u001b[39m)\n\u001b[1;32m      2\u001b[0m \u001b[38;5;28mprint\u001b[39m(my_arr\u001b[38;5;241m.\u001b[39marr)\n\u001b[0;32m----> 3\u001b[0m my_arr \u001b[38;5;241m=\u001b[39m \u001b[43mmy_arr\u001b[49m\u001b[38;5;241;43m.\u001b[39;49m\u001b[43mset\u001b[49m\u001b[43m(\u001b[49m\u001b[38;5;241;43m10\u001b[39;49m\u001b[43m,\u001b[49m\u001b[38;5;241;43m9\u001b[39;49m\u001b[43m)\u001b[49m\n\u001b[1;32m      4\u001b[0m \u001b[38;5;28mprint\u001b[39m(my_arr\u001b[38;5;241m.\u001b[39marr)\n",
      "    \u001b[0;31m[... skipping hidden 11 frame]\u001b[0m\n",
      "Cell \u001b[0;32mIn[20], line 11\u001b[0m, in \u001b[0;36mDArray_Chunk.set\u001b[0;34m(self, idx, val)\u001b[0m\n\u001b[1;32m      9\u001b[0m inner_idx \u001b[38;5;241m=\u001b[39m idx \u001b[38;5;241m%\u001b[39m \u001b[38;5;28mself\u001b[39m\u001b[38;5;241m.\u001b[39mchunk_size\n\u001b[1;32m     10\u001b[0m new_arr \u001b[38;5;241m=\u001b[39m \u001b[38;5;28mself\u001b[39m\u001b[38;5;241m.\u001b[39marr\n\u001b[0;32m---> 11\u001b[0m \u001b[38;5;28;01mif\u001b[39;00m outer_idx \u001b[38;5;241m>\u001b[39m\u001b[38;5;241m=\u001b[39m \u001b[38;5;28mlen\u001b[39m(\u001b[38;5;28mself\u001b[39m\u001b[38;5;241m.\u001b[39marr):\n\u001b[1;32m     12\u001b[0m     zero_arr \u001b[38;5;241m=\u001b[39m jnp\u001b[38;5;241m.\u001b[39mzeros([\u001b[38;5;28mself\u001b[39m\u001b[38;5;241m.\u001b[39mchunk_size])\n\u001b[1;32m     13\u001b[0m     new_arr \u001b[38;5;241m=\u001b[39m \u001b[38;5;28mself\u001b[39m\u001b[38;5;241m.\u001b[39marr \u001b[38;5;241m+\u001b[39m [zero_arr] \u001b[38;5;241m*\u001b[39m (outer_idx \u001b[38;5;241m-\u001b[39m \u001b[38;5;28mlen\u001b[39m(\u001b[38;5;28mself\u001b[39m\u001b[38;5;241m.\u001b[39marr) \u001b[38;5;241m+\u001b[39m \u001b[38;5;241m1\u001b[39m)\n",
      "    \u001b[0;31m[... skipping hidden 1 frame]\u001b[0m\n",
      "File \u001b[0;32m~/anaconda3/envs/thtz-jax/lib/python3.10/site-packages/jax/_src/core.py:1517\u001b[0m, in \u001b[0;36mconcretization_function_error.<locals>.error\u001b[0;34m(self, arg)\u001b[0m\n\u001b[1;32m   1516\u001b[0m \u001b[38;5;28;01mdef\u001b[39;00m \u001b[38;5;21merror\u001b[39m(\u001b[38;5;28mself\u001b[39m, arg):\n\u001b[0;32m-> 1517\u001b[0m   \u001b[38;5;28;01mraise\u001b[39;00m TracerBoolConversionError(arg)\n",
      "\u001b[0;31mTracerBoolConversionError\u001b[0m: Attempted boolean conversion of traced array with shape bool[]..\nThe error occurred while tracing the function set at /tmp/ipykernel_52214/2928129728.py:6 for jit. This value became a tracer due to JAX operations on these lines:\n\n  operation a:i32[] = pjit[\n  name=floor_divide\n  jaxpr={ lambda ; b:i32[] c:i32[]. let\n      d:i32[] = div b c\n      e:i32[] = sign b\n      f:i32[] = sign c\n      g:bool[] = ne e f\n      h:i32[] = rem b c\n      i:bool[] = ne h 0\n      j:bool[] = convert_element_type[new_dtype=bool weak_type=False] g\n      k:bool[] = convert_element_type[new_dtype=bool weak_type=False] i\n      l:bool[] = and j k\n      m:i32[] = sub d 1\n      n:i32[] = pjit[\n        name=_where\n        jaxpr={ lambda ; o:bool[] p:i32[] q:i32[]. let\n            r:i32[] = select_n o q p\n          in (r,) }\n      ] l m d\n    in (n,) }\n] s t\n    from line /tmp/ipykernel_52214/2928129728.py:8 (set)\n\n  operation a:i32[] = pjit[\n  name=remainder\n  jaxpr={ lambda ; b:i32[] c:i32[]. let\n      d:bool[] = eq c 0\n      e:i32[] = pjit[\n        name=_where\n        jaxpr={ lambda ; f:bool[] g:i32[] h:i32[]. let\n            i:i32[] = select_n f h g\n          in (i,) }\n      ] d 1 c\n      j:i32[] = rem b e\n      k:bool[] = ne j 0\n      l:bool[] = lt j 0\n      m:bool[] = lt e 0\n      n:bool[] = ne l m\n      o:bool[] = and n k\n      p:i32[] = add j e\n      q:i32[] = select_n o j p\n    in (q,) }\n] r s\n    from line /tmp/ipykernel_52214/2928129728.py:9 (set)\n\n  operation a:bool[] = ge b c\n    from line /tmp/ipykernel_52214/2928129728.py:11 (set)\nSee https://jax.readthedocs.io/en/latest/errors.html#jax.errors.TracerBoolConversionError"
     ]
    }
   ],
   "source": [
    "my_arr = DArray_Chunk([jnp.zeros([5])],chunk_size=5)\n",
    "print(my_arr.arr)\n",
    "my_arr = my_arr.set(10,9)\n",
    "print(my_arr.arr)"
   ]
  },
  {
   "cell_type": "markdown",
   "id": "a4664b4b-0f69-40aa-9190-dbd80a7661af",
   "metadata": {},
   "source": [
    "Ok fuck it. Dont think this is worth wasting time on. We'll have to make a wrapper around jax numpy arrays using concat to make them dynamic. If it's really slow, then we can have a rethink"
   ]
  },
  {
   "cell_type": "markdown",
   "id": "2ed0fc9b-53b5-4036-8c07-3e6f42eb39f7",
   "metadata": {},
   "source": [
    "Quickly going to test if making lots of new jax numpy arrays are really slow"
   ]
  },
  {
   "cell_type": "code",
   "execution_count": 22,
   "id": "2d63be70-84d1-4f87-b5ec-0dc2569e83cb",
   "metadata": {},
   "outputs": [],
   "source": [
    "@jax.jit\n",
    "def test_updating_array(arr):\n",
    "    for i in range(10):\n",
    "        for j in range(1000):\n",
    "            arr = arr.at[j].set(i+j)"
   ]
  },
  {
   "cell_type": "code",
   "execution_count": 23,
   "id": "7f428f01-6ea9-4c51-b839-8a91a0886ee5",
   "metadata": {},
   "outputs": [
    {
     "name": "stdout",
     "output_type": "stream",
     "text": [
      "CPU times: user 8.51 s, sys: 145 ms, total: 8.66 s\n",
      "Wall time: 8.61 s\n"
     ]
    }
   ],
   "source": [
    "%%time\n",
    "arr1 = jnp.zeros([1000])\n",
    "test_updating_array(arr1)"
   ]
  },
  {
   "cell_type": "code",
   "execution_count": 24,
   "id": "17444caf-2750-46a4-923f-7ef67e9ffbf2",
   "metadata": {},
   "outputs": [],
   "source": [
    "@jax.jit\n",
    "def test_updating_my_arr(arr):\n",
    "    for i in range(10):\n",
    "        for j in range(1000):\n",
    "            arr = arr.set(j,i+j)"
   ]
  },
  {
   "cell_type": "code",
   "execution_count": 25,
   "id": "4a3d99b0-1db1-4a1f-bae9-f33d95a149a7",
   "metadata": {},
   "outputs": [
    {
     "name": "stdout",
     "output_type": "stream",
     "text": [
      "CPU times: user 4.93 s, sys: 38.1 ms, total: 4.97 s\n",
      "Wall time: 4.92 s\n"
     ]
    }
   ],
   "source": [
    "%%time\n",
    "arr2 = DArray_Concat(jnp.zeros([1]))\n",
    "test_updating_my_arr(arr2)"
   ]
  },
  {
   "cell_type": "markdown",
   "id": "30b862cf-9323-4cb2-984d-cb19b6b4a5cb",
   "metadata": {},
   "source": [
    "Not sure w"
   ]
  },
  {
   "cell_type": "markdown",
   "id": "ec6c4a74-c8a3-4428-add5-7a70335ae3b1",
   "metadata": {},
   "source": [
    "### @22/11/24\n",
    "\n",
    "Its been a minute. Not sure what \"not sure w\" block above is about, but its the dev notebook, so some chaos expected :)\n",
    "\n",
    "Going to try implement the tree search adaptations now, so hopefully a bunch of work in the library files"
   ]
  },
  {
   "cell_type": "markdown",
   "id": "98173bf6-8e79-415c-97a9-581b3c33c9fa",
   "metadata": {},
   "source": [
    "Double checking can index with arrays"
   ]
  },
  {
   "cell_type": "code",
   "execution_count": 28,
   "id": "04e27709-d089-4468-a1b4-28a3ab2dc6fc",
   "metadata": {},
   "outputs": [
    {
     "data": {
      "text/html": [
       "<pre style=\"white-space:pre;overflow-x:auto;line-height:normal;font-family:Menlo,'DejaVu Sans Mono',consolas,'Courier New',monospace\"><span style=\"font-weight: bold\">[</span><span style=\"color: #008080; text-decoration-color: #008080; font-weight: bold\">2</span> <span style=\"color: #008080; text-decoration-color: #008080; font-weight: bold\">0</span> <span style=\"color: #008080; text-decoration-color: #008080; font-weight: bold\">4</span><span style=\"font-weight: bold\">]</span>\n",
       "</pre>\n"
      ],
      "text/plain": [
       "\u001b[1m[\u001b[0m\u001b[1;36m2\u001b[0m \u001b[1;36m0\u001b[0m \u001b[1;36m4\u001b[0m\u001b[1m]\u001b[0m\n"
      ]
     },
     "metadata": {},
     "output_type": "display_data"
    }
   ],
   "source": [
    "jnp_arr = jnp.arange(10)\n",
    "indx = jnp.array([2,0,4])\n",
    "print(jnp_arr[indx])"
   ]
  },
  {
   "cell_type": "code",
   "execution_count": 42,
   "id": "82ffa5af-638f-4a09-b4bb-c55013842923",
   "metadata": {},
   "outputs": [
    {
     "data": {
      "text/html": [
       "<pre style=\"white-space:pre;overflow-x:auto;line-height:normal;font-family:Menlo,'DejaVu Sans Mono',consolas,'Courier New',monospace\"><span style=\"font-weight: bold\">[[</span><span style=\"color: #008080; text-decoration-color: #008080; font-weight: bold\">1</span> <span style=\"color: #008080; text-decoration-color: #008080; font-weight: bold\">2</span><span style=\"font-weight: bold\">]</span>\n",
       " <span style=\"font-weight: bold\">[</span><span style=\"color: #008080; text-decoration-color: #008080; font-weight: bold\">2</span> <span style=\"color: #008080; text-decoration-color: #008080; font-weight: bold\">0</span><span style=\"font-weight: bold\">]</span>\n",
       " <span style=\"font-weight: bold\">[</span><span style=\"color: #008080; text-decoration-color: #008080; font-weight: bold\">0</span> <span style=\"color: #008080; text-decoration-color: #008080; font-weight: bold\">1</span><span style=\"font-weight: bold\">]]</span>\n",
       "</pre>\n"
      ],
      "text/plain": [
       "\u001b[1m[\u001b[0m\u001b[1m[\u001b[0m\u001b[1;36m1\u001b[0m \u001b[1;36m2\u001b[0m\u001b[1m]\u001b[0m\n",
       " \u001b[1m[\u001b[0m\u001b[1;36m2\u001b[0m \u001b[1;36m0\u001b[0m\u001b[1m]\u001b[0m\n",
       " \u001b[1m[\u001b[0m\u001b[1;36m0\u001b[0m \u001b[1;36m1\u001b[0m\u001b[1m]\u001b[0m\u001b[1m]\u001b[0m\n"
      ]
     },
     "metadata": {},
     "output_type": "display_data"
    },
    {
     "data": {
      "text/html": [
       "<pre style=\"white-space:pre;overflow-x:auto;line-height:normal;font-family:Menlo,'DejaVu Sans Mono',consolas,'Courier New',monospace\"><span style=\"font-weight: bold\">[[[</span><span style=\"color: #008080; text-decoration-color: #008080; font-weight: bold\">10</span> <span style=\"color: #008080; text-decoration-color: #008080; font-weight: bold\">11</span> <span style=\"color: #008080; text-decoration-color: #008080; font-weight: bold\">12</span><span style=\"font-weight: bold\">]</span>\n",
       "  <span style=\"font-weight: bold\">[</span><span style=\"color: #008080; text-decoration-color: #008080; font-weight: bold\">20</span> <span style=\"color: #008080; text-decoration-color: #008080; font-weight: bold\">21</span> <span style=\"color: #008080; text-decoration-color: #008080; font-weight: bold\">22</span><span style=\"font-weight: bold\">]]</span>\n",
       "\n",
       " <span style=\"font-weight: bold\">[[</span><span style=\"color: #008080; text-decoration-color: #008080; font-weight: bold\">20</span> <span style=\"color: #008080; text-decoration-color: #008080; font-weight: bold\">21</span> <span style=\"color: #008080; text-decoration-color: #008080; font-weight: bold\">22</span><span style=\"font-weight: bold\">]</span>\n",
       "  <span style=\"font-weight: bold\">[</span> <span style=\"color: #008080; text-decoration-color: #008080; font-weight: bold\">0</span>  <span style=\"color: #008080; text-decoration-color: #008080; font-weight: bold\">1</span>  <span style=\"color: #008080; text-decoration-color: #008080; font-weight: bold\">2</span><span style=\"font-weight: bold\">]]</span>\n",
       "\n",
       " <span style=\"font-weight: bold\">[[</span> <span style=\"color: #008080; text-decoration-color: #008080; font-weight: bold\">0</span>  <span style=\"color: #008080; text-decoration-color: #008080; font-weight: bold\">1</span>  <span style=\"color: #008080; text-decoration-color: #008080; font-weight: bold\">2</span><span style=\"font-weight: bold\">]</span>\n",
       "  <span style=\"font-weight: bold\">[</span><span style=\"color: #008080; text-decoration-color: #008080; font-weight: bold\">10</span> <span style=\"color: #008080; text-decoration-color: #008080; font-weight: bold\">11</span> <span style=\"color: #008080; text-decoration-color: #008080; font-weight: bold\">12</span><span style=\"font-weight: bold\">]]]</span>\n",
       "</pre>\n"
      ],
      "text/plain": [
       "\u001b[1m[\u001b[0m\u001b[1m[\u001b[0m\u001b[1m[\u001b[0m\u001b[1;36m10\u001b[0m \u001b[1;36m11\u001b[0m \u001b[1;36m12\u001b[0m\u001b[1m]\u001b[0m\n",
       "  \u001b[1m[\u001b[0m\u001b[1;36m20\u001b[0m \u001b[1;36m21\u001b[0m \u001b[1;36m22\u001b[0m\u001b[1m]\u001b[0m\u001b[1m]\u001b[0m\n",
       "\n",
       " \u001b[1m[\u001b[0m\u001b[1m[\u001b[0m\u001b[1;36m20\u001b[0m \u001b[1;36m21\u001b[0m \u001b[1;36m22\u001b[0m\u001b[1m]\u001b[0m\n",
       "  \u001b[1m[\u001b[0m \u001b[1;36m0\u001b[0m  \u001b[1;36m1\u001b[0m  \u001b[1;36m2\u001b[0m\u001b[1m]\u001b[0m\u001b[1m]\u001b[0m\n",
       "\n",
       " \u001b[1m[\u001b[0m\u001b[1m[\u001b[0m \u001b[1;36m0\u001b[0m  \u001b[1;36m1\u001b[0m  \u001b[1;36m2\u001b[0m\u001b[1m]\u001b[0m\n",
       "  \u001b[1m[\u001b[0m\u001b[1;36m10\u001b[0m \u001b[1;36m11\u001b[0m \u001b[1;36m12\u001b[0m\u001b[1m]\u001b[0m\u001b[1m]\u001b[0m\u001b[1m]\u001b[0m\n"
      ]
     },
     "metadata": {},
     "output_type": "display_data"
    },
    {
     "data": {
      "text/html": [
       "<pre style=\"white-space:pre;overflow-x:auto;line-height:normal;font-family:Menlo,'DejaVu Sans Mono',consolas,'Courier New',monospace\"><span style=\"font-weight: bold\">[[</span><span style=\"color: #008080; text-decoration-color: #008080; font-weight: bold\">1</span> <span style=\"color: #008080; text-decoration-color: #008080; font-weight: bold\">2</span><span style=\"font-weight: bold\">]</span>\n",
       " <span style=\"font-weight: bold\">[</span><span style=\"color: #008080; text-decoration-color: #008080; font-weight: bold\">2</span> <span style=\"color: #008080; text-decoration-color: #008080; font-weight: bold\">0</span><span style=\"font-weight: bold\">]</span>\n",
       " <span style=\"font-weight: bold\">[</span><span style=\"color: #008080; text-decoration-color: #008080; font-weight: bold\">0</span> <span style=\"color: #008080; text-decoration-color: #008080; font-weight: bold\">1</span><span style=\"font-weight: bold\">]]</span>\n",
       "</pre>\n"
      ],
      "text/plain": [
       "\u001b[1m[\u001b[0m\u001b[1m[\u001b[0m\u001b[1;36m1\u001b[0m \u001b[1;36m2\u001b[0m\u001b[1m]\u001b[0m\n",
       " \u001b[1m[\u001b[0m\u001b[1;36m2\u001b[0m \u001b[1;36m0\u001b[0m\u001b[1m]\u001b[0m\n",
       " \u001b[1m[\u001b[0m\u001b[1;36m0\u001b[0m \u001b[1;36m1\u001b[0m\u001b[1m]\u001b[0m\u001b[1m]\u001b[0m\n"
      ]
     },
     "metadata": {},
     "output_type": "display_data"
    }
   ],
   "source": [
    "jnp_arr = jnp.array([[0,1,2],[10,11,12],[20,21,22]])\n",
    "indices = jnp.array([[0,1,2],[1,2,0],[2,0,1]])\n",
    "indices_sq = jnp.array([1,2])\n",
    "multi_dim_indices = indices[:,indices_sq]\n",
    "print(multi_dim_indices)\n",
    "print(jnp_arr[multi_dim_indices])\n",
    "print(jnp.take(jnp_arr,multi_dim_indices))"
   ]
  },
  {
   "cell_type": "code",
   "execution_count": 44,
   "id": "b83d3b35-7c0c-49b1-9ad5-f12535d556ae",
   "metadata": {},
   "outputs": [
    {
     "data": {
      "text/html": [
       "<pre style=\"white-space:pre;overflow-x:auto;line-height:normal;font-family:Menlo,'DejaVu Sans Mono',consolas,'Courier New',monospace\"><span style=\"font-weight: bold\">[[</span><span style=\"color: #008080; text-decoration-color: #008080; font-weight: bold\">1</span> <span style=\"color: #008080; text-decoration-color: #008080; font-weight: bold\">2</span><span style=\"font-weight: bold\">]</span>\n",
       " <span style=\"font-weight: bold\">[</span><span style=\"color: #008080; text-decoration-color: #008080; font-weight: bold\">2</span> <span style=\"color: #008080; text-decoration-color: #008080; font-weight: bold\">0</span><span style=\"font-weight: bold\">]</span>\n",
       " <span style=\"font-weight: bold\">[</span><span style=\"color: #008080; text-decoration-color: #008080; font-weight: bold\">0</span> <span style=\"color: #008080; text-decoration-color: #008080; font-weight: bold\">1</span><span style=\"font-weight: bold\">]]</span>\n",
       "</pre>\n"
      ],
      "text/plain": [
       "\u001b[1m[\u001b[0m\u001b[1m[\u001b[0m\u001b[1;36m1\u001b[0m \u001b[1;36m2\u001b[0m\u001b[1m]\u001b[0m\n",
       " \u001b[1m[\u001b[0m\u001b[1;36m2\u001b[0m \u001b[1;36m0\u001b[0m\u001b[1m]\u001b[0m\n",
       " \u001b[1m[\u001b[0m\u001b[1;36m0\u001b[0m \u001b[1;36m1\u001b[0m\u001b[1m]\u001b[0m\u001b[1m]\u001b[0m\n"
      ]
     },
     "metadata": {},
     "output_type": "display_data"
    },
    {
     "data": {
      "text/html": [
       "<pre style=\"white-space:pre;overflow-x:auto;line-height:normal;font-family:Menlo,'DejaVu Sans Mono',consolas,'Courier New',monospace\"><span style=\"font-weight: bold\">[[[</span><span style=\"color: #008080; text-decoration-color: #008080; font-weight: bold\">10</span> <span style=\"color: #008080; text-decoration-color: #008080; font-weight: bold\">11</span> <span style=\"color: #008080; text-decoration-color: #008080; font-weight: bold\">12</span><span style=\"font-weight: bold\">]</span>\n",
       "  <span style=\"font-weight: bold\">[</span><span style=\"color: #008080; text-decoration-color: #008080; font-weight: bold\">20</span> <span style=\"color: #008080; text-decoration-color: #008080; font-weight: bold\">21</span> <span style=\"color: #008080; text-decoration-color: #008080; font-weight: bold\">22</span><span style=\"font-weight: bold\">]]</span>\n",
       "\n",
       " <span style=\"font-weight: bold\">[[</span><span style=\"color: #008080; text-decoration-color: #008080; font-weight: bold\">20</span> <span style=\"color: #008080; text-decoration-color: #008080; font-weight: bold\">21</span> <span style=\"color: #008080; text-decoration-color: #008080; font-weight: bold\">22</span><span style=\"font-weight: bold\">]</span>\n",
       "  <span style=\"font-weight: bold\">[</span> <span style=\"color: #008080; text-decoration-color: #008080; font-weight: bold\">0</span>  <span style=\"color: #008080; text-decoration-color: #008080; font-weight: bold\">1</span>  <span style=\"color: #008080; text-decoration-color: #008080; font-weight: bold\">2</span><span style=\"font-weight: bold\">]]</span>\n",
       "\n",
       " <span style=\"font-weight: bold\">[[</span> <span style=\"color: #008080; text-decoration-color: #008080; font-weight: bold\">0</span>  <span style=\"color: #008080; text-decoration-color: #008080; font-weight: bold\">1</span>  <span style=\"color: #008080; text-decoration-color: #008080; font-weight: bold\">2</span><span style=\"font-weight: bold\">]</span>\n",
       "  <span style=\"font-weight: bold\">[</span><span style=\"color: #008080; text-decoration-color: #008080; font-weight: bold\">10</span> <span style=\"color: #008080; text-decoration-color: #008080; font-weight: bold\">11</span> <span style=\"color: #008080; text-decoration-color: #008080; font-weight: bold\">12</span><span style=\"font-weight: bold\">]]]</span>\n",
       "</pre>\n"
      ],
      "text/plain": [
       "\u001b[1m[\u001b[0m\u001b[1m[\u001b[0m\u001b[1m[\u001b[0m\u001b[1;36m10\u001b[0m \u001b[1;36m11\u001b[0m \u001b[1;36m12\u001b[0m\u001b[1m]\u001b[0m\n",
       "  \u001b[1m[\u001b[0m\u001b[1;36m20\u001b[0m \u001b[1;36m21\u001b[0m \u001b[1;36m22\u001b[0m\u001b[1m]\u001b[0m\u001b[1m]\u001b[0m\n",
       "\n",
       " \u001b[1m[\u001b[0m\u001b[1m[\u001b[0m\u001b[1;36m20\u001b[0m \u001b[1;36m21\u001b[0m \u001b[1;36m22\u001b[0m\u001b[1m]\u001b[0m\n",
       "  \u001b[1m[\u001b[0m \u001b[1;36m0\u001b[0m  \u001b[1;36m1\u001b[0m  \u001b[1;36m2\u001b[0m\u001b[1m]\u001b[0m\u001b[1m]\u001b[0m\n",
       "\n",
       " \u001b[1m[\u001b[0m\u001b[1m[\u001b[0m \u001b[1;36m0\u001b[0m  \u001b[1;36m1\u001b[0m  \u001b[1;36m2\u001b[0m\u001b[1m]\u001b[0m\n",
       "  \u001b[1m[\u001b[0m\u001b[1;36m10\u001b[0m \u001b[1;36m11\u001b[0m \u001b[1;36m12\u001b[0m\u001b[1m]\u001b[0m\u001b[1m]\u001b[0m\u001b[1m]\u001b[0m\n"
      ]
     },
     "metadata": {},
     "output_type": "display_data"
    },
    {
     "data": {
      "text/html": [
       "<pre style=\"white-space:pre;overflow-x:auto;line-height:normal;font-family:Menlo,'DejaVu Sans Mono',consolas,'Courier New',monospace\"><span style=\"font-weight: bold\">[[[</span><span style=\"color: #008080; text-decoration-color: #008080; font-weight: bold\">10</span> <span style=\"color: #008080; text-decoration-color: #008080; font-weight: bold\">11</span> <span style=\"color: #008080; text-decoration-color: #008080; font-weight: bold\">12</span><span style=\"font-weight: bold\">]</span>\n",
       "  <span style=\"font-weight: bold\">[</span><span style=\"color: #008080; text-decoration-color: #008080; font-weight: bold\">20</span> <span style=\"color: #008080; text-decoration-color: #008080; font-weight: bold\">21</span> <span style=\"color: #008080; text-decoration-color: #008080; font-weight: bold\">22</span><span style=\"font-weight: bold\">]</span>\n",
       "  <span style=\"font-weight: bold\">[</span> <span style=\"color: #008080; text-decoration-color: #008080; font-weight: bold\">0</span>  <span style=\"color: #008080; text-decoration-color: #008080; font-weight: bold\">1</span>  <span style=\"color: #008080; text-decoration-color: #008080; font-weight: bold\">2</span><span style=\"font-weight: bold\">]]</span>\n",
       "\n",
       " <span style=\"font-weight: bold\">[[</span><span style=\"color: #008080; text-decoration-color: #008080; font-weight: bold\">20</span> <span style=\"color: #008080; text-decoration-color: #008080; font-weight: bold\">21</span> <span style=\"color: #008080; text-decoration-color: #008080; font-weight: bold\">22</span><span style=\"font-weight: bold\">]</span>\n",
       "  <span style=\"font-weight: bold\">[</span> <span style=\"color: #008080; text-decoration-color: #008080; font-weight: bold\">0</span>  <span style=\"color: #008080; text-decoration-color: #008080; font-weight: bold\">1</span>  <span style=\"color: #008080; text-decoration-color: #008080; font-weight: bold\">2</span><span style=\"font-weight: bold\">]</span>\n",
       "  <span style=\"font-weight: bold\">[</span><span style=\"color: #008080; text-decoration-color: #008080; font-weight: bold\">10</span> <span style=\"color: #008080; text-decoration-color: #008080; font-weight: bold\">11</span> <span style=\"color: #008080; text-decoration-color: #008080; font-weight: bold\">12</span><span style=\"font-weight: bold\">]]]</span>\n",
       "</pre>\n"
      ],
      "text/plain": [
       "\u001b[1m[\u001b[0m\u001b[1m[\u001b[0m\u001b[1m[\u001b[0m\u001b[1;36m10\u001b[0m \u001b[1;36m11\u001b[0m \u001b[1;36m12\u001b[0m\u001b[1m]\u001b[0m\n",
       "  \u001b[1m[\u001b[0m\u001b[1;36m20\u001b[0m \u001b[1;36m21\u001b[0m \u001b[1;36m22\u001b[0m\u001b[1m]\u001b[0m\n",
       "  \u001b[1m[\u001b[0m \u001b[1;36m0\u001b[0m  \u001b[1;36m1\u001b[0m  \u001b[1;36m2\u001b[0m\u001b[1m]\u001b[0m\u001b[1m]\u001b[0m\n",
       "\n",
       " \u001b[1m[\u001b[0m\u001b[1m[\u001b[0m\u001b[1;36m20\u001b[0m \u001b[1;36m21\u001b[0m \u001b[1;36m22\u001b[0m\u001b[1m]\u001b[0m\n",
       "  \u001b[1m[\u001b[0m \u001b[1;36m0\u001b[0m  \u001b[1;36m1\u001b[0m  \u001b[1;36m2\u001b[0m\u001b[1m]\u001b[0m\n",
       "  \u001b[1m[\u001b[0m\u001b[1;36m10\u001b[0m \u001b[1;36m11\u001b[0m \u001b[1;36m12\u001b[0m\u001b[1m]\u001b[0m\u001b[1m]\u001b[0m\u001b[1m]\u001b[0m\n"
      ]
     },
     "metadata": {},
     "output_type": "display_data"
    },
    {
     "data": {
      "text/html": [
       "<pre style=\"white-space:pre;overflow-x:auto;line-height:normal;font-family:Menlo,'DejaVu Sans Mono',consolas,'Courier New',monospace\"><span style=\"font-weight: bold\">[[</span><span style=\"color: #008080; text-decoration-color: #008080; font-weight: bold\">1</span> <span style=\"color: #008080; text-decoration-color: #008080; font-weight: bold\">2</span><span style=\"font-weight: bold\">]</span>\n",
       " <span style=\"font-weight: bold\">[</span><span style=\"color: #008080; text-decoration-color: #008080; font-weight: bold\">2</span> <span style=\"color: #008080; text-decoration-color: #008080; font-weight: bold\">0</span><span style=\"font-weight: bold\">]</span>\n",
       " <span style=\"font-weight: bold\">[</span><span style=\"color: #008080; text-decoration-color: #008080; font-weight: bold\">0</span> <span style=\"color: #008080; text-decoration-color: #008080; font-weight: bold\">1</span><span style=\"font-weight: bold\">]]</span>\n",
       "</pre>\n"
      ],
      "text/plain": [
       "\u001b[1m[\u001b[0m\u001b[1m[\u001b[0m\u001b[1;36m1\u001b[0m \u001b[1;36m2\u001b[0m\u001b[1m]\u001b[0m\n",
       " \u001b[1m[\u001b[0m\u001b[1;36m2\u001b[0m \u001b[1;36m0\u001b[0m\u001b[1m]\u001b[0m\n",
       " \u001b[1m[\u001b[0m\u001b[1;36m0\u001b[0m \u001b[1;36m1\u001b[0m\u001b[1m]\u001b[0m\u001b[1m]\u001b[0m\n"
      ]
     },
     "metadata": {},
     "output_type": "display_data"
    }
   ],
   "source": [
    "import numpy as np\n",
    "np_arr = np.array([[0,1,2],[10,11,12],[20,21,22]])\n",
    "np_indices = np.array([[0,1,2],[1,2,0],[2,0,1]])\n",
    "np_indices_sq = np.array([1,2])\n",
    "np_multi_dim_indices = np_indices[:,np_indices_sq]\n",
    "print(np_multi_dim_indices)\n",
    "print(np_arr[np_multi_dim_indices])\n",
    "print(np.take(np_arr,np_multi_dim_indices))\n",
    "\n",
    "# what I want\n",
    "# [[ 0, 1, 2],\n",
    "#  [10,11,12],\n",
    "#  [20,21,22]]\n",
    "# index by\n",
    "#  [[0,1],\n",
    "#   [1,2],\n",
    "#   [0,2]]\n",
    "# giving \n",
    "# [[ 0, 1],\n",
    "#  [11,12],\n",
    "#  [20,21]]"
   ]
  },
  {
   "cell_type": "code",
   "execution_count": 55,
   "id": "ce3a5a04-b92d-4595-8c4a-0cf4f72975a4",
   "metadata": {},
   "outputs": [
    {
     "ename": "IndexError",
     "evalue": "shape mismatch: indexing arrays could not be broadcast together with shapes (3,) (3,2) ",
     "output_type": "error",
     "traceback": [
      "\u001b[0;31m---------------------------------------------------------------------------\u001b[0m",
      "\u001b[0;31mIndexError\u001b[0m                                Traceback (most recent call last)",
      "Cell \u001b[0;32mIn[55], line 2\u001b[0m\n\u001b[1;32m      1\u001b[0m \u001b[38;5;66;03m# Ok, found this https://stackoverflow.com/questions/61677466/pytorch-batch-indexing\u001b[39;00m\n\u001b[0;32m----> 2\u001b[0m \u001b[43mnp_arr\u001b[49m\u001b[43m[\u001b[49m\u001b[43mnp\u001b[49m\u001b[38;5;241;43m.\u001b[39;49m\u001b[43marange\u001b[49m\u001b[43m(\u001b[49m\u001b[43mnp_arr\u001b[49m\u001b[38;5;241;43m.\u001b[39;49m\u001b[43mshape\u001b[49m\u001b[43m[\u001b[49m\u001b[38;5;241;43m0\u001b[39;49m\u001b[43m]\u001b[49m\u001b[43m)\u001b[49m\u001b[43m,\u001b[49m\u001b[43m \u001b[49m\u001b[43mnp_multi_dim_indices\u001b[49m\u001b[43m]\u001b[49m\n",
      "\u001b[0;31mIndexError\u001b[0m: shape mismatch: indexing arrays could not be broadcast together with shapes (3,) (3,2) "
     ]
    }
   ],
   "source": [
    "# Ok, found this https://stackoverflow.com/questions/61677466/pytorch-batch-indexing\n",
    "np_arr[np.arange(np_arr.shape[0]), np_multi_dim_indices]"
   ]
  },
  {
   "cell_type": "code",
   "execution_count": 56,
   "id": "849d2c98-828d-4689-b184-0c26a29ee440",
   "metadata": {},
   "outputs": [
    {
     "data": {
      "text/html": [
       "<pre style=\"white-space:pre;overflow-x:auto;line-height:normal;font-family:Menlo,'DejaVu Sans Mono',consolas,'Courier New',monospace\"><span style=\"font-weight: bold\">[[</span><span style=\"color: #008080; text-decoration-color: #008080; font-weight: bold\">0</span> <span style=\"color: #008080; text-decoration-color: #008080; font-weight: bold\">1</span> <span style=\"color: #008080; text-decoration-color: #008080; font-weight: bold\">2</span><span style=\"font-weight: bold\">]</span>\n",
       " <span style=\"font-weight: bold\">[</span><span style=\"color: #008080; text-decoration-color: #008080; font-weight: bold\">0</span> <span style=\"color: #008080; text-decoration-color: #008080; font-weight: bold\">1</span> <span style=\"color: #008080; text-decoration-color: #008080; font-weight: bold\">2</span><span style=\"font-weight: bold\">]</span>\n",
       " <span style=\"font-weight: bold\">[</span><span style=\"color: #008080; text-decoration-color: #008080; font-weight: bold\">0</span> <span style=\"color: #008080; text-decoration-color: #008080; font-weight: bold\">1</span> <span style=\"color: #008080; text-decoration-color: #008080; font-weight: bold\">2</span><span style=\"font-weight: bold\">]]</span>\n",
       "</pre>\n"
      ],
      "text/plain": [
       "\u001b[1m[\u001b[0m\u001b[1m[\u001b[0m\u001b[1;36m0\u001b[0m \u001b[1;36m1\u001b[0m \u001b[1;36m2\u001b[0m\u001b[1m]\u001b[0m\n",
       " \u001b[1m[\u001b[0m\u001b[1;36m0\u001b[0m \u001b[1;36m1\u001b[0m \u001b[1;36m2\u001b[0m\u001b[1m]\u001b[0m\n",
       " \u001b[1m[\u001b[0m\u001b[1;36m0\u001b[0m \u001b[1;36m1\u001b[0m \u001b[1;36m2\u001b[0m\u001b[1m]\u001b[0m\u001b[1m]\u001b[0m\n"
      ]
     },
     "metadata": {},
     "output_type": "display_data"
    },
    {
     "data": {
      "text/html": [
       "<pre style=\"white-space:pre;overflow-x:auto;line-height:normal;font-family:Menlo,'DejaVu Sans Mono',consolas,'Courier New',monospace\"><span style=\"font-weight: bold\">[[</span><span style=\"color: #008080; text-decoration-color: #008080; font-weight: bold\">1</span> <span style=\"color: #008080; text-decoration-color: #008080; font-weight: bold\">1</span> <span style=\"color: #008080; text-decoration-color: #008080; font-weight: bold\">1</span><span style=\"font-weight: bold\">]</span>\n",
       " <span style=\"font-weight: bold\">[</span><span style=\"color: #008080; text-decoration-color: #008080; font-weight: bold\">2</span> <span style=\"color: #008080; text-decoration-color: #008080; font-weight: bold\">2</span> <span style=\"color: #008080; text-decoration-color: #008080; font-weight: bold\">2</span><span style=\"font-weight: bold\">]</span>\n",
       " <span style=\"font-weight: bold\">[</span><span style=\"color: #008080; text-decoration-color: #008080; font-weight: bold\">3</span> <span style=\"color: #008080; text-decoration-color: #008080; font-weight: bold\">3</span> <span style=\"color: #008080; text-decoration-color: #008080; font-weight: bold\">3</span><span style=\"font-weight: bold\">]]</span>\n",
       "</pre>\n"
      ],
      "text/plain": [
       "\u001b[1m[\u001b[0m\u001b[1m[\u001b[0m\u001b[1;36m1\u001b[0m \u001b[1;36m1\u001b[0m \u001b[1;36m1\u001b[0m\u001b[1m]\u001b[0m\n",
       " \u001b[1m[\u001b[0m\u001b[1;36m2\u001b[0m \u001b[1;36m2\u001b[0m \u001b[1;36m2\u001b[0m\u001b[1m]\u001b[0m\n",
       " \u001b[1m[\u001b[0m\u001b[1;36m3\u001b[0m \u001b[1;36m3\u001b[0m \u001b[1;36m3\u001b[0m\u001b[1m]\u001b[0m\u001b[1m]\u001b[0m\n"
      ]
     },
     "metadata": {},
     "output_type": "display_data"
    }
   ],
   "source": [
    "print(np.full(np_arr.shape, np.arange(3)))\n",
    "print(np.full(np_arr.shape, [[1],[2],[3]]))"
   ]
  },
  {
   "cell_type": "code",
   "execution_count": 58,
   "id": "ffbd7a93-f47b-4153-9b36-8859d72f1fb0",
   "metadata": {},
   "outputs": [
    {
     "ename": "TypeError",
     "evalue": "full() got an unexpected keyword argument 'axis'",
     "output_type": "error",
     "traceback": [
      "\u001b[0;31m---------------------------------------------------------------------------\u001b[0m",
      "\u001b[0;31mTypeError\u001b[0m                                 Traceback (most recent call last)",
      "Cell \u001b[0;32mIn[58], line 1\u001b[0m\n\u001b[0;32m----> 1\u001b[0m np_arr[\u001b[43mnp\u001b[49m\u001b[38;5;241;43m.\u001b[39;49m\u001b[43mfull\u001b[49m\u001b[43m(\u001b[49m\u001b[43mnp_multi_dim_indices\u001b[49m\u001b[38;5;241;43m.\u001b[39;49m\u001b[43mshape\u001b[49m\u001b[43m,\u001b[49m\u001b[43m \u001b[49m\u001b[43mnp\u001b[49m\u001b[38;5;241;43m.\u001b[39;49m\u001b[43marange\u001b[49m\u001b[43m(\u001b[49m\u001b[38;5;241;43m3\u001b[39;49m\u001b[43m)\u001b[49m\u001b[43m,\u001b[49m\u001b[43maxis\u001b[49m\u001b[38;5;241;43m=\u001b[39;49m\u001b[38;5;241;43m1\u001b[39;49m\u001b[43m)\u001b[49m, np_multi_dim_indices]\n",
      "\u001b[0;31mTypeError\u001b[0m: full() got an unexpected keyword argument 'axis'"
     ]
    }
   ],
   "source": [
    "np_arr[np.full(np_multi_dim_indices.shape, np.arange(3)), np_multi_dim_indices]"
   ]
  },
  {
   "cell_type": "code",
   "execution_count": 69,
   "id": "fbcf5793-d8a3-4cc0-9d5c-92f65cc3ce2c",
   "metadata": {},
   "outputs": [
    {
     "data": {
      "text/html": [
       "<pre style=\"white-space:pre;overflow-x:auto;line-height:normal;font-family:Menlo,'DejaVu Sans Mono',consolas,'Courier New',monospace\"><span style=\"font-weight: bold\">(</span><span style=\"color: #008080; text-decoration-color: #008080; font-weight: bold\">3</span>, <span style=\"color: #008080; text-decoration-color: #008080; font-weight: bold\">2</span><span style=\"font-weight: bold\">)</span>\n",
       "</pre>\n"
      ],
      "text/plain": [
       "\u001b[1m(\u001b[0m\u001b[1;36m3\u001b[0m, \u001b[1;36m2\u001b[0m\u001b[1m)\u001b[0m\n"
      ]
     },
     "metadata": {},
     "output_type": "display_data"
    },
    {
     "data": {
      "text/html": [
       "<pre style=\"white-space:pre;overflow-x:auto;line-height:normal;font-family:Menlo,'DejaVu Sans Mono',consolas,'Courier New',monospace\"><span style=\"font-weight: bold\">(</span><span style=\"color: #008080; text-decoration-color: #008080; font-weight: bold\">3</span>,<span style=\"font-weight: bold\">)</span>\n",
       "</pre>\n"
      ],
      "text/plain": [
       "\u001b[1m(\u001b[0m\u001b[1;36m3\u001b[0m,\u001b[1m)\u001b[0m\n"
      ]
     },
     "metadata": {},
     "output_type": "display_data"
    },
    {
     "data": {
      "text/html": [
       "<pre style=\"white-space:pre;overflow-x:auto;line-height:normal;font-family:Menlo,'DejaVu Sans Mono',consolas,'Courier New',monospace\"><span style=\"font-weight: bold\">(</span><span style=\"color: #008080; text-decoration-color: #008080; font-weight: bold\">3</span>, <span style=\"color: #008080; text-decoration-color: #008080; font-weight: bold\">1</span><span style=\"font-weight: bold\">)</span>\n",
       "</pre>\n"
      ],
      "text/plain": [
       "\u001b[1m(\u001b[0m\u001b[1;36m3\u001b[0m, \u001b[1;36m1\u001b[0m\u001b[1m)\u001b[0m\n"
      ]
     },
     "metadata": {},
     "output_type": "display_data"
    },
    {
     "data": {
      "text/html": [
       "<pre style=\"white-space:pre;overflow-x:auto;line-height:normal;font-family:Menlo,'DejaVu Sans Mono',consolas,'Courier New',monospace\"><span style=\"font-weight: bold\">[[</span><span style=\"color: #008080; text-decoration-color: #008080; font-weight: bold\">0</span> <span style=\"color: #008080; text-decoration-color: #008080; font-weight: bold\">0</span><span style=\"font-weight: bold\">]</span>\n",
       " <span style=\"font-weight: bold\">[</span><span style=\"color: #008080; text-decoration-color: #008080; font-weight: bold\">1</span> <span style=\"color: #008080; text-decoration-color: #008080; font-weight: bold\">1</span><span style=\"font-weight: bold\">]</span>\n",
       " <span style=\"font-weight: bold\">[</span><span style=\"color: #008080; text-decoration-color: #008080; font-weight: bold\">2</span> <span style=\"color: #008080; text-decoration-color: #008080; font-weight: bold\">2</span><span style=\"font-weight: bold\">]]</span>\n",
       "</pre>\n"
      ],
      "text/plain": [
       "\u001b[1m[\u001b[0m\u001b[1m[\u001b[0m\u001b[1;36m0\u001b[0m \u001b[1;36m0\u001b[0m\u001b[1m]\u001b[0m\n",
       " \u001b[1m[\u001b[0m\u001b[1;36m1\u001b[0m \u001b[1;36m1\u001b[0m\u001b[1m]\u001b[0m\n",
       " \u001b[1m[\u001b[0m\u001b[1;36m2\u001b[0m \u001b[1;36m2\u001b[0m\u001b[1m]\u001b[0m\u001b[1m]\u001b[0m\n"
      ]
     },
     "metadata": {},
     "output_type": "display_data"
    }
   ],
   "source": [
    "print(np_multi_dim_indices.shape)\n",
    "print(np.arange(3).shape)\n",
    "print(np.reshape(np.arange(3), (3,1)).shape)\n",
    "print(np.full(np_multi_dim_indices.shape, np.reshape(np.arange(3), (3,1))))"
   ]
  },
  {
   "cell_type": "code",
   "execution_count": 77,
   "id": "69c79ed3-aa46-40fe-a812-a255a9aabb65",
   "metadata": {},
   "outputs": [
    {
     "data": {
      "text/html": [
       "<pre style=\"white-space:pre;overflow-x:auto;line-height:normal;font-family:Menlo,'DejaVu Sans Mono',consolas,'Courier New',monospace\"><span style=\"font-weight: bold\">[[</span><span style=\"color: #008080; text-decoration-color: #008080; font-weight: bold\">0</span> <span style=\"color: #008080; text-decoration-color: #008080; font-weight: bold\">0</span><span style=\"font-weight: bold\">]</span>\n",
       " <span style=\"font-weight: bold\">[</span><span style=\"color: #008080; text-decoration-color: #008080; font-weight: bold\">1</span> <span style=\"color: #008080; text-decoration-color: #008080; font-weight: bold\">1</span><span style=\"font-weight: bold\">]</span>\n",
       " <span style=\"font-weight: bold\">[</span><span style=\"color: #008080; text-decoration-color: #008080; font-weight: bold\">2</span> <span style=\"color: #008080; text-decoration-color: #008080; font-weight: bold\">2</span><span style=\"font-weight: bold\">]]</span>\n",
       "</pre>\n"
      ],
      "text/plain": [
       "\u001b[1m[\u001b[0m\u001b[1m[\u001b[0m\u001b[1;36m0\u001b[0m \u001b[1;36m0\u001b[0m\u001b[1m]\u001b[0m\n",
       " \u001b[1m[\u001b[0m\u001b[1;36m1\u001b[0m \u001b[1;36m1\u001b[0m\u001b[1m]\u001b[0m\n",
       " \u001b[1m[\u001b[0m\u001b[1;36m2\u001b[0m \u001b[1;36m2\u001b[0m\u001b[1m]\u001b[0m\u001b[1m]\u001b[0m\n"
      ]
     },
     "metadata": {},
     "output_type": "display_data"
    },
    {
     "data": {
      "text/html": [
       "<pre style=\"white-space:pre;overflow-x:auto;line-height:normal;font-family:Menlo,'DejaVu Sans Mono',consolas,'Courier New',monospace\"><span style=\"font-weight: bold\">[[</span><span style=\"color: #008080; text-decoration-color: #008080; font-weight: bold\">1</span> <span style=\"color: #008080; text-decoration-color: #008080; font-weight: bold\">2</span><span style=\"font-weight: bold\">]</span>\n",
       " <span style=\"font-weight: bold\">[</span><span style=\"color: #008080; text-decoration-color: #008080; font-weight: bold\">2</span> <span style=\"color: #008080; text-decoration-color: #008080; font-weight: bold\">0</span><span style=\"font-weight: bold\">]</span>\n",
       " <span style=\"font-weight: bold\">[</span><span style=\"color: #008080; text-decoration-color: #008080; font-weight: bold\">0</span> <span style=\"color: #008080; text-decoration-color: #008080; font-weight: bold\">1</span><span style=\"font-weight: bold\">]]</span>\n",
       "</pre>\n"
      ],
      "text/plain": [
       "\u001b[1m[\u001b[0m\u001b[1m[\u001b[0m\u001b[1;36m1\u001b[0m \u001b[1;36m2\u001b[0m\u001b[1m]\u001b[0m\n",
       " \u001b[1m[\u001b[0m\u001b[1;36m2\u001b[0m \u001b[1;36m0\u001b[0m\u001b[1m]\u001b[0m\n",
       " \u001b[1m[\u001b[0m\u001b[1;36m0\u001b[0m \u001b[1;36m1\u001b[0m\u001b[1m]\u001b[0m\u001b[1m]\u001b[0m\n"
      ]
     },
     "metadata": {},
     "output_type": "display_data"
    },
    {
     "data": {
      "text/html": [
       "<pre style=\"white-space:pre;overflow-x:auto;line-height:normal;font-family:Menlo,'DejaVu Sans Mono',consolas,'Courier New',monospace\"><span style=\"font-weight: bold\">[[</span> <span style=\"color: #008080; text-decoration-color: #008080; font-weight: bold\">0</span>  <span style=\"color: #008080; text-decoration-color: #008080; font-weight: bold\">1</span>  <span style=\"color: #008080; text-decoration-color: #008080; font-weight: bold\">2</span><span style=\"font-weight: bold\">]</span>\n",
       " <span style=\"font-weight: bold\">[</span><span style=\"color: #008080; text-decoration-color: #008080; font-weight: bold\">10</span> <span style=\"color: #008080; text-decoration-color: #008080; font-weight: bold\">11</span> <span style=\"color: #008080; text-decoration-color: #008080; font-weight: bold\">12</span><span style=\"font-weight: bold\">]</span>\n",
       " <span style=\"font-weight: bold\">[</span><span style=\"color: #008080; text-decoration-color: #008080; font-weight: bold\">20</span> <span style=\"color: #008080; text-decoration-color: #008080; font-weight: bold\">21</span> <span style=\"color: #008080; text-decoration-color: #008080; font-weight: bold\">22</span><span style=\"font-weight: bold\">]]</span>\n",
       "</pre>\n"
      ],
      "text/plain": [
       "\u001b[1m[\u001b[0m\u001b[1m[\u001b[0m \u001b[1;36m0\u001b[0m  \u001b[1;36m1\u001b[0m  \u001b[1;36m2\u001b[0m\u001b[1m]\u001b[0m\n",
       " \u001b[1m[\u001b[0m\u001b[1;36m10\u001b[0m \u001b[1;36m11\u001b[0m \u001b[1;36m12\u001b[0m\u001b[1m]\u001b[0m\n",
       " \u001b[1m[\u001b[0m\u001b[1;36m20\u001b[0m \u001b[1;36m21\u001b[0m \u001b[1;36m22\u001b[0m\u001b[1m]\u001b[0m\u001b[1m]\u001b[0m\n"
      ]
     },
     "metadata": {},
     "output_type": "display_data"
    },
    {
     "data": {
      "text/html": [
       "<pre style=\"white-space:pre;overflow-x:auto;line-height:normal;font-family:Menlo,'DejaVu Sans Mono',consolas,'Courier New',monospace\"><span style=\"font-weight: bold\">[[</span> <span style=\"color: #008080; text-decoration-color: #008080; font-weight: bold\">1</span>  <span style=\"color: #008080; text-decoration-color: #008080; font-weight: bold\">2</span><span style=\"font-weight: bold\">]</span>\n",
       " <span style=\"font-weight: bold\">[</span><span style=\"color: #008080; text-decoration-color: #008080; font-weight: bold\">12</span> <span style=\"color: #008080; text-decoration-color: #008080; font-weight: bold\">10</span><span style=\"font-weight: bold\">]</span>\n",
       " <span style=\"font-weight: bold\">[</span><span style=\"color: #008080; text-decoration-color: #008080; font-weight: bold\">20</span> <span style=\"color: #008080; text-decoration-color: #008080; font-weight: bold\">21</span><span style=\"font-weight: bold\">]]</span>\n",
       "</pre>\n"
      ],
      "text/plain": [
       "\u001b[1m[\u001b[0m\u001b[1m[\u001b[0m \u001b[1;36m1\u001b[0m  \u001b[1;36m2\u001b[0m\u001b[1m]\u001b[0m\n",
       " \u001b[1m[\u001b[0m\u001b[1;36m12\u001b[0m \u001b[1;36m10\u001b[0m\u001b[1m]\u001b[0m\n",
       " \u001b[1m[\u001b[0m\u001b[1;36m20\u001b[0m \u001b[1;36m21\u001b[0m\u001b[1m]\u001b[0m\u001b[1m]\u001b[0m\n"
      ]
     },
     "metadata": {},
     "output_type": "display_data"
    }
   ],
   "source": [
    "batch_indices = np.full(np_multi_dim_indices.shape, np.reshape(np.arange(3), (3,1)))\n",
    "res = np_arr[batch_indices,multi_dim_indices]\n",
    "print(batch_indices)\n",
    "print(multi_dim_indices)\n",
    "print(np_arr)\n",
    "print(res)"
   ]
  },
  {
   "cell_type": "code",
   "execution_count": 72,
   "id": "a04fe4b9-416a-47b9-b7cb-d698604d25e5",
   "metadata": {},
   "outputs": [
    {
     "data": {
      "text/plain": [
       "array([[[ 1,  2],\n",
       "        [ 2,  0],\n",
       "        [ 0,  1]],\n",
       "\n",
       "       [[11, 12],\n",
       "        [12, 10],\n",
       "        [10, 11]],\n",
       "\n",
       "       [[21, 22],\n",
       "        [22, 20],\n",
       "        [20, 21]]])"
      ]
     },
     "execution_count": 72,
     "metadata": {},
     "output_type": "execute_result"
    }
   ],
   "source": [
    "np.take(np_arr,np_multi_dim_indices,axis=1)"
   ]
  },
  {
   "cell_type": "code",
   "execution_count": 87,
   "id": "0f40ebcf-d4aa-472b-bab1-fed10d1bf970",
   "metadata": {},
   "outputs": [
    {
     "data": {
      "text/plain": [
       "array([[[ 0,  1,  2],\n",
       "        [10, 11, 12],\n",
       "        [20, 21, 22]],\n",
       "\n",
       "       [[ 0,  1,  2],\n",
       "        [10, 11, 12],\n",
       "        [20, 21, 22]],\n",
       "\n",
       "       [[ 0,  1,  2],\n",
       "        [10, 11, 12],\n",
       "        [20, 21, 22]],\n",
       "\n",
       "       [[ 0,  1,  2],\n",
       "        [10, 11, 12],\n",
       "        [20, 21, 22]]])"
      ]
     },
     "execution_count": 87,
     "metadata": {},
     "output_type": "execute_result"
    }
   ],
   "source": [
    "np_arr_more_dim = np.full((4,3,3), np.expand_dims(np_arr,0))\n",
    "np_arr_more_dim"
   ]
  },
  {
   "cell_type": "code",
   "execution_count": 94,
   "id": "beb38b0c-a182-4547-bebc-1ff41ded9575",
   "metadata": {},
   "outputs": [
    {
     "data": {
      "text/plain": [
       "array([[[10, 11, 12],\n",
       "        [20, 21, 22]],\n",
       "\n",
       "       [[20, 21, 22],\n",
       "        [ 0,  1,  2]],\n",
       "\n",
       "       [[ 0,  1,  2],\n",
       "        [10, 11, 12]]])"
      ]
     },
     "execution_count": 94,
     "metadata": {},
     "output_type": "execute_result"
    }
   ],
   "source": [
    "np_arr_more_dim[batch_indices,multi_dim_indices,:]"
   ]
  },
  {
   "cell_type": "code",
   "execution_count": 96,
   "id": "5a8a86e8-37b1-4919-a359-5ba2d79c94f2",
   "metadata": {},
   "outputs": [
    {
     "data": {
      "text/plain": [
       "array([[[ 1, 11, 21],\n",
       "        [ 2, 12, 22]],\n",
       "\n",
       "       [[ 2, 12, 22],\n",
       "        [ 0, 10, 20]],\n",
       "\n",
       "       [[ 0, 10, 20],\n",
       "        [ 1, 11, 21]]])"
      ]
     },
     "execution_count": 96,
     "metadata": {},
     "output_type": "execute_result"
    }
   ],
   "source": [
    "np_arr_more_dim[batch_indices,:,multi_dim_indices]"
   ]
  },
  {
   "cell_type": "code",
   "execution_count": 97,
   "id": "8e28a272-eab5-4510-8ad7-f4e5504a261a",
   "metadata": {},
   "outputs": [
    {
     "data": {
      "text/plain": [
       "(4, 3, 2)"
      ]
     },
     "execution_count": 97,
     "metadata": {},
     "output_type": "execute_result"
    }
   ],
   "source": [
    "np_arr_more_dim[:,batch_indices,multi_dim_indices].shape"
   ]
  },
  {
   "cell_type": "code",
   "execution_count": 101,
   "id": "ba22482b-625c-4431-9910-491a50c54f88",
   "metadata": {},
   "outputs": [
    {
     "data": {
      "text/html": [
       "<pre style=\"white-space:pre;overflow-x:auto;line-height:normal;font-family:Menlo,'DejaVu Sans Mono',consolas,'Courier New',monospace\"><span style=\"font-weight: bold\">&lt;</span><span style=\"color: #ff00ff; text-decoration-color: #ff00ff; font-weight: bold\">class</span><span style=\"color: #000000; text-decoration-color: #000000\"> </span><span style=\"color: #008000; text-decoration-color: #008000\">'tuple'</span><span style=\"font-weight: bold\">&gt;</span>\n",
       "</pre>\n"
      ],
      "text/plain": [
       "\u001b[1m<\u001b[0m\u001b[1;95mclass\u001b[0m\u001b[39m \u001b[0m\u001b[32m'tuple'\u001b[0m\u001b[1m>\u001b[0m\n"
      ]
     },
     "metadata": {},
     "output_type": "display_data"
    }
   ],
   "source": [
    "print(type(jnp_arr.shape))"
   ]
  },
  {
   "cell_type": "code",
   "execution_count": 102,
   "id": "cbb1852f-ce10-4dcd-970d-72ce23f3228c",
   "metadata": {},
   "outputs": [
    {
     "data": {
      "text/plain": [
       "(1, 1, 1)"
      ]
     },
     "execution_count": 102,
     "metadata": {},
     "output_type": "execute_result"
    }
   ],
   "source": [
    "(1,)*3"
   ]
  },
  {
   "cell_type": "markdown",
   "id": "7732bef9-bca1-4cf5-9eda-2134e9443b99",
   "metadata": {},
   "source": [
    "Well that indexing stuff was a headache. But I guess this should work roughly. Should have updated everything in the Tree class for THTX now. Going to have to leave updating the search and other things for another day"
   ]
  },
  {
   "cell_type": "code",
   "execution_count": null,
   "id": "931f5689-6f2b-4714-ad2b-4135c2f92a8e",
   "metadata": {},
   "outputs": [],
   "source": []
  }
 ],
 "metadata": {
  "kernelspec": {
   "display_name": "Python 3 (ipykernel)",
   "language": "python",
   "name": "python3"
  },
  "language_info": {
   "codemirror_mode": {
    "name": "ipython",
    "version": 3
   },
   "file_extension": ".py",
   "mimetype": "text/x-python",
   "name": "python",
   "nbconvert_exporter": "python",
   "pygments_lexer": "ipython3",
   "version": "3.10.14"
  }
 },
 "nbformat": 4,
 "nbformat_minor": 5
}
